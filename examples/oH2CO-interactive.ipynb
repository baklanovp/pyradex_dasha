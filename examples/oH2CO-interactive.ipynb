{
 "metadata": {
  "name": "",
  "signature": "sha256:01dbb68c6db9ab84693e7ee926103363fc1870424d5547e77c62e21db87ae41d"
 },
 "nbformat": 3,
 "nbformat_minor": 0,
 "worksheets": [
  {
   "cells": [
    {
     "cell_type": "markdown",
     "metadata": {},
     "source": [
      "Example use of the grid wrapper and then interactive plot creation"
     ]
    },
    {
     "cell_type": "code",
     "collapsed": false,
     "input": [
      "# requires pyradex: grab it from\n",
      "# https://github.com/keflavich/pyradex/\n",
      "# Both RADEX and pyradex require a fortran compiler!\n",
      "# However, if you're on a mac, you can try using pip install with the precompiled binary I provide:\n",
      "# (this is a source distribution, but it includes the radex.so file)\n",
      "!pip install https://github.com/keflavich/pyradex/releases/download/0.2/pyradex-0.2.macosx-10.9-intel.tar.gz"
     ],
     "language": "python",
     "metadata": {},
     "outputs": [
      {
       "output_type": "stream",
       "stream": "stdout",
       "text": [
        "Downloading/unpacking https://github.com/keflavich/pyradex/releases/download/0.2/pyradex-0.2.macosx-10.9-intel.tar.gz\r\n"
       ]
      },
      {
       "output_type": "stream",
       "stream": "stdout",
       "text": [
        "  Downloading pyradex-0.2.macosx-10.9-intel.tar.gz (107kB): \r",
        "  Downloading pyradex-0.2.macosx-10.9-intel.tar.gz (107kB):   3%  4.1kB\r",
        "  Downloading pyradex-0.2.macosx-10.9-intel.tar.gz (107kB):   7%  8.2kB"
       ]
      },
      {
       "output_type": "stream",
       "stream": "stdout",
       "text": [
        "\r",
        "  Downloading pyradex-0.2.macosx-10.9-intel.tar.gz (107kB):  11%  12kB \r",
        "  Downloading pyradex-0.2.macosx-10.9-intel.tar.gz (107kB):  15%  16kB\r",
        "  Downloading pyradex-0.2.macosx-10.9-intel.tar.gz (107kB):  19%  20kB\r",
        "  Downloading pyradex-0.2.macosx-10.9-intel.tar.gz (107kB):  22%  24kB\r",
        "  Downloading pyradex-0.2.macosx-10.9-intel.tar.gz (107kB):  26%  28kB\r",
        "  Downloading pyradex-0.2.macosx-10.9-intel.tar.gz (107kB):  30%  32kB"
       ]
      },
      {
       "output_type": "stream",
       "stream": "stdout",
       "text": [
        "\r",
        "  Downloading pyradex-0.2.macosx-10.9-intel.tar.gz (107kB):  34%  36kB\r",
        "  Downloading pyradex-0.2.macosx-10.9-intel.tar.gz (107kB):  38%  40kB\r",
        "  Downloading pyradex-0.2.macosx-10.9-intel.tar.gz (107kB):  42%  45kB\r",
        "  Downloading pyradex-0.2.macosx-10.9-intel.tar.gz (107kB):  45%  49kB\r",
        "  Downloading pyradex-0.2.macosx-10.9-intel.tar.gz (107kB):  49%  53kB\r",
        "  Downloading pyradex-0.2.macosx-10.9-intel.tar.gz (107kB):  53%  57kB\r",
        "  Downloading pyradex-0.2.macosx-10.9-intel.tar.gz (107kB):  57%  61kB\r",
        "  Downloading pyradex-0.2.macosx-10.9-intel.tar.gz (107kB):  61%  65kB\r",
        "  Downloading pyradex-0.2.macosx-10.9-intel.tar.gz (107kB):  65%  69kB"
       ]
      },
      {
       "output_type": "stream",
       "stream": "stdout",
       "text": [
        "\r",
        "  Downloading pyradex-0.2.macosx-10.9-intel.tar.gz (107kB):  68%  73kB\r",
        "  Downloading pyradex-0.2.macosx-10.9-intel.tar.gz (107kB):  72%  77kB"
       ]
      },
      {
       "output_type": "stream",
       "stream": "stdout",
       "text": [
        "\r",
        "  Downloading pyradex-0.2.macosx-10.9-intel.tar.gz (107kB):  76%  81kB\r",
        "  Downloading pyradex-0.2.macosx-10.9-intel.tar.gz (107kB):  80%  86kB\r",
        "  Downloading pyradex-0.2.macosx-10.9-intel.tar.gz (107kB):  84%  90kB\r",
        "  Downloading pyradex-0.2.macosx-10.9-intel.tar.gz (107kB):  87%  94kB\r",
        "  Downloading pyradex-0.2.macosx-10.9-intel.tar.gz (107kB):  91%  98kB\r",
        "  Downloading pyradex-0.2.macosx-10.9-intel.tar.gz (107kB):  95%  102kB\r",
        "  Downloading pyradex-0.2.macosx-10.9-intel.tar.gz (107kB):  99%  106kB\r",
        "  Downloading pyradex-0.2.macosx-10.9-intel.tar.gz (107kB): 100%  107kB\r",
        "  Downloading pyradex-0.2.macosx-10.9-intel.tar.gz (107kB):            \r",
        "  Downloading pyradex-0.2.macosx-10.9-intel.tar.gz (107kB): 107kB downloaded\r\n"
       ]
      },
      {
       "output_type": "stream",
       "stream": "stdout",
       "text": [
        "  Running setup.py (path:/var/folders/_r/c4nkvmpn4vx6qc91qygz8h740000gr/T/pip-nu0LC7-build/setup.py) egg_info for package from https://github.com/keflavich/pyradex/releases/download/0.2/pyradex-0.2.macosx-10.9-intel.tar.gz\r\n"
       ]
      },
      {
       "output_type": "stream",
       "stream": "stdout",
       "text": [
        "    \r\n",
        "  Requirement already satisfied (use --upgrade to upgrade): pyradex==0.2 from https://github.com/keflavich/pyradex/releases/download/0.2/pyradex-0.2.macosx-10.9-intel.tar.gz in /Users/adam/repos/pyradex\r\n",
        "Cleaning up...\r\n"
       ]
      }
     ],
     "prompt_number": 1
    },
    {
     "cell_type": "code",
     "collapsed": false,
     "input": [
      "from IPython.html.widgets import interact, interactive, fixed\n",
      "from IPython.html import widgets\n",
      "from matplotlib import pyplot as plt\n",
      "from IPython.display import clear_output, display, HTML"
     ],
     "language": "python",
     "metadata": {},
     "outputs": [],
     "prompt_number": 58
    },
    {
     "cell_type": "code",
     "collapsed": false,
     "input": [
      "from pyradex import grid_wrapper"
     ],
     "language": "python",
     "metadata": {},
     "outputs": [],
     "prompt_number": 16
    },
    {
     "cell_type": "code",
     "collapsed": false,
     "input": [
      "reload(grid_wrapper)"
     ],
     "language": "python",
     "metadata": {},
     "outputs": [
      {
       "metadata": {},
       "output_type": "pyout",
       "prompt_number": 69,
       "text": [
        "<module 'pyradex.grid_wrapper' from '/Users/adam/repos/pyradex/pyradex/grid_wrapper.pyc'>"
       ]
      }
     ],
     "prompt_number": 69
    },
    {
     "cell_type": "code",
     "collapsed": false,
     "input": [
      "temperatures = [20,50,100]\n",
      "densities = np.logspace(2,6,20)\n",
      "abundances = np.logspace(-8,-10,5)\n",
      "h2columns = [1e22,1e23]\n",
      "transition_indices = [0,2,5] #[1,3,6]\n",
      "orthopararatios = [1e-3,0.5,1,3]\n",
      "grid = grid_wrapper.grid_wrapper('oh2co-h2',\n",
      "                                 temperatures=temperatures,\n",
      "                                 densities=densities,\n",
      "                                 abundances=abundances,\n",
      "                                 h2columns=h2columns,\n",
      "                                 transition_indices=transition_indices,\n",
      "                                 orthopararatios=orthopararatios,\n",
      "                                 )\n",
      "                                                    "
     ],
     "language": "python",
     "metadata": {},
     "outputs": [
      {
       "output_type": "stream",
       "stream": "stdout",
       "text": [
        "\r",
        "|\u001b[0;34m\u001b[0m\u001b[0;32m>\u001b[0m----------------------------------------| 0.0 /2.4k (  0.00%)"
       ]
      },
      {
       "output_type": "stream",
       "stream": "stdout",
       "text": [
        "\r",
        "|\u001b[0;34m\u001b[0m\u001b[0;32m>\u001b[0m----------------------------------------| 1.0 /2.4k (  0.04%) ETA 01m11s"
       ]
      },
      {
       "output_type": "stream",
       "stream": "stdout",
       "text": [
        "\r",
        "|\u001b[0;34m\u001b[0m\u001b[0;32m>\u001b[0m----------------------------------------| 2.0 /2.4k (  0.08%) ETA 03m45s"
       ]
      },
      {
       "output_type": "stream",
       "stream": "stdout",
       "text": [
        "\r",
        "|\u001b[0;34m\u001b[0m\u001b[0;32m>\u001b[0m----------------------------------------| 3.0 /2.4k (  0.12%) ETA 04m36s"
       ]
      },
      {
       "output_type": "stream",
       "stream": "stdout",
       "text": [
        "\r",
        "|\u001b[0;34m\u001b[0m\u001b[0;32m>\u001b[0m----------------------------------------| 4.0 /2.4k (  0.17%) ETA 04m58s"
       ]
      },
      {
       "output_type": "stream",
       "stream": "stdout",
       "text": [
        "\r",
        "|\u001b[0;34m\u001b[0m\u001b[0;32m>\u001b[0m----------------------------------------| 5.0 /2.4k (  0.21%) ETA 05m11s"
       ]
      },
      {
       "output_type": "stream",
       "stream": "stdout",
       "text": [
        "\r",
        "|\u001b[0;34m\u001b[0m\u001b[0;32m>\u001b[0m----------------------------------------| 6.0 /2.4k (  0.25%) ETA 05m22s"
       ]
      },
      {
       "output_type": "stream",
       "stream": "stdout",
       "text": [
        "\r",
        "|\u001b[0;34m\u001b[0m\u001b[0;32m>\u001b[0m----------------------------------------| 7.0 /2.4k (  0.29%) ETA 05m31s"
       ]
      },
      {
       "output_type": "stream",
       "stream": "stdout",
       "text": [
        "\r",
        "|\u001b[0;34m\u001b[0m\u001b[0;32m>\u001b[0m----------------------------------------| 8.0 /2.4k (  0.33%) ETA 05m34s"
       ]
      },
      {
       "output_type": "stream",
       "stream": "stdout",
       "text": [
        "\r",
        "|\u001b[0;34m\u001b[0m\u001b[0;32m>\u001b[0m----------------------------------------| 9.0 /2.4k (  0.38%) ETA 05m37s"
       ]
      },
      {
       "output_type": "stream",
       "stream": "stdout",
       "text": [
        "\r",
        "|\u001b[0;34m\u001b[0m\u001b[0;32m>\u001b[0m----------------------------------------|  10 /2.4k (  0.42%) ETA 05m40s"
       ]
      },
      {
       "output_type": "stream",
       "stream": "stdout",
       "text": [
        "\r",
        "|\u001b[0;34m\u001b[0m\u001b[0;32m>\u001b[0m----------------------------------------|  11 /2.4k (  0.46%) ETA 05m42s"
       ]
      },
      {
       "output_type": "stream",
       "stream": "stdout",
       "text": [
        "\r",
        "|\u001b[0;34m\u001b[0m\u001b[0;32m>\u001b[0m----------------------------------------|  12 /2.4k (  0.50%) ETA 05m43s"
       ]
      },
      {
       "output_type": "stream",
       "stream": "stdout",
       "text": [
        "\r",
        "|\u001b[0;34m\u001b[0m\u001b[0;32m>\u001b[0m----------------------------------------|  13 /2.4k (  0.54%) ETA 05m48s"
       ]
      },
      {
       "output_type": "stream",
       "stream": "stdout",
       "text": [
        "\r",
        "|\u001b[0;34m\u001b[0m\u001b[0;32m>\u001b[0m----------------------------------------|  14 /2.4k (  0.58%) ETA 05m48s"
       ]
      },
      {
       "output_type": "stream",
       "stream": "stdout",
       "text": [
        "\r",
        "|\u001b[0;34m\u001b[0m\u001b[0;32m>\u001b[0m----------------------------------------|  15 /2.4k (  0.62%) ETA 05m50s"
       ]
      },
      {
       "output_type": "stream",
       "stream": "stdout",
       "text": [
        "\r",
        "|\u001b[0;34m\u001b[0m\u001b[0;32m>\u001b[0m----------------------------------------|  16 /2.4k (  0.67%) ETA 05m51s"
       ]
      },
      {
       "output_type": "stream",
       "stream": "stdout",
       "text": [
        "\r",
        "|\u001b[0;34m\u001b[0m\u001b[0;32m>\u001b[0m----------------------------------------|  17 /2.4k (  0.71%) ETA 05m51s"
       ]
      },
      {
       "output_type": "stream",
       "stream": "stdout",
       "text": [
        "\r",
        "|\u001b[0;34m\u001b[0m\u001b[0;32m>\u001b[0m----------------------------------------|  18 /2.4k (  0.75%) ETA 05m52s"
       ]
      },
      {
       "output_type": "stream",
       "stream": "stdout",
       "text": [
        "\r",
        "|\u001b[0;34m\u001b[0m\u001b[0;32m>\u001b[0m----------------------------------------|  19 /2.4k (  0.79%) ETA 05m53s"
       ]
      },
      {
       "output_type": "stream",
       "stream": "stdout",
       "text": [
        "\r",
        "|\u001b[0;34m\u001b[0m\u001b[0;32m>\u001b[0m----------------------------------------|  20 /2.4k (  0.83%) ETA 05m53s"
       ]
      },
      {
       "output_type": "stream",
       "stream": "stdout",
       "text": [
        "\r",
        "|\u001b[0;34m\u001b[0m\u001b[0;32m>\u001b[0m----------------------------------------|  21 /2.4k (  0.88%) ETA 05m55s"
       ]
      },
      {
       "output_type": "stream",
       "stream": "stdout",
       "text": [
        "\r",
        "|\u001b[0;34m\u001b[0m\u001b[0;32m>\u001b[0m----------------------------------------|  22 /2.4k (  0.92%) ETA 05m55s"
       ]
      },
      {
       "output_type": "stream",
       "stream": "stdout",
       "text": [
        "\r",
        "|\u001b[0;34m\u001b[0m\u001b[0;32m>\u001b[0m----------------------------------------|  23 /2.4k (  0.96%) ETA 05m55s"
       ]
      },
      {
       "output_type": "stream",
       "stream": "stdout",
       "text": [
        "\r",
        "|\u001b[0;34m\u001b[0m\u001b[0;32m>\u001b[0m----------------------------------------|  24 /2.4k (  1.00%) ETA 05m56s"
       ]
      },
      {
       "output_type": "stream",
       "stream": "stdout",
       "text": [
        "\r",
        "|\u001b[0;34m\u001b[0m\u001b[0;32m>\u001b[0m----------------------------------------|  25 /2.4k (  1.04%) ETA 05m56s"
       ]
      },
      {
       "output_type": "stream",
       "stream": "stdout",
       "text": [
        "\r",
        "|\u001b[0;34m\u001b[0m\u001b[0;32m>\u001b[0m----------------------------------------|  26 /2.4k (  1.08%) ETA 05m57s"
       ]
      },
      {
       "output_type": "stream",
       "stream": "stdout",
       "text": [
        "\r",
        "|\u001b[0;34m\u001b[0m\u001b[0;32m>\u001b[0m----------------------------------------|  27 /2.4k (  1.12%) ETA 05m57s"
       ]
      },
      {
       "output_type": "stream",
       "stream": "stdout",
       "text": [
        "\r",
        "|\u001b[0;34m\u001b[0m\u001b[0;32m>\u001b[0m----------------------------------------|  28 /2.4k (  1.17%) ETA 05m58s"
       ]
      },
      {
       "output_type": "stream",
       "stream": "stdout",
       "text": [
        "\r",
        "|\u001b[0;34m\u001b[0m\u001b[0;32m>\u001b[0m----------------------------------------|  29 /2.4k (  1.21%) ETA 05m58s"
       ]
      },
      {
       "output_type": "stream",
       "stream": "stdout",
       "text": [
        "\r",
        "|\u001b[0;34m\u001b[0m\u001b[0;32m>\u001b[0m----------------------------------------|  30 /2.4k (  1.25%) ETA 05m58s"
       ]
      },
      {
       "output_type": "stream",
       "stream": "stdout",
       "text": [
        "\r",
        "|\u001b[0;34m\u001b[0m\u001b[0;32m>\u001b[0m----------------------------------------|  31 /2.4k (  1.29%) ETA 05m58s"
       ]
      },
      {
       "output_type": "stream",
       "stream": "stdout",
       "text": [
        "\r",
        "|\u001b[0;34m\u001b[0m\u001b[0;32m>\u001b[0m----------------------------------------|  32 /2.4k (  1.33%) ETA 05m59s"
       ]
      },
      {
       "output_type": "stream",
       "stream": "stdout",
       "text": [
        "\r",
        "|\u001b[0;34m\u001b[0m\u001b[0;32m>\u001b[0m----------------------------------------|  33 /2.4k (  1.38%) ETA 05m58s"
       ]
      },
      {
       "output_type": "stream",
       "stream": "stdout",
       "text": [
        "\r",
        "|\u001b[0;34m\u001b[0m\u001b[0;32m>\u001b[0m----------------------------------------|  34 /2.4k (  1.42%) ETA 05m58s"
       ]
      },
      {
       "output_type": "stream",
       "stream": "stdout",
       "text": [
        "\r",
        "|\u001b[0;34m\u001b[0m\u001b[0;32m>\u001b[0m----------------------------------------|  35 /2.4k (  1.46%) ETA 05m58s"
       ]
      },
      {
       "output_type": "stream",
       "stream": "stdout",
       "text": [
        "\r",
        "|\u001b[0;34m\u001b[0m\u001b[0;32m>\u001b[0m----------------------------------------|  36 /2.4k (  1.50%) ETA 05m58s"
       ]
      },
      {
       "output_type": "stream",
       "stream": "stdout",
       "text": [
        "\r",
        "|\u001b[0;34m\u001b[0m\u001b[0;32m>\u001b[0m----------------------------------------|  37 /2.4k (  1.54%) ETA 05m58s"
       ]
      },
      {
       "output_type": "stream",
       "stream": "stdout",
       "text": [
        "\r",
        "|\u001b[0;34m\u001b[0m\u001b[0;32m>\u001b[0m----------------------------------------|  38 /2.4k (  1.58%) ETA 05m58s"
       ]
      },
      {
       "output_type": "stream",
       "stream": "stdout",
       "text": [
        "\r",
        "|\u001b[0;34m\u001b[0m\u001b[0;32m>\u001b[0m----------------------------------------|  39 /2.4k (  1.62%) ETA 05m58s"
       ]
      },
      {
       "output_type": "stream",
       "stream": "stdout",
       "text": [
        "\r",
        "|\u001b[0;34m\u001b[0m\u001b[0;32m>\u001b[0m----------------------------------------|  40 /2.4k (  1.67%) ETA 05m58s"
       ]
      },
      {
       "output_type": "stream",
       "stream": "stdout",
       "text": [
        "\r",
        "|\u001b[0;34m\u001b[0m\u001b[0;32m>\u001b[0m----------------------------------------|  41 /2.4k (  1.71%) ETA 05m59s"
       ]
      },
      {
       "output_type": "stream",
       "stream": "stdout",
       "text": [
        "\r",
        "|\u001b[0;34m\u001b[0m\u001b[0;32m>\u001b[0m----------------------------------------|  42 /2.4k (  1.75%) ETA 05m59s"
       ]
      },
      {
       "output_type": "stream",
       "stream": "stdout",
       "text": [
        "\r",
        "|\u001b[0;34m\u001b[0m\u001b[0;32m>\u001b[0m----------------------------------------|  43 /2.4k (  1.79%) ETA 05m59s"
       ]
      },
      {
       "output_type": "stream",
       "stream": "stdout",
       "text": [
        "\r",
        "|\u001b[0;34m\u001b[0m\u001b[0;32m>\u001b[0m----------------------------------------|  44 /2.4k (  1.83%) ETA 05m58s"
       ]
      },
      {
       "output_type": "stream",
       "stream": "stdout",
       "text": [
        "\r",
        "|\u001b[0;34m\u001b[0m\u001b[0;32m>\u001b[0m----------------------------------------|  45 /2.4k (  1.88%) ETA 05m58s"
       ]
      },
      {
       "output_type": "stream",
       "stream": "stdout",
       "text": [
        "\r",
        "|\u001b[0;34m\u001b[0m\u001b[0;32m>\u001b[0m----------------------------------------|  46 /2.4k (  1.92%) ETA 05m58s"
       ]
      },
      {
       "output_type": "stream",
       "stream": "stdout",
       "text": [
        "\r",
        "|\u001b[0;34m\u001b[0m\u001b[0;32m>\u001b[0m----------------------------------------|  47 /2.4k (  1.96%) ETA 05m58s"
       ]
      },
      {
       "output_type": "stream",
       "stream": "stdout",
       "text": [
        "\r",
        "|\u001b[0;34m\u001b[0m\u001b[0;32m>\u001b[0m----------------------------------------|  48 /2.4k (  2.00%) ETA 05m58s"
       ]
      },
      {
       "output_type": "stream",
       "stream": "stdout",
       "text": [
        "\r",
        "|\u001b[0;34m\u001b[0m\u001b[0;32m>\u001b[0m----------------------------------------|  49 /2.4k (  2.04%) ETA 05m58s"
       ]
      },
      {
       "output_type": "stream",
       "stream": "stdout",
       "text": [
        "\r",
        "|\u001b[0;34m\u001b[0m\u001b[0;32m>\u001b[0m----------------------------------------|  50 /2.4k (  2.08%) ETA 05m58s"
       ]
      },
      {
       "output_type": "stream",
       "stream": "stdout",
       "text": [
        "\r",
        "|\u001b[0;34m\u001b[0m\u001b[0;32m>\u001b[0m----------------------------------------|  51 /2.4k (  2.12%) ETA 05m58s"
       ]
      },
      {
       "output_type": "stream",
       "stream": "stdout",
       "text": [
        "\r",
        "|\u001b[0;34m\u001b[0m\u001b[0;32m>\u001b[0m----------------------------------------|  52 /2.4k (  2.17%) ETA 05m57s"
       ]
      },
      {
       "output_type": "stream",
       "stream": "stdout",
       "text": [
        "\r",
        "|\u001b[0;34m\u001b[0m\u001b[0;32m>\u001b[0m----------------------------------------|  53 /2.4k (  2.21%) ETA 05m57s"
       ]
      },
      {
       "output_type": "stream",
       "stream": "stdout",
       "text": [
        "\r",
        "|\u001b[0;34m\u001b[0m\u001b[0;32m>\u001b[0m----------------------------------------|  54 /2.4k (  2.25%) ETA 05m57s"
       ]
      },
      {
       "output_type": "stream",
       "stream": "stdout",
       "text": [
        "\r",
        "|\u001b[0;34m\u001b[0m\u001b[0;32m>\u001b[0m----------------------------------------|  55 /2.4k (  2.29%) ETA 05m57s"
       ]
      },
      {
       "output_type": "stream",
       "stream": "stdout",
       "text": [
        "\r",
        "|\u001b[0;34m\u001b[0m\u001b[0;32m>\u001b[0m----------------------------------------|  56 /2.4k (  2.33%) ETA 05m57s"
       ]
      },
      {
       "output_type": "stream",
       "stream": "stdout",
       "text": [
        "\r",
        "|\u001b[0;34m\u001b[0m\u001b[0;32m>\u001b[0m----------------------------------------|  57 /2.4k (  2.38%) ETA 05m57s"
       ]
      },
      {
       "output_type": "stream",
       "stream": "stdout",
       "text": [
        "\r",
        "|\u001b[0;34m\u001b[0m\u001b[0;32m>\u001b[0m----------------------------------------|  58 /2.4k (  2.42%) ETA 05m57s"
       ]
      },
      {
       "output_type": "stream",
       "stream": "stdout",
       "text": [
        "\r",
        "|\u001b[0;34m=\u001b[0m\u001b[0;32m>\u001b[0m---------------------------------------|  59 /2.4k (  2.46%) ETA 05m57s"
       ]
      },
      {
       "output_type": "stream",
       "stream": "stdout",
       "text": [
        "\r",
        "|\u001b[0;34m=\u001b[0m\u001b[0;32m>\u001b[0m---------------------------------------|  60 /2.4k (  2.50%) ETA 05m57s"
       ]
      },
      {
       "output_type": "stream",
       "stream": "stdout",
       "text": [
        "\r",
        "|\u001b[0;34m=\u001b[0m\u001b[0;32m>\u001b[0m---------------------------------------|  61 /2.4k (  2.54%) ETA 05m57s"
       ]
      },
      {
       "output_type": "stream",
       "stream": "stdout",
       "text": [
        "\r",
        "|\u001b[0;34m=\u001b[0m\u001b[0;32m>\u001b[0m---------------------------------------|  62 /2.4k (  2.58%) ETA 05m57s"
       ]
      },
      {
       "output_type": "stream",
       "stream": "stdout",
       "text": [
        "\r",
        "|\u001b[0;34m=\u001b[0m\u001b[0;32m>\u001b[0m---------------------------------------|  63 /2.4k (  2.62%) ETA 05m57s"
       ]
      },
      {
       "output_type": "stream",
       "stream": "stdout",
       "text": [
        "\r",
        "|\u001b[0;34m=\u001b[0m\u001b[0;32m>\u001b[0m---------------------------------------|  64 /2.4k (  2.67%) ETA 05m57s"
       ]
      },
      {
       "output_type": "stream",
       "stream": "stdout",
       "text": [
        "\r",
        "|\u001b[0;34m=\u001b[0m\u001b[0;32m>\u001b[0m---------------------------------------|  65 /2.4k (  2.71%) ETA 05m56s"
       ]
      },
      {
       "output_type": "stream",
       "stream": "stdout",
       "text": [
        "\r",
        "|\u001b[0;34m=\u001b[0m\u001b[0;32m>\u001b[0m---------------------------------------|  66 /2.4k (  2.75%) ETA 05m56s"
       ]
      },
      {
       "output_type": "stream",
       "stream": "stdout",
       "text": [
        "\r",
        "|\u001b[0;34m=\u001b[0m\u001b[0;32m>\u001b[0m---------------------------------------|  67 /2.4k (  2.79%) ETA 05m56s"
       ]
      },
      {
       "output_type": "stream",
       "stream": "stdout",
       "text": [
        "\r",
        "|\u001b[0;34m=\u001b[0m\u001b[0;32m>\u001b[0m---------------------------------------|  68 /2.4k (  2.83%) ETA 05m56s"
       ]
      },
      {
       "output_type": "stream",
       "stream": "stdout",
       "text": [
        "\r",
        "|\u001b[0;34m=\u001b[0m\u001b[0;32m>\u001b[0m---------------------------------------|  69 /2.4k (  2.88%) ETA 05m56s"
       ]
      },
      {
       "output_type": "stream",
       "stream": "stdout",
       "text": [
        "\r",
        "|\u001b[0;34m=\u001b[0m\u001b[0;32m>\u001b[0m---------------------------------------|  70 /2.4k (  2.92%) ETA 05m56s"
       ]
      },
      {
       "output_type": "stream",
       "stream": "stdout",
       "text": [
        "\r",
        "|\u001b[0;34m=\u001b[0m\u001b[0;32m>\u001b[0m---------------------------------------|  71 /2.4k (  2.96%) ETA 05m55s"
       ]
      },
      {
       "output_type": "stream",
       "stream": "stdout",
       "text": [
        "\r",
        "|\u001b[0;34m=\u001b[0m\u001b[0;32m>\u001b[0m---------------------------------------|  72 /2.4k (  3.00%) ETA 05m55s"
       ]
      },
      {
       "output_type": "stream",
       "stream": "stdout",
       "text": [
        "\r",
        "|\u001b[0;34m=\u001b[0m\u001b[0;32m>\u001b[0m---------------------------------------|  73 /2.4k (  3.04%) ETA 05m55s"
       ]
      },
      {
       "output_type": "stream",
       "stream": "stdout",
       "text": [
        "\r",
        "|\u001b[0;34m=\u001b[0m\u001b[0;32m>\u001b[0m---------------------------------------|  74 /2.4k (  3.08%) ETA 05m55s"
       ]
      },
      {
       "output_type": "stream",
       "stream": "stdout",
       "text": [
        "\r",
        "|\u001b[0;34m=\u001b[0m\u001b[0;32m>\u001b[0m---------------------------------------|  75 /2.4k (  3.12%) ETA 05m55s"
       ]
      },
      {
       "output_type": "stream",
       "stream": "stdout",
       "text": [
        "\r",
        "|\u001b[0;34m=\u001b[0m\u001b[0;32m>\u001b[0m---------------------------------------|  76 /2.4k (  3.17%) ETA 05m55s"
       ]
      },
      {
       "output_type": "stream",
       "stream": "stdout",
       "text": [
        "\r",
        "|\u001b[0;34m=\u001b[0m\u001b[0;32m>\u001b[0m---------------------------------------|  77 /2.4k (  3.21%) ETA 05m54s"
       ]
      },
      {
       "output_type": "stream",
       "stream": "stdout",
       "text": [
        "\r",
        "|\u001b[0;34m=\u001b[0m\u001b[0;32m>\u001b[0m---------------------------------------|  78 /2.4k (  3.25%) ETA 05m54s"
       ]
      },
      {
       "output_type": "stream",
       "stream": "stdout",
       "text": [
        "\r",
        "|\u001b[0;34m=\u001b[0m\u001b[0;32m>\u001b[0m---------------------------------------|  79 /2.4k (  3.29%) ETA 05m54s"
       ]
      },
      {
       "output_type": "stream",
       "stream": "stdout",
       "text": [
        "\r",
        "|\u001b[0;34m=\u001b[0m\u001b[0;32m>\u001b[0m---------------------------------------|  80 /2.4k (  3.33%) ETA 05m54s"
       ]
      },
      {
       "output_type": "stream",
       "stream": "stdout",
       "text": [
        "\r",
        "|\u001b[0;34m=\u001b[0m\u001b[0;32m>\u001b[0m---------------------------------------|  81 /2.4k (  3.38%) ETA 05m55s"
       ]
      },
      {
       "output_type": "stream",
       "stream": "stdout",
       "text": [
        "\r",
        "|\u001b[0;34m=\u001b[0m\u001b[0;32m>\u001b[0m---------------------------------------|  82 /2.4k (  3.42%) ETA 05m55s"
       ]
      },
      {
       "output_type": "stream",
       "stream": "stdout",
       "text": [
        "\r",
        "|\u001b[0;34m=\u001b[0m\u001b[0;32m>\u001b[0m---------------------------------------|  83 /2.4k (  3.46%) ETA 05m54s"
       ]
      },
      {
       "output_type": "stream",
       "stream": "stdout",
       "text": [
        "\r",
        "|\u001b[0;34m=\u001b[0m\u001b[0;32m>\u001b[0m---------------------------------------|  84 /2.4k (  3.50%) ETA 05m54s"
       ]
      },
      {
       "output_type": "stream",
       "stream": "stdout",
       "text": [
        "\r",
        "|\u001b[0;34m=\u001b[0m\u001b[0;32m>\u001b[0m---------------------------------------|  85 /2.4k (  3.54%) ETA 05m54s"
       ]
      },
      {
       "output_type": "stream",
       "stream": "stdout",
       "text": [
        "\r",
        "|\u001b[0;34m=\u001b[0m\u001b[0;32m>\u001b[0m---------------------------------------|  86 /2.4k (  3.58%) ETA 05m57s"
       ]
      },
      {
       "output_type": "stream",
       "stream": "stdout",
       "text": [
        "\r",
        "|\u001b[0;34m=\u001b[0m\u001b[0;32m>\u001b[0m---------------------------------------|  87 /2.4k (  3.62%) ETA 05m57s"
       ]
      },
      {
       "output_type": "stream",
       "stream": "stdout",
       "text": [
        "\r",
        "|\u001b[0;34m=\u001b[0m\u001b[0;32m>\u001b[0m---------------------------------------|  88 /2.4k (  3.67%) ETA 05m57s"
       ]
      },
      {
       "output_type": "stream",
       "stream": "stdout",
       "text": [
        "\r",
        "|\u001b[0;34m=\u001b[0m\u001b[0;32m>\u001b[0m---------------------------------------|  89 /2.4k (  3.71%) ETA 05m57s"
       ]
      },
      {
       "output_type": "stream",
       "stream": "stdout",
       "text": [
        "\r",
        "|\u001b[0;34m=\u001b[0m\u001b[0;32m>\u001b[0m---------------------------------------|  90 /2.4k (  3.75%) ETA 05m57s"
       ]
      },
      {
       "output_type": "stream",
       "stream": "stdout",
       "text": [
        "\r",
        "|\u001b[0;34m=\u001b[0m\u001b[0;32m>\u001b[0m---------------------------------------|  91 /2.4k (  3.79%) ETA 05m57s"
       ]
      },
      {
       "output_type": "stream",
       "stream": "stdout",
       "text": [
        "\r",
        "|\u001b[0;34m=\u001b[0m\u001b[0;32m>\u001b[0m---------------------------------------|  92 /2.4k (  3.83%) ETA 05m57s"
       ]
      },
      {
       "output_type": "stream",
       "stream": "stdout",
       "text": [
        "\r",
        "|\u001b[0;34m=\u001b[0m\u001b[0;32m>\u001b[0m---------------------------------------|  93 /2.4k (  3.88%) ETA 05m56s"
       ]
      },
      {
       "output_type": "stream",
       "stream": "stdout",
       "text": [
        "\r",
        "|\u001b[0;34m=\u001b[0m\u001b[0;32m>\u001b[0m---------------------------------------|  94 /2.4k (  3.92%) ETA 05m56s"
       ]
      },
      {
       "output_type": "stream",
       "stream": "stdout",
       "text": [
        "\r",
        "|\u001b[0;34m=\u001b[0m\u001b[0;32m>\u001b[0m---------------------------------------|  95 /2.4k (  3.96%) ETA 05m56s"
       ]
      },
      {
       "output_type": "stream",
       "stream": "stdout",
       "text": [
        "\r",
        "|\u001b[0;34m=\u001b[0m\u001b[0;32m>\u001b[0m---------------------------------------|  96 /2.4k (  4.00%) ETA 05m56s"
       ]
      },
      {
       "output_type": "stream",
       "stream": "stdout",
       "text": [
        "\r",
        "|\u001b[0;34m=\u001b[0m\u001b[0;32m>\u001b[0m---------------------------------------|  97 /2.4k (  4.04%) ETA 05m56s"
       ]
      },
      {
       "output_type": "stream",
       "stream": "stdout",
       "text": [
        "\r",
        "|\u001b[0;34m=\u001b[0m\u001b[0;32m>\u001b[0m---------------------------------------|  98 /2.4k (  4.08%) ETA 05m56s"
       ]
      },
      {
       "output_type": "stream",
       "stream": "stdout",
       "text": [
        "\r",
        "|\u001b[0;34m=\u001b[0m\u001b[0;32m>\u001b[0m---------------------------------------|  99 /2.4k (  4.12%) ETA 05m55s"
       ]
      },
      {
       "output_type": "stream",
       "stream": "stdout",
       "text": [
        "\r",
        "|\u001b[0;34m=\u001b[0m\u001b[0;32m>\u001b[0m---------------------------------------| 100 /2.4k (  4.17%) ETA 05m55s"
       ]
      },
      {
       "output_type": "stream",
       "stream": "stdout",
       "text": [
        "\r",
        "|\u001b[0;34m=\u001b[0m\u001b[0;32m>\u001b[0m---------------------------------------| 101 /2.4k (  4.21%) ETA 05m56s"
       ]
      },
      {
       "output_type": "stream",
       "stream": "stdout",
       "text": [
        "\r",
        "|\u001b[0;34m=\u001b[0m\u001b[0;32m>\u001b[0m---------------------------------------| 102 /2.4k (  4.25%) ETA 05m56s"
       ]
      },
      {
       "output_type": "stream",
       "stream": "stdout",
       "text": [
        "\r",
        "|\u001b[0;34m=\u001b[0m\u001b[0;32m>\u001b[0m---------------------------------------| 103 /2.4k (  4.29%) ETA 05m55s"
       ]
      },
      {
       "output_type": "stream",
       "stream": "stdout",
       "text": [
        "\r",
        "|\u001b[0;34m=\u001b[0m\u001b[0;32m>\u001b[0m---------------------------------------| 104 /2.4k (  4.33%) ETA 05m56s"
       ]
      },
      {
       "output_type": "stream",
       "stream": "stdout",
       "text": [
        "\r",
        "|\u001b[0;34m=\u001b[0m\u001b[0;32m>\u001b[0m---------------------------------------| 105 /2.4k (  4.38%) ETA 05m55s"
       ]
      },
      {
       "output_type": "stream",
       "stream": "stdout",
       "text": [
        "\r",
        "|\u001b[0;34m=\u001b[0m\u001b[0;32m>\u001b[0m---------------------------------------| 106 /2.4k (  4.42%) ETA 05m55s"
       ]
      },
      {
       "output_type": "stream",
       "stream": "stdout",
       "text": [
        "\r",
        "|\u001b[0;34m=\u001b[0m\u001b[0;32m>\u001b[0m---------------------------------------| 107 /2.4k (  4.46%) ETA 05m55s"
       ]
      },
      {
       "output_type": "stream",
       "stream": "stdout",
       "text": [
        "\r",
        "|\u001b[0;34m=\u001b[0m\u001b[0;32m>\u001b[0m---------------------------------------| 108 /2.4k (  4.50%) ETA 05m55s"
       ]
      },
      {
       "output_type": "stream",
       "stream": "stdout",
       "text": [
        "\r",
        "|\u001b[0;34m=\u001b[0m\u001b[0;32m>\u001b[0m---------------------------------------| 109 /2.4k (  4.54%) ETA 05m55s"
       ]
      },
      {
       "output_type": "stream",
       "stream": "stdout",
       "text": [
        "\r",
        "|\u001b[0;34m=\u001b[0m\u001b[0;32m>\u001b[0m---------------------------------------| 110 /2.4k (  4.58%) ETA 05m54s"
       ]
      },
      {
       "output_type": "stream",
       "stream": "stdout",
       "text": [
        "\r",
        "|\u001b[0;34m=\u001b[0m\u001b[0;32m>\u001b[0m---------------------------------------| 111 /2.4k (  4.62%) ETA 05m54s"
       ]
      },
      {
       "output_type": "stream",
       "stream": "stdout",
       "text": [
        "\r",
        "|\u001b[0;34m=\u001b[0m\u001b[0;32m>\u001b[0m---------------------------------------| 112 /2.4k (  4.67%) ETA 05m54s"
       ]
      },
      {
       "output_type": "stream",
       "stream": "stdout",
       "text": [
        "\r",
        "|\u001b[0;34m=\u001b[0m\u001b[0;32m>\u001b[0m---------------------------------------| 113 /2.4k (  4.71%) ETA 05m54s"
       ]
      },
      {
       "output_type": "stream",
       "stream": "stdout",
       "text": [
        "\r",
        "|\u001b[0;34m=\u001b[0m\u001b[0;32m>\u001b[0m---------------------------------------| 114 /2.4k (  4.75%) ETA 05m54s"
       ]
      },
      {
       "output_type": "stream",
       "stream": "stdout",
       "text": [
        "\r",
        "|\u001b[0;34m=\u001b[0m\u001b[0;32m>\u001b[0m---------------------------------------| 115 /2.4k (  4.79%) ETA 05m54s"
       ]
      },
      {
       "output_type": "stream",
       "stream": "stdout",
       "text": [
        "\r",
        "|\u001b[0;34m=\u001b[0m\u001b[0;32m>\u001b[0m---------------------------------------| 116 /2.4k (  4.83%) ETA 05m53s"
       ]
      },
      {
       "output_type": "stream",
       "stream": "stdout",
       "text": [
        "\r",
        "|\u001b[0;34m=\u001b[0m\u001b[0;32m>\u001b[0m---------------------------------------| 117 /2.4k (  4.88%) ETA 05m53s"
       ]
      },
      {
       "output_type": "stream",
       "stream": "stdout",
       "text": [
        "\r",
        "|\u001b[0;34m==\u001b[0m\u001b[0;32m>\u001b[0m--------------------------------------| 118 /2.4k (  4.92%) ETA 05m53s"
       ]
      },
      {
       "output_type": "stream",
       "stream": "stdout",
       "text": [
        "\r",
        "|\u001b[0;34m==\u001b[0m\u001b[0;32m>\u001b[0m--------------------------------------| 119 /2.4k (  4.96%) ETA 05m53s"
       ]
      },
      {
       "output_type": "stream",
       "stream": "stdout",
       "text": [
        "\r",
        "|\u001b[0;34m==\u001b[0m\u001b[0;32m>\u001b[0m--------------------------------------| 120 /2.4k (  5.00%) ETA 05m53s"
       ]
      },
      {
       "output_type": "stream",
       "stream": "stdout",
       "text": [
        "\r",
        "|\u001b[0;34m==\u001b[0m\u001b[0;32m>\u001b[0m--------------------------------------| 121 /2.4k (  5.04%) ETA 05m53s"
       ]
      },
      {
       "output_type": "stream",
       "stream": "stdout",
       "text": [
        "\r",
        "|\u001b[0;34m==\u001b[0m\u001b[0;32m>\u001b[0m--------------------------------------| 122 /2.4k (  5.08%) ETA 05m53s"
       ]
      },
      {
       "output_type": "stream",
       "stream": "stdout",
       "text": [
        "\r",
        "|\u001b[0;34m==\u001b[0m\u001b[0;32m>\u001b[0m--------------------------------------| 123 /2.4k (  5.12%) ETA 05m53s"
       ]
      },
      {
       "output_type": "stream",
       "stream": "stdout",
       "text": [
        "\r",
        "|\u001b[0;34m==\u001b[0m\u001b[0;32m>\u001b[0m--------------------------------------| 124 /2.4k (  5.17%) ETA 05m53s"
       ]
      },
      {
       "output_type": "stream",
       "stream": "stdout",
       "text": [
        "\r",
        "|\u001b[0;34m==\u001b[0m\u001b[0;32m>\u001b[0m--------------------------------------| 125 /2.4k (  5.21%) ETA 05m52s"
       ]
      },
      {
       "output_type": "stream",
       "stream": "stdout",
       "text": [
        "\r",
        "|\u001b[0;34m==\u001b[0m\u001b[0;32m>\u001b[0m--------------------------------------| 126 /2.4k (  5.25%) ETA 05m52s"
       ]
      },
      {
       "output_type": "stream",
       "stream": "stdout",
       "text": [
        "\r",
        "|\u001b[0;34m==\u001b[0m\u001b[0;32m>\u001b[0m--------------------------------------| 127 /2.4k (  5.29%) ETA 05m52s"
       ]
      },
      {
       "output_type": "stream",
       "stream": "stdout",
       "text": [
        "\r",
        "|\u001b[0;34m==\u001b[0m\u001b[0;32m>\u001b[0m--------------------------------------| 128 /2.4k (  5.33%) ETA 05m52s"
       ]
      },
      {
       "output_type": "stream",
       "stream": "stdout",
       "text": [
        "\r",
        "|\u001b[0;34m==\u001b[0m\u001b[0;32m>\u001b[0m--------------------------------------| 129 /2.4k (  5.38%) ETA 05m52s"
       ]
      },
      {
       "output_type": "stream",
       "stream": "stdout",
       "text": [
        "\r",
        "|\u001b[0;34m==\u001b[0m\u001b[0;32m>\u001b[0m--------------------------------------| 130 /2.4k (  5.42%) ETA 05m51s"
       ]
      },
      {
       "output_type": "stream",
       "stream": "stdout",
       "text": [
        "\r",
        "|\u001b[0;34m==\u001b[0m\u001b[0;32m>\u001b[0m--------------------------------------| 131 /2.4k (  5.46%) ETA 05m51s"
       ]
      },
      {
       "output_type": "stream",
       "stream": "stdout",
       "text": [
        "\r",
        "|\u001b[0;34m==\u001b[0m\u001b[0;32m>\u001b[0m--------------------------------------| 132 /2.4k (  5.50%) ETA 05m51s"
       ]
      },
      {
       "output_type": "stream",
       "stream": "stdout",
       "text": [
        "\r",
        "|\u001b[0;34m==\u001b[0m\u001b[0;32m>\u001b[0m--------------------------------------| 133 /2.4k (  5.54%) ETA 05m51s"
       ]
      },
      {
       "output_type": "stream",
       "stream": "stdout",
       "text": [
        "\r",
        "|\u001b[0;34m==\u001b[0m\u001b[0;32m>\u001b[0m--------------------------------------| 134 /2.4k (  5.58%) ETA 05m51s"
       ]
      },
      {
       "output_type": "stream",
       "stream": "stdout",
       "text": [
        "\r",
        "|\u001b[0;34m==\u001b[0m\u001b[0;32m>\u001b[0m--------------------------------------| 135 /2.4k (  5.62%) ETA 05m51s"
       ]
      },
      {
       "output_type": "stream",
       "stream": "stdout",
       "text": [
        "\r",
        "|\u001b[0;34m==\u001b[0m\u001b[0;32m>\u001b[0m--------------------------------------| 136 /2.4k (  5.67%) ETA 05m50s"
       ]
      },
      {
       "output_type": "stream",
       "stream": "stdout",
       "text": [
        "\r",
        "|\u001b[0;34m==\u001b[0m\u001b[0;32m>\u001b[0m--------------------------------------| 137 /2.4k (  5.71%) ETA 05m50s"
       ]
      },
      {
       "output_type": "stream",
       "stream": "stdout",
       "text": [
        "\r",
        "|\u001b[0;34m==\u001b[0m\u001b[0;32m>\u001b[0m--------------------------------------| 138 /2.4k (  5.75%) ETA 05m50s"
       ]
      },
      {
       "output_type": "stream",
       "stream": "stdout",
       "text": [
        "\r",
        "|\u001b[0;34m==\u001b[0m\u001b[0;32m>\u001b[0m--------------------------------------| 139 /2.4k (  5.79%) ETA 05m50s"
       ]
      },
      {
       "output_type": "stream",
       "stream": "stdout",
       "text": [
        "\r",
        "|\u001b[0;34m==\u001b[0m\u001b[0;32m>\u001b[0m--------------------------------------| 140 /2.4k (  5.83%) ETA 05m50s"
       ]
      },
      {
       "output_type": "stream",
       "stream": "stdout",
       "text": [
        "\r",
        "|\u001b[0;34m==\u001b[0m\u001b[0;32m>\u001b[0m--------------------------------------| 141 /2.4k (  5.88%) ETA 05m50s"
       ]
      },
      {
       "output_type": "stream",
       "stream": "stdout",
       "text": [
        "\r",
        "|\u001b[0;34m==\u001b[0m\u001b[0;32m>\u001b[0m--------------------------------------| 142 /2.4k (  5.92%) ETA 05m50s"
       ]
      },
      {
       "output_type": "stream",
       "stream": "stdout",
       "text": [
        "\r",
        "|\u001b[0;34m==\u001b[0m\u001b[0;32m>\u001b[0m--------------------------------------| 143 /2.4k (  5.96%) ETA 05m49s"
       ]
      },
      {
       "output_type": "stream",
       "stream": "stdout",
       "text": [
        "\r",
        "|\u001b[0;34m==\u001b[0m\u001b[0;32m>\u001b[0m--------------------------------------| 144 /2.4k (  6.00%) ETA 05m49s"
       ]
      },
      {
       "output_type": "stream",
       "stream": "stdout",
       "text": [
        "\r",
        "|\u001b[0;34m==\u001b[0m\u001b[0;32m>\u001b[0m--------------------------------------| 145 /2.4k (  6.04%) ETA 05m49s"
       ]
      },
      {
       "output_type": "stream",
       "stream": "stdout",
       "text": [
        "\r",
        "|\u001b[0;34m==\u001b[0m\u001b[0;32m>\u001b[0m--------------------------------------| 146 /2.4k (  6.08%) ETA 05m49s"
       ]
      },
      {
       "output_type": "stream",
       "stream": "stdout",
       "text": [
        "\r",
        "|\u001b[0;34m==\u001b[0m\u001b[0;32m>\u001b[0m--------------------------------------| 147 /2.4k (  6.12%) ETA 05m49s"
       ]
      },
      {
       "output_type": "stream",
       "stream": "stdout",
       "text": [
        "\r",
        "|\u001b[0;34m==\u001b[0m\u001b[0;32m>\u001b[0m--------------------------------------| 148 /2.4k (  6.17%) ETA 05m49s"
       ]
      },
      {
       "output_type": "stream",
       "stream": "stdout",
       "text": [
        "\r",
        "|\u001b[0;34m==\u001b[0m\u001b[0;32m>\u001b[0m--------------------------------------| 149 /2.4k (  6.21%) ETA 05m48s"
       ]
      },
      {
       "output_type": "stream",
       "stream": "stdout",
       "text": [
        "\r",
        "|\u001b[0;34m==\u001b[0m\u001b[0;32m>\u001b[0m--------------------------------------| 150 /2.4k (  6.25%) ETA 05m48s"
       ]
      },
      {
       "output_type": "stream",
       "stream": "stdout",
       "text": [
        "\r",
        "|\u001b[0;34m==\u001b[0m\u001b[0;32m>\u001b[0m--------------------------------------| 151 /2.4k (  6.29%) ETA 05m48s"
       ]
      },
      {
       "output_type": "stream",
       "stream": "stdout",
       "text": [
        "\r",
        "|\u001b[0;34m==\u001b[0m\u001b[0;32m>\u001b[0m--------------------------------------| 152 /2.4k (  6.33%) ETA 05m48s"
       ]
      },
      {
       "output_type": "stream",
       "stream": "stdout",
       "text": [
        "\r",
        "|\u001b[0;34m==\u001b[0m\u001b[0;32m>\u001b[0m--------------------------------------| 153 /2.4k (  6.38%) ETA 05m48s"
       ]
      },
      {
       "output_type": "stream",
       "stream": "stdout",
       "text": [
        "\r",
        "|\u001b[0;34m==\u001b[0m\u001b[0;32m>\u001b[0m--------------------------------------| 154 /2.4k (  6.42%) ETA 05m48s"
       ]
      },
      {
       "output_type": "stream",
       "stream": "stdout",
       "text": [
        "\r",
        "|\u001b[0;34m==\u001b[0m\u001b[0;32m>\u001b[0m--------------------------------------| 155 /2.4k (  6.46%) ETA 05m47s"
       ]
      },
      {
       "output_type": "stream",
       "stream": "stdout",
       "text": [
        "\r",
        "|\u001b[0;34m==\u001b[0m\u001b[0;32m>\u001b[0m--------------------------------------| 156 /2.4k (  6.50%) ETA 05m47s"
       ]
      },
      {
       "output_type": "stream",
       "stream": "stdout",
       "text": [
        "\r",
        "|\u001b[0;34m==\u001b[0m\u001b[0;32m>\u001b[0m--------------------------------------| 157 /2.4k (  6.54%) ETA 05m47s"
       ]
      },
      {
       "output_type": "stream",
       "stream": "stdout",
       "text": [
        "\r",
        "|\u001b[0;34m==\u001b[0m\u001b[0;32m>\u001b[0m--------------------------------------| 158 /2.4k (  6.58%) ETA 05m47s"
       ]
      },
      {
       "output_type": "stream",
       "stream": "stdout",
       "text": [
        "\r",
        "|\u001b[0;34m==\u001b[0m\u001b[0;32m>\u001b[0m--------------------------------------| 159 /2.4k (  6.62%) ETA 05m47s"
       ]
      },
      {
       "output_type": "stream",
       "stream": "stdout",
       "text": [
        "\r",
        "|\u001b[0;34m==\u001b[0m\u001b[0;32m>\u001b[0m--------------------------------------| 160 /2.4k (  6.67%) ETA 05m47s"
       ]
      },
      {
       "output_type": "stream",
       "stream": "stdout",
       "text": [
        "\r",
        "|\u001b[0;34m==\u001b[0m\u001b[0;32m>\u001b[0m--------------------------------------| 161 /2.4k (  6.71%) ETA 05m47s"
       ]
      },
      {
       "output_type": "stream",
       "stream": "stdout",
       "text": [
        "\r",
        "|\u001b[0;34m==\u001b[0m\u001b[0;32m>\u001b[0m--------------------------------------| 162 /2.4k (  6.75%) ETA 05m47s"
       ]
      },
      {
       "output_type": "stream",
       "stream": "stdout",
       "text": [
        "\r",
        "|\u001b[0;34m==\u001b[0m\u001b[0;32m>\u001b[0m--------------------------------------| 163 /2.4k (  6.79%) ETA 05m47s"
       ]
      },
      {
       "output_type": "stream",
       "stream": "stdout",
       "text": [
        "\r",
        "|\u001b[0;34m==\u001b[0m\u001b[0;32m>\u001b[0m--------------------------------------| 164 /2.4k (  6.83%) ETA 05m47s"
       ]
      },
      {
       "output_type": "stream",
       "stream": "stdout",
       "text": [
        "\r",
        "|\u001b[0;34m==\u001b[0m\u001b[0;32m>\u001b[0m--------------------------------------| 165 /2.4k (  6.88%) ETA 05m47s"
       ]
      },
      {
       "output_type": "stream",
       "stream": "stdout",
       "text": [
        "\r",
        "|\u001b[0;34m==\u001b[0m\u001b[0;32m>\u001b[0m--------------------------------------| 166 /2.4k (  6.92%) ETA 05m46s"
       ]
      },
      {
       "output_type": "stream",
       "stream": "stdout",
       "text": [
        "\r",
        "|\u001b[0;34m==\u001b[0m\u001b[0;32m>\u001b[0m--------------------------------------| 167 /2.4k (  6.96%) ETA 05m46s"
       ]
      },
      {
       "output_type": "stream",
       "stream": "stdout",
       "text": [
        "\r",
        "|\u001b[0;34m==\u001b[0m\u001b[0;32m>\u001b[0m--------------------------------------| 168 /2.4k (  7.00%) ETA 05m46s"
       ]
      },
      {
       "output_type": "stream",
       "stream": "stdout",
       "text": [
        "\r",
        "|\u001b[0;34m==\u001b[0m\u001b[0;32m>\u001b[0m--------------------------------------| 169 /2.4k (  7.04%) ETA 05m46s"
       ]
      },
      {
       "output_type": "stream",
       "stream": "stdout",
       "text": [
        "\r",
        "|\u001b[0;34m==\u001b[0m\u001b[0;32m>\u001b[0m--------------------------------------| 170 /2.4k (  7.08%) ETA 05m47s"
       ]
      },
      {
       "output_type": "stream",
       "stream": "stdout",
       "text": [
        "\r",
        "|\u001b[0;34m==\u001b[0m\u001b[0;32m>\u001b[0m--------------------------------------| 171 /2.4k (  7.12%) ETA 05m47s"
       ]
      },
      {
       "output_type": "stream",
       "stream": "stdout",
       "text": [
        "\r",
        "|\u001b[0;34m==\u001b[0m\u001b[0;32m>\u001b[0m--------------------------------------| 172 /2.4k (  7.17%) ETA 05m47s"
       ]
      },
      {
       "output_type": "stream",
       "stream": "stdout",
       "text": [
        "\r",
        "|\u001b[0;34m==\u001b[0m\u001b[0;32m>\u001b[0m--------------------------------------| 173 /2.4k (  7.21%) ETA 05m46s"
       ]
      },
      {
       "output_type": "stream",
       "stream": "stdout",
       "text": [
        "\r",
        "|\u001b[0;34m==\u001b[0m\u001b[0;32m>\u001b[0m--------------------------------------| 174 /2.4k (  7.25%) ETA 05m46s"
       ]
      },
      {
       "output_type": "stream",
       "stream": "stdout",
       "text": [
        "\r",
        "|\u001b[0;34m==\u001b[0m\u001b[0;32m>\u001b[0m--------------------------------------| 175 /2.4k (  7.29%) ETA 05m46s"
       ]
      },
      {
       "output_type": "stream",
       "stream": "stdout",
       "text": [
        "\r",
        "|\u001b[0;34m===\u001b[0m\u001b[0;32m>\u001b[0m-------------------------------------| 176 /2.4k (  7.33%) ETA 05m46s"
       ]
      },
      {
       "output_type": "stream",
       "stream": "stdout",
       "text": [
        "\r",
        "|\u001b[0;34m===\u001b[0m\u001b[0;32m>\u001b[0m-------------------------------------| 177 /2.4k (  7.38%) ETA 05m46s"
       ]
      },
      {
       "output_type": "stream",
       "stream": "stdout",
       "text": [
        "\r",
        "|\u001b[0;34m===\u001b[0m\u001b[0;32m>\u001b[0m-------------------------------------| 178 /2.4k (  7.42%) ETA 05m46s"
       ]
      },
      {
       "output_type": "stream",
       "stream": "stdout",
       "text": [
        "\r",
        "|\u001b[0;34m===\u001b[0m\u001b[0;32m>\u001b[0m-------------------------------------| 179 /2.4k (  7.46%) ETA 05m45s"
       ]
      },
      {
       "output_type": "stream",
       "stream": "stdout",
       "text": [
        "\r",
        "|\u001b[0;34m===\u001b[0m\u001b[0;32m>\u001b[0m-------------------------------------| 180 /2.4k (  7.50%) ETA 05m45s"
       ]
      },
      {
       "output_type": "stream",
       "stream": "stdout",
       "text": [
        "\r",
        "|\u001b[0;34m===\u001b[0m\u001b[0;32m>\u001b[0m-------------------------------------| 181 /2.4k (  7.54%) ETA 05m45s"
       ]
      },
      {
       "output_type": "stream",
       "stream": "stdout",
       "text": [
        "\r",
        "|\u001b[0;34m===\u001b[0m\u001b[0;32m>\u001b[0m-------------------------------------| 182 /2.4k (  7.58%) ETA 05m45s"
       ]
      },
      {
       "output_type": "stream",
       "stream": "stdout",
       "text": [
        "\r",
        "|\u001b[0;34m===\u001b[0m\u001b[0;32m>\u001b[0m-------------------------------------| 183 /2.4k (  7.62%) ETA 05m45s"
       ]
      },
      {
       "output_type": "stream",
       "stream": "stdout",
       "text": [
        "\r",
        "|\u001b[0;34m===\u001b[0m\u001b[0;32m>\u001b[0m-------------------------------------| 184 /2.4k (  7.67%) ETA 05m45s"
       ]
      },
      {
       "output_type": "stream",
       "stream": "stdout",
       "text": [
        "\r",
        "|\u001b[0;34m===\u001b[0m\u001b[0;32m>\u001b[0m-------------------------------------| 185 /2.4k (  7.71%) ETA 05m45s"
       ]
      },
      {
       "output_type": "stream",
       "stream": "stdout",
       "text": [
        "\r",
        "|\u001b[0;34m===\u001b[0m\u001b[0;32m>\u001b[0m-------------------------------------| 186 /2.4k (  7.75%) ETA 05m44s"
       ]
      },
      {
       "output_type": "stream",
       "stream": "stdout",
       "text": [
        "\r",
        "|\u001b[0;34m===\u001b[0m\u001b[0;32m>\u001b[0m-------------------------------------| 187 /2.4k (  7.79%) ETA 05m44s"
       ]
      },
      {
       "output_type": "stream",
       "stream": "stdout",
       "text": [
        "\r",
        "|\u001b[0;34m===\u001b[0m\u001b[0;32m>\u001b[0m-------------------------------------| 188 /2.4k (  7.83%) ETA 05m44s"
       ]
      },
      {
       "output_type": "stream",
       "stream": "stdout",
       "text": [
        "\r",
        "|\u001b[0;34m===\u001b[0m\u001b[0;32m>\u001b[0m-------------------------------------| 189 /2.4k (  7.88%) ETA 05m44s"
       ]
      },
      {
       "output_type": "stream",
       "stream": "stdout",
       "text": [
        "\r",
        "|\u001b[0;34m===\u001b[0m\u001b[0;32m>\u001b[0m-------------------------------------| 190 /2.4k (  7.92%) ETA 05m44s"
       ]
      },
      {
       "output_type": "stream",
       "stream": "stdout",
       "text": [
        "\r",
        "|\u001b[0;34m===\u001b[0m\u001b[0;32m>\u001b[0m-------------------------------------| 191 /2.4k (  7.96%) ETA 05m44s"
       ]
      },
      {
       "output_type": "stream",
       "stream": "stdout",
       "text": [
        "\r",
        "|\u001b[0;34m===\u001b[0m\u001b[0;32m>\u001b[0m-------------------------------------| 192 /2.4k (  8.00%) ETA 05m43s"
       ]
      },
      {
       "output_type": "stream",
       "stream": "stdout",
       "text": [
        "\r",
        "|\u001b[0;34m===\u001b[0m\u001b[0;32m>\u001b[0m-------------------------------------| 193 /2.4k (  8.04%) ETA 05m43s"
       ]
      },
      {
       "output_type": "stream",
       "stream": "stdout",
       "text": [
        "\r",
        "|\u001b[0;34m===\u001b[0m\u001b[0;32m>\u001b[0m-------------------------------------| 194 /2.4k (  8.08%) ETA 05m43s"
       ]
      },
      {
       "output_type": "stream",
       "stream": "stdout",
       "text": [
        "\r",
        "|\u001b[0;34m===\u001b[0m\u001b[0;32m>\u001b[0m-------------------------------------| 195 /2.4k (  8.12%) ETA 05m43s"
       ]
      },
      {
       "output_type": "stream",
       "stream": "stdout",
       "text": [
        "\r",
        "|\u001b[0;34m===\u001b[0m\u001b[0;32m>\u001b[0m-------------------------------------| 196 /2.4k (  8.17%) ETA 05m43s"
       ]
      },
      {
       "output_type": "stream",
       "stream": "stdout",
       "text": [
        "\r",
        "|\u001b[0;34m===\u001b[0m\u001b[0;32m>\u001b[0m-------------------------------------| 197 /2.4k (  8.21%) ETA 05m43s"
       ]
      },
      {
       "output_type": "stream",
       "stream": "stdout",
       "text": [
        "\r",
        "|\u001b[0;34m===\u001b[0m\u001b[0;32m>\u001b[0m-------------------------------------| 198 /2.4k (  8.25%) ETA 05m43s"
       ]
      },
      {
       "output_type": "stream",
       "stream": "stdout",
       "text": [
        "\r",
        "|\u001b[0;34m===\u001b[0m\u001b[0;32m>\u001b[0m-------------------------------------| 199 /2.4k (  8.29%) ETA 05m42s"
       ]
      },
      {
       "output_type": "stream",
       "stream": "stdout",
       "text": [
        "\r",
        "|\u001b[0;34m===\u001b[0m\u001b[0;32m>\u001b[0m-------------------------------------| 200 /2.4k (  8.33%) ETA 05m42s"
       ]
      },
      {
       "output_type": "stream",
       "stream": "stdout",
       "text": [
        "\r",
        "|\u001b[0;34m===\u001b[0m\u001b[0;32m>\u001b[0m-------------------------------------| 201 /2.4k (  8.38%) ETA 05m42s"
       ]
      },
      {
       "output_type": "stream",
       "stream": "stdout",
       "text": [
        "\r",
        "|\u001b[0;34m===\u001b[0m\u001b[0;32m>\u001b[0m-------------------------------------| 202 /2.4k (  8.42%) ETA 05m42s"
       ]
      },
      {
       "output_type": "stream",
       "stream": "stdout",
       "text": [
        "\r",
        "|\u001b[0;34m===\u001b[0m\u001b[0;32m>\u001b[0m-------------------------------------| 203 /2.4k (  8.46%) ETA 05m42s"
       ]
      },
      {
       "output_type": "stream",
       "stream": "stdout",
       "text": [
        "\r",
        "|\u001b[0;34m===\u001b[0m\u001b[0;32m>\u001b[0m-------------------------------------| 204 /2.4k (  8.50%) ETA 05m42s"
       ]
      },
      {
       "output_type": "stream",
       "stream": "stdout",
       "text": [
        "\r",
        "|\u001b[0;34m===\u001b[0m\u001b[0;32m>\u001b[0m-------------------------------------| 205 /2.4k (  8.54%) ETA 05m42s"
       ]
      },
      {
       "output_type": "stream",
       "stream": "stdout",
       "text": [
        "\r",
        "|\u001b[0;34m===\u001b[0m\u001b[0;32m>\u001b[0m-------------------------------------| 206 /2.4k (  8.58%) ETA 05m42s"
       ]
      },
      {
       "output_type": "stream",
       "stream": "stdout",
       "text": [
        "\r",
        "|\u001b[0;34m===\u001b[0m\u001b[0;32m>\u001b[0m-------------------------------------| 207 /2.4k (  8.62%) ETA 05m42s"
       ]
      },
      {
       "output_type": "stream",
       "stream": "stdout",
       "text": [
        "\r",
        "|\u001b[0;34m===\u001b[0m\u001b[0;32m>\u001b[0m-------------------------------------| 208 /2.4k (  8.67%) ETA 05m41s"
       ]
      },
      {
       "output_type": "stream",
       "stream": "stdout",
       "text": [
        "\r",
        "|\u001b[0;34m===\u001b[0m\u001b[0;32m>\u001b[0m-------------------------------------| 209 /2.4k (  8.71%) ETA 05m41s"
       ]
      },
      {
       "output_type": "stream",
       "stream": "stdout",
       "text": [
        "\r",
        "|\u001b[0;34m===\u001b[0m\u001b[0;32m>\u001b[0m-------------------------------------| 210 /2.4k (  8.75%) ETA 05m41s"
       ]
      },
      {
       "output_type": "stream",
       "stream": "stdout",
       "text": [
        "\r",
        "|\u001b[0;34m===\u001b[0m\u001b[0;32m>\u001b[0m-------------------------------------| 211 /2.4k (  8.79%) ETA 05m41s"
       ]
      },
      {
       "output_type": "stream",
       "stream": "stdout",
       "text": [
        "\r",
        "|\u001b[0;34m===\u001b[0m\u001b[0;32m>\u001b[0m-------------------------------------| 212 /2.4k (  8.83%) ETA 05m41s"
       ]
      },
      {
       "output_type": "stream",
       "stream": "stdout",
       "text": [
        "\r",
        "|\u001b[0;34m===\u001b[0m\u001b[0;32m>\u001b[0m-------------------------------------| 213 /2.4k (  8.88%) ETA 05m41s"
       ]
      },
      {
       "output_type": "stream",
       "stream": "stdout",
       "text": [
        "\r",
        "|\u001b[0;34m===\u001b[0m\u001b[0;32m>\u001b[0m-------------------------------------| 214 /2.4k (  8.92%) ETA 05m40s"
       ]
      },
      {
       "output_type": "stream",
       "stream": "stdout",
       "text": [
        "\r",
        "|\u001b[0;34m===\u001b[0m\u001b[0;32m>\u001b[0m-------------------------------------| 215 /2.4k (  8.96%) ETA 05m40s"
       ]
      },
      {
       "output_type": "stream",
       "stream": "stdout",
       "text": [
        "\r",
        "|\u001b[0;34m===\u001b[0m\u001b[0;32m>\u001b[0m-------------------------------------| 216 /2.4k (  9.00%) ETA 05m40s"
       ]
      },
      {
       "output_type": "stream",
       "stream": "stdout",
       "text": [
        "\r",
        "|\u001b[0;34m===\u001b[0m\u001b[0;32m>\u001b[0m-------------------------------------| 217 /2.4k (  9.04%) ETA 05m40s"
       ]
      },
      {
       "output_type": "stream",
       "stream": "stdout",
       "text": [
        "\r",
        "|\u001b[0;34m===\u001b[0m\u001b[0;32m>\u001b[0m-------------------------------------| 218 /2.4k (  9.08%) ETA 05m40s"
       ]
      },
      {
       "output_type": "stream",
       "stream": "stdout",
       "text": [
        "\r",
        "|\u001b[0;34m===\u001b[0m\u001b[0;32m>\u001b[0m-------------------------------------| 219 /2.4k (  9.12%) ETA 05m40s"
       ]
      },
      {
       "output_type": "stream",
       "stream": "stdout",
       "text": [
        "\r",
        "|\u001b[0;34m===\u001b[0m\u001b[0;32m>\u001b[0m-------------------------------------| 220 /2.4k (  9.17%) ETA 05m40s"
       ]
      },
      {
       "output_type": "stream",
       "stream": "stdout",
       "text": [
        "\r",
        "|\u001b[0;34m===\u001b[0m\u001b[0;32m>\u001b[0m-------------------------------------| 221 /2.4k (  9.21%) ETA 05m40s"
       ]
      },
      {
       "output_type": "stream",
       "stream": "stdout",
       "text": [
        "\r",
        "|\u001b[0;34m===\u001b[0m\u001b[0;32m>\u001b[0m-------------------------------------| 222 /2.4k (  9.25%) ETA 05m40s"
       ]
      },
      {
       "output_type": "stream",
       "stream": "stdout",
       "text": [
        "\r",
        "|\u001b[0;34m===\u001b[0m\u001b[0;32m>\u001b[0m-------------------------------------| 223 /2.4k (  9.29%) ETA 05m40s"
       ]
      },
      {
       "output_type": "stream",
       "stream": "stdout",
       "text": [
        "\r",
        "|\u001b[0;34m===\u001b[0m\u001b[0;32m>\u001b[0m-------------------------------------| 224 /2.4k (  9.33%) ETA 05m39s"
       ]
      },
      {
       "output_type": "stream",
       "stream": "stdout",
       "text": [
        "\r",
        "|\u001b[0;34m===\u001b[0m\u001b[0;32m>\u001b[0m-------------------------------------| 225 /2.4k (  9.38%) ETA 05m39s"
       ]
      },
      {
       "output_type": "stream",
       "stream": "stdout",
       "text": [
        "\r",
        "|\u001b[0;34m===\u001b[0m\u001b[0;32m>\u001b[0m-------------------------------------| 226 /2.4k (  9.42%) ETA 05m39s"
       ]
      },
      {
       "output_type": "stream",
       "stream": "stdout",
       "text": [
        "\r",
        "|\u001b[0;34m===\u001b[0m\u001b[0;32m>\u001b[0m-------------------------------------| 227 /2.4k (  9.46%) ETA 05m39s"
       ]
      },
      {
       "output_type": "stream",
       "stream": "stdout",
       "text": [
        "\r",
        "|\u001b[0;34m===\u001b[0m\u001b[0;32m>\u001b[0m-------------------------------------| 228 /2.4k (  9.50%) ETA 05m39s"
       ]
      },
      {
       "output_type": "stream",
       "stream": "stdout",
       "text": [
        "\r",
        "|\u001b[0;34m===\u001b[0m\u001b[0;32m>\u001b[0m-------------------------------------| 229 /2.4k (  9.54%) ETA 05m39s"
       ]
      },
      {
       "output_type": "stream",
       "stream": "stdout",
       "text": [
        "\r",
        "|\u001b[0;34m===\u001b[0m\u001b[0;32m>\u001b[0m-------------------------------------| 230 /2.4k (  9.58%) ETA 05m38s"
       ]
      },
      {
       "output_type": "stream",
       "stream": "stdout",
       "text": [
        "\r",
        "|\u001b[0;34m===\u001b[0m\u001b[0;32m>\u001b[0m-------------------------------------| 231 /2.4k (  9.62%) ETA 05m38s"
       ]
      },
      {
       "output_type": "stream",
       "stream": "stdout",
       "text": [
        "\r",
        "|\u001b[0;34m===\u001b[0m\u001b[0;32m>\u001b[0m-------------------------------------| 232 /2.4k (  9.67%) ETA 05m38s"
       ]
      },
      {
       "output_type": "stream",
       "stream": "stdout",
       "text": [
        "\r",
        "|\u001b[0;34m===\u001b[0m\u001b[0;32m>\u001b[0m-------------------------------------| 233 /2.4k (  9.71%) ETA 05m38s"
       ]
      },
      {
       "output_type": "stream",
       "stream": "stdout",
       "text": [
        "\r",
        "|\u001b[0;34m===\u001b[0m\u001b[0;32m>\u001b[0m-------------------------------------| 234 /2.4k (  9.75%) ETA 05m38s"
       ]
      },
      {
       "output_type": "stream",
       "stream": "stdout",
       "text": [
        "\r",
        "|\u001b[0;34m====\u001b[0m\u001b[0;32m>\u001b[0m------------------------------------| 235 /2.4k (  9.79%) ETA 05m38s"
       ]
      },
      {
       "output_type": "stream",
       "stream": "stdout",
       "text": [
        "\r",
        "|\u001b[0;34m====\u001b[0m\u001b[0;32m>\u001b[0m------------------------------------| 236 /2.4k (  9.83%) ETA 05m37s"
       ]
      },
      {
       "output_type": "stream",
       "stream": "stdout",
       "text": [
        "\r",
        "|\u001b[0;34m====\u001b[0m\u001b[0;32m>\u001b[0m------------------------------------| 237 /2.4k (  9.88%) ETA 05m37s"
       ]
      },
      {
       "output_type": "stream",
       "stream": "stdout",
       "text": [
        "\r",
        "|\u001b[0;34m====\u001b[0m\u001b[0;32m>\u001b[0m------------------------------------| 238 /2.4k (  9.92%) ETA 05m37s"
       ]
      },
      {
       "output_type": "stream",
       "stream": "stdout",
       "text": [
        "\r",
        "|\u001b[0;34m====\u001b[0m\u001b[0;32m>\u001b[0m------------------------------------| 239 /2.4k (  9.96%) ETA 05m37s"
       ]
      },
      {
       "output_type": "stream",
       "stream": "stdout",
       "text": [
        "\r",
        "|\u001b[0;34m====\u001b[0m\u001b[0;32m>\u001b[0m------------------------------------| 240 /2.4k ( 10.00%) ETA 05m37s"
       ]
      },
      {
       "output_type": "stream",
       "stream": "stdout",
       "text": [
        "\r",
        "|\u001b[0;34m====\u001b[0m\u001b[0;32m>\u001b[0m------------------------------------| 241 /2.4k ( 10.04%) ETA 05m37s"
       ]
      },
      {
       "output_type": "stream",
       "stream": "stdout",
       "text": [
        "\r",
        "|\u001b[0;34m====\u001b[0m\u001b[0;32m>\u001b[0m------------------------------------| 242 /2.4k ( 10.08%) ETA 05m37s"
       ]
      },
      {
       "output_type": "stream",
       "stream": "stdout",
       "text": [
        "\r",
        "|\u001b[0;34m====\u001b[0m\u001b[0;32m>\u001b[0m------------------------------------| 243 /2.4k ( 10.12%) ETA 05m36s"
       ]
      },
      {
       "output_type": "stream",
       "stream": "stdout",
       "text": [
        "\r",
        "|\u001b[0;34m====\u001b[0m\u001b[0;32m>\u001b[0m------------------------------------| 244 /2.4k ( 10.17%) ETA 05m36s"
       ]
      },
      {
       "output_type": "stream",
       "stream": "stdout",
       "text": [
        "\r",
        "|\u001b[0;34m====\u001b[0m\u001b[0;32m>\u001b[0m------------------------------------| 245 /2.4k ( 10.21%) ETA 05m36s"
       ]
      },
      {
       "output_type": "stream",
       "stream": "stdout",
       "text": [
        "\r",
        "|\u001b[0;34m====\u001b[0m\u001b[0;32m>\u001b[0m------------------------------------| 246 /2.4k ( 10.25%) ETA 05m36s"
       ]
      },
      {
       "output_type": "stream",
       "stream": "stdout",
       "text": [
        "\r",
        "|\u001b[0;34m====\u001b[0m\u001b[0;32m>\u001b[0m------------------------------------| 247 /2.4k ( 10.29%) ETA 05m36s"
       ]
      },
      {
       "output_type": "stream",
       "stream": "stdout",
       "text": [
        "\r",
        "|\u001b[0;34m====\u001b[0m\u001b[0;32m>\u001b[0m------------------------------------| 248 /2.4k ( 10.33%) ETA 05m36s"
       ]
      },
      {
       "output_type": "stream",
       "stream": "stdout",
       "text": [
        "\r",
        "|\u001b[0;34m====\u001b[0m\u001b[0;32m>\u001b[0m------------------------------------| 249 /2.4k ( 10.38%) ETA 05m35s"
       ]
      },
      {
       "output_type": "stream",
       "stream": "stdout",
       "text": [
        "\r",
        "|\u001b[0;34m====\u001b[0m\u001b[0;32m>\u001b[0m------------------------------------| 250 /2.4k ( 10.42%) ETA 05m35s"
       ]
      },
      {
       "output_type": "stream",
       "stream": "stdout",
       "text": [
        "\r",
        "|\u001b[0;34m====\u001b[0m\u001b[0;32m>\u001b[0m------------------------------------| 251 /2.4k ( 10.46%) ETA 05m35s"
       ]
      },
      {
       "output_type": "stream",
       "stream": "stdout",
       "text": [
        "\r",
        "|\u001b[0;34m====\u001b[0m\u001b[0;32m>\u001b[0m------------------------------------| 252 /2.4k ( 10.50%) ETA 05m35s"
       ]
      },
      {
       "output_type": "stream",
       "stream": "stdout",
       "text": [
        "\r",
        "|\u001b[0;34m====\u001b[0m\u001b[0;32m>\u001b[0m------------------------------------| 253 /2.4k ( 10.54%) ETA 05m35s"
       ]
      },
      {
       "output_type": "stream",
       "stream": "stdout",
       "text": [
        "\r",
        "|\u001b[0;34m====\u001b[0m\u001b[0;32m>\u001b[0m------------------------------------| 254 /2.4k ( 10.58%) ETA 05m36s"
       ]
      },
      {
       "output_type": "stream",
       "stream": "stdout",
       "text": [
        "\r",
        "|\u001b[0;34m====\u001b[0m\u001b[0;32m>\u001b[0m------------------------------------| 255 /2.4k ( 10.62%) ETA 05m35s"
       ]
      },
      {
       "output_type": "stream",
       "stream": "stdout",
       "text": [
        "\r",
        "|\u001b[0;34m====\u001b[0m\u001b[0;32m>\u001b[0m------------------------------------| 256 /2.4k ( 10.67%) ETA 05m35s"
       ]
      },
      {
       "output_type": "stream",
       "stream": "stdout",
       "text": [
        "\r",
        "|\u001b[0;34m====\u001b[0m\u001b[0;32m>\u001b[0m------------------------------------| 257 /2.4k ( 10.71%) ETA 05m35s"
       ]
      },
      {
       "output_type": "stream",
       "stream": "stdout",
       "text": [
        "\r",
        "|\u001b[0;34m====\u001b[0m\u001b[0;32m>\u001b[0m------------------------------------| 258 /2.4k ( 10.75%) ETA 05m35s"
       ]
      },
      {
       "output_type": "stream",
       "stream": "stdout",
       "text": [
        "\r",
        "|\u001b[0;34m====\u001b[0m\u001b[0;32m>\u001b[0m------------------------------------| 259 /2.4k ( 10.79%) ETA 05m35s"
       ]
      },
      {
       "output_type": "stream",
       "stream": "stdout",
       "text": [
        "\r",
        "|\u001b[0;34m====\u001b[0m\u001b[0;32m>\u001b[0m------------------------------------| 260 /2.4k ( 10.83%) ETA 05m34s"
       ]
      },
      {
       "output_type": "stream",
       "stream": "stdout",
       "text": [
        "\r",
        "|\u001b[0;34m====\u001b[0m\u001b[0;32m>\u001b[0m------------------------------------| 261 /2.4k ( 10.88%) ETA 05m34s"
       ]
      },
      {
       "output_type": "stream",
       "stream": "stdout",
       "text": [
        "\r",
        "|\u001b[0;34m====\u001b[0m\u001b[0;32m>\u001b[0m------------------------------------| 262 /2.4k ( 10.92%) ETA 05m34s"
       ]
      },
      {
       "output_type": "stream",
       "stream": "stdout",
       "text": [
        "\r",
        "|\u001b[0;34m====\u001b[0m\u001b[0;32m>\u001b[0m------------------------------------| 263 /2.4k ( 10.96%) ETA 05m34s"
       ]
      },
      {
       "output_type": "stream",
       "stream": "stdout",
       "text": [
        "\r",
        "|\u001b[0;34m====\u001b[0m\u001b[0;32m>\u001b[0m------------------------------------| 264 /2.4k ( 11.00%) ETA 05m34s"
       ]
      },
      {
       "output_type": "stream",
       "stream": "stdout",
       "text": [
        "\r",
        "|\u001b[0;34m====\u001b[0m\u001b[0;32m>\u001b[0m------------------------------------| 265 /2.4k ( 11.04%) ETA 05m34s"
       ]
      },
      {
       "output_type": "stream",
       "stream": "stdout",
       "text": [
        "\r",
        "|\u001b[0;34m====\u001b[0m\u001b[0;32m>\u001b[0m------------------------------------| 266 /2.4k ( 11.08%) ETA 05m34s"
       ]
      },
      {
       "output_type": "stream",
       "stream": "stdout",
       "text": [
        "\r",
        "|\u001b[0;34m====\u001b[0m\u001b[0;32m>\u001b[0m------------------------------------| 267 /2.4k ( 11.12%) ETA 05m34s"
       ]
      },
      {
       "output_type": "stream",
       "stream": "stdout",
       "text": [
        "\r",
        "|\u001b[0;34m====\u001b[0m\u001b[0;32m>\u001b[0m------------------------------------| 268 /2.4k ( 11.17%) ETA 05m33s"
       ]
      },
      {
       "output_type": "stream",
       "stream": "stdout",
       "text": [
        "\r",
        "|\u001b[0;34m====\u001b[0m\u001b[0;32m>\u001b[0m------------------------------------| 269 /2.4k ( 11.21%) ETA 05m33s"
       ]
      },
      {
       "output_type": "stream",
       "stream": "stdout",
       "text": [
        "\r",
        "|\u001b[0;34m====\u001b[0m\u001b[0;32m>\u001b[0m------------------------------------| 270 /2.4k ( 11.25%) ETA 05m33s"
       ]
      },
      {
       "output_type": "stream",
       "stream": "stdout",
       "text": [
        "\r",
        "|\u001b[0;34m====\u001b[0m\u001b[0;32m>\u001b[0m------------------------------------| 271 /2.4k ( 11.29%) ETA 05m33s"
       ]
      },
      {
       "output_type": "stream",
       "stream": "stdout",
       "text": [
        "\r",
        "|\u001b[0;34m====\u001b[0m\u001b[0;32m>\u001b[0m------------------------------------| 272 /2.4k ( 11.33%) ETA 05m33s"
       ]
      },
      {
       "output_type": "stream",
       "stream": "stdout",
       "text": [
        "\r",
        "|\u001b[0;34m====\u001b[0m\u001b[0;32m>\u001b[0m------------------------------------| 273 /2.4k ( 11.38%) ETA 05m32s"
       ]
      },
      {
       "output_type": "stream",
       "stream": "stdout",
       "text": [
        "\r",
        "|\u001b[0;34m====\u001b[0m\u001b[0;32m>\u001b[0m------------------------------------| 274 /2.4k ( 11.42%) ETA 05m32s"
       ]
      },
      {
       "output_type": "stream",
       "stream": "stdout",
       "text": [
        "\r",
        "|\u001b[0;34m====\u001b[0m\u001b[0;32m>\u001b[0m------------------------------------| 275 /2.4k ( 11.46%) ETA 05m32s"
       ]
      },
      {
       "output_type": "stream",
       "stream": "stdout",
       "text": [
        "\r",
        "|\u001b[0;34m====\u001b[0m\u001b[0;32m>\u001b[0m------------------------------------| 276 /2.4k ( 11.50%) ETA 05m32s"
       ]
      },
      {
       "output_type": "stream",
       "stream": "stdout",
       "text": [
        "\r",
        "|\u001b[0;34m====\u001b[0m\u001b[0;32m>\u001b[0m------------------------------------| 277 /2.4k ( 11.54%) ETA 05m32s"
       ]
      },
      {
       "output_type": "stream",
       "stream": "stdout",
       "text": [
        "\r",
        "|\u001b[0;34m====\u001b[0m\u001b[0;32m>\u001b[0m------------------------------------| 278 /2.4k ( 11.58%) ETA 05m32s"
       ]
      },
      {
       "output_type": "stream",
       "stream": "stdout",
       "text": [
        "\r",
        "|\u001b[0;34m====\u001b[0m\u001b[0;32m>\u001b[0m------------------------------------| 279 /2.4k ( 11.62%) ETA 05m32s"
       ]
      },
      {
       "output_type": "stream",
       "stream": "stdout",
       "text": [
        "\r",
        "|\u001b[0;34m====\u001b[0m\u001b[0;32m>\u001b[0m------------------------------------| 280 /2.4k ( 11.67%) ETA 05m32s"
       ]
      },
      {
       "output_type": "stream",
       "stream": "stdout",
       "text": [
        "\r",
        "|\u001b[0;34m====\u001b[0m\u001b[0;32m>\u001b[0m------------------------------------| 281 /2.4k ( 11.71%) ETA 05m32s"
       ]
      },
      {
       "output_type": "stream",
       "stream": "stdout",
       "text": [
        "\r",
        "|\u001b[0;34m====\u001b[0m\u001b[0;32m>\u001b[0m------------------------------------| 282 /2.4k ( 11.75%) ETA 05m31s"
       ]
      },
      {
       "output_type": "stream",
       "stream": "stdout",
       "text": [
        "\r",
        "|\u001b[0;34m====\u001b[0m\u001b[0;32m>\u001b[0m------------------------------------| 283 /2.4k ( 11.79%) ETA 05m31s"
       ]
      },
      {
       "output_type": "stream",
       "stream": "stdout",
       "text": [
        "\r",
        "|\u001b[0;34m====\u001b[0m\u001b[0;32m>\u001b[0m------------------------------------| 284 /2.4k ( 11.83%) ETA 05m31s"
       ]
      },
      {
       "output_type": "stream",
       "stream": "stdout",
       "text": [
        "\r",
        "|\u001b[0;34m====\u001b[0m\u001b[0;32m>\u001b[0m------------------------------------| 285 /2.4k ( 11.88%) ETA 05m31s"
       ]
      },
      {
       "output_type": "stream",
       "stream": "stdout",
       "text": [
        "\r",
        "|\u001b[0;34m====\u001b[0m\u001b[0;32m>\u001b[0m------------------------------------| 286 /2.4k ( 11.92%) ETA 05m31s"
       ]
      },
      {
       "output_type": "stream",
       "stream": "stdout",
       "text": [
        "\r",
        "|\u001b[0;34m====\u001b[0m\u001b[0;32m>\u001b[0m------------------------------------| 287 /2.4k ( 11.96%) ETA 05m31s"
       ]
      },
      {
       "output_type": "stream",
       "stream": "stdout",
       "text": [
        "\r",
        "|\u001b[0;34m====\u001b[0m\u001b[0;32m>\u001b[0m------------------------------------| 288 /2.4k ( 12.00%) ETA 05m30s"
       ]
      },
      {
       "output_type": "stream",
       "stream": "stdout",
       "text": [
        "\r",
        "|\u001b[0;34m====\u001b[0m\u001b[0;32m>\u001b[0m------------------------------------| 289 /2.4k ( 12.04%) ETA 05m30s"
       ]
      },
      {
       "output_type": "stream",
       "stream": "stdout",
       "text": [
        "\r",
        "|\u001b[0;34m====\u001b[0m\u001b[0;32m>\u001b[0m------------------------------------| 290 /2.4k ( 12.08%) ETA 05m30s"
       ]
      },
      {
       "output_type": "stream",
       "stream": "stdout",
       "text": [
        "\r",
        "|\u001b[0;34m====\u001b[0m\u001b[0;32m>\u001b[0m------------------------------------| 291 /2.4k ( 12.12%) ETA 05m30s"
       ]
      },
      {
       "output_type": "stream",
       "stream": "stdout",
       "text": [
        "\r",
        "|\u001b[0;34m====\u001b[0m\u001b[0;32m>\u001b[0m------------------------------------| 292 /2.4k ( 12.17%) ETA 05m30s"
       ]
      },
      {
       "output_type": "stream",
       "stream": "stdout",
       "text": [
        "\r",
        "|\u001b[0;34m=====\u001b[0m\u001b[0;32m>\u001b[0m-----------------------------------| 293 /2.4k ( 12.21%) ETA 05m29s"
       ]
      },
      {
       "output_type": "stream",
       "stream": "stdout",
       "text": [
        "\r",
        "|\u001b[0;34m=====\u001b[0m\u001b[0;32m>\u001b[0m-----------------------------------| 294 /2.4k ( 12.25%) ETA 05m29s"
       ]
      },
      {
       "output_type": "stream",
       "stream": "stdout",
       "text": [
        "\r",
        "|\u001b[0;34m=====\u001b[0m\u001b[0;32m>\u001b[0m-----------------------------------| 295 /2.4k ( 12.29%) ETA 05m29s"
       ]
      },
      {
       "output_type": "stream",
       "stream": "stdout",
       "text": [
        "\r",
        "|\u001b[0;34m=====\u001b[0m\u001b[0;32m>\u001b[0m-----------------------------------| 296 /2.4k ( 12.33%) ETA 05m29s"
       ]
      },
      {
       "output_type": "stream",
       "stream": "stdout",
       "text": [
        "\r",
        "|\u001b[0;34m=====\u001b[0m\u001b[0;32m>\u001b[0m-----------------------------------| 297 /2.4k ( 12.38%) ETA 05m29s"
       ]
      },
      {
       "output_type": "stream",
       "stream": "stdout",
       "text": [
        "\r",
        "|\u001b[0;34m=====\u001b[0m\u001b[0;32m>\u001b[0m-----------------------------------| 298 /2.4k ( 12.42%) ETA 05m29s"
       ]
      },
      {
       "output_type": "stream",
       "stream": "stdout",
       "text": [
        "\r",
        "|\u001b[0;34m=====\u001b[0m\u001b[0;32m>\u001b[0m-----------------------------------| 299 /2.4k ( 12.46%) ETA 05m28s"
       ]
      },
      {
       "output_type": "stream",
       "stream": "stdout",
       "text": [
        "\r",
        "|\u001b[0;34m=====\u001b[0m\u001b[0;32m>\u001b[0m-----------------------------------| 300 /2.4k ( 12.50%) ETA 05m28s"
       ]
      },
      {
       "output_type": "stream",
       "stream": "stdout",
       "text": [
        "\r",
        "|\u001b[0;34m=====\u001b[0m\u001b[0;32m>\u001b[0m-----------------------------------| 301 /2.4k ( 12.54%) ETA 05m28s"
       ]
      },
      {
       "output_type": "stream",
       "stream": "stdout",
       "text": [
        "\r",
        "|\u001b[0;34m=====\u001b[0m\u001b[0;32m>\u001b[0m-----------------------------------| 302 /2.4k ( 12.58%) ETA 05m28s"
       ]
      },
      {
       "output_type": "stream",
       "stream": "stdout",
       "text": [
        "\r",
        "|\u001b[0;34m=====\u001b[0m\u001b[0;32m>\u001b[0m-----------------------------------| 303 /2.4k ( 12.62%) ETA 05m28s"
       ]
      },
      {
       "output_type": "stream",
       "stream": "stdout",
       "text": [
        "\r",
        "|\u001b[0;34m=====\u001b[0m\u001b[0;32m>\u001b[0m-----------------------------------| 304 /2.4k ( 12.67%) ETA 05m28s"
       ]
      },
      {
       "output_type": "stream",
       "stream": "stdout",
       "text": [
        "\r",
        "|\u001b[0;34m=====\u001b[0m\u001b[0;32m>\u001b[0m-----------------------------------| 305 /2.4k ( 12.71%) ETA 05m27s"
       ]
      },
      {
       "output_type": "stream",
       "stream": "stdout",
       "text": [
        "\r",
        "|\u001b[0;34m=====\u001b[0m\u001b[0;32m>\u001b[0m-----------------------------------| 306 /2.4k ( 12.75%) ETA 05m27s"
       ]
      },
      {
       "output_type": "stream",
       "stream": "stdout",
       "text": [
        "\r",
        "|\u001b[0;34m=====\u001b[0m\u001b[0;32m>\u001b[0m-----------------------------------| 307 /2.4k ( 12.79%) ETA 05m27s"
       ]
      },
      {
       "output_type": "stream",
       "stream": "stdout",
       "text": [
        "\r",
        "|\u001b[0;34m=====\u001b[0m\u001b[0;32m>\u001b[0m-----------------------------------| 308 /2.4k ( 12.83%) ETA 05m27s"
       ]
      },
      {
       "output_type": "stream",
       "stream": "stdout",
       "text": [
        "\r",
        "|\u001b[0;34m=====\u001b[0m\u001b[0;32m>\u001b[0m-----------------------------------| 309 /2.4k ( 12.88%) ETA 05m27s"
       ]
      },
      {
       "output_type": "stream",
       "stream": "stdout",
       "text": [
        "\r",
        "|\u001b[0;34m=====\u001b[0m\u001b[0;32m>\u001b[0m-----------------------------------| 310 /2.4k ( 12.92%) ETA 05m27s"
       ]
      },
      {
       "output_type": "stream",
       "stream": "stdout",
       "text": [
        "\r",
        "|\u001b[0;34m=====\u001b[0m\u001b[0;32m>\u001b[0m-----------------------------------| 311 /2.4k ( 12.96%) ETA 05m27s"
       ]
      },
      {
       "output_type": "stream",
       "stream": "stdout",
       "text": [
        "\r",
        "|\u001b[0;34m=====\u001b[0m\u001b[0;32m>\u001b[0m-----------------------------------| 312 /2.4k ( 13.00%) ETA 05m26s"
       ]
      },
      {
       "output_type": "stream",
       "stream": "stdout",
       "text": [
        "\r",
        "|\u001b[0;34m=====\u001b[0m\u001b[0;32m>\u001b[0m-----------------------------------| 313 /2.4k ( 13.04%) ETA 05m26s"
       ]
      },
      {
       "output_type": "stream",
       "stream": "stdout",
       "text": [
        "\r",
        "|\u001b[0;34m=====\u001b[0m\u001b[0;32m>\u001b[0m-----------------------------------| 314 /2.4k ( 13.08%) ETA 05m26s"
       ]
      },
      {
       "output_type": "stream",
       "stream": "stdout",
       "text": [
        "\r",
        "|\u001b[0;34m=====\u001b[0m\u001b[0;32m>\u001b[0m-----------------------------------| 315 /2.4k ( 13.12%) ETA 05m26s"
       ]
      },
      {
       "output_type": "stream",
       "stream": "stdout",
       "text": [
        "\r",
        "|\u001b[0;34m=====\u001b[0m\u001b[0;32m>\u001b[0m-----------------------------------| 316 /2.4k ( 13.17%) ETA 05m26s"
       ]
      },
      {
       "output_type": "stream",
       "stream": "stdout",
       "text": [
        "\r",
        "|\u001b[0;34m=====\u001b[0m\u001b[0;32m>\u001b[0m-----------------------------------| 317 /2.4k ( 13.21%) ETA 05m26s"
       ]
      },
      {
       "output_type": "stream",
       "stream": "stdout",
       "text": [
        "\r",
        "|\u001b[0;34m=====\u001b[0m\u001b[0;32m>\u001b[0m-----------------------------------| 318 /2.4k ( 13.25%) ETA 05m26s"
       ]
      },
      {
       "output_type": "stream",
       "stream": "stdout",
       "text": [
        "\r",
        "|\u001b[0;34m=====\u001b[0m\u001b[0;32m>\u001b[0m-----------------------------------| 319 /2.4k ( 13.29%) ETA 05m25s"
       ]
      },
      {
       "output_type": "stream",
       "stream": "stdout",
       "text": [
        "\r",
        "|\u001b[0;34m=====\u001b[0m\u001b[0;32m>\u001b[0m-----------------------------------| 320 /2.4k ( 13.33%) ETA 05m25s"
       ]
      },
      {
       "output_type": "stream",
       "stream": "stdout",
       "text": [
        "\r",
        "|\u001b[0;34m=====\u001b[0m\u001b[0;32m>\u001b[0m-----------------------------------| 321 /2.4k ( 13.38%) ETA 05m25s"
       ]
      },
      {
       "output_type": "stream",
       "stream": "stdout",
       "text": [
        "\r",
        "|\u001b[0;34m=====\u001b[0m\u001b[0;32m>\u001b[0m-----------------------------------| 322 /2.4k ( 13.42%) ETA 05m25s"
       ]
      },
      {
       "output_type": "stream",
       "stream": "stdout",
       "text": [
        "\r",
        "|\u001b[0;34m=====\u001b[0m\u001b[0;32m>\u001b[0m-----------------------------------| 323 /2.4k ( 13.46%) ETA 05m25s"
       ]
      },
      {
       "output_type": "stream",
       "stream": "stdout",
       "text": [
        "\r",
        "|\u001b[0;34m=====\u001b[0m\u001b[0;32m>\u001b[0m-----------------------------------| 324 /2.4k ( 13.50%) ETA 05m25s"
       ]
      },
      {
       "output_type": "stream",
       "stream": "stdout",
       "text": [
        "\r",
        "|\u001b[0;34m=====\u001b[0m\u001b[0;32m>\u001b[0m-----------------------------------| 325 /2.4k ( 13.54%) ETA 05m24s"
       ]
      },
      {
       "output_type": "stream",
       "stream": "stdout",
       "text": [
        "\r",
        "|\u001b[0;34m=====\u001b[0m\u001b[0;32m>\u001b[0m-----------------------------------| 326 /2.4k ( 13.58%) ETA 05m24s"
       ]
      },
      {
       "output_type": "stream",
       "stream": "stdout",
       "text": [
        "\r",
        "|\u001b[0;34m=====\u001b[0m\u001b[0;32m>\u001b[0m-----------------------------------| 327 /2.4k ( 13.63%) ETA 05m24s"
       ]
      },
      {
       "output_type": "stream",
       "stream": "stdout",
       "text": [
        "\r",
        "|\u001b[0;34m=====\u001b[0m\u001b[0;32m>\u001b[0m-----------------------------------| 328 /2.4k ( 13.67%) ETA 05m24s"
       ]
      },
      {
       "output_type": "stream",
       "stream": "stdout",
       "text": [
        "\r",
        "|\u001b[0;34m=====\u001b[0m\u001b[0;32m>\u001b[0m-----------------------------------| 329 /2.4k ( 13.71%) ETA 05m24s"
       ]
      },
      {
       "output_type": "stream",
       "stream": "stdout",
       "text": [
        "\r",
        "|\u001b[0;34m=====\u001b[0m\u001b[0;32m>\u001b[0m-----------------------------------| 330 /2.4k ( 13.75%) ETA 05m24s"
       ]
      },
      {
       "output_type": "stream",
       "stream": "stdout",
       "text": [
        "\r",
        "|\u001b[0;34m=====\u001b[0m\u001b[0;32m>\u001b[0m-----------------------------------| 331 /2.4k ( 13.79%) ETA 05m23s"
       ]
      },
      {
       "output_type": "stream",
       "stream": "stdout",
       "text": [
        "\r",
        "|\u001b[0;34m=====\u001b[0m\u001b[0;32m>\u001b[0m-----------------------------------| 332 /2.4k ( 13.83%) ETA 05m23s"
       ]
      },
      {
       "output_type": "stream",
       "stream": "stdout",
       "text": [
        "\r",
        "|\u001b[0;34m=====\u001b[0m\u001b[0;32m>\u001b[0m-----------------------------------| 333 /2.4k ( 13.88%) ETA 05m23s"
       ]
      },
      {
       "output_type": "stream",
       "stream": "stdout",
       "text": [
        "\r",
        "|\u001b[0;34m=====\u001b[0m\u001b[0;32m>\u001b[0m-----------------------------------| 334 /2.4k ( 13.92%) ETA 05m23s"
       ]
      },
      {
       "output_type": "stream",
       "stream": "stdout",
       "text": [
        "\r",
        "|\u001b[0;34m=====\u001b[0m\u001b[0;32m>\u001b[0m-----------------------------------| 335 /2.4k ( 13.96%) ETA 05m23s"
       ]
      },
      {
       "output_type": "stream",
       "stream": "stdout",
       "text": [
        "\r",
        "|\u001b[0;34m=====\u001b[0m\u001b[0;32m>\u001b[0m-----------------------------------| 336 /2.4k ( 14.00%) ETA 05m23s"
       ]
      },
      {
       "output_type": "stream",
       "stream": "stdout",
       "text": [
        "\r",
        "|\u001b[0;34m=====\u001b[0m\u001b[0;32m>\u001b[0m-----------------------------------| 337 /2.4k ( 14.04%) ETA 05m23s"
       ]
      },
      {
       "output_type": "stream",
       "stream": "stdout",
       "text": [
        "\r",
        "|\u001b[0;34m=====\u001b[0m\u001b[0;32m>\u001b[0m-----------------------------------| 338 /2.4k ( 14.08%) ETA 05m23s"
       ]
      },
      {
       "output_type": "stream",
       "stream": "stdout",
       "text": [
        "\r",
        "|\u001b[0;34m=====\u001b[0m\u001b[0;32m>\u001b[0m-----------------------------------| 339 /2.4k ( 14.12%) ETA 05m23s"
       ]
      },
      {
       "output_type": "stream",
       "stream": "stdout",
       "text": [
        "\r",
        "|\u001b[0;34m=====\u001b[0m\u001b[0;32m>\u001b[0m-----------------------------------| 340 /2.4k ( 14.17%) ETA 05m23s"
       ]
      },
      {
       "output_type": "stream",
       "stream": "stdout",
       "text": [
        "\r",
        "|\u001b[0;34m=====\u001b[0m\u001b[0;32m>\u001b[0m-----------------------------------| 341 /2.4k ( 14.21%) ETA 05m22s"
       ]
      },
      {
       "output_type": "stream",
       "stream": "stdout",
       "text": [
        "\r",
        "|\u001b[0;34m=====\u001b[0m\u001b[0;32m>\u001b[0m-----------------------------------| 342 /2.4k ( 14.25%) ETA 05m22s"
       ]
      },
      {
       "output_type": "stream",
       "stream": "stdout",
       "text": [
        "\r",
        "|\u001b[0;34m=====\u001b[0m\u001b[0;32m>\u001b[0m-----------------------------------| 343 /2.4k ( 14.29%) ETA 05m22s"
       ]
      },
      {
       "output_type": "stream",
       "stream": "stdout",
       "text": [
        "\r",
        "|\u001b[0;34m=====\u001b[0m\u001b[0;32m>\u001b[0m-----------------------------------| 344 /2.4k ( 14.33%) ETA 05m22s"
       ]
      },
      {
       "output_type": "stream",
       "stream": "stdout",
       "text": [
        "\r",
        "|\u001b[0;34m=====\u001b[0m\u001b[0;32m>\u001b[0m-----------------------------------| 345 /2.4k ( 14.37%) ETA 05m22s"
       ]
      },
      {
       "output_type": "stream",
       "stream": "stdout",
       "text": [
        "\r",
        "|\u001b[0;34m=====\u001b[0m\u001b[0;32m>\u001b[0m-----------------------------------| 346 /2.4k ( 14.42%) ETA 05m22s"
       ]
      },
      {
       "output_type": "stream",
       "stream": "stdout",
       "text": [
        "\r",
        "|\u001b[0;34m=====\u001b[0m\u001b[0;32m>\u001b[0m-----------------------------------| 347 /2.4k ( 14.46%) ETA 05m21s"
       ]
      },
      {
       "output_type": "stream",
       "stream": "stdout",
       "text": [
        "\r",
        "|\u001b[0;34m=====\u001b[0m\u001b[0;32m>\u001b[0m-----------------------------------| 348 /2.4k ( 14.50%) ETA 05m21s"
       ]
      },
      {
       "output_type": "stream",
       "stream": "stdout",
       "text": [
        "\r",
        "|\u001b[0;34m=====\u001b[0m\u001b[0;32m>\u001b[0m-----------------------------------| 349 /2.4k ( 14.54%) ETA 05m21s"
       ]
      },
      {
       "output_type": "stream",
       "stream": "stdout",
       "text": [
        "\r",
        "|\u001b[0;34m=====\u001b[0m\u001b[0;32m>\u001b[0m-----------------------------------| 350 /2.4k ( 14.58%) ETA 05m21s"
       ]
      },
      {
       "output_type": "stream",
       "stream": "stdout",
       "text": [
        "\r",
        "|\u001b[0;34m=====\u001b[0m\u001b[0;32m>\u001b[0m-----------------------------------| 351 /2.4k ( 14.62%) ETA 05m21s"
       ]
      },
      {
       "output_type": "stream",
       "stream": "stdout",
       "text": [
        "\r",
        "|\u001b[0;34m======\u001b[0m\u001b[0;32m>\u001b[0m----------------------------------| 352 /2.4k ( 14.67%) ETA 05m21s"
       ]
      },
      {
       "output_type": "stream",
       "stream": "stdout",
       "text": [
        "\r",
        "|\u001b[0;34m======\u001b[0m\u001b[0;32m>\u001b[0m----------------------------------| 353 /2.4k ( 14.71%) ETA 05m20s"
       ]
      },
      {
       "output_type": "stream",
       "stream": "stdout",
       "text": [
        "\r",
        "|\u001b[0;34m======\u001b[0m\u001b[0;32m>\u001b[0m----------------------------------| 354 /2.4k ( 14.75%) ETA 05m20s"
       ]
      },
      {
       "output_type": "stream",
       "stream": "stdout",
       "text": [
        "\r",
        "|\u001b[0;34m======\u001b[0m\u001b[0;32m>\u001b[0m----------------------------------| 355 /2.4k ( 14.79%) ETA 05m20s"
       ]
      },
      {
       "output_type": "stream",
       "stream": "stdout",
       "text": [
        "\r",
        "|\u001b[0;34m======\u001b[0m\u001b[0;32m>\u001b[0m----------------------------------| 356 /2.4k ( 14.83%) ETA 05m20s"
       ]
      },
      {
       "output_type": "stream",
       "stream": "stdout",
       "text": [
        "\r",
        "|\u001b[0;34m======\u001b[0m\u001b[0;32m>\u001b[0m----------------------------------| 357 /2.4k ( 14.88%) ETA 05m20s"
       ]
      },
      {
       "output_type": "stream",
       "stream": "stdout",
       "text": [
        "\r",
        "|\u001b[0;34m======\u001b[0m\u001b[0;32m>\u001b[0m----------------------------------| 358 /2.4k ( 14.92%) ETA 05m20s"
       ]
      },
      {
       "output_type": "stream",
       "stream": "stdout",
       "text": [
        "\r",
        "|\u001b[0;34m======\u001b[0m\u001b[0;32m>\u001b[0m----------------------------------| 359 /2.4k ( 14.96%) ETA 05m19s"
       ]
      },
      {
       "output_type": "stream",
       "stream": "stdout",
       "text": [
        "\r",
        "|\u001b[0;34m======\u001b[0m\u001b[0;32m>\u001b[0m----------------------------------| 360 /2.4k ( 15.00%) ETA 05m19s"
       ]
      },
      {
       "output_type": "stream",
       "stream": "stdout",
       "text": [
        "\r",
        "|\u001b[0;34m======\u001b[0m\u001b[0;32m>\u001b[0m----------------------------------| 361 /2.4k ( 15.04%) ETA 05m19s"
       ]
      },
      {
       "output_type": "stream",
       "stream": "stdout",
       "text": [
        "\r",
        "|\u001b[0;34m======\u001b[0m\u001b[0;32m>\u001b[0m----------------------------------| 362 /2.4k ( 15.08%) ETA 05m19s"
       ]
      },
      {
       "output_type": "stream",
       "stream": "stdout",
       "text": [
        "\r",
        "|\u001b[0;34m======\u001b[0m\u001b[0;32m>\u001b[0m----------------------------------| 363 /2.4k ( 15.12%) ETA 05m19s"
       ]
      },
      {
       "output_type": "stream",
       "stream": "stdout",
       "text": [
        "\r",
        "|\u001b[0;34m======\u001b[0m\u001b[0;32m>\u001b[0m----------------------------------| 364 /2.4k ( 15.17%) ETA 05m19s"
       ]
      },
      {
       "output_type": "stream",
       "stream": "stdout",
       "text": [
        "\r",
        "|\u001b[0;34m======\u001b[0m\u001b[0;32m>\u001b[0m----------------------------------| 365 /2.4k ( 15.21%) ETA 05m18s"
       ]
      },
      {
       "output_type": "stream",
       "stream": "stdout",
       "text": [
        "\r",
        "|\u001b[0;34m======\u001b[0m\u001b[0;32m>\u001b[0m----------------------------------| 366 /2.4k ( 15.25%) ETA 05m18s"
       ]
      },
      {
       "output_type": "stream",
       "stream": "stdout",
       "text": [
        "\r",
        "|\u001b[0;34m======\u001b[0m\u001b[0;32m>\u001b[0m----------------------------------| 367 /2.4k ( 15.29%) ETA 05m18s"
       ]
      },
      {
       "output_type": "stream",
       "stream": "stdout",
       "text": [
        "\r",
        "|\u001b[0;34m======\u001b[0m\u001b[0;32m>\u001b[0m----------------------------------| 368 /2.4k ( 15.33%) ETA 05m18s"
       ]
      },
      {
       "output_type": "stream",
       "stream": "stdout",
       "text": [
        "\r",
        "|\u001b[0;34m======\u001b[0m\u001b[0;32m>\u001b[0m----------------------------------| 369 /2.4k ( 15.38%) ETA 05m18s"
       ]
      },
      {
       "output_type": "stream",
       "stream": "stdout",
       "text": [
        "\r",
        "|\u001b[0;34m======\u001b[0m\u001b[0;32m>\u001b[0m----------------------------------| 370 /2.4k ( 15.42%) ETA 05m18s"
       ]
      },
      {
       "output_type": "stream",
       "stream": "stdout",
       "text": [
        "\r",
        "|\u001b[0;34m======\u001b[0m\u001b[0;32m>\u001b[0m----------------------------------| 371 /2.4k ( 15.46%) ETA 05m17s"
       ]
      },
      {
       "output_type": "stream",
       "stream": "stdout",
       "text": [
        "\r",
        "|\u001b[0;34m======\u001b[0m\u001b[0;32m>\u001b[0m----------------------------------| 372 /2.4k ( 15.50%) ETA 05m17s"
       ]
      },
      {
       "output_type": "stream",
       "stream": "stdout",
       "text": [
        "\r",
        "|\u001b[0;34m======\u001b[0m\u001b[0;32m>\u001b[0m----------------------------------| 373 /2.4k ( 15.54%) ETA 05m17s"
       ]
      },
      {
       "output_type": "stream",
       "stream": "stdout",
       "text": [
        "\r",
        "|\u001b[0;34m======\u001b[0m\u001b[0;32m>\u001b[0m----------------------------------| 374 /2.4k ( 15.58%) ETA 05m17s"
       ]
      },
      {
       "output_type": "stream",
       "stream": "stdout",
       "text": [
        "\r",
        "|\u001b[0;34m======\u001b[0m\u001b[0;32m>\u001b[0m----------------------------------| 375 /2.4k ( 15.62%) ETA 05m17s"
       ]
      },
      {
       "output_type": "stream",
       "stream": "stdout",
       "text": [
        "\r",
        "|\u001b[0;34m======\u001b[0m\u001b[0;32m>\u001b[0m----------------------------------| 376 /2.4k ( 15.67%) ETA 05m17s"
       ]
      },
      {
       "output_type": "stream",
       "stream": "stdout",
       "text": [
        "\r",
        "|\u001b[0;34m======\u001b[0m\u001b[0;32m>\u001b[0m----------------------------------| 377 /2.4k ( 15.71%) ETA 05m16s"
       ]
      },
      {
       "output_type": "stream",
       "stream": "stdout",
       "text": [
        "\r",
        "|\u001b[0;34m======\u001b[0m\u001b[0;32m>\u001b[0m----------------------------------| 378 /2.4k ( 15.75%) ETA 05m16s"
       ]
      },
      {
       "output_type": "stream",
       "stream": "stdout",
       "text": [
        "\r",
        "|\u001b[0;34m======\u001b[0m\u001b[0;32m>\u001b[0m----------------------------------| 379 /2.4k ( 15.79%) ETA 05m16s"
       ]
      },
      {
       "output_type": "stream",
       "stream": "stdout",
       "text": [
        "\r",
        "|\u001b[0;34m======\u001b[0m\u001b[0;32m>\u001b[0m----------------------------------| 380 /2.4k ( 15.83%) ETA 05m16s"
       ]
      },
      {
       "output_type": "stream",
       "stream": "stdout",
       "text": [
        "\r",
        "|\u001b[0;34m======\u001b[0m\u001b[0;32m>\u001b[0m----------------------------------| 381 /2.4k ( 15.88%) ETA 05m16s"
       ]
      },
      {
       "output_type": "stream",
       "stream": "stdout",
       "text": [
        "\r",
        "|\u001b[0;34m======\u001b[0m\u001b[0;32m>\u001b[0m----------------------------------| 382 /2.4k ( 15.92%) ETA 05m16s"
       ]
      },
      {
       "output_type": "stream",
       "stream": "stdout",
       "text": [
        "\r",
        "|\u001b[0;34m======\u001b[0m\u001b[0;32m>\u001b[0m----------------------------------| 383 /2.4k ( 15.96%) ETA 05m16s"
       ]
      },
      {
       "output_type": "stream",
       "stream": "stdout",
       "text": [
        "\r",
        "|\u001b[0;34m======\u001b[0m\u001b[0;32m>\u001b[0m----------------------------------| 384 /2.4k ( 16.00%) ETA 05m15s"
       ]
      },
      {
       "output_type": "stream",
       "stream": "stdout",
       "text": [
        "\r",
        "|\u001b[0;34m======\u001b[0m\u001b[0;32m>\u001b[0m----------------------------------| 385 /2.4k ( 16.04%) ETA 05m15s"
       ]
      },
      {
       "output_type": "stream",
       "stream": "stdout",
       "text": [
        "\r",
        "|\u001b[0;34m======\u001b[0m\u001b[0;32m>\u001b[0m----------------------------------| 386 /2.4k ( 16.08%) ETA 05m15s"
       ]
      },
      {
       "output_type": "stream",
       "stream": "stdout",
       "text": [
        "\r",
        "|\u001b[0;34m======\u001b[0m\u001b[0;32m>\u001b[0m----------------------------------| 387 /2.4k ( 16.12%) ETA 05m15s"
       ]
      },
      {
       "output_type": "stream",
       "stream": "stdout",
       "text": [
        "\r",
        "|\u001b[0;34m======\u001b[0m\u001b[0;32m>\u001b[0m----------------------------------| 388 /2.4k ( 16.17%) ETA 05m15s"
       ]
      },
      {
       "output_type": "stream",
       "stream": "stdout",
       "text": [
        "\r",
        "|\u001b[0;34m======\u001b[0m\u001b[0;32m>\u001b[0m----------------------------------| 389 /2.4k ( 16.21%) ETA 05m15s"
       ]
      },
      {
       "output_type": "stream",
       "stream": "stdout",
       "text": [
        "\r",
        "|\u001b[0;34m======\u001b[0m\u001b[0;32m>\u001b[0m----------------------------------| 390 /2.4k ( 16.25%) ETA 05m14s"
       ]
      },
      {
       "output_type": "stream",
       "stream": "stdout",
       "text": [
        "\r",
        "|\u001b[0;34m======\u001b[0m\u001b[0;32m>\u001b[0m----------------------------------| 391 /2.4k ( 16.29%) ETA 05m14s"
       ]
      },
      {
       "output_type": "stream",
       "stream": "stdout",
       "text": [
        "\r",
        "|\u001b[0;34m======\u001b[0m\u001b[0;32m>\u001b[0m----------------------------------| 392 /2.4k ( 16.33%) ETA 05m14s"
       ]
      },
      {
       "output_type": "stream",
       "stream": "stdout",
       "text": [
        "\r",
        "|\u001b[0;34m======\u001b[0m\u001b[0;32m>\u001b[0m----------------------------------| 393 /2.4k ( 16.38%) ETA 05m14s"
       ]
      },
      {
       "output_type": "stream",
       "stream": "stdout",
       "text": [
        "\r",
        "|\u001b[0;34m======\u001b[0m\u001b[0;32m>\u001b[0m----------------------------------| 394 /2.4k ( 16.42%) ETA 05m14s"
       ]
      },
      {
       "output_type": "stream",
       "stream": "stdout",
       "text": [
        "\r",
        "|\u001b[0;34m======\u001b[0m\u001b[0;32m>\u001b[0m----------------------------------| 395 /2.4k ( 16.46%) ETA 05m14s"
       ]
      },
      {
       "output_type": "stream",
       "stream": "stdout",
       "text": [
        "\r",
        "|\u001b[0;34m======\u001b[0m\u001b[0;32m>\u001b[0m----------------------------------| 396 /2.4k ( 16.50%) ETA 05m13s"
       ]
      },
      {
       "output_type": "stream",
       "stream": "stdout",
       "text": [
        "\r",
        "|\u001b[0;34m======\u001b[0m\u001b[0;32m>\u001b[0m----------------------------------| 397 /2.4k ( 16.54%) ETA 05m13s"
       ]
      },
      {
       "output_type": "stream",
       "stream": "stdout",
       "text": [
        "\r",
        "|\u001b[0;34m======\u001b[0m\u001b[0;32m>\u001b[0m----------------------------------| 398 /2.4k ( 16.58%) ETA 05m13s"
       ]
      },
      {
       "output_type": "stream",
       "stream": "stdout",
       "text": [
        "\r",
        "|\u001b[0;34m======\u001b[0m\u001b[0;32m>\u001b[0m----------------------------------| 399 /2.4k ( 16.62%) ETA 05m13s"
       ]
      },
      {
       "output_type": "stream",
       "stream": "stdout",
       "text": [
        "\r",
        "|\u001b[0;34m======\u001b[0m\u001b[0;32m>\u001b[0m----------------------------------| 400 /2.4k ( 16.67%) ETA 05m13s"
       ]
      },
      {
       "output_type": "stream",
       "stream": "stdout",
       "text": [
        "\r",
        "|\u001b[0;34m======\u001b[0m\u001b[0;32m>\u001b[0m----------------------------------| 401 /2.4k ( 16.71%) ETA 05m13s"
       ]
      },
      {
       "output_type": "stream",
       "stream": "stdout",
       "text": [
        "\r",
        "|\u001b[0;34m======\u001b[0m\u001b[0;32m>\u001b[0m----------------------------------| 402 /2.4k ( 16.75%) ETA 05m13s"
       ]
      },
      {
       "output_type": "stream",
       "stream": "stdout",
       "text": [
        "\r",
        "|\u001b[0;34m======\u001b[0m\u001b[0;32m>\u001b[0m----------------------------------| 403 /2.4k ( 16.79%) ETA 05m12s"
       ]
      },
      {
       "output_type": "stream",
       "stream": "stdout",
       "text": [
        "\r",
        "|\u001b[0;34m======\u001b[0m\u001b[0;32m>\u001b[0m----------------------------------| 404 /2.4k ( 16.83%) ETA 05m12s"
       ]
      },
      {
       "output_type": "stream",
       "stream": "stdout",
       "text": [
        "\r",
        "|\u001b[0;34m======\u001b[0m\u001b[0;32m>\u001b[0m----------------------------------| 405 /2.4k ( 16.88%) ETA 05m12s"
       ]
      },
      {
       "output_type": "stream",
       "stream": "stdout",
       "text": [
        "\r",
        "|\u001b[0;34m======\u001b[0m\u001b[0;32m>\u001b[0m----------------------------------| 406 /2.4k ( 16.92%) ETA 05m12s"
       ]
      },
      {
       "output_type": "stream",
       "stream": "stdout",
       "text": [
        "\r",
        "|\u001b[0;34m======\u001b[0m\u001b[0;32m>\u001b[0m----------------------------------| 407 /2.4k ( 16.96%) ETA 05m12s"
       ]
      },
      {
       "output_type": "stream",
       "stream": "stdout",
       "text": [
        "\r",
        "|\u001b[0;34m======\u001b[0m\u001b[0;32m>\u001b[0m----------------------------------| 408 /2.4k ( 17.00%) ETA 05m12s"
       ]
      },
      {
       "output_type": "stream",
       "stream": "stdout",
       "text": [
        "\r",
        "|\u001b[0;34m======\u001b[0m\u001b[0;32m>\u001b[0m----------------------------------| 409 /2.4k ( 17.04%) ETA 05m11s"
       ]
      },
      {
       "output_type": "stream",
       "stream": "stdout",
       "text": [
        "\r",
        "|\u001b[0;34m=======\u001b[0m\u001b[0;32m>\u001b[0m---------------------------------| 410 /2.4k ( 17.08%) ETA 05m11s"
       ]
      },
      {
       "output_type": "stream",
       "stream": "stdout",
       "text": [
        "\r",
        "|\u001b[0;34m=======\u001b[0m\u001b[0;32m>\u001b[0m---------------------------------| 411 /2.4k ( 17.12%) ETA 05m11s"
       ]
      },
      {
       "output_type": "stream",
       "stream": "stdout",
       "text": [
        "\r",
        "|\u001b[0;34m=======\u001b[0m\u001b[0;32m>\u001b[0m---------------------------------| 412 /2.4k ( 17.17%) ETA 05m11s"
       ]
      },
      {
       "output_type": "stream",
       "stream": "stdout",
       "text": [
        "\r",
        "|\u001b[0;34m=======\u001b[0m\u001b[0;32m>\u001b[0m---------------------------------| 413 /2.4k ( 17.21%) ETA 05m11s"
       ]
      },
      {
       "output_type": "stream",
       "stream": "stdout",
       "text": [
        "\r",
        "|\u001b[0;34m=======\u001b[0m\u001b[0;32m>\u001b[0m---------------------------------| 414 /2.4k ( 17.25%) ETA 05m11s"
       ]
      },
      {
       "output_type": "stream",
       "stream": "stdout",
       "text": [
        "\r",
        "|\u001b[0;34m=======\u001b[0m\u001b[0;32m>\u001b[0m---------------------------------| 415 /2.4k ( 17.29%) ETA 05m10s"
       ]
      },
      {
       "output_type": "stream",
       "stream": "stdout",
       "text": [
        "\r",
        "|\u001b[0;34m=======\u001b[0m\u001b[0;32m>\u001b[0m---------------------------------| 416 /2.4k ( 17.33%) ETA 05m10s"
       ]
      },
      {
       "output_type": "stream",
       "stream": "stdout",
       "text": [
        "\r",
        "|\u001b[0;34m=======\u001b[0m\u001b[0;32m>\u001b[0m---------------------------------| 417 /2.4k ( 17.38%) ETA 05m10s"
       ]
      },
      {
       "output_type": "stream",
       "stream": "stdout",
       "text": [
        "\r",
        "|\u001b[0;34m=======\u001b[0m\u001b[0;32m>\u001b[0m---------------------------------| 418 /2.4k ( 17.42%) ETA 05m10s"
       ]
      },
      {
       "output_type": "stream",
       "stream": "stdout",
       "text": [
        "\r",
        "|\u001b[0;34m=======\u001b[0m\u001b[0;32m>\u001b[0m---------------------------------| 419 /2.4k ( 17.46%) ETA 05m10s"
       ]
      },
      {
       "output_type": "stream",
       "stream": "stdout",
       "text": [
        "\r",
        "|\u001b[0;34m=======\u001b[0m\u001b[0;32m>\u001b[0m---------------------------------| 420 /2.4k ( 17.50%) ETA 05m10s"
       ]
      },
      {
       "output_type": "stream",
       "stream": "stdout",
       "text": [
        "\r",
        "|\u001b[0;34m=======\u001b[0m\u001b[0;32m>\u001b[0m---------------------------------| 421 /2.4k ( 17.54%) ETA 05m10s"
       ]
      },
      {
       "output_type": "stream",
       "stream": "stdout",
       "text": [
        "\r",
        "|\u001b[0;34m=======\u001b[0m\u001b[0;32m>\u001b[0m---------------------------------| 422 /2.4k ( 17.58%) ETA 05m10s"
       ]
      },
      {
       "output_type": "stream",
       "stream": "stdout",
       "text": [
        "\r",
        "|\u001b[0;34m=======\u001b[0m\u001b[0;32m>\u001b[0m---------------------------------| 423 /2.4k ( 17.62%) ETA 05m10s"
       ]
      },
      {
       "output_type": "stream",
       "stream": "stdout",
       "text": [
        "\r",
        "|\u001b[0;34m=======\u001b[0m\u001b[0;32m>\u001b[0m---------------------------------| 424 /2.4k ( 17.67%) ETA 05m10s"
       ]
      },
      {
       "output_type": "stream",
       "stream": "stdout",
       "text": [
        "\r",
        "|\u001b[0;34m=======\u001b[0m\u001b[0;32m>\u001b[0m---------------------------------| 425 /2.4k ( 17.71%) ETA 05m09s"
       ]
      },
      {
       "output_type": "stream",
       "stream": "stdout",
       "text": [
        "\r",
        "|\u001b[0;34m=======\u001b[0m\u001b[0;32m>\u001b[0m---------------------------------| 426 /2.4k ( 17.75%) ETA 05m09s"
       ]
      },
      {
       "output_type": "stream",
       "stream": "stdout",
       "text": [
        "\r",
        "|\u001b[0;34m=======\u001b[0m\u001b[0;32m>\u001b[0m---------------------------------| 427 /2.4k ( 17.79%) ETA 05m09s"
       ]
      },
      {
       "output_type": "stream",
       "stream": "stdout",
       "text": [
        "\r",
        "|\u001b[0;34m=======\u001b[0m\u001b[0;32m>\u001b[0m---------------------------------| 428 /2.4k ( 17.83%) ETA 05m09s"
       ]
      },
      {
       "output_type": "stream",
       "stream": "stdout",
       "text": [
        "\r",
        "|\u001b[0;34m=======\u001b[0m\u001b[0;32m>\u001b[0m---------------------------------| 429 /2.4k ( 17.88%) ETA 05m09s"
       ]
      },
      {
       "output_type": "stream",
       "stream": "stdout",
       "text": [
        "\r",
        "|\u001b[0;34m=======\u001b[0m\u001b[0;32m>\u001b[0m---------------------------------| 430 /2.4k ( 17.92%) ETA 05m09s"
       ]
      },
      {
       "output_type": "stream",
       "stream": "stdout",
       "text": [
        "\r",
        "|\u001b[0;34m=======\u001b[0m\u001b[0;32m>\u001b[0m---------------------------------| 431 /2.4k ( 17.96%) ETA 05m08s"
       ]
      },
      {
       "output_type": "stream",
       "stream": "stdout",
       "text": [
        "\r",
        "|\u001b[0;34m=======\u001b[0m\u001b[0;32m>\u001b[0m---------------------------------| 432 /2.4k ( 18.00%) ETA 05m08s"
       ]
      },
      {
       "output_type": "stream",
       "stream": "stdout",
       "text": [
        "\r",
        "|\u001b[0;34m=======\u001b[0m\u001b[0;32m>\u001b[0m---------------------------------| 433 /2.4k ( 18.04%) ETA 05m08s"
       ]
      },
      {
       "output_type": "stream",
       "stream": "stdout",
       "text": [
        "\r",
        "|\u001b[0;34m=======\u001b[0m\u001b[0;32m>\u001b[0m---------------------------------| 434 /2.4k ( 18.08%) ETA 05m08s"
       ]
      },
      {
       "output_type": "stream",
       "stream": "stdout",
       "text": [
        "\r",
        "|\u001b[0;34m=======\u001b[0m\u001b[0;32m>\u001b[0m---------------------------------| 435 /2.4k ( 18.12%) ETA 05m08s"
       ]
      },
      {
       "output_type": "stream",
       "stream": "stdout",
       "text": [
        "\r",
        "|\u001b[0;34m=======\u001b[0m\u001b[0;32m>\u001b[0m---------------------------------| 436 /2.4k ( 18.17%) ETA 05m08s"
       ]
      },
      {
       "output_type": "stream",
       "stream": "stdout",
       "text": [
        "\r",
        "|\u001b[0;34m=======\u001b[0m\u001b[0;32m>\u001b[0m---------------------------------| 437 /2.4k ( 18.21%) ETA 05m07s"
       ]
      },
      {
       "output_type": "stream",
       "stream": "stdout",
       "text": [
        "\r",
        "|\u001b[0;34m=======\u001b[0m\u001b[0;32m>\u001b[0m---------------------------------| 438 /2.4k ( 18.25%) ETA 05m07s"
       ]
      },
      {
       "output_type": "stream",
       "stream": "stdout",
       "text": [
        "\r",
        "|\u001b[0;34m=======\u001b[0m\u001b[0;32m>\u001b[0m---------------------------------| 439 /2.4k ( 18.29%) ETA 05m07s"
       ]
      },
      {
       "output_type": "stream",
       "stream": "stdout",
       "text": [
        "\r",
        "|\u001b[0;34m=======\u001b[0m\u001b[0;32m>\u001b[0m---------------------------------| 440 /2.4k ( 18.33%) ETA 05m07s"
       ]
      },
      {
       "output_type": "stream",
       "stream": "stdout",
       "text": [
        "\r",
        "|\u001b[0;34m=======\u001b[0m\u001b[0;32m>\u001b[0m---------------------------------| 441 /2.4k ( 18.38%) ETA 05m07s"
       ]
      },
      {
       "output_type": "stream",
       "stream": "stdout",
       "text": [
        "\r",
        "|\u001b[0;34m=======\u001b[0m\u001b[0;32m>\u001b[0m---------------------------------| 442 /2.4k ( 18.42%) ETA 05m07s"
       ]
      },
      {
       "output_type": "stream",
       "stream": "stdout",
       "text": [
        "\r",
        "|\u001b[0;34m=======\u001b[0m\u001b[0;32m>\u001b[0m---------------------------------| 443 /2.4k ( 18.46%) ETA 05m07s"
       ]
      },
      {
       "output_type": "stream",
       "stream": "stdout",
       "text": [
        "\r",
        "|\u001b[0;34m=======\u001b[0m\u001b[0;32m>\u001b[0m---------------------------------| 444 /2.4k ( 18.50%) ETA 05m06s"
       ]
      },
      {
       "output_type": "stream",
       "stream": "stdout",
       "text": [
        "\r",
        "|\u001b[0;34m=======\u001b[0m\u001b[0;32m>\u001b[0m---------------------------------| 445 /2.4k ( 18.54%) ETA 05m06s"
       ]
      },
      {
       "output_type": "stream",
       "stream": "stdout",
       "text": [
        "\r",
        "|\u001b[0;34m=======\u001b[0m\u001b[0;32m>\u001b[0m---------------------------------| 446 /2.4k ( 18.58%) ETA 05m06s"
       ]
      },
      {
       "output_type": "stream",
       "stream": "stdout",
       "text": [
        "\r",
        "|\u001b[0;34m=======\u001b[0m\u001b[0;32m>\u001b[0m---------------------------------| 447 /2.4k ( 18.62%) ETA 05m06s"
       ]
      },
      {
       "output_type": "stream",
       "stream": "stdout",
       "text": [
        "\r",
        "|\u001b[0;34m=======\u001b[0m\u001b[0;32m>\u001b[0m---------------------------------| 448 /2.4k ( 18.67%) ETA 05m06s"
       ]
      },
      {
       "output_type": "stream",
       "stream": "stdout",
       "text": [
        "\r",
        "|\u001b[0;34m=======\u001b[0m\u001b[0;32m>\u001b[0m---------------------------------| 449 /2.4k ( 18.71%) ETA 05m06s"
       ]
      },
      {
       "output_type": "stream",
       "stream": "stdout",
       "text": [
        "\r",
        "|\u001b[0;34m=======\u001b[0m\u001b[0;32m>\u001b[0m---------------------------------| 450 /2.4k ( 18.75%) ETA 05m06s"
       ]
      },
      {
       "output_type": "stream",
       "stream": "stdout",
       "text": [
        "\r",
        "|\u001b[0;34m=======\u001b[0m\u001b[0;32m>\u001b[0m---------------------------------| 451 /2.4k ( 18.79%) ETA 05m05s"
       ]
      },
      {
       "output_type": "stream",
       "stream": "stdout",
       "text": [
        "\r",
        "|\u001b[0;34m=======\u001b[0m\u001b[0;32m>\u001b[0m---------------------------------| 452 /2.4k ( 18.83%) ETA 05m05s"
       ]
      },
      {
       "output_type": "stream",
       "stream": "stdout",
       "text": [
        "\r",
        "|\u001b[0;34m=======\u001b[0m\u001b[0;32m>\u001b[0m---------------------------------| 453 /2.4k ( 18.88%) ETA 05m05s"
       ]
      },
      {
       "output_type": "stream",
       "stream": "stdout",
       "text": [
        "\r",
        "|\u001b[0;34m=======\u001b[0m\u001b[0;32m>\u001b[0m---------------------------------| 454 /2.4k ( 18.92%) ETA 05m05s"
       ]
      },
      {
       "output_type": "stream",
       "stream": "stdout",
       "text": [
        "\r",
        "|\u001b[0;34m=======\u001b[0m\u001b[0;32m>\u001b[0m---------------------------------| 455 /2.4k ( 18.96%) ETA 05m05s"
       ]
      },
      {
       "output_type": "stream",
       "stream": "stdout",
       "text": [
        "\r",
        "|\u001b[0;34m=======\u001b[0m\u001b[0;32m>\u001b[0m---------------------------------| 456 /2.4k ( 19.00%) ETA 05m04s"
       ]
      },
      {
       "output_type": "stream",
       "stream": "stdout",
       "text": [
        "\r",
        "|\u001b[0;34m=======\u001b[0m\u001b[0;32m>\u001b[0m---------------------------------| 457 /2.4k ( 19.04%) ETA 05m04s"
       ]
      },
      {
       "output_type": "stream",
       "stream": "stdout",
       "text": [
        "\r",
        "|\u001b[0;34m=======\u001b[0m\u001b[0;32m>\u001b[0m---------------------------------| 458 /2.4k ( 19.08%) ETA 05m04s"
       ]
      },
      {
       "output_type": "stream",
       "stream": "stdout",
       "text": [
        "\r",
        "|\u001b[0;34m=======\u001b[0m\u001b[0;32m>\u001b[0m---------------------------------| 459 /2.4k ( 19.12%) ETA 05m04s"
       ]
      },
      {
       "output_type": "stream",
       "stream": "stdout",
       "text": [
        "\r",
        "|\u001b[0;34m=======\u001b[0m\u001b[0;32m>\u001b[0m---------------------------------| 460 /2.4k ( 19.17%) ETA 05m04s"
       ]
      },
      {
       "output_type": "stream",
       "stream": "stdout",
       "text": [
        "\r",
        "|\u001b[0;34m=======\u001b[0m\u001b[0;32m>\u001b[0m---------------------------------| 461 /2.4k ( 19.21%) ETA 05m04s"
       ]
      },
      {
       "output_type": "stream",
       "stream": "stdout",
       "text": [
        "\r",
        "|\u001b[0;34m=======\u001b[0m\u001b[0;32m>\u001b[0m---------------------------------| 462 /2.4k ( 19.25%) ETA 05m04s"
       ]
      },
      {
       "output_type": "stream",
       "stream": "stdout",
       "text": [
        "\r",
        "|\u001b[0;34m=======\u001b[0m\u001b[0;32m>\u001b[0m---------------------------------| 463 /2.4k ( 19.29%) ETA 05m04s"
       ]
      },
      {
       "output_type": "stream",
       "stream": "stdout",
       "text": [
        "\r",
        "|\u001b[0;34m=======\u001b[0m\u001b[0;32m>\u001b[0m---------------------------------| 464 /2.4k ( 19.33%) ETA 05m03s"
       ]
      },
      {
       "output_type": "stream",
       "stream": "stdout",
       "text": [
        "\r",
        "|\u001b[0;34m=======\u001b[0m\u001b[0;32m>\u001b[0m---------------------------------| 465 /2.4k ( 19.38%) ETA 05m03s"
       ]
      },
      {
       "output_type": "stream",
       "stream": "stdout",
       "text": [
        "\r",
        "|\u001b[0;34m=======\u001b[0m\u001b[0;32m>\u001b[0m---------------------------------| 466 /2.4k ( 19.42%) ETA 05m03s"
       ]
      },
      {
       "output_type": "stream",
       "stream": "stdout",
       "text": [
        "\r",
        "|\u001b[0;34m=======\u001b[0m\u001b[0;32m>\u001b[0m---------------------------------| 467 /2.4k ( 19.46%) ETA 05m03s"
       ]
      },
      {
       "output_type": "stream",
       "stream": "stdout",
       "text": [
        "\r",
        "|\u001b[0;34m=======\u001b[0m\u001b[0;32m>\u001b[0m---------------------------------| 468 /2.4k ( 19.50%) ETA 05m03s"
       ]
      },
      {
       "output_type": "stream",
       "stream": "stdout",
       "text": [
        "\r",
        "|\u001b[0;34m========\u001b[0m\u001b[0;32m>\u001b[0m--------------------------------| 469 /2.4k ( 19.54%) ETA 05m03s"
       ]
      },
      {
       "output_type": "stream",
       "stream": "stdout",
       "text": [
        "\r",
        "|\u001b[0;34m========\u001b[0m\u001b[0;32m>\u001b[0m--------------------------------| 470 /2.4k ( 19.58%) ETA 05m02s"
       ]
      },
      {
       "output_type": "stream",
       "stream": "stdout",
       "text": [
        "\r",
        "|\u001b[0;34m========\u001b[0m\u001b[0;32m>\u001b[0m--------------------------------| 471 /2.4k ( 19.62%) ETA 05m02s"
       ]
      },
      {
       "output_type": "stream",
       "stream": "stdout",
       "text": [
        "\r",
        "|\u001b[0;34m========\u001b[0m\u001b[0;32m>\u001b[0m--------------------------------| 472 /2.4k ( 19.67%) ETA 05m02s"
       ]
      },
      {
       "output_type": "stream",
       "stream": "stdout",
       "text": [
        "\r",
        "|\u001b[0;34m========\u001b[0m\u001b[0;32m>\u001b[0m--------------------------------| 473 /2.4k ( 19.71%) ETA 05m02s"
       ]
      },
      {
       "output_type": "stream",
       "stream": "stdout",
       "text": [
        "\r",
        "|\u001b[0;34m========\u001b[0m\u001b[0;32m>\u001b[0m--------------------------------| 474 /2.4k ( 19.75%) ETA 05m02s"
       ]
      },
      {
       "output_type": "stream",
       "stream": "stdout",
       "text": [
        "\r",
        "|\u001b[0;34m========\u001b[0m\u001b[0;32m>\u001b[0m--------------------------------| 475 /2.4k ( 19.79%) ETA 05m02s"
       ]
      },
      {
       "output_type": "stream",
       "stream": "stdout",
       "text": [
        "\r",
        "|\u001b[0;34m========\u001b[0m\u001b[0;32m>\u001b[0m--------------------------------| 476 /2.4k ( 19.83%) ETA 05m02s"
       ]
      },
      {
       "output_type": "stream",
       "stream": "stdout",
       "text": [
        "\r",
        "|\u001b[0;34m========\u001b[0m\u001b[0;32m>\u001b[0m--------------------------------| 477 /2.4k ( 19.88%) ETA 05m01s"
       ]
      },
      {
       "output_type": "stream",
       "stream": "stdout",
       "text": [
        "\r",
        "|\u001b[0;34m========\u001b[0m\u001b[0;32m>\u001b[0m--------------------------------| 478 /2.4k ( 19.92%) ETA 05m01s"
       ]
      },
      {
       "output_type": "stream",
       "stream": "stdout",
       "text": [
        "\r",
        "|\u001b[0;34m========\u001b[0m\u001b[0;32m>\u001b[0m--------------------------------| 479 /2.4k ( 19.96%) ETA 05m01s"
       ]
      },
      {
       "output_type": "stream",
       "stream": "stdout",
       "text": [
        "\r",
        "|\u001b[0;34m========\u001b[0m\u001b[0;32m>\u001b[0m--------------------------------| 480 /2.4k ( 20.00%) ETA 05m01s"
       ]
      },
      {
       "output_type": "stream",
       "stream": "stdout",
       "text": [
        "\r",
        "|\u001b[0;34m========\u001b[0m\u001b[0;32m>\u001b[0m--------------------------------| 481 /2.4k ( 20.04%) ETA 05m01s"
       ]
      },
      {
       "output_type": "stream",
       "stream": "stdout",
       "text": [
        "\r",
        "|\u001b[0;34m========\u001b[0m\u001b[0;32m>\u001b[0m--------------------------------| 482 /2.4k ( 20.08%) ETA 05m01s"
       ]
      },
      {
       "output_type": "stream",
       "stream": "stdout",
       "text": [
        "\r",
        "|\u001b[0;34m========\u001b[0m\u001b[0;32m>\u001b[0m--------------------------------| 483 /2.4k ( 20.12%) ETA 05m00s"
       ]
      },
      {
       "output_type": "stream",
       "stream": "stdout",
       "text": [
        "\r",
        "|\u001b[0;34m========\u001b[0m\u001b[0;32m>\u001b[0m--------------------------------| 484 /2.4k ( 20.17%) ETA 05m00s"
       ]
      },
      {
       "output_type": "stream",
       "stream": "stdout",
       "text": [
        "\r",
        "|\u001b[0;34m========\u001b[0m\u001b[0;32m>\u001b[0m--------------------------------| 485 /2.4k ( 20.21%) ETA 05m00s"
       ]
      },
      {
       "output_type": "stream",
       "stream": "stdout",
       "text": [
        "\r",
        "|\u001b[0;34m========\u001b[0m\u001b[0;32m>\u001b[0m--------------------------------| 486 /2.4k ( 20.25%) ETA 05m00s"
       ]
      },
      {
       "output_type": "stream",
       "stream": "stdout",
       "text": [
        "\r",
        "|\u001b[0;34m========\u001b[0m\u001b[0;32m>\u001b[0m--------------------------------| 487 /2.4k ( 20.29%) ETA 05m00s"
       ]
      },
      {
       "output_type": "stream",
       "stream": "stdout",
       "text": [
        "\r",
        "|\u001b[0;34m========\u001b[0m\u001b[0;32m>\u001b[0m--------------------------------| 488 /2.4k ( 20.33%) ETA 05m00s"
       ]
      },
      {
       "output_type": "stream",
       "stream": "stdout",
       "text": [
        "\r",
        "|\u001b[0;34m========\u001b[0m\u001b[0;32m>\u001b[0m--------------------------------| 489 /2.4k ( 20.38%) ETA 04m59s"
       ]
      },
      {
       "output_type": "stream",
       "stream": "stdout",
       "text": [
        "\r",
        "|\u001b[0;34m========\u001b[0m\u001b[0;32m>\u001b[0m--------------------------------| 490 /2.4k ( 20.42%) ETA 04m59s"
       ]
      },
      {
       "output_type": "stream",
       "stream": "stdout",
       "text": [
        "\r",
        "|\u001b[0;34m========\u001b[0m\u001b[0;32m>\u001b[0m--------------------------------| 491 /2.4k ( 20.46%) ETA 04m59s"
       ]
      },
      {
       "output_type": "stream",
       "stream": "stdout",
       "text": [
        "\r",
        "|\u001b[0;34m========\u001b[0m\u001b[0;32m>\u001b[0m--------------------------------| 492 /2.4k ( 20.50%) ETA 04m59s"
       ]
      },
      {
       "output_type": "stream",
       "stream": "stdout",
       "text": [
        "\r",
        "|\u001b[0;34m========\u001b[0m\u001b[0;32m>\u001b[0m--------------------------------| 493 /2.4k ( 20.54%) ETA 04m59s"
       ]
      },
      {
       "output_type": "stream",
       "stream": "stdout",
       "text": [
        "\r",
        "|\u001b[0;34m========\u001b[0m\u001b[0;32m>\u001b[0m--------------------------------| 494 /2.4k ( 20.58%) ETA 04m58s"
       ]
      },
      {
       "output_type": "stream",
       "stream": "stdout",
       "text": [
        "\r",
        "|\u001b[0;34m========\u001b[0m\u001b[0;32m>\u001b[0m--------------------------------| 495 /2.4k ( 20.62%) ETA 04m58s"
       ]
      },
      {
       "output_type": "stream",
       "stream": "stdout",
       "text": [
        "\r",
        "|\u001b[0;34m========\u001b[0m\u001b[0;32m>\u001b[0m--------------------------------| 496 /2.4k ( 20.67%) ETA 04m58s"
       ]
      },
      {
       "output_type": "stream",
       "stream": "stdout",
       "text": [
        "\r",
        "|\u001b[0;34m========\u001b[0m\u001b[0;32m>\u001b[0m--------------------------------| 497 /2.4k ( 20.71%) ETA 04m58s"
       ]
      },
      {
       "output_type": "stream",
       "stream": "stdout",
       "text": [
        "\r",
        "|\u001b[0;34m========\u001b[0m\u001b[0;32m>\u001b[0m--------------------------------| 498 /2.4k ( 20.75%) ETA 04m58s"
       ]
      },
      {
       "output_type": "stream",
       "stream": "stdout",
       "text": [
        "\r",
        "|\u001b[0;34m========\u001b[0m\u001b[0;32m>\u001b[0m--------------------------------| 499 /2.4k ( 20.79%) ETA 04m58s"
       ]
      },
      {
       "output_type": "stream",
       "stream": "stdout",
       "text": [
        "\r",
        "|\u001b[0;34m========\u001b[0m\u001b[0;32m>\u001b[0m--------------------------------| 500 /2.4k ( 20.83%) ETA 04m58s"
       ]
      },
      {
       "output_type": "stream",
       "stream": "stdout",
       "text": [
        "\r",
        "|\u001b[0;34m========\u001b[0m\u001b[0;32m>\u001b[0m--------------------------------| 501 /2.4k ( 20.88%) ETA 04m57s"
       ]
      },
      {
       "output_type": "stream",
       "stream": "stdout",
       "text": [
        "\r",
        "|\u001b[0;34m========\u001b[0m\u001b[0;32m>\u001b[0m--------------------------------| 502 /2.4k ( 20.92%) ETA 04m57s"
       ]
      },
      {
       "output_type": "stream",
       "stream": "stdout",
       "text": [
        "\r",
        "|\u001b[0;34m========\u001b[0m\u001b[0;32m>\u001b[0m--------------------------------| 503 /2.4k ( 20.96%) ETA 04m57s"
       ]
      },
      {
       "output_type": "stream",
       "stream": "stdout",
       "text": [
        "\r",
        "|\u001b[0;34m========\u001b[0m\u001b[0;32m>\u001b[0m--------------------------------| 504 /2.4k ( 21.00%) ETA 04m57s"
       ]
      },
      {
       "output_type": "stream",
       "stream": "stdout",
       "text": [
        "\r",
        "|\u001b[0;34m========\u001b[0m\u001b[0;32m>\u001b[0m--------------------------------| 505 /2.4k ( 21.04%) ETA 04m57s"
       ]
      },
      {
       "output_type": "stream",
       "stream": "stdout",
       "text": [
        "\r",
        "|\u001b[0;34m========\u001b[0m\u001b[0;32m>\u001b[0m--------------------------------| 506 /2.4k ( 21.08%) ETA 04m57s"
       ]
      },
      {
       "output_type": "stream",
       "stream": "stdout",
       "text": [
        "\r",
        "|\u001b[0;34m========\u001b[0m\u001b[0;32m>\u001b[0m--------------------------------| 507 /2.4k ( 21.12%) ETA 04m57s"
       ]
      },
      {
       "output_type": "stream",
       "stream": "stdout",
       "text": [
        "\r",
        "|\u001b[0;34m========\u001b[0m\u001b[0;32m>\u001b[0m--------------------------------| 508 /2.4k ( 21.17%) ETA 04m57s"
       ]
      },
      {
       "output_type": "stream",
       "stream": "stdout",
       "text": [
        "\r",
        "|\u001b[0;34m========\u001b[0m\u001b[0;32m>\u001b[0m--------------------------------| 509 /2.4k ( 21.21%) ETA 04m57s"
       ]
      },
      {
       "output_type": "stream",
       "stream": "stdout",
       "text": [
        "\r",
        "|\u001b[0;34m========\u001b[0m\u001b[0;32m>\u001b[0m--------------------------------| 510 /2.4k ( 21.25%) ETA 04m56s"
       ]
      },
      {
       "output_type": "stream",
       "stream": "stdout",
       "text": [
        "\r",
        "|\u001b[0;34m========\u001b[0m\u001b[0;32m>\u001b[0m--------------------------------| 511 /2.4k ( 21.29%) ETA 04m56s"
       ]
      },
      {
       "output_type": "stream",
       "stream": "stdout",
       "text": [
        "\r",
        "|\u001b[0;34m========\u001b[0m\u001b[0;32m>\u001b[0m--------------------------------| 512 /2.4k ( 21.33%) ETA 04m56s"
       ]
      },
      {
       "output_type": "stream",
       "stream": "stdout",
       "text": [
        "\r",
        "|\u001b[0;34m========\u001b[0m\u001b[0;32m>\u001b[0m--------------------------------| 513 /2.4k ( 21.38%) ETA 04m56s"
       ]
      },
      {
       "output_type": "stream",
       "stream": "stdout",
       "text": [
        "\r",
        "|\u001b[0;34m========\u001b[0m\u001b[0;32m>\u001b[0m--------------------------------| 514 /2.4k ( 21.42%) ETA 04m56s"
       ]
      },
      {
       "output_type": "stream",
       "stream": "stdout",
       "text": [
        "\r",
        "|\u001b[0;34m========\u001b[0m\u001b[0;32m>\u001b[0m--------------------------------| 515 /2.4k ( 21.46%) ETA 04m55s"
       ]
      },
      {
       "output_type": "stream",
       "stream": "stdout",
       "text": [
        "\r",
        "|\u001b[0;34m========\u001b[0m\u001b[0;32m>\u001b[0m--------------------------------| 516 /2.4k ( 21.50%) ETA 04m55s"
       ]
      },
      {
       "output_type": "stream",
       "stream": "stdout",
       "text": [
        "\r",
        "|\u001b[0;34m========\u001b[0m\u001b[0;32m>\u001b[0m--------------------------------| 517 /2.4k ( 21.54%) ETA 04m55s"
       ]
      },
      {
       "output_type": "stream",
       "stream": "stdout",
       "text": [
        "\r",
        "|\u001b[0;34m========\u001b[0m\u001b[0;32m>\u001b[0m--------------------------------| 518 /2.4k ( 21.58%) ETA 04m55s"
       ]
      },
      {
       "output_type": "stream",
       "stream": "stdout",
       "text": [
        "\r",
        "|\u001b[0;34m========\u001b[0m\u001b[0;32m>\u001b[0m--------------------------------| 519 /2.4k ( 21.62%) ETA 04m55s"
       ]
      },
      {
       "output_type": "stream",
       "stream": "stdout",
       "text": [
        "\r",
        "|\u001b[0;34m========\u001b[0m\u001b[0;32m>\u001b[0m--------------------------------| 520 /2.4k ( 21.67%) ETA 04m55s"
       ]
      },
      {
       "output_type": "stream",
       "stream": "stdout",
       "text": [
        "\r",
        "|\u001b[0;34m========\u001b[0m\u001b[0;32m>\u001b[0m--------------------------------| 521 /2.4k ( 21.71%) ETA 04m54s"
       ]
      },
      {
       "output_type": "stream",
       "stream": "stdout",
       "text": [
        "\r",
        "|\u001b[0;34m========\u001b[0m\u001b[0;32m>\u001b[0m--------------------------------| 522 /2.4k ( 21.75%) ETA 04m54s"
       ]
      },
      {
       "output_type": "stream",
       "stream": "stdout",
       "text": [
        "\r",
        "|\u001b[0;34m========\u001b[0m\u001b[0;32m>\u001b[0m--------------------------------| 523 /2.4k ( 21.79%) ETA 04m54s"
       ]
      },
      {
       "output_type": "stream",
       "stream": "stdout",
       "text": [
        "\r",
        "|\u001b[0;34m========\u001b[0m\u001b[0;32m>\u001b[0m--------------------------------| 524 /2.4k ( 21.83%) ETA 04m54s"
       ]
      },
      {
       "output_type": "stream",
       "stream": "stdout",
       "text": [
        "\r",
        "|\u001b[0;34m========\u001b[0m\u001b[0;32m>\u001b[0m--------------------------------| 525 /2.4k ( 21.88%) ETA 04m54s"
       ]
      },
      {
       "output_type": "stream",
       "stream": "stdout",
       "text": [
        "\r",
        "|\u001b[0;34m========\u001b[0m\u001b[0;32m>\u001b[0m--------------------------------| 526 /2.4k ( 21.92%) ETA 04m54s"
       ]
      },
      {
       "output_type": "stream",
       "stream": "stdout",
       "text": [
        "\r",
        "|\u001b[0;34m=========\u001b[0m\u001b[0;32m>\u001b[0m-------------------------------| 527 /2.4k ( 21.96%) ETA 04m53s"
       ]
      },
      {
       "output_type": "stream",
       "stream": "stdout",
       "text": [
        "\r",
        "|\u001b[0;34m=========\u001b[0m\u001b[0;32m>\u001b[0m-------------------------------| 528 /2.4k ( 22.00%) ETA 04m53s"
       ]
      },
      {
       "output_type": "stream",
       "stream": "stdout",
       "text": [
        "\r",
        "|\u001b[0;34m=========\u001b[0m\u001b[0;32m>\u001b[0m-------------------------------| 529 /2.4k ( 22.04%) ETA 04m53s"
       ]
      },
      {
       "output_type": "stream",
       "stream": "stdout",
       "text": [
        "\r",
        "|\u001b[0;34m=========\u001b[0m\u001b[0;32m>\u001b[0m-------------------------------| 530 /2.4k ( 22.08%) ETA 04m53s"
       ]
      },
      {
       "output_type": "stream",
       "stream": "stdout",
       "text": [
        "\r",
        "|\u001b[0;34m=========\u001b[0m\u001b[0;32m>\u001b[0m-------------------------------| 531 /2.4k ( 22.12%) ETA 04m53s"
       ]
      },
      {
       "output_type": "stream",
       "stream": "stdout",
       "text": [
        "\r",
        "|\u001b[0;34m=========\u001b[0m\u001b[0;32m>\u001b[0m-------------------------------| 532 /2.4k ( 22.17%) ETA 04m53s"
       ]
      },
      {
       "output_type": "stream",
       "stream": "stdout",
       "text": [
        "\r",
        "|\u001b[0;34m=========\u001b[0m\u001b[0;32m>\u001b[0m-------------------------------| 533 /2.4k ( 22.21%) ETA 04m53s"
       ]
      },
      {
       "output_type": "stream",
       "stream": "stdout",
       "text": [
        "\r",
        "|\u001b[0;34m=========\u001b[0m\u001b[0;32m>\u001b[0m-------------------------------| 534 /2.4k ( 22.25%) ETA 04m52s"
       ]
      },
      {
       "output_type": "stream",
       "stream": "stdout",
       "text": [
        "\r",
        "|\u001b[0;34m=========\u001b[0m\u001b[0;32m>\u001b[0m-------------------------------| 535 /2.4k ( 22.29%) ETA 04m52s"
       ]
      },
      {
       "output_type": "stream",
       "stream": "stdout",
       "text": [
        "\r",
        "|\u001b[0;34m=========\u001b[0m\u001b[0;32m>\u001b[0m-------------------------------| 536 /2.4k ( 22.33%) ETA 04m52s"
       ]
      },
      {
       "output_type": "stream",
       "stream": "stdout",
       "text": [
        "\r",
        "|\u001b[0;34m=========\u001b[0m\u001b[0;32m>\u001b[0m-------------------------------| 537 /2.4k ( 22.38%) ETA 04m52s"
       ]
      },
      {
       "output_type": "stream",
       "stream": "stdout",
       "text": [
        "\r",
        "|\u001b[0;34m=========\u001b[0m\u001b[0;32m>\u001b[0m-------------------------------| 538 /2.4k ( 22.42%) ETA 04m52s"
       ]
      },
      {
       "output_type": "stream",
       "stream": "stdout",
       "text": [
        "\r",
        "|\u001b[0;34m=========\u001b[0m\u001b[0;32m>\u001b[0m-------------------------------| 539 /2.4k ( 22.46%) ETA 04m52s"
       ]
      },
      {
       "output_type": "stream",
       "stream": "stdout",
       "text": [
        "\r",
        "|\u001b[0;34m=========\u001b[0m\u001b[0;32m>\u001b[0m-------------------------------| 540 /2.4k ( 22.50%) ETA 04m51s"
       ]
      },
      {
       "output_type": "stream",
       "stream": "stdout",
       "text": [
        "\r",
        "|\u001b[0;34m=========\u001b[0m\u001b[0;32m>\u001b[0m-------------------------------| 541 /2.4k ( 22.54%) ETA 04m51s"
       ]
      },
      {
       "output_type": "stream",
       "stream": "stdout",
       "text": [
        "\r",
        "|\u001b[0;34m=========\u001b[0m\u001b[0;32m>\u001b[0m-------------------------------| 542 /2.4k ( 22.58%) ETA 04m51s"
       ]
      },
      {
       "output_type": "stream",
       "stream": "stdout",
       "text": [
        "\r",
        "|\u001b[0;34m=========\u001b[0m\u001b[0;32m>\u001b[0m-------------------------------| 543 /2.4k ( 22.62%) ETA 04m51s"
       ]
      },
      {
       "output_type": "stream",
       "stream": "stdout",
       "text": [
        "\r",
        "|\u001b[0;34m=========\u001b[0m\u001b[0;32m>\u001b[0m-------------------------------| 544 /2.4k ( 22.67%) ETA 04m51s"
       ]
      },
      {
       "output_type": "stream",
       "stream": "stdout",
       "text": [
        "\r",
        "|\u001b[0;34m=========\u001b[0m\u001b[0;32m>\u001b[0m-------------------------------| 545 /2.4k ( 22.71%) ETA 04m51s"
       ]
      },
      {
       "output_type": "stream",
       "stream": "stdout",
       "text": [
        "\r",
        "|\u001b[0;34m=========\u001b[0m\u001b[0;32m>\u001b[0m-------------------------------| 546 /2.4k ( 22.75%) ETA 04m51s"
       ]
      },
      {
       "output_type": "stream",
       "stream": "stdout",
       "text": [
        "\r",
        "|\u001b[0;34m=========\u001b[0m\u001b[0;32m>\u001b[0m-------------------------------| 547 /2.4k ( 22.79%) ETA 04m50s"
       ]
      },
      {
       "output_type": "stream",
       "stream": "stdout",
       "text": [
        "\r",
        "|\u001b[0;34m=========\u001b[0m\u001b[0;32m>\u001b[0m-------------------------------| 548 /2.4k ( 22.83%) ETA 04m50s"
       ]
      },
      {
       "output_type": "stream",
       "stream": "stdout",
       "text": [
        "\r",
        "|\u001b[0;34m=========\u001b[0m\u001b[0;32m>\u001b[0m-------------------------------| 549 /2.4k ( 22.88%) ETA 04m50s"
       ]
      },
      {
       "output_type": "stream",
       "stream": "stdout",
       "text": [
        "\r",
        "|\u001b[0;34m=========\u001b[0m\u001b[0;32m>\u001b[0m-------------------------------| 550 /2.4k ( 22.92%) ETA 04m50s"
       ]
      },
      {
       "output_type": "stream",
       "stream": "stdout",
       "text": [
        "\r",
        "|\u001b[0;34m=========\u001b[0m\u001b[0;32m>\u001b[0m-------------------------------| 551 /2.4k ( 22.96%) ETA 04m50s"
       ]
      },
      {
       "output_type": "stream",
       "stream": "stdout",
       "text": [
        "\r",
        "|\u001b[0;34m=========\u001b[0m\u001b[0;32m>\u001b[0m-------------------------------| 552 /2.4k ( 23.00%) ETA 04m50s"
       ]
      },
      {
       "output_type": "stream",
       "stream": "stdout",
       "text": [
        "\r",
        "|\u001b[0;34m=========\u001b[0m\u001b[0;32m>\u001b[0m-------------------------------| 553 /2.4k ( 23.04%) ETA 04m49s"
       ]
      },
      {
       "output_type": "stream",
       "stream": "stdout",
       "text": [
        "\r",
        "|\u001b[0;34m=========\u001b[0m\u001b[0;32m>\u001b[0m-------------------------------| 554 /2.4k ( 23.08%) ETA 04m49s"
       ]
      },
      {
       "output_type": "stream",
       "stream": "stdout",
       "text": [
        "\r",
        "|\u001b[0;34m=========\u001b[0m\u001b[0;32m>\u001b[0m-------------------------------| 555 /2.4k ( 23.12%) ETA 04m49s"
       ]
      },
      {
       "output_type": "stream",
       "stream": "stdout",
       "text": [
        "\r",
        "|\u001b[0;34m=========\u001b[0m\u001b[0;32m>\u001b[0m-------------------------------| 556 /2.4k ( 23.17%) ETA 04m49s"
       ]
      },
      {
       "output_type": "stream",
       "stream": "stdout",
       "text": [
        "\r",
        "|\u001b[0;34m=========\u001b[0m\u001b[0;32m>\u001b[0m-------------------------------| 557 /2.4k ( 23.21%) ETA 04m49s"
       ]
      },
      {
       "output_type": "stream",
       "stream": "stdout",
       "text": [
        "\r",
        "|\u001b[0;34m=========\u001b[0m\u001b[0;32m>\u001b[0m-------------------------------| 558 /2.4k ( 23.25%) ETA 04m49s"
       ]
      },
      {
       "output_type": "stream",
       "stream": "stdout",
       "text": [
        "\r",
        "|\u001b[0;34m=========\u001b[0m\u001b[0;32m>\u001b[0m-------------------------------| 559 /2.4k ( 23.29%) ETA 04m48s"
       ]
      },
      {
       "output_type": "stream",
       "stream": "stdout",
       "text": [
        "\r",
        "|\u001b[0;34m=========\u001b[0m\u001b[0;32m>\u001b[0m-------------------------------| 560 /2.4k ( 23.33%) ETA 04m48s"
       ]
      },
      {
       "output_type": "stream",
       "stream": "stdout",
       "text": [
        "\r",
        "|\u001b[0;34m=========\u001b[0m\u001b[0;32m>\u001b[0m-------------------------------| 561 /2.4k ( 23.38%) ETA 04m48s"
       ]
      },
      {
       "output_type": "stream",
       "stream": "stdout",
       "text": [
        "\r",
        "|\u001b[0;34m=========\u001b[0m\u001b[0;32m>\u001b[0m-------------------------------| 562 /2.4k ( 23.42%) ETA 04m48s"
       ]
      },
      {
       "output_type": "stream",
       "stream": "stdout",
       "text": [
        "\r",
        "|\u001b[0;34m=========\u001b[0m\u001b[0;32m>\u001b[0m-------------------------------| 563 /2.4k ( 23.46%) ETA 04m48s"
       ]
      },
      {
       "output_type": "stream",
       "stream": "stdout",
       "text": [
        "\r",
        "|\u001b[0;34m=========\u001b[0m\u001b[0;32m>\u001b[0m-------------------------------| 564 /2.4k ( 23.50%) ETA 04m48s"
       ]
      },
      {
       "output_type": "stream",
       "stream": "stdout",
       "text": [
        "\r",
        "|\u001b[0;34m=========\u001b[0m\u001b[0;32m>\u001b[0m-------------------------------| 565 /2.4k ( 23.54%) ETA 04m47s"
       ]
      },
      {
       "output_type": "stream",
       "stream": "stdout",
       "text": [
        "\r",
        "|\u001b[0;34m=========\u001b[0m\u001b[0;32m>\u001b[0m-------------------------------| 566 /2.4k ( 23.58%) ETA 04m47s"
       ]
      },
      {
       "output_type": "stream",
       "stream": "stdout",
       "text": [
        "\r",
        "|\u001b[0;34m=========\u001b[0m\u001b[0;32m>\u001b[0m-------------------------------| 567 /2.4k ( 23.62%) ETA 04m47s"
       ]
      },
      {
       "output_type": "stream",
       "stream": "stdout",
       "text": [
        "\r",
        "|\u001b[0;34m=========\u001b[0m\u001b[0;32m>\u001b[0m-------------------------------| 568 /2.4k ( 23.67%) ETA 04m47s"
       ]
      },
      {
       "output_type": "stream",
       "stream": "stdout",
       "text": [
        "\r",
        "|\u001b[0;34m=========\u001b[0m\u001b[0;32m>\u001b[0m-------------------------------| 569 /2.4k ( 23.71%) ETA 04m47s"
       ]
      },
      {
       "output_type": "stream",
       "stream": "stdout",
       "text": [
        "\r",
        "|\u001b[0;34m=========\u001b[0m\u001b[0;32m>\u001b[0m-------------------------------| 570 /2.4k ( 23.75%) ETA 04m47s"
       ]
      },
      {
       "output_type": "stream",
       "stream": "stdout",
       "text": [
        "\r",
        "|\u001b[0;34m=========\u001b[0m\u001b[0;32m>\u001b[0m-------------------------------| 571 /2.4k ( 23.79%) ETA 04m46s"
       ]
      },
      {
       "output_type": "stream",
       "stream": "stdout",
       "text": [
        "\r",
        "|\u001b[0;34m=========\u001b[0m\u001b[0;32m>\u001b[0m-------------------------------| 572 /2.4k ( 23.83%) ETA 04m46s"
       ]
      },
      {
       "output_type": "stream",
       "stream": "stdout",
       "text": [
        "\r",
        "|\u001b[0;34m=========\u001b[0m\u001b[0;32m>\u001b[0m-------------------------------| 573 /2.4k ( 23.88%) ETA 04m46s"
       ]
      },
      {
       "output_type": "stream",
       "stream": "stdout",
       "text": [
        "\r",
        "|\u001b[0;34m=========\u001b[0m\u001b[0;32m>\u001b[0m-------------------------------| 574 /2.4k ( 23.92%) ETA 04m46s"
       ]
      },
      {
       "output_type": "stream",
       "stream": "stdout",
       "text": [
        "\r",
        "|\u001b[0;34m=========\u001b[0m\u001b[0;32m>\u001b[0m-------------------------------| 575 /2.4k ( 23.96%) ETA 04m46s"
       ]
      },
      {
       "output_type": "stream",
       "stream": "stdout",
       "text": [
        "\r",
        "|\u001b[0;34m=========\u001b[0m\u001b[0;32m>\u001b[0m-------------------------------| 576 /2.4k ( 24.00%) ETA 04m46s"
       ]
      },
      {
       "output_type": "stream",
       "stream": "stdout",
       "text": [
        "\r",
        "|\u001b[0;34m=========\u001b[0m\u001b[0;32m>\u001b[0m-------------------------------| 577 /2.4k ( 24.04%) ETA 04m45s"
       ]
      },
      {
       "output_type": "stream",
       "stream": "stdout",
       "text": [
        "\r",
        "|\u001b[0;34m=========\u001b[0m\u001b[0;32m>\u001b[0m-------------------------------| 578 /2.4k ( 24.08%) ETA 04m45s"
       ]
      },
      {
       "output_type": "stream",
       "stream": "stdout",
       "text": [
        "\r",
        "|\u001b[0;34m=========\u001b[0m\u001b[0;32m>\u001b[0m-------------------------------| 579 /2.4k ( 24.12%) ETA 04m45s"
       ]
      },
      {
       "output_type": "stream",
       "stream": "stdout",
       "text": [
        "\r",
        "|\u001b[0;34m=========\u001b[0m\u001b[0;32m>\u001b[0m-------------------------------| 580 /2.4k ( 24.17%) ETA 04m45s"
       ]
      },
      {
       "output_type": "stream",
       "stream": "stdout",
       "text": [
        "\r",
        "|\u001b[0;34m=========\u001b[0m\u001b[0;32m>\u001b[0m-------------------------------| 581 /2.4k ( 24.21%) ETA 04m45s"
       ]
      },
      {
       "output_type": "stream",
       "stream": "stdout",
       "text": [
        "\r",
        "|\u001b[0;34m=========\u001b[0m\u001b[0;32m>\u001b[0m-------------------------------| 582 /2.4k ( 24.25%) ETA 04m45s"
       ]
      },
      {
       "output_type": "stream",
       "stream": "stdout",
       "text": [
        "\r",
        "|\u001b[0;34m=========\u001b[0m\u001b[0;32m>\u001b[0m-------------------------------| 583 /2.4k ( 24.29%) ETA 04m44s"
       ]
      },
      {
       "output_type": "stream",
       "stream": "stdout",
       "text": [
        "\r",
        "|\u001b[0;34m=========\u001b[0m\u001b[0;32m>\u001b[0m-------------------------------| 584 /2.4k ( 24.33%) ETA 04m44s"
       ]
      },
      {
       "output_type": "stream",
       "stream": "stdout",
       "text": [
        "\r",
        "|\u001b[0;34m=========\u001b[0m\u001b[0;32m>\u001b[0m-------------------------------| 585 /2.4k ( 24.38%) ETA 04m44s"
       ]
      },
      {
       "output_type": "stream",
       "stream": "stdout",
       "text": [
        "\r",
        "|\u001b[0;34m==========\u001b[0m\u001b[0;32m>\u001b[0m------------------------------| 586 /2.4k ( 24.42%) ETA 04m44s"
       ]
      },
      {
       "output_type": "stream",
       "stream": "stdout",
       "text": [
        "\r",
        "|\u001b[0;34m==========\u001b[0m\u001b[0;32m>\u001b[0m------------------------------| 587 /2.4k ( 24.46%) ETA 04m44s"
       ]
      },
      {
       "output_type": "stream",
       "stream": "stdout",
       "text": [
        "\r",
        "|\u001b[0;34m==========\u001b[0m\u001b[0;32m>\u001b[0m------------------------------| 588 /2.4k ( 24.50%) ETA 04m44s"
       ]
      },
      {
       "output_type": "stream",
       "stream": "stdout",
       "text": [
        "\r",
        "|\u001b[0;34m==========\u001b[0m\u001b[0;32m>\u001b[0m------------------------------| 589 /2.4k ( 24.54%) ETA 04m44s"
       ]
      },
      {
       "output_type": "stream",
       "stream": "stdout",
       "text": [
        "\r",
        "|\u001b[0;34m==========\u001b[0m\u001b[0;32m>\u001b[0m------------------------------| 590 /2.4k ( 24.58%) ETA 04m44s"
       ]
      },
      {
       "output_type": "stream",
       "stream": "stdout",
       "text": [
        "\r",
        "|\u001b[0;34m==========\u001b[0m\u001b[0;32m>\u001b[0m------------------------------| 591 /2.4k ( 24.62%) ETA 04m43s"
       ]
      },
      {
       "output_type": "stream",
       "stream": "stdout",
       "text": [
        "\r",
        "|\u001b[0;34m==========\u001b[0m\u001b[0;32m>\u001b[0m------------------------------| 592 /2.4k ( 24.67%) ETA 04m43s"
       ]
      },
      {
       "output_type": "stream",
       "stream": "stdout",
       "text": [
        "\r",
        "|\u001b[0;34m==========\u001b[0m\u001b[0;32m>\u001b[0m------------------------------| 593 /2.4k ( 24.71%) ETA 04m43s"
       ]
      },
      {
       "output_type": "stream",
       "stream": "stdout",
       "text": [
        "\r",
        "|\u001b[0;34m==========\u001b[0m\u001b[0;32m>\u001b[0m------------------------------| 594 /2.4k ( 24.75%) ETA 04m43s"
       ]
      },
      {
       "output_type": "stream",
       "stream": "stdout",
       "text": [
        "\r",
        "|\u001b[0;34m==========\u001b[0m\u001b[0;32m>\u001b[0m------------------------------| 595 /2.4k ( 24.79%) ETA 04m43s"
       ]
      },
      {
       "output_type": "stream",
       "stream": "stdout",
       "text": [
        "\r",
        "|\u001b[0;34m==========\u001b[0m\u001b[0;32m>\u001b[0m------------------------------| 596 /2.4k ( 24.83%) ETA 04m43s"
       ]
      },
      {
       "output_type": "stream",
       "stream": "stdout",
       "text": [
        "\r",
        "|\u001b[0;34m==========\u001b[0m\u001b[0;32m>\u001b[0m------------------------------| 597 /2.4k ( 24.88%) ETA 04m42s"
       ]
      },
      {
       "output_type": "stream",
       "stream": "stdout",
       "text": [
        "\r",
        "|\u001b[0;34m==========\u001b[0m\u001b[0;32m>\u001b[0m------------------------------| 598 /2.4k ( 24.92%) ETA 04m42s"
       ]
      },
      {
       "output_type": "stream",
       "stream": "stdout",
       "text": [
        "\r",
        "|\u001b[0;34m==========\u001b[0m\u001b[0;32m>\u001b[0m------------------------------| 599 /2.4k ( 24.96%) ETA 04m42s"
       ]
      },
      {
       "output_type": "stream",
       "stream": "stdout",
       "text": [
        "\r",
        "|\u001b[0;34m==========\u001b[0m\u001b[0;32m>\u001b[0m------------------------------| 600 /2.4k ( 25.00%) ETA 04m42s"
       ]
      },
      {
       "output_type": "stream",
       "stream": "stdout",
       "text": [
        "\r",
        "|\u001b[0;34m==========\u001b[0m\u001b[0;32m>\u001b[0m------------------------------| 601 /2.4k ( 25.04%) ETA 04m42s"
       ]
      },
      {
       "output_type": "stream",
       "stream": "stdout",
       "text": [
        "\r",
        "|\u001b[0;34m==========\u001b[0m\u001b[0;32m>\u001b[0m------------------------------| 602 /2.4k ( 25.08%) ETA 04m42s"
       ]
      },
      {
       "output_type": "stream",
       "stream": "stdout",
       "text": [
        "\r",
        "|\u001b[0;34m==========\u001b[0m\u001b[0;32m>\u001b[0m------------------------------| 603 /2.4k ( 25.12%) ETA 04m42s"
       ]
      },
      {
       "output_type": "stream",
       "stream": "stdout",
       "text": [
        "\r",
        "|\u001b[0;34m==========\u001b[0m\u001b[0;32m>\u001b[0m------------------------------| 604 /2.4k ( 25.17%) ETA 04m41s"
       ]
      },
      {
       "output_type": "stream",
       "stream": "stdout",
       "text": [
        "\r",
        "|\u001b[0;34m==========\u001b[0m\u001b[0;32m>\u001b[0m------------------------------| 605 /2.4k ( 25.21%) ETA 04m41s"
       ]
      },
      {
       "output_type": "stream",
       "stream": "stdout",
       "text": [
        "\r",
        "|\u001b[0;34m==========\u001b[0m\u001b[0;32m>\u001b[0m------------------------------| 606 /2.4k ( 25.25%) ETA 04m41s"
       ]
      },
      {
       "output_type": "stream",
       "stream": "stdout",
       "text": [
        "\r",
        "|\u001b[0;34m==========\u001b[0m\u001b[0;32m>\u001b[0m------------------------------| 607 /2.4k ( 25.29%) ETA 04m41s"
       ]
      },
      {
       "output_type": "stream",
       "stream": "stdout",
       "text": [
        "\r",
        "|\u001b[0;34m==========\u001b[0m\u001b[0;32m>\u001b[0m------------------------------| 608 /2.4k ( 25.33%) ETA 04m41s"
       ]
      },
      {
       "output_type": "stream",
       "stream": "stdout",
       "text": [
        "\r",
        "|\u001b[0;34m==========\u001b[0m\u001b[0;32m>\u001b[0m------------------------------| 609 /2.4k ( 25.37%) ETA 04m41s"
       ]
      },
      {
       "output_type": "stream",
       "stream": "stdout",
       "text": [
        "\r",
        "|\u001b[0;34m==========\u001b[0m\u001b[0;32m>\u001b[0m------------------------------| 610 /2.4k ( 25.42%) ETA 04m40s"
       ]
      },
      {
       "output_type": "stream",
       "stream": "stdout",
       "text": [
        "\r",
        "|\u001b[0;34m==========\u001b[0m\u001b[0;32m>\u001b[0m------------------------------| 611 /2.4k ( 25.46%) ETA 04m40s"
       ]
      },
      {
       "output_type": "stream",
       "stream": "stdout",
       "text": [
        "\r",
        "|\u001b[0;34m==========\u001b[0m\u001b[0;32m>\u001b[0m------------------------------| 612 /2.4k ( 25.50%) ETA 04m40s"
       ]
      },
      {
       "output_type": "stream",
       "stream": "stdout",
       "text": [
        "\r",
        "|\u001b[0;34m==========\u001b[0m\u001b[0;32m>\u001b[0m------------------------------| 613 /2.4k ( 25.54%) ETA 04m40s"
       ]
      },
      {
       "output_type": "stream",
       "stream": "stdout",
       "text": [
        "\r",
        "|\u001b[0;34m==========\u001b[0m\u001b[0;32m>\u001b[0m------------------------------| 614 /2.4k ( 25.58%) ETA 04m40s"
       ]
      },
      {
       "output_type": "stream",
       "stream": "stdout",
       "text": [
        "\r",
        "|\u001b[0;34m==========\u001b[0m\u001b[0;32m>\u001b[0m------------------------------| 615 /2.4k ( 25.62%) ETA 04m40s"
       ]
      },
      {
       "output_type": "stream",
       "stream": "stdout",
       "text": [
        "\r",
        "|\u001b[0;34m==========\u001b[0m\u001b[0;32m>\u001b[0m------------------------------| 616 /2.4k ( 25.67%) ETA 04m39s"
       ]
      },
      {
       "output_type": "stream",
       "stream": "stdout",
       "text": [
        "\r",
        "|\u001b[0;34m==========\u001b[0m\u001b[0;32m>\u001b[0m------------------------------| 617 /2.4k ( 25.71%) ETA 04m39s"
       ]
      },
      {
       "output_type": "stream",
       "stream": "stdout",
       "text": [
        "\r",
        "|\u001b[0;34m==========\u001b[0m\u001b[0;32m>\u001b[0m------------------------------| 618 /2.4k ( 25.75%) ETA 04m39s"
       ]
      },
      {
       "output_type": "stream",
       "stream": "stdout",
       "text": [
        "\r",
        "|\u001b[0;34m==========\u001b[0m\u001b[0;32m>\u001b[0m------------------------------| 619 /2.4k ( 25.79%) ETA 04m39s"
       ]
      },
      {
       "output_type": "stream",
       "stream": "stdout",
       "text": [
        "\r",
        "|\u001b[0;34m==========\u001b[0m\u001b[0;32m>\u001b[0m------------------------------| 620 /2.4k ( 25.83%) ETA 04m39s"
       ]
      },
      {
       "output_type": "stream",
       "stream": "stdout",
       "text": [
        "\r",
        "|\u001b[0;34m==========\u001b[0m\u001b[0;32m>\u001b[0m------------------------------| 621 /2.4k ( 25.87%) ETA 04m39s"
       ]
      },
      {
       "output_type": "stream",
       "stream": "stdout",
       "text": [
        "\r",
        "|\u001b[0;34m==========\u001b[0m\u001b[0;32m>\u001b[0m------------------------------| 622 /2.4k ( 25.92%) ETA 04m38s"
       ]
      },
      {
       "output_type": "stream",
       "stream": "stdout",
       "text": [
        "\r",
        "|\u001b[0;34m==========\u001b[0m\u001b[0;32m>\u001b[0m------------------------------| 623 /2.4k ( 25.96%) ETA 04m38s"
       ]
      },
      {
       "output_type": "stream",
       "stream": "stdout",
       "text": [
        "\r",
        "|\u001b[0;34m==========\u001b[0m\u001b[0;32m>\u001b[0m------------------------------| 624 /2.4k ( 26.00%) ETA 04m38s"
       ]
      },
      {
       "output_type": "stream",
       "stream": "stdout",
       "text": [
        "\r",
        "|\u001b[0;34m==========\u001b[0m\u001b[0;32m>\u001b[0m------------------------------| 625 /2.4k ( 26.04%) ETA 04m38s"
       ]
      },
      {
       "output_type": "stream",
       "stream": "stdout",
       "text": [
        "\r",
        "|\u001b[0;34m==========\u001b[0m\u001b[0;32m>\u001b[0m------------------------------| 626 /2.4k ( 26.08%) ETA 04m38s"
       ]
      },
      {
       "output_type": "stream",
       "stream": "stdout",
       "text": [
        "\r",
        "|\u001b[0;34m==========\u001b[0m\u001b[0;32m>\u001b[0m------------------------------| 627 /2.4k ( 26.12%) ETA 04m38s"
       ]
      },
      {
       "output_type": "stream",
       "stream": "stdout",
       "text": [
        "\r",
        "|\u001b[0;34m==========\u001b[0m\u001b[0;32m>\u001b[0m------------------------------| 628 /2.4k ( 26.17%) ETA 04m37s"
       ]
      },
      {
       "output_type": "stream",
       "stream": "stdout",
       "text": [
        "\r",
        "|\u001b[0;34m==========\u001b[0m\u001b[0;32m>\u001b[0m------------------------------| 629 /2.4k ( 26.21%) ETA 04m37s"
       ]
      },
      {
       "output_type": "stream",
       "stream": "stdout",
       "text": [
        "\r",
        "|\u001b[0;34m==========\u001b[0m\u001b[0;32m>\u001b[0m------------------------------| 630 /2.4k ( 26.25%) ETA 04m37s"
       ]
      },
      {
       "output_type": "stream",
       "stream": "stdout",
       "text": [
        "\r",
        "|\u001b[0;34m==========\u001b[0m\u001b[0;32m>\u001b[0m------------------------------| 631 /2.4k ( 26.29%) ETA 04m37s"
       ]
      },
      {
       "output_type": "stream",
       "stream": "stdout",
       "text": [
        "\r",
        "|\u001b[0;34m==========\u001b[0m\u001b[0;32m>\u001b[0m------------------------------| 632 /2.4k ( 26.33%) ETA 04m37s"
       ]
      },
      {
       "output_type": "stream",
       "stream": "stdout",
       "text": [
        "\r",
        "|\u001b[0;34m==========\u001b[0m\u001b[0;32m>\u001b[0m------------------------------| 633 /2.4k ( 26.38%) ETA 04m37s"
       ]
      },
      {
       "output_type": "stream",
       "stream": "stdout",
       "text": [
        "\r",
        "|\u001b[0;34m==========\u001b[0m\u001b[0;32m>\u001b[0m------------------------------| 634 /2.4k ( 26.42%) ETA 04m36s"
       ]
      },
      {
       "output_type": "stream",
       "stream": "stdout",
       "text": [
        "\r",
        "|\u001b[0;34m==========\u001b[0m\u001b[0;32m>\u001b[0m------------------------------| 635 /2.4k ( 26.46%) ETA 04m36s"
       ]
      },
      {
       "output_type": "stream",
       "stream": "stdout",
       "text": [
        "\r",
        "|\u001b[0;34m==========\u001b[0m\u001b[0;32m>\u001b[0m------------------------------| 636 /2.4k ( 26.50%) ETA 04m36s"
       ]
      },
      {
       "output_type": "stream",
       "stream": "stdout",
       "text": [
        "\r",
        "|\u001b[0;34m==========\u001b[0m\u001b[0;32m>\u001b[0m------------------------------| 637 /2.4k ( 26.54%) ETA 04m36s"
       ]
      },
      {
       "output_type": "stream",
       "stream": "stdout",
       "text": [
        "\r",
        "|\u001b[0;34m==========\u001b[0m\u001b[0;32m>\u001b[0m------------------------------| 638 /2.4k ( 26.58%) ETA 04m36s"
       ]
      },
      {
       "output_type": "stream",
       "stream": "stdout",
       "text": [
        "\r",
        "|\u001b[0;34m==========\u001b[0m\u001b[0;32m>\u001b[0m------------------------------| 639 /2.4k ( 26.62%) ETA 04m36s"
       ]
      },
      {
       "output_type": "stream",
       "stream": "stdout",
       "text": [
        "\r",
        "|\u001b[0;34m==========\u001b[0m\u001b[0;32m>\u001b[0m------------------------------| 640 /2.4k ( 26.67%) ETA 04m35s"
       ]
      },
      {
       "output_type": "stream",
       "stream": "stdout",
       "text": [
        "\r",
        "|\u001b[0;34m==========\u001b[0m\u001b[0;32m>\u001b[0m------------------------------| 641 /2.4k ( 26.71%) ETA 04m35s"
       ]
      },
      {
       "output_type": "stream",
       "stream": "stdout",
       "text": [
        "\r",
        "|\u001b[0;34m==========\u001b[0m\u001b[0;32m>\u001b[0m------------------------------| 642 /2.4k ( 26.75%) ETA 04m35s"
       ]
      },
      {
       "output_type": "stream",
       "stream": "stdout",
       "text": [
        "\r",
        "|\u001b[0;34m==========\u001b[0m\u001b[0;32m>\u001b[0m------------------------------| 643 /2.4k ( 26.79%) ETA 04m35s"
       ]
      },
      {
       "output_type": "stream",
       "stream": "stdout",
       "text": [
        "\r",
        "|\u001b[0;34m===========\u001b[0m\u001b[0;32m>\u001b[0m-----------------------------| 644 /2.4k ( 26.83%) ETA 04m35s"
       ]
      },
      {
       "output_type": "stream",
       "stream": "stdout",
       "text": [
        "\r",
        "|\u001b[0;34m===========\u001b[0m\u001b[0;32m>\u001b[0m-----------------------------| 645 /2.4k ( 26.88%) ETA 04m35s"
       ]
      },
      {
       "output_type": "stream",
       "stream": "stdout",
       "text": [
        "\r",
        "|\u001b[0;34m===========\u001b[0m\u001b[0;32m>\u001b[0m-----------------------------| 646 /2.4k ( 26.92%) ETA 04m35s"
       ]
      },
      {
       "output_type": "stream",
       "stream": "stdout",
       "text": [
        "\r",
        "|\u001b[0;34m===========\u001b[0m\u001b[0;32m>\u001b[0m-----------------------------| 647 /2.4k ( 26.96%) ETA 04m34s"
       ]
      },
      {
       "output_type": "stream",
       "stream": "stdout",
       "text": [
        "\r",
        "|\u001b[0;34m===========\u001b[0m\u001b[0;32m>\u001b[0m-----------------------------| 648 /2.4k ( 27.00%) ETA 04m34s"
       ]
      },
      {
       "output_type": "stream",
       "stream": "stdout",
       "text": [
        "\r",
        "|\u001b[0;34m===========\u001b[0m\u001b[0;32m>\u001b[0m-----------------------------| 649 /2.4k ( 27.04%) ETA 04m34s"
       ]
      },
      {
       "output_type": "stream",
       "stream": "stdout",
       "text": [
        "\r",
        "|\u001b[0;34m===========\u001b[0m\u001b[0;32m>\u001b[0m-----------------------------| 650 /2.4k ( 27.08%) ETA 04m34s"
       ]
      },
      {
       "output_type": "stream",
       "stream": "stdout",
       "text": [
        "\r",
        "|\u001b[0;34m===========\u001b[0m\u001b[0;32m>\u001b[0m-----------------------------| 651 /2.4k ( 27.12%) ETA 04m34s"
       ]
      },
      {
       "output_type": "stream",
       "stream": "stdout",
       "text": [
        "\r",
        "|\u001b[0;34m===========\u001b[0m\u001b[0;32m>\u001b[0m-----------------------------| 652 /2.4k ( 27.17%) ETA 04m34s"
       ]
      },
      {
       "output_type": "stream",
       "stream": "stdout",
       "text": [
        "\r",
        "|\u001b[0;34m===========\u001b[0m\u001b[0;32m>\u001b[0m-----------------------------| 653 /2.4k ( 27.21%) ETA 04m33s"
       ]
      },
      {
       "output_type": "stream",
       "stream": "stdout",
       "text": [
        "\r",
        "|\u001b[0;34m===========\u001b[0m\u001b[0;32m>\u001b[0m-----------------------------| 654 /2.4k ( 27.25%) ETA 04m33s"
       ]
      },
      {
       "output_type": "stream",
       "stream": "stdout",
       "text": [
        "\r",
        "|\u001b[0;34m===========\u001b[0m\u001b[0;32m>\u001b[0m-----------------------------| 655 /2.4k ( 27.29%) ETA 04m33s"
       ]
      },
      {
       "output_type": "stream",
       "stream": "stdout",
       "text": [
        "\r",
        "|\u001b[0;34m===========\u001b[0m\u001b[0;32m>\u001b[0m-----------------------------| 656 /2.4k ( 27.33%) ETA 04m33s"
       ]
      },
      {
       "output_type": "stream",
       "stream": "stdout",
       "text": [
        "\r",
        "|\u001b[0;34m===========\u001b[0m\u001b[0;32m>\u001b[0m-----------------------------| 657 /2.4k ( 27.38%) ETA 04m33s"
       ]
      },
      {
       "output_type": "stream",
       "stream": "stdout",
       "text": [
        "\r",
        "|\u001b[0;34m===========\u001b[0m\u001b[0;32m>\u001b[0m-----------------------------| 658 /2.4k ( 27.42%) ETA 04m33s"
       ]
      },
      {
       "output_type": "stream",
       "stream": "stdout",
       "text": [
        "\r",
        "|\u001b[0;34m===========\u001b[0m\u001b[0;32m>\u001b[0m-----------------------------| 659 /2.4k ( 27.46%) ETA 04m32s"
       ]
      },
      {
       "output_type": "stream",
       "stream": "stdout",
       "text": [
        "\r",
        "|\u001b[0;34m===========\u001b[0m\u001b[0;32m>\u001b[0m-----------------------------| 660 /2.4k ( 27.50%) ETA 04m32s"
       ]
      },
      {
       "output_type": "stream",
       "stream": "stdout",
       "text": [
        "\r",
        "|\u001b[0;34m===========\u001b[0m\u001b[0;32m>\u001b[0m-----------------------------| 661 /2.4k ( 27.54%) ETA 04m32s"
       ]
      },
      {
       "output_type": "stream",
       "stream": "stdout",
       "text": [
        "\r",
        "|\u001b[0;34m===========\u001b[0m\u001b[0;32m>\u001b[0m-----------------------------| 662 /2.4k ( 27.58%) ETA 04m32s"
       ]
      },
      {
       "output_type": "stream",
       "stream": "stdout",
       "text": [
        "\r",
        "|\u001b[0;34m===========\u001b[0m\u001b[0;32m>\u001b[0m-----------------------------| 663 /2.4k ( 27.62%) ETA 04m32s"
       ]
      },
      {
       "output_type": "stream",
       "stream": "stdout",
       "text": [
        "\r",
        "|\u001b[0;34m===========\u001b[0m\u001b[0;32m>\u001b[0m-----------------------------| 664 /2.4k ( 27.67%) ETA 04m32s"
       ]
      },
      {
       "output_type": "stream",
       "stream": "stdout",
       "text": [
        "\r",
        "|\u001b[0;34m===========\u001b[0m\u001b[0;32m>\u001b[0m-----------------------------| 665 /2.4k ( 27.71%) ETA 04m31s"
       ]
      },
      {
       "output_type": "stream",
       "stream": "stdout",
       "text": [
        "\r",
        "|\u001b[0;34m===========\u001b[0m\u001b[0;32m>\u001b[0m-----------------------------| 666 /2.4k ( 27.75%) ETA 04m31s"
       ]
      },
      {
       "output_type": "stream",
       "stream": "stdout",
       "text": [
        "\r",
        "|\u001b[0;34m===========\u001b[0m\u001b[0;32m>\u001b[0m-----------------------------| 667 /2.4k ( 27.79%) ETA 04m31s"
       ]
      },
      {
       "output_type": "stream",
       "stream": "stdout",
       "text": [
        "\r",
        "|\u001b[0;34m===========\u001b[0m\u001b[0;32m>\u001b[0m-----------------------------| 668 /2.4k ( 27.83%) ETA 04m31s"
       ]
      },
      {
       "output_type": "stream",
       "stream": "stdout",
       "text": [
        "\r",
        "|\u001b[0;34m===========\u001b[0m\u001b[0;32m>\u001b[0m-----------------------------| 669 /2.4k ( 27.88%) ETA 04m31s"
       ]
      },
      {
       "output_type": "stream",
       "stream": "stdout",
       "text": [
        "\r",
        "|\u001b[0;34m===========\u001b[0m\u001b[0;32m>\u001b[0m-----------------------------| 670 /2.4k ( 27.92%) ETA 04m31s"
       ]
      },
      {
       "output_type": "stream",
       "stream": "stdout",
       "text": [
        "\r",
        "|\u001b[0;34m===========\u001b[0m\u001b[0;32m>\u001b[0m-----------------------------| 671 /2.4k ( 27.96%) ETA 04m31s"
       ]
      },
      {
       "output_type": "stream",
       "stream": "stdout",
       "text": [
        "\r",
        "|\u001b[0;34m===========\u001b[0m\u001b[0;32m>\u001b[0m-----------------------------| 672 /2.4k ( 28.00%) ETA 04m31s"
       ]
      },
      {
       "output_type": "stream",
       "stream": "stdout",
       "text": [
        "\r",
        "|\u001b[0;34m===========\u001b[0m\u001b[0;32m>\u001b[0m-----------------------------| 673 /2.4k ( 28.04%) ETA 04m30s"
       ]
      },
      {
       "output_type": "stream",
       "stream": "stdout",
       "text": [
        "\r",
        "|\u001b[0;34m===========\u001b[0m\u001b[0;32m>\u001b[0m-----------------------------| 674 /2.4k ( 28.08%) ETA 04m30s"
       ]
      },
      {
       "output_type": "stream",
       "stream": "stdout",
       "text": [
        "\r",
        "|\u001b[0;34m===========\u001b[0m\u001b[0;32m>\u001b[0m-----------------------------| 675 /2.4k ( 28.12%) ETA 04m30s"
       ]
      },
      {
       "output_type": "stream",
       "stream": "stdout",
       "text": [
        "\r",
        "|\u001b[0;34m===========\u001b[0m\u001b[0;32m>\u001b[0m-----------------------------| 676 /2.4k ( 28.17%) ETA 04m30s"
       ]
      },
      {
       "output_type": "stream",
       "stream": "stdout",
       "text": [
        "\r",
        "|\u001b[0;34m===========\u001b[0m\u001b[0;32m>\u001b[0m-----------------------------| 677 /2.4k ( 28.21%) ETA 04m30s"
       ]
      },
      {
       "output_type": "stream",
       "stream": "stdout",
       "text": [
        "\r",
        "|\u001b[0;34m===========\u001b[0m\u001b[0;32m>\u001b[0m-----------------------------| 678 /2.4k ( 28.25%) ETA 04m30s"
       ]
      },
      {
       "output_type": "stream",
       "stream": "stdout",
       "text": [
        "\r",
        "|\u001b[0;34m===========\u001b[0m\u001b[0;32m>\u001b[0m-----------------------------| 679 /2.4k ( 28.29%) ETA 04m29s"
       ]
      },
      {
       "output_type": "stream",
       "stream": "stdout",
       "text": [
        "\r",
        "|\u001b[0;34m===========\u001b[0m\u001b[0;32m>\u001b[0m-----------------------------| 680 /2.4k ( 28.33%) ETA 04m29s"
       ]
      },
      {
       "output_type": "stream",
       "stream": "stdout",
       "text": [
        "\r",
        "|\u001b[0;34m===========\u001b[0m\u001b[0;32m>\u001b[0m-----------------------------| 681 /2.4k ( 28.38%) ETA 04m29s"
       ]
      },
      {
       "output_type": "stream",
       "stream": "stdout",
       "text": [
        "\r",
        "|\u001b[0;34m===========\u001b[0m\u001b[0;32m>\u001b[0m-----------------------------| 682 /2.4k ( 28.42%) ETA 04m29s"
       ]
      },
      {
       "output_type": "stream",
       "stream": "stdout",
       "text": [
        "\r",
        "|\u001b[0;34m===========\u001b[0m\u001b[0;32m>\u001b[0m-----------------------------| 683 /2.4k ( 28.46%) ETA 04m29s"
       ]
      },
      {
       "output_type": "stream",
       "stream": "stdout",
       "text": [
        "\r",
        "|\u001b[0;34m===========\u001b[0m\u001b[0;32m>\u001b[0m-----------------------------| 684 /2.4k ( 28.50%) ETA 04m29s"
       ]
      },
      {
       "output_type": "stream",
       "stream": "stdout",
       "text": [
        "\r",
        "|\u001b[0;34m===========\u001b[0m\u001b[0;32m>\u001b[0m-----------------------------| 685 /2.4k ( 28.54%) ETA 04m28s"
       ]
      },
      {
       "output_type": "stream",
       "stream": "stdout",
       "text": [
        "\r",
        "|\u001b[0;34m===========\u001b[0m\u001b[0;32m>\u001b[0m-----------------------------| 686 /2.4k ( 28.58%) ETA 04m28s"
       ]
      },
      {
       "output_type": "stream",
       "stream": "stdout",
       "text": [
        "\r",
        "|\u001b[0;34m===========\u001b[0m\u001b[0;32m>\u001b[0m-----------------------------| 687 /2.4k ( 28.62%) ETA 04m28s"
       ]
      },
      {
       "output_type": "stream",
       "stream": "stdout",
       "text": [
        "\r",
        "|\u001b[0;34m===========\u001b[0m\u001b[0;32m>\u001b[0m-----------------------------| 688 /2.4k ( 28.67%) ETA 04m28s"
       ]
      },
      {
       "output_type": "stream",
       "stream": "stdout",
       "text": [
        "\r",
        "|\u001b[0;34m===========\u001b[0m\u001b[0;32m>\u001b[0m-----------------------------| 689 /2.4k ( 28.71%) ETA 04m28s"
       ]
      },
      {
       "output_type": "stream",
       "stream": "stdout",
       "text": [
        "\r",
        "|\u001b[0;34m===========\u001b[0m\u001b[0;32m>\u001b[0m-----------------------------| 690 /2.4k ( 28.75%) ETA 04m28s"
       ]
      },
      {
       "output_type": "stream",
       "stream": "stdout",
       "text": [
        "\r",
        "|\u001b[0;34m===========\u001b[0m\u001b[0;32m>\u001b[0m-----------------------------| 691 /2.4k ( 28.79%) ETA 04m27s"
       ]
      },
      {
       "output_type": "stream",
       "stream": "stdout",
       "text": [
        "\r",
        "|\u001b[0;34m===========\u001b[0m\u001b[0;32m>\u001b[0m-----------------------------| 692 /2.4k ( 28.83%) ETA 04m27s"
       ]
      },
      {
       "output_type": "stream",
       "stream": "stdout",
       "text": [
        "\r",
        "|\u001b[0;34m===========\u001b[0m\u001b[0;32m>\u001b[0m-----------------------------| 693 /2.4k ( 28.88%) ETA 04m27s"
       ]
      },
      {
       "output_type": "stream",
       "stream": "stdout",
       "text": [
        "\r",
        "|\u001b[0;34m===========\u001b[0m\u001b[0;32m>\u001b[0m-----------------------------| 694 /2.4k ( 28.92%) ETA 04m27s"
       ]
      },
      {
       "output_type": "stream",
       "stream": "stdout",
       "text": [
        "\r",
        "|\u001b[0;34m===========\u001b[0m\u001b[0;32m>\u001b[0m-----------------------------| 695 /2.4k ( 28.96%) ETA 04m27s"
       ]
      },
      {
       "output_type": "stream",
       "stream": "stdout",
       "text": [
        "\r",
        "|\u001b[0;34m===========\u001b[0m\u001b[0;32m>\u001b[0m-----------------------------| 696 /2.4k ( 29.00%) ETA 04m27s"
       ]
      },
      {
       "output_type": "stream",
       "stream": "stdout",
       "text": [
        "\r",
        "|\u001b[0;34m===========\u001b[0m\u001b[0;32m>\u001b[0m-----------------------------| 697 /2.4k ( 29.04%) ETA 04m26s"
       ]
      },
      {
       "output_type": "stream",
       "stream": "stdout",
       "text": [
        "\r",
        "|\u001b[0;34m===========\u001b[0m\u001b[0;32m>\u001b[0m-----------------------------| 698 /2.4k ( 29.08%) ETA 04m26s"
       ]
      },
      {
       "output_type": "stream",
       "stream": "stdout",
       "text": [
        "\r",
        "|\u001b[0;34m===========\u001b[0m\u001b[0;32m>\u001b[0m-----------------------------| 699 /2.4k ( 29.12%) ETA 04m26s"
       ]
      },
      {
       "output_type": "stream",
       "stream": "stdout",
       "text": [
        "\r",
        "|\u001b[0;34m===========\u001b[0m\u001b[0;32m>\u001b[0m-----------------------------| 700 /2.4k ( 29.17%) ETA 04m26s"
       ]
      },
      {
       "output_type": "stream",
       "stream": "stdout",
       "text": [
        "\r",
        "|\u001b[0;34m===========\u001b[0m\u001b[0;32m>\u001b[0m-----------------------------| 701 /2.4k ( 29.21%) ETA 04m26s"
       ]
      },
      {
       "output_type": "stream",
       "stream": "stdout",
       "text": [
        "\r",
        "|\u001b[0;34m===========\u001b[0m\u001b[0;32m>\u001b[0m-----------------------------| 702 /2.4k ( 29.25%) ETA 04m26s"
       ]
      },
      {
       "output_type": "stream",
       "stream": "stdout",
       "text": [
        "\r",
        "|\u001b[0;34m============\u001b[0m\u001b[0;32m>\u001b[0m----------------------------| 703 /2.4k ( 29.29%) ETA 04m26s"
       ]
      },
      {
       "output_type": "stream",
       "stream": "stdout",
       "text": [
        "\r",
        "|\u001b[0;34m============\u001b[0m\u001b[0;32m>\u001b[0m----------------------------| 704 /2.4k ( 29.33%) ETA 04m25s"
       ]
      },
      {
       "output_type": "stream",
       "stream": "stdout",
       "text": [
        "\r",
        "|\u001b[0;34m============\u001b[0m\u001b[0;32m>\u001b[0m----------------------------| 705 /2.4k ( 29.38%) ETA 04m25s"
       ]
      },
      {
       "output_type": "stream",
       "stream": "stdout",
       "text": [
        "\r",
        "|\u001b[0;34m============\u001b[0m\u001b[0;32m>\u001b[0m----------------------------| 706 /2.4k ( 29.42%) ETA 04m25s"
       ]
      },
      {
       "output_type": "stream",
       "stream": "stdout",
       "text": [
        "\r",
        "|\u001b[0;34m============\u001b[0m\u001b[0;32m>\u001b[0m----------------------------| 707 /2.4k ( 29.46%) ETA 04m25s"
       ]
      },
      {
       "output_type": "stream",
       "stream": "stdout",
       "text": [
        "\r",
        "|\u001b[0;34m============\u001b[0m\u001b[0;32m>\u001b[0m----------------------------| 708 /2.4k ( 29.50%) ETA 04m25s"
       ]
      },
      {
       "output_type": "stream",
       "stream": "stdout",
       "text": [
        "\r",
        "|\u001b[0;34m============\u001b[0m\u001b[0;32m>\u001b[0m----------------------------| 709 /2.4k ( 29.54%) ETA 04m25s"
       ]
      },
      {
       "output_type": "stream",
       "stream": "stdout",
       "text": [
        "\r",
        "|\u001b[0;34m============\u001b[0m\u001b[0;32m>\u001b[0m----------------------------| 710 /2.4k ( 29.58%) ETA 04m24s"
       ]
      },
      {
       "output_type": "stream",
       "stream": "stdout",
       "text": [
        "\r",
        "|\u001b[0;34m============\u001b[0m\u001b[0;32m>\u001b[0m----------------------------| 711 /2.4k ( 29.62%) ETA 04m24s"
       ]
      },
      {
       "output_type": "stream",
       "stream": "stdout",
       "text": [
        "\r",
        "|\u001b[0;34m============\u001b[0m\u001b[0;32m>\u001b[0m----------------------------| 712 /2.4k ( 29.67%) ETA 04m24s"
       ]
      },
      {
       "output_type": "stream",
       "stream": "stdout",
       "text": [
        "\r",
        "|\u001b[0;34m============\u001b[0m\u001b[0;32m>\u001b[0m----------------------------| 713 /2.4k ( 29.71%) ETA 04m24s"
       ]
      },
      {
       "output_type": "stream",
       "stream": "stdout",
       "text": [
        "\r",
        "|\u001b[0;34m============\u001b[0m\u001b[0;32m>\u001b[0m----------------------------| 714 /2.4k ( 29.75%) ETA 04m24s"
       ]
      },
      {
       "output_type": "stream",
       "stream": "stdout",
       "text": [
        "\r",
        "|\u001b[0;34m============\u001b[0m\u001b[0;32m>\u001b[0m----------------------------| 715 /2.4k ( 29.79%) ETA 04m24s"
       ]
      },
      {
       "output_type": "stream",
       "stream": "stdout",
       "text": [
        "\r",
        "|\u001b[0;34m============\u001b[0m\u001b[0;32m>\u001b[0m----------------------------| 716 /2.4k ( 29.83%) ETA 04m24s"
       ]
      },
      {
       "output_type": "stream",
       "stream": "stdout",
       "text": [
        "\r",
        "|\u001b[0;34m============\u001b[0m\u001b[0;32m>\u001b[0m----------------------------| 717 /2.4k ( 29.88%) ETA 04m23s"
       ]
      },
      {
       "output_type": "stream",
       "stream": "stdout",
       "text": [
        "\r",
        "|\u001b[0;34m============\u001b[0m\u001b[0;32m>\u001b[0m----------------------------| 718 /2.4k ( 29.92%) ETA 04m23s"
       ]
      },
      {
       "output_type": "stream",
       "stream": "stdout",
       "text": [
        "\r",
        "|\u001b[0;34m============\u001b[0m\u001b[0;32m>\u001b[0m----------------------------| 719 /2.4k ( 29.96%) ETA 04m23s"
       ]
      },
      {
       "output_type": "stream",
       "stream": "stdout",
       "text": [
        "\r",
        "|\u001b[0;34m============\u001b[0m\u001b[0;32m>\u001b[0m----------------------------| 720 /2.4k ( 30.00%) ETA 04m23s"
       ]
      },
      {
       "output_type": "stream",
       "stream": "stdout",
       "text": [
        "\r",
        "|\u001b[0;34m============\u001b[0m\u001b[0;32m>\u001b[0m----------------------------| 721 /2.4k ( 30.04%) ETA 04m23s"
       ]
      },
      {
       "output_type": "stream",
       "stream": "stdout",
       "text": [
        "\r",
        "|\u001b[0;34m============\u001b[0m\u001b[0;32m>\u001b[0m----------------------------| 722 /2.4k ( 30.08%) ETA 04m23s"
       ]
      },
      {
       "output_type": "stream",
       "stream": "stdout",
       "text": [
        "\r",
        "|\u001b[0;34m============\u001b[0m\u001b[0;32m>\u001b[0m----------------------------| 723 /2.4k ( 30.12%) ETA 04m23s"
       ]
      },
      {
       "output_type": "stream",
       "stream": "stdout",
       "text": [
        "\r",
        "|\u001b[0;34m============\u001b[0m\u001b[0;32m>\u001b[0m----------------------------| 724 /2.4k ( 30.17%) ETA 04m22s"
       ]
      },
      {
       "output_type": "stream",
       "stream": "stdout",
       "text": [
        "\r",
        "|\u001b[0;34m============\u001b[0m\u001b[0;32m>\u001b[0m----------------------------| 725 /2.4k ( 30.21%) ETA 04m22s"
       ]
      },
      {
       "output_type": "stream",
       "stream": "stdout",
       "text": [
        "\r",
        "|\u001b[0;34m============\u001b[0m\u001b[0;32m>\u001b[0m----------------------------| 726 /2.4k ( 30.25%) ETA 04m22s"
       ]
      },
      {
       "output_type": "stream",
       "stream": "stdout",
       "text": [
        "\r",
        "|\u001b[0;34m============\u001b[0m\u001b[0;32m>\u001b[0m----------------------------| 727 /2.4k ( 30.29%) ETA 04m22s"
       ]
      },
      {
       "output_type": "stream",
       "stream": "stdout",
       "text": [
        "\r",
        "|\u001b[0;34m============\u001b[0m\u001b[0;32m>\u001b[0m----------------------------| 728 /2.4k ( 30.33%) ETA 04m22s"
       ]
      },
      {
       "output_type": "stream",
       "stream": "stdout",
       "text": [
        "\r",
        "|\u001b[0;34m============\u001b[0m\u001b[0;32m>\u001b[0m----------------------------| 729 /2.4k ( 30.38%) ETA 04m22s"
       ]
      },
      {
       "output_type": "stream",
       "stream": "stdout",
       "text": [
        "\r",
        "|\u001b[0;34m============\u001b[0m\u001b[0;32m>\u001b[0m----------------------------| 730 /2.4k ( 30.42%) ETA 04m21s"
       ]
      },
      {
       "output_type": "stream",
       "stream": "stdout",
       "text": [
        "\r",
        "|\u001b[0;34m============\u001b[0m\u001b[0;32m>\u001b[0m----------------------------| 731 /2.4k ( 30.46%) ETA 04m21s"
       ]
      },
      {
       "output_type": "stream",
       "stream": "stdout",
       "text": [
        "\r",
        "|\u001b[0;34m============\u001b[0m\u001b[0;32m>\u001b[0m----------------------------| 732 /2.4k ( 30.50%) ETA 04m21s"
       ]
      },
      {
       "output_type": "stream",
       "stream": "stdout",
       "text": [
        "\r",
        "|\u001b[0;34m============\u001b[0m\u001b[0;32m>\u001b[0m----------------------------| 733 /2.4k ( 30.54%) ETA 04m21s"
       ]
      },
      {
       "output_type": "stream",
       "stream": "stdout",
       "text": [
        "\r",
        "|\u001b[0;34m============\u001b[0m\u001b[0;32m>\u001b[0m----------------------------| 734 /2.4k ( 30.58%) ETA 04m21s"
       ]
      },
      {
       "output_type": "stream",
       "stream": "stdout",
       "text": [
        "\r",
        "|\u001b[0;34m============\u001b[0m\u001b[0;32m>\u001b[0m----------------------------| 735 /2.4k ( 30.63%) ETA 04m21s"
       ]
      },
      {
       "output_type": "stream",
       "stream": "stdout",
       "text": [
        "\r",
        "|\u001b[0;34m============\u001b[0m\u001b[0;32m>\u001b[0m----------------------------| 736 /2.4k ( 30.67%) ETA 04m20s"
       ]
      },
      {
       "output_type": "stream",
       "stream": "stdout",
       "text": [
        "\r",
        "|\u001b[0;34m============\u001b[0m\u001b[0;32m>\u001b[0m----------------------------| 737 /2.4k ( 30.71%) ETA 04m20s"
       ]
      },
      {
       "output_type": "stream",
       "stream": "stdout",
       "text": [
        "\r",
        "|\u001b[0;34m============\u001b[0m\u001b[0;32m>\u001b[0m----------------------------| 738 /2.4k ( 30.75%) ETA 04m20s"
       ]
      },
      {
       "output_type": "stream",
       "stream": "stdout",
       "text": [
        "\r",
        "|\u001b[0;34m============\u001b[0m\u001b[0;32m>\u001b[0m----------------------------| 739 /2.4k ( 30.79%) ETA 04m20s"
       ]
      },
      {
       "output_type": "stream",
       "stream": "stdout",
       "text": [
        "\r",
        "|\u001b[0;34m============\u001b[0m\u001b[0;32m>\u001b[0m----------------------------| 740 /2.4k ( 30.83%) ETA 04m20s"
       ]
      },
      {
       "output_type": "stream",
       "stream": "stdout",
       "text": [
        "\r",
        "|\u001b[0;34m============\u001b[0m\u001b[0;32m>\u001b[0m----------------------------| 741 /2.4k ( 30.88%) ETA 04m20s"
       ]
      },
      {
       "output_type": "stream",
       "stream": "stdout",
       "text": [
        "\r",
        "|\u001b[0;34m============\u001b[0m\u001b[0;32m>\u001b[0m----------------------------| 742 /2.4k ( 30.92%) ETA 04m20s"
       ]
      },
      {
       "output_type": "stream",
       "stream": "stdout",
       "text": [
        "\r",
        "|\u001b[0;34m============\u001b[0m\u001b[0;32m>\u001b[0m----------------------------| 743 /2.4k ( 30.96%) ETA 04m19s"
       ]
      },
      {
       "output_type": "stream",
       "stream": "stdout",
       "text": [
        "\r",
        "|\u001b[0;34m============\u001b[0m\u001b[0;32m>\u001b[0m----------------------------| 744 /2.4k ( 31.00%) ETA 04m19s"
       ]
      },
      {
       "output_type": "stream",
       "stream": "stdout",
       "text": [
        "\r",
        "|\u001b[0;34m============\u001b[0m\u001b[0;32m>\u001b[0m----------------------------| 745 /2.4k ( 31.04%) ETA 04m19s"
       ]
      },
      {
       "output_type": "stream",
       "stream": "stdout",
       "text": [
        "\r",
        "|\u001b[0;34m============\u001b[0m\u001b[0;32m>\u001b[0m----------------------------| 746 /2.4k ( 31.08%) ETA 04m19s"
       ]
      },
      {
       "output_type": "stream",
       "stream": "stdout",
       "text": [
        "\r",
        "|\u001b[0;34m============\u001b[0m\u001b[0;32m>\u001b[0m----------------------------| 747 /2.4k ( 31.13%) ETA 04m19s"
       ]
      },
      {
       "output_type": "stream",
       "stream": "stdout",
       "text": [
        "\r",
        "|\u001b[0;34m============\u001b[0m\u001b[0;32m>\u001b[0m----------------------------| 748 /2.4k ( 31.17%) ETA 04m19s"
       ]
      },
      {
       "output_type": "stream",
       "stream": "stdout",
       "text": [
        "\r",
        "|\u001b[0;34m============\u001b[0m\u001b[0;32m>\u001b[0m----------------------------| 749 /2.4k ( 31.21%) ETA 04m18s"
       ]
      },
      {
       "output_type": "stream",
       "stream": "stdout",
       "text": [
        "\r",
        "|\u001b[0;34m============\u001b[0m\u001b[0;32m>\u001b[0m----------------------------| 750 /2.4k ( 31.25%) ETA 04m18s"
       ]
      },
      {
       "output_type": "stream",
       "stream": "stdout",
       "text": [
        "\r",
        "|\u001b[0;34m============\u001b[0m\u001b[0;32m>\u001b[0m----------------------------| 751 /2.4k ( 31.29%) ETA 04m18s"
       ]
      },
      {
       "output_type": "stream",
       "stream": "stdout",
       "text": [
        "\r",
        "|\u001b[0;34m============\u001b[0m\u001b[0;32m>\u001b[0m----------------------------| 752 /2.4k ( 31.33%) ETA 04m18s"
       ]
      },
      {
       "output_type": "stream",
       "stream": "stdout",
       "text": [
        "\r",
        "|\u001b[0;34m============\u001b[0m\u001b[0;32m>\u001b[0m----------------------------| 753 /2.4k ( 31.37%) ETA 04m18s"
       ]
      },
      {
       "output_type": "stream",
       "stream": "stdout",
       "text": [
        "\r",
        "|\u001b[0;34m============\u001b[0m\u001b[0;32m>\u001b[0m----------------------------| 754 /2.4k ( 31.42%) ETA 04m18s"
       ]
      },
      {
       "output_type": "stream",
       "stream": "stdout",
       "text": [
        "\r",
        "|\u001b[0;34m============\u001b[0m\u001b[0;32m>\u001b[0m----------------------------| 755 /2.4k ( 31.46%) ETA 04m17s"
       ]
      },
      {
       "output_type": "stream",
       "stream": "stdout",
       "text": [
        "\r",
        "|\u001b[0;34m============\u001b[0m\u001b[0;32m>\u001b[0m----------------------------| 756 /2.4k ( 31.50%) ETA 04m17s"
       ]
      },
      {
       "output_type": "stream",
       "stream": "stdout",
       "text": [
        "\r",
        "|\u001b[0;34m============\u001b[0m\u001b[0;32m>\u001b[0m----------------------------| 757 /2.4k ( 31.54%) ETA 04m17s"
       ]
      },
      {
       "output_type": "stream",
       "stream": "stdout",
       "text": [
        "\r",
        "|\u001b[0;34m============\u001b[0m\u001b[0;32m>\u001b[0m----------------------------| 758 /2.4k ( 31.58%) ETA 04m17s"
       ]
      },
      {
       "output_type": "stream",
       "stream": "stdout",
       "text": [
        "\r",
        "|\u001b[0;34m============\u001b[0m\u001b[0;32m>\u001b[0m----------------------------| 759 /2.4k ( 31.62%) ETA 04m17s"
       ]
      },
      {
       "output_type": "stream",
       "stream": "stdout",
       "text": [
        "\r",
        "|\u001b[0;34m============\u001b[0m\u001b[0;32m>\u001b[0m----------------------------| 760 /2.4k ( 31.67%) ETA 04m17s"
       ]
      },
      {
       "output_type": "stream",
       "stream": "stdout",
       "text": [
        "\r",
        "|\u001b[0;34m=============\u001b[0m\u001b[0;32m>\u001b[0m---------------------------| 761 /2.4k ( 31.71%) ETA 04m17s"
       ]
      },
      {
       "output_type": "stream",
       "stream": "stdout",
       "text": [
        "\r",
        "|\u001b[0;34m=============\u001b[0m\u001b[0;32m>\u001b[0m---------------------------| 762 /2.4k ( 31.75%) ETA 04m17s"
       ]
      },
      {
       "output_type": "stream",
       "stream": "stdout",
       "text": [
        "\r",
        "|\u001b[0;34m=============\u001b[0m\u001b[0;32m>\u001b[0m---------------------------| 763 /2.4k ( 31.79%) ETA 04m16s"
       ]
      },
      {
       "output_type": "stream",
       "stream": "stdout",
       "text": [
        "\r",
        "|\u001b[0;34m=============\u001b[0m\u001b[0;32m>\u001b[0m---------------------------| 764 /2.4k ( 31.83%) ETA 04m16s"
       ]
      },
      {
       "output_type": "stream",
       "stream": "stdout",
       "text": [
        "\r",
        "|\u001b[0;34m=============\u001b[0m\u001b[0;32m>\u001b[0m---------------------------| 765 /2.4k ( 31.87%) ETA 04m16s"
       ]
      },
      {
       "output_type": "stream",
       "stream": "stdout",
       "text": [
        "\r",
        "|\u001b[0;34m=============\u001b[0m\u001b[0;32m>\u001b[0m---------------------------| 766 /2.4k ( 31.92%) ETA 04m16s"
       ]
      },
      {
       "output_type": "stream",
       "stream": "stdout",
       "text": [
        "\r",
        "|\u001b[0;34m=============\u001b[0m\u001b[0;32m>\u001b[0m---------------------------| 767 /2.4k ( 31.96%) ETA 04m16s"
       ]
      },
      {
       "output_type": "stream",
       "stream": "stdout",
       "text": [
        "\r",
        "|\u001b[0;34m=============\u001b[0m\u001b[0;32m>\u001b[0m---------------------------| 768 /2.4k ( 32.00%) ETA 04m16s"
       ]
      },
      {
       "output_type": "stream",
       "stream": "stdout",
       "text": [
        "\r",
        "|\u001b[0;34m=============\u001b[0m\u001b[0;32m>\u001b[0m---------------------------| 769 /2.4k ( 32.04%) ETA 04m15s"
       ]
      },
      {
       "output_type": "stream",
       "stream": "stdout",
       "text": [
        "\r",
        "|\u001b[0;34m=============\u001b[0m\u001b[0;32m>\u001b[0m---------------------------| 770 /2.4k ( 32.08%) ETA 04m15s"
       ]
      },
      {
       "output_type": "stream",
       "stream": "stdout",
       "text": [
        "\r",
        "|\u001b[0;34m=============\u001b[0m\u001b[0;32m>\u001b[0m---------------------------| 771 /2.4k ( 32.12%) ETA 04m15s"
       ]
      },
      {
       "output_type": "stream",
       "stream": "stdout",
       "text": [
        "\r",
        "|\u001b[0;34m=============\u001b[0m\u001b[0;32m>\u001b[0m---------------------------| 772 /2.4k ( 32.17%) ETA 04m15s"
       ]
      },
      {
       "output_type": "stream",
       "stream": "stdout",
       "text": [
        "\r",
        "|\u001b[0;34m=============\u001b[0m\u001b[0;32m>\u001b[0m---------------------------| 773 /2.4k ( 32.21%) ETA 04m15s"
       ]
      },
      {
       "output_type": "stream",
       "stream": "stdout",
       "text": [
        "\r",
        "|\u001b[0;34m=============\u001b[0m\u001b[0;32m>\u001b[0m---------------------------| 774 /2.4k ( 32.25%) ETA 04m15s"
       ]
      },
      {
       "output_type": "stream",
       "stream": "stdout",
       "text": [
        "\r",
        "|\u001b[0;34m=============\u001b[0m\u001b[0;32m>\u001b[0m---------------------------| 775 /2.4k ( 32.29%) ETA 04m14s"
       ]
      },
      {
       "output_type": "stream",
       "stream": "stdout",
       "text": [
        "\r",
        "|\u001b[0;34m=============\u001b[0m\u001b[0;32m>\u001b[0m---------------------------| 776 /2.4k ( 32.33%) ETA 04m14s"
       ]
      },
      {
       "output_type": "stream",
       "stream": "stdout",
       "text": [
        "\r",
        "|\u001b[0;34m=============\u001b[0m\u001b[0;32m>\u001b[0m---------------------------| 777 /2.4k ( 32.38%) ETA 04m14s"
       ]
      },
      {
       "output_type": "stream",
       "stream": "stdout",
       "text": [
        "\r",
        "|\u001b[0;34m=============\u001b[0m\u001b[0;32m>\u001b[0m---------------------------| 778 /2.4k ( 32.42%) ETA 04m14s"
       ]
      },
      {
       "output_type": "stream",
       "stream": "stdout",
       "text": [
        "\r",
        "|\u001b[0;34m=============\u001b[0m\u001b[0;32m>\u001b[0m---------------------------| 779 /2.4k ( 32.46%) ETA 04m14s"
       ]
      },
      {
       "output_type": "stream",
       "stream": "stdout",
       "text": [
        "\r",
        "|\u001b[0;34m=============\u001b[0m\u001b[0;32m>\u001b[0m---------------------------| 780 /2.4k ( 32.50%) ETA 04m14s"
       ]
      },
      {
       "output_type": "stream",
       "stream": "stdout",
       "text": [
        "\r",
        "|\u001b[0;34m=============\u001b[0m\u001b[0;32m>\u001b[0m---------------------------| 781 /2.4k ( 32.54%) ETA 04m13s"
       ]
      },
      {
       "output_type": "stream",
       "stream": "stdout",
       "text": [
        "\r",
        "|\u001b[0;34m=============\u001b[0m\u001b[0;32m>\u001b[0m---------------------------| 782 /2.4k ( 32.58%) ETA 04m13s"
       ]
      },
      {
       "output_type": "stream",
       "stream": "stdout",
       "text": [
        "\r",
        "|\u001b[0;34m=============\u001b[0m\u001b[0;32m>\u001b[0m---------------------------| 783 /2.4k ( 32.62%) ETA 04m13s"
       ]
      },
      {
       "output_type": "stream",
       "stream": "stdout",
       "text": [
        "\r",
        "|\u001b[0;34m=============\u001b[0m\u001b[0;32m>\u001b[0m---------------------------| 784 /2.4k ( 32.67%) ETA 04m13s"
       ]
      },
      {
       "output_type": "stream",
       "stream": "stdout",
       "text": [
        "\r",
        "|\u001b[0;34m=============\u001b[0m\u001b[0;32m>\u001b[0m---------------------------| 785 /2.4k ( 32.71%) ETA 04m13s"
       ]
      },
      {
       "output_type": "stream",
       "stream": "stdout",
       "text": [
        "\r",
        "|\u001b[0;34m=============\u001b[0m\u001b[0;32m>\u001b[0m---------------------------| 786 /2.4k ( 32.75%) ETA 04m13s"
       ]
      },
      {
       "output_type": "stream",
       "stream": "stdout",
       "text": [
        "\r",
        "|\u001b[0;34m=============\u001b[0m\u001b[0;32m>\u001b[0m---------------------------| 787 /2.4k ( 32.79%) ETA 04m13s"
       ]
      },
      {
       "output_type": "stream",
       "stream": "stdout",
       "text": [
        "\r",
        "|\u001b[0;34m=============\u001b[0m\u001b[0;32m>\u001b[0m---------------------------| 788 /2.4k ( 32.83%) ETA 04m12s"
       ]
      },
      {
       "output_type": "stream",
       "stream": "stdout",
       "text": [
        "\r",
        "|\u001b[0;34m=============\u001b[0m\u001b[0;32m>\u001b[0m---------------------------| 789 /2.4k ( 32.88%) ETA 04m12s"
       ]
      },
      {
       "output_type": "stream",
       "stream": "stdout",
       "text": [
        "\r",
        "|\u001b[0;34m=============\u001b[0m\u001b[0;32m>\u001b[0m---------------------------| 790 /2.4k ( 32.92%) ETA 04m12s"
       ]
      },
      {
       "output_type": "stream",
       "stream": "stdout",
       "text": [
        "\r",
        "|\u001b[0;34m=============\u001b[0m\u001b[0;32m>\u001b[0m---------------------------| 791 /2.4k ( 32.96%) ETA 04m12s"
       ]
      },
      {
       "output_type": "stream",
       "stream": "stdout",
       "text": [
        "\r",
        "|\u001b[0;34m=============\u001b[0m\u001b[0;32m>\u001b[0m---------------------------| 792 /2.4k ( 33.00%) ETA 04m12s"
       ]
      },
      {
       "output_type": "stream",
       "stream": "stdout",
       "text": [
        "\r",
        "|\u001b[0;34m=============\u001b[0m\u001b[0;32m>\u001b[0m---------------------------| 793 /2.4k ( 33.04%) ETA 04m12s"
       ]
      },
      {
       "output_type": "stream",
       "stream": "stdout",
       "text": [
        "\r",
        "|\u001b[0;34m=============\u001b[0m\u001b[0;32m>\u001b[0m---------------------------| 794 /2.4k ( 33.08%) ETA 04m11s"
       ]
      },
      {
       "output_type": "stream",
       "stream": "stdout",
       "text": [
        "\r",
        "|\u001b[0;34m=============\u001b[0m\u001b[0;32m>\u001b[0m---------------------------| 795 /2.4k ( 33.12%) ETA 04m11s"
       ]
      },
      {
       "output_type": "stream",
       "stream": "stdout",
       "text": [
        "\r",
        "|\u001b[0;34m=============\u001b[0m\u001b[0;32m>\u001b[0m---------------------------| 796 /2.4k ( 33.17%) ETA 04m11s"
       ]
      },
      {
       "output_type": "stream",
       "stream": "stdout",
       "text": [
        "\r",
        "|\u001b[0;34m=============\u001b[0m\u001b[0;32m>\u001b[0m---------------------------| 797 /2.4k ( 33.21%) ETA 04m11s"
       ]
      },
      {
       "output_type": "stream",
       "stream": "stdout",
       "text": [
        "\r",
        "|\u001b[0;34m=============\u001b[0m\u001b[0;32m>\u001b[0m---------------------------| 798 /2.4k ( 33.25%) ETA 04m11s"
       ]
      },
      {
       "output_type": "stream",
       "stream": "stdout",
       "text": [
        "\r",
        "|\u001b[0;34m=============\u001b[0m\u001b[0;32m>\u001b[0m---------------------------| 799 /2.4k ( 33.29%) ETA 04m11s"
       ]
      },
      {
       "output_type": "stream",
       "stream": "stdout",
       "text": [
        "\r",
        "|\u001b[0;34m=============\u001b[0m\u001b[0;32m>\u001b[0m---------------------------| 800 /2.4k ( 33.33%) ETA 04m10s"
       ]
      },
      {
       "output_type": "stream",
       "stream": "stdout",
       "text": [
        "\r",
        "|\u001b[0;34m=============\u001b[0m\u001b[0;32m>\u001b[0m---------------------------| 801 /2.4k ( 33.38%) ETA 04m10s"
       ]
      },
      {
       "output_type": "stream",
       "stream": "stdout",
       "text": [
        "\r",
        "|\u001b[0;34m=============\u001b[0m\u001b[0;32m>\u001b[0m---------------------------| 802 /2.4k ( 33.42%) ETA 04m10s"
       ]
      },
      {
       "output_type": "stream",
       "stream": "stdout",
       "text": [
        "\r",
        "|\u001b[0;34m=============\u001b[0m\u001b[0;32m>\u001b[0m---------------------------| 803 /2.4k ( 33.46%) ETA 04m10s"
       ]
      },
      {
       "output_type": "stream",
       "stream": "stdout",
       "text": [
        "\r",
        "|\u001b[0;34m=============\u001b[0m\u001b[0;32m>\u001b[0m---------------------------| 804 /2.4k ( 33.50%) ETA 04m10s"
       ]
      },
      {
       "output_type": "stream",
       "stream": "stdout",
       "text": [
        "\r",
        "|\u001b[0;34m=============\u001b[0m\u001b[0;32m>\u001b[0m---------------------------| 805 /2.4k ( 33.54%) ETA 04m10s"
       ]
      },
      {
       "output_type": "stream",
       "stream": "stdout",
       "text": [
        "\r",
        "|\u001b[0;34m=============\u001b[0m\u001b[0;32m>\u001b[0m---------------------------| 806 /2.4k ( 33.58%) ETA 04m09s"
       ]
      },
      {
       "output_type": "stream",
       "stream": "stdout",
       "text": [
        "\r",
        "|\u001b[0;34m=============\u001b[0m\u001b[0;32m>\u001b[0m---------------------------| 807 /2.4k ( 33.62%) ETA 04m09s"
       ]
      },
      {
       "output_type": "stream",
       "stream": "stdout",
       "text": [
        "\r",
        "|\u001b[0;34m=============\u001b[0m\u001b[0;32m>\u001b[0m---------------------------| 808 /2.4k ( 33.67%) ETA 04m09s"
       ]
      },
      {
       "output_type": "stream",
       "stream": "stdout",
       "text": [
        "\r",
        "|\u001b[0;34m=============\u001b[0m\u001b[0;32m>\u001b[0m---------------------------| 809 /2.4k ( 33.71%) ETA 04m09s"
       ]
      },
      {
       "output_type": "stream",
       "stream": "stdout",
       "text": [
        "\r",
        "|\u001b[0;34m=============\u001b[0m\u001b[0;32m>\u001b[0m---------------------------| 810 /2.4k ( 33.75%) ETA 04m09s"
       ]
      },
      {
       "output_type": "stream",
       "stream": "stdout",
       "text": [
        "\r",
        "|\u001b[0;34m=============\u001b[0m\u001b[0;32m>\u001b[0m---------------------------| 811 /2.4k ( 33.79%) ETA 04m09s"
       ]
      },
      {
       "output_type": "stream",
       "stream": "stdout",
       "text": [
        "\r",
        "|\u001b[0;34m=============\u001b[0m\u001b[0;32m>\u001b[0m---------------------------| 812 /2.4k ( 33.83%) ETA 04m08s"
       ]
      },
      {
       "output_type": "stream",
       "stream": "stdout",
       "text": [
        "\r",
        "|\u001b[0;34m=============\u001b[0m\u001b[0;32m>\u001b[0m---------------------------| 813 /2.4k ( 33.88%) ETA 04m08s"
       ]
      },
      {
       "output_type": "stream",
       "stream": "stdout",
       "text": [
        "\r",
        "|\u001b[0;34m=============\u001b[0m\u001b[0;32m>\u001b[0m---------------------------| 814 /2.4k ( 33.92%) ETA 04m08s"
       ]
      },
      {
       "output_type": "stream",
       "stream": "stdout",
       "text": [
        "\r",
        "|\u001b[0;34m=============\u001b[0m\u001b[0;32m>\u001b[0m---------------------------| 815 /2.4k ( 33.96%) ETA 04m08s"
       ]
      },
      {
       "output_type": "stream",
       "stream": "stdout",
       "text": [
        "\r",
        "|\u001b[0;34m=============\u001b[0m\u001b[0;32m>\u001b[0m---------------------------| 816 /2.4k ( 34.00%) ETA 04m08s"
       ]
      },
      {
       "output_type": "stream",
       "stream": "stdout",
       "text": [
        "\r",
        "|\u001b[0;34m=============\u001b[0m\u001b[0;32m>\u001b[0m---------------------------| 817 /2.4k ( 34.04%) ETA 04m08s"
       ]
      },
      {
       "output_type": "stream",
       "stream": "stdout",
       "text": [
        "\r",
        "|\u001b[0;34m=============\u001b[0m\u001b[0;32m>\u001b[0m---------------------------| 818 /2.4k ( 34.08%) ETA 04m07s"
       ]
      },
      {
       "output_type": "stream",
       "stream": "stdout",
       "text": [
        "\r",
        "|\u001b[0;34m=============\u001b[0m\u001b[0;32m>\u001b[0m---------------------------| 819 /2.4k ( 34.12%) ETA 04m07s"
       ]
      },
      {
       "output_type": "stream",
       "stream": "stdout",
       "text": [
        "\r",
        "|\u001b[0;34m==============\u001b[0m\u001b[0;32m>\u001b[0m--------------------------| 820 /2.4k ( 34.17%) ETA 04m07s"
       ]
      },
      {
       "output_type": "stream",
       "stream": "stdout",
       "text": [
        "\r",
        "|\u001b[0;34m==============\u001b[0m\u001b[0;32m>\u001b[0m--------------------------| 821 /2.4k ( 34.21%) ETA 04m07s"
       ]
      },
      {
       "output_type": "stream",
       "stream": "stdout",
       "text": [
        "\r",
        "|\u001b[0;34m==============\u001b[0m\u001b[0;32m>\u001b[0m--------------------------| 822 /2.4k ( 34.25%) ETA 04m07s"
       ]
      },
      {
       "output_type": "stream",
       "stream": "stdout",
       "text": [
        "\r",
        "|\u001b[0;34m==============\u001b[0m\u001b[0;32m>\u001b[0m--------------------------| 823 /2.4k ( 34.29%) ETA 04m07s"
       ]
      },
      {
       "output_type": "stream",
       "stream": "stdout",
       "text": [
        "\r",
        "|\u001b[0;34m==============\u001b[0m\u001b[0;32m>\u001b[0m--------------------------| 824 /2.4k ( 34.33%) ETA 04m06s"
       ]
      },
      {
       "output_type": "stream",
       "stream": "stdout",
       "text": [
        "\r",
        "|\u001b[0;34m==============\u001b[0m\u001b[0;32m>\u001b[0m--------------------------| 825 /2.4k ( 34.38%) ETA 04m06s"
       ]
      },
      {
       "output_type": "stream",
       "stream": "stdout",
       "text": [
        "\r",
        "|\u001b[0;34m==============\u001b[0m\u001b[0;32m>\u001b[0m--------------------------| 826 /2.4k ( 34.42%) ETA 04m06s"
       ]
      },
      {
       "output_type": "stream",
       "stream": "stdout",
       "text": [
        "\r",
        "|\u001b[0;34m==============\u001b[0m\u001b[0;32m>\u001b[0m--------------------------| 827 /2.4k ( 34.46%) ETA 04m06s"
       ]
      },
      {
       "output_type": "stream",
       "stream": "stdout",
       "text": [
        "\r",
        "|\u001b[0;34m==============\u001b[0m\u001b[0;32m>\u001b[0m--------------------------| 828 /2.4k ( 34.50%) ETA 04m06s"
       ]
      },
      {
       "output_type": "stream",
       "stream": "stdout",
       "text": [
        "\r",
        "|\u001b[0;34m==============\u001b[0m\u001b[0;32m>\u001b[0m--------------------------| 829 /2.4k ( 34.54%) ETA 04m06s"
       ]
      },
      {
       "output_type": "stream",
       "stream": "stdout",
       "text": [
        "\r",
        "|\u001b[0;34m==============\u001b[0m\u001b[0;32m>\u001b[0m--------------------------| 830 /2.4k ( 34.58%) ETA 04m05s"
       ]
      },
      {
       "output_type": "stream",
       "stream": "stdout",
       "text": [
        "\r",
        "|\u001b[0;34m==============\u001b[0m\u001b[0;32m>\u001b[0m--------------------------| 831 /2.4k ( 34.62%) ETA 04m05s"
       ]
      },
      {
       "output_type": "stream",
       "stream": "stdout",
       "text": [
        "\r",
        "|\u001b[0;34m==============\u001b[0m\u001b[0;32m>\u001b[0m--------------------------| 832 /2.4k ( 34.67%) ETA 04m05s"
       ]
      },
      {
       "output_type": "stream",
       "stream": "stdout",
       "text": [
        "\r",
        "|\u001b[0;34m==============\u001b[0m\u001b[0;32m>\u001b[0m--------------------------| 833 /2.4k ( 34.71%) ETA 04m05s"
       ]
      },
      {
       "output_type": "stream",
       "stream": "stdout",
       "text": [
        "\r",
        "|\u001b[0;34m==============\u001b[0m\u001b[0;32m>\u001b[0m--------------------------| 834 /2.4k ( 34.75%) ETA 04m05s"
       ]
      },
      {
       "output_type": "stream",
       "stream": "stdout",
       "text": [
        "\r",
        "|\u001b[0;34m==============\u001b[0m\u001b[0;32m>\u001b[0m--------------------------| 835 /2.4k ( 34.79%) ETA 04m05s"
       ]
      },
      {
       "output_type": "stream",
       "stream": "stdout",
       "text": [
        "\r",
        "|\u001b[0;34m==============\u001b[0m\u001b[0;32m>\u001b[0m--------------------------| 836 /2.4k ( 34.83%) ETA 04m05s"
       ]
      },
      {
       "output_type": "stream",
       "stream": "stdout",
       "text": [
        "\r",
        "|\u001b[0;34m==============\u001b[0m\u001b[0;32m>\u001b[0m--------------------------| 837 /2.4k ( 34.88%) ETA 04m04s"
       ]
      },
      {
       "output_type": "stream",
       "stream": "stdout",
       "text": [
        "\r",
        "|\u001b[0;34m==============\u001b[0m\u001b[0;32m>\u001b[0m--------------------------| 838 /2.4k ( 34.92%) ETA 04m04s"
       ]
      },
      {
       "output_type": "stream",
       "stream": "stdout",
       "text": [
        "\r",
        "|\u001b[0;34m==============\u001b[0m\u001b[0;32m>\u001b[0m--------------------------| 839 /2.4k ( 34.96%) ETA 04m04s"
       ]
      },
      {
       "output_type": "stream",
       "stream": "stdout",
       "text": [
        "\r",
        "|\u001b[0;34m==============\u001b[0m\u001b[0;32m>\u001b[0m--------------------------| 840 /2.4k ( 35.00%) ETA 04m04s"
       ]
      },
      {
       "output_type": "stream",
       "stream": "stdout",
       "text": [
        "\r",
        "|\u001b[0;34m==============\u001b[0m\u001b[0;32m>\u001b[0m--------------------------| 841 /2.4k ( 35.04%) ETA 04m04s"
       ]
      },
      {
       "output_type": "stream",
       "stream": "stdout",
       "text": [
        "\r",
        "|\u001b[0;34m==============\u001b[0m\u001b[0;32m>\u001b[0m--------------------------| 842 /2.4k ( 35.08%) ETA 04m04s"
       ]
      },
      {
       "output_type": "stream",
       "stream": "stdout",
       "text": [
        "\r",
        "|\u001b[0;34m==============\u001b[0m\u001b[0;32m>\u001b[0m--------------------------| 843 /2.4k ( 35.12%) ETA 04m04s"
       ]
      },
      {
       "output_type": "stream",
       "stream": "stdout",
       "text": [
        "\r",
        "|\u001b[0;34m==============\u001b[0m\u001b[0;32m>\u001b[0m--------------------------| 844 /2.4k ( 35.17%) ETA 04m04s"
       ]
      },
      {
       "output_type": "stream",
       "stream": "stdout",
       "text": [
        "\r",
        "|\u001b[0;34m==============\u001b[0m\u001b[0;32m>\u001b[0m--------------------------| 845 /2.4k ( 35.21%) ETA 04m03s"
       ]
      },
      {
       "output_type": "stream",
       "stream": "stdout",
       "text": [
        "\r",
        "|\u001b[0;34m==============\u001b[0m\u001b[0;32m>\u001b[0m--------------------------| 846 /2.4k ( 35.25%) ETA 04m03s"
       ]
      },
      {
       "output_type": "stream",
       "stream": "stdout",
       "text": [
        "\r",
        "|\u001b[0;34m==============\u001b[0m\u001b[0;32m>\u001b[0m--------------------------| 847 /2.4k ( 35.29%) ETA 04m03s"
       ]
      },
      {
       "output_type": "stream",
       "stream": "stdout",
       "text": [
        "\r",
        "|\u001b[0;34m==============\u001b[0m\u001b[0;32m>\u001b[0m--------------------------| 848 /2.4k ( 35.33%) ETA 04m03s"
       ]
      },
      {
       "output_type": "stream",
       "stream": "stdout",
       "text": [
        "\r",
        "|\u001b[0;34m==============\u001b[0m\u001b[0;32m>\u001b[0m--------------------------| 849 /2.4k ( 35.38%) ETA 04m03s"
       ]
      },
      {
       "output_type": "stream",
       "stream": "stdout",
       "text": [
        "\r",
        "|\u001b[0;34m==============\u001b[0m\u001b[0;32m>\u001b[0m--------------------------| 850 /2.4k ( 35.42%) ETA 04m03s"
       ]
      },
      {
       "output_type": "stream",
       "stream": "stdout",
       "text": [
        "\r",
        "|\u001b[0;34m==============\u001b[0m\u001b[0;32m>\u001b[0m--------------------------| 851 /2.4k ( 35.46%) ETA 04m03s"
       ]
      },
      {
       "output_type": "stream",
       "stream": "stdout",
       "text": [
        "\r",
        "|\u001b[0;34m==============\u001b[0m\u001b[0;32m>\u001b[0m--------------------------| 852 /2.4k ( 35.50%) ETA 04m02s"
       ]
      },
      {
       "output_type": "stream",
       "stream": "stdout",
       "text": [
        "\r",
        "|\u001b[0;34m==============\u001b[0m\u001b[0;32m>\u001b[0m--------------------------| 853 /2.4k ( 35.54%) ETA 04m02s"
       ]
      },
      {
       "output_type": "stream",
       "stream": "stdout",
       "text": [
        "\r",
        "|\u001b[0;34m==============\u001b[0m\u001b[0;32m>\u001b[0m--------------------------| 854 /2.4k ( 35.58%) ETA 04m02s"
       ]
      },
      {
       "output_type": "stream",
       "stream": "stdout",
       "text": [
        "\r",
        "|\u001b[0;34m==============\u001b[0m\u001b[0;32m>\u001b[0m--------------------------| 855 /2.4k ( 35.62%) ETA 04m02s"
       ]
      },
      {
       "output_type": "stream",
       "stream": "stdout",
       "text": [
        "\r",
        "|\u001b[0;34m==============\u001b[0m\u001b[0;32m>\u001b[0m--------------------------| 856 /2.4k ( 35.67%) ETA 04m02s"
       ]
      },
      {
       "output_type": "stream",
       "stream": "stdout",
       "text": [
        "\r",
        "|\u001b[0;34m==============\u001b[0m\u001b[0;32m>\u001b[0m--------------------------| 857 /2.4k ( 35.71%) ETA 04m02s"
       ]
      },
      {
       "output_type": "stream",
       "stream": "stdout",
       "text": [
        "\r",
        "|\u001b[0;34m==============\u001b[0m\u001b[0;32m>\u001b[0m--------------------------| 858 /2.4k ( 35.75%) ETA 04m02s"
       ]
      },
      {
       "output_type": "stream",
       "stream": "stdout",
       "text": [
        "\r",
        "|\u001b[0;34m==============\u001b[0m\u001b[0;32m>\u001b[0m--------------------------| 859 /2.4k ( 35.79%) ETA 04m01s"
       ]
      },
      {
       "output_type": "stream",
       "stream": "stdout",
       "text": [
        "\r",
        "|\u001b[0;34m==============\u001b[0m\u001b[0;32m>\u001b[0m--------------------------| 860 /2.4k ( 35.83%) ETA 04m01s"
       ]
      },
      {
       "output_type": "stream",
       "stream": "stdout",
       "text": [
        "\r",
        "|\u001b[0;34m==============\u001b[0m\u001b[0;32m>\u001b[0m--------------------------| 861 /2.4k ( 35.88%) ETA 04m01s"
       ]
      },
      {
       "output_type": "stream",
       "stream": "stdout",
       "text": [
        "\r",
        "|\u001b[0;34m==============\u001b[0m\u001b[0;32m>\u001b[0m--------------------------| 862 /2.4k ( 35.92%) ETA 04m01s"
       ]
      },
      {
       "output_type": "stream",
       "stream": "stdout",
       "text": [
        "\r",
        "|\u001b[0;34m==============\u001b[0m\u001b[0;32m>\u001b[0m--------------------------| 863 /2.4k ( 35.96%) ETA 04m01s"
       ]
      },
      {
       "output_type": "stream",
       "stream": "stdout",
       "text": [
        "\r",
        "|\u001b[0;34m==============\u001b[0m\u001b[0;32m>\u001b[0m--------------------------| 864 /2.4k ( 36.00%) ETA 04m01s"
       ]
      },
      {
       "output_type": "stream",
       "stream": "stdout",
       "text": [
        "\r",
        "|\u001b[0;34m==============\u001b[0m\u001b[0;32m>\u001b[0m--------------------------| 865 /2.4k ( 36.04%) ETA 04m00s"
       ]
      },
      {
       "output_type": "stream",
       "stream": "stdout",
       "text": [
        "\r",
        "|\u001b[0;34m==============\u001b[0m\u001b[0;32m>\u001b[0m--------------------------| 866 /2.4k ( 36.08%) ETA 04m00s"
       ]
      },
      {
       "output_type": "stream",
       "stream": "stdout",
       "text": [
        "\r",
        "|\u001b[0;34m==============\u001b[0m\u001b[0;32m>\u001b[0m--------------------------| 867 /2.4k ( 36.12%) ETA 04m00s"
       ]
      },
      {
       "output_type": "stream",
       "stream": "stdout",
       "text": [
        "\r",
        "|\u001b[0;34m==============\u001b[0m\u001b[0;32m>\u001b[0m--------------------------| 868 /2.4k ( 36.17%) ETA 04m00s"
       ]
      },
      {
       "output_type": "stream",
       "stream": "stdout",
       "text": [
        "\r",
        "|\u001b[0;34m==============\u001b[0m\u001b[0;32m>\u001b[0m--------------------------| 869 /2.4k ( 36.21%) ETA 04m00s"
       ]
      },
      {
       "output_type": "stream",
       "stream": "stdout",
       "text": [
        "\r",
        "|\u001b[0;34m==============\u001b[0m\u001b[0;32m>\u001b[0m--------------------------| 870 /2.4k ( 36.25%) ETA 04m00s"
       ]
      },
      {
       "output_type": "stream",
       "stream": "stdout",
       "text": [
        "\r",
        "|\u001b[0;34m==============\u001b[0m\u001b[0;32m>\u001b[0m--------------------------| 871 /2.4k ( 36.29%) ETA 03m59s"
       ]
      },
      {
       "output_type": "stream",
       "stream": "stdout",
       "text": [
        "\r",
        "|\u001b[0;34m==============\u001b[0m\u001b[0;32m>\u001b[0m--------------------------| 872 /2.4k ( 36.33%) ETA 03m59s"
       ]
      },
      {
       "output_type": "stream",
       "stream": "stdout",
       "text": [
        "\r",
        "|\u001b[0;34m==============\u001b[0m\u001b[0;32m>\u001b[0m--------------------------| 873 /2.4k ( 36.38%) ETA 03m59s"
       ]
      },
      {
       "output_type": "stream",
       "stream": "stdout",
       "text": [
        "\r",
        "|\u001b[0;34m==============\u001b[0m\u001b[0;32m>\u001b[0m--------------------------| 874 /2.4k ( 36.42%) ETA 03m59s"
       ]
      },
      {
       "output_type": "stream",
       "stream": "stdout",
       "text": [
        "\r",
        "|\u001b[0;34m==============\u001b[0m\u001b[0;32m>\u001b[0m--------------------------| 875 /2.4k ( 36.46%) ETA 03m59s"
       ]
      },
      {
       "output_type": "stream",
       "stream": "stdout",
       "text": [
        "\r",
        "|\u001b[0;34m==============\u001b[0m\u001b[0;32m>\u001b[0m--------------------------| 876 /2.4k ( 36.50%) ETA 03m59s"
       ]
      },
      {
       "output_type": "stream",
       "stream": "stdout",
       "text": [
        "\r",
        "|\u001b[0;34m==============\u001b[0m\u001b[0;32m>\u001b[0m--------------------------| 877 /2.4k ( 36.54%) ETA 03m59s"
       ]
      },
      {
       "output_type": "stream",
       "stream": "stdout",
       "text": [
        "\r",
        "|\u001b[0;34m==============\u001b[0m\u001b[0;32m>\u001b[0m--------------------------| 878 /2.4k ( 36.58%) ETA 03m58s"
       ]
      },
      {
       "output_type": "stream",
       "stream": "stdout",
       "text": [
        "\r",
        "|\u001b[0;34m===============\u001b[0m\u001b[0;32m>\u001b[0m-------------------------| 879 /2.4k ( 36.62%) ETA 03m58s"
       ]
      },
      {
       "output_type": "stream",
       "stream": "stdout",
       "text": [
        "\r",
        "|\u001b[0;34m===============\u001b[0m\u001b[0;32m>\u001b[0m-------------------------| 880 /2.4k ( 36.67%) ETA 03m58s"
       ]
      },
      {
       "output_type": "stream",
       "stream": "stdout",
       "text": [
        "\r",
        "|\u001b[0;34m===============\u001b[0m\u001b[0;32m>\u001b[0m-------------------------| 881 /2.4k ( 36.71%) ETA 03m58s"
       ]
      },
      {
       "output_type": "stream",
       "stream": "stdout",
       "text": [
        "\r",
        "|\u001b[0;34m===============\u001b[0m\u001b[0;32m>\u001b[0m-------------------------| 882 /2.4k ( 36.75%) ETA 03m58s"
       ]
      },
      {
       "output_type": "stream",
       "stream": "stdout",
       "text": [
        "\r",
        "|\u001b[0;34m===============\u001b[0m\u001b[0;32m>\u001b[0m-------------------------| 883 /2.4k ( 36.79%) ETA 03m58s"
       ]
      },
      {
       "output_type": "stream",
       "stream": "stdout",
       "text": [
        "\r",
        "|\u001b[0;34m===============\u001b[0m\u001b[0;32m>\u001b[0m-------------------------| 884 /2.4k ( 36.83%) ETA 03m57s"
       ]
      },
      {
       "output_type": "stream",
       "stream": "stdout",
       "text": [
        "\r",
        "|\u001b[0;34m===============\u001b[0m\u001b[0;32m>\u001b[0m-------------------------| 885 /2.4k ( 36.88%) ETA 03m57s"
       ]
      },
      {
       "output_type": "stream",
       "stream": "stdout",
       "text": [
        "\r",
        "|\u001b[0;34m===============\u001b[0m\u001b[0;32m>\u001b[0m-------------------------| 886 /2.4k ( 36.92%) ETA 03m57s"
       ]
      },
      {
       "output_type": "stream",
       "stream": "stdout",
       "text": [
        "\r",
        "|\u001b[0;34m===============\u001b[0m\u001b[0;32m>\u001b[0m-------------------------| 887 /2.4k ( 36.96%) ETA 03m57s"
       ]
      },
      {
       "output_type": "stream",
       "stream": "stdout",
       "text": [
        "\r",
        "|\u001b[0;34m===============\u001b[0m\u001b[0;32m>\u001b[0m-------------------------| 888 /2.4k ( 37.00%) ETA 03m57s"
       ]
      },
      {
       "output_type": "stream",
       "stream": "stdout",
       "text": [
        "\r",
        "|\u001b[0;34m===============\u001b[0m\u001b[0;32m>\u001b[0m-------------------------| 889 /2.4k ( 37.04%) ETA 03m57s"
       ]
      },
      {
       "output_type": "stream",
       "stream": "stdout",
       "text": [
        "\r",
        "|\u001b[0;34m===============\u001b[0m\u001b[0;32m>\u001b[0m-------------------------| 890 /2.4k ( 37.08%) ETA 03m56s"
       ]
      },
      {
       "output_type": "stream",
       "stream": "stdout",
       "text": [
        "\r",
        "|\u001b[0;34m===============\u001b[0m\u001b[0;32m>\u001b[0m-------------------------| 891 /2.4k ( 37.12%) ETA 03m56s"
       ]
      },
      {
       "output_type": "stream",
       "stream": "stdout",
       "text": [
        "\r",
        "|\u001b[0;34m===============\u001b[0m\u001b[0;32m>\u001b[0m-------------------------| 892 /2.4k ( 37.17%) ETA 03m56s"
       ]
      },
      {
       "output_type": "stream",
       "stream": "stdout",
       "text": [
        "\r",
        "|\u001b[0;34m===============\u001b[0m\u001b[0;32m>\u001b[0m-------------------------| 893 /2.4k ( 37.21%) ETA 03m56s"
       ]
      },
      {
       "output_type": "stream",
       "stream": "stdout",
       "text": [
        "\r",
        "|\u001b[0;34m===============\u001b[0m\u001b[0;32m>\u001b[0m-------------------------| 894 /2.4k ( 37.25%) ETA 03m56s"
       ]
      },
      {
       "output_type": "stream",
       "stream": "stdout",
       "text": [
        "\r",
        "|\u001b[0;34m===============\u001b[0m\u001b[0;32m>\u001b[0m-------------------------| 895 /2.4k ( 37.29%) ETA 03m56s"
       ]
      },
      {
       "output_type": "stream",
       "stream": "stdout",
       "text": [
        "\r",
        "|\u001b[0;34m===============\u001b[0m\u001b[0;32m>\u001b[0m-------------------------| 896 /2.4k ( 37.33%) ETA 03m56s"
       ]
      },
      {
       "output_type": "stream",
       "stream": "stdout",
       "text": [
        "\r",
        "|\u001b[0;34m===============\u001b[0m\u001b[0;32m>\u001b[0m-------------------------| 897 /2.4k ( 37.38%) ETA 03m55s"
       ]
      },
      {
       "output_type": "stream",
       "stream": "stdout",
       "text": [
        "\r",
        "|\u001b[0;34m===============\u001b[0m\u001b[0;32m>\u001b[0m-------------------------| 898 /2.4k ( 37.42%) ETA 03m55s"
       ]
      },
      {
       "output_type": "stream",
       "stream": "stdout",
       "text": [
        "\r",
        "|\u001b[0;34m===============\u001b[0m\u001b[0;32m>\u001b[0m-------------------------| 899 /2.4k ( 37.46%) ETA 03m55s"
       ]
      },
      {
       "output_type": "stream",
       "stream": "stdout",
       "text": [
        "\r",
        "|\u001b[0;34m===============\u001b[0m\u001b[0;32m>\u001b[0m-------------------------| 900 /2.4k ( 37.50%) ETA 03m55s"
       ]
      },
      {
       "output_type": "stream",
       "stream": "stdout",
       "text": [
        "\r",
        "|\u001b[0;34m===============\u001b[0m\u001b[0;32m>\u001b[0m-------------------------| 901 /2.4k ( 37.54%) ETA 03m55s"
       ]
      },
      {
       "output_type": "stream",
       "stream": "stdout",
       "text": [
        "\r",
        "|\u001b[0;34m===============\u001b[0m\u001b[0;32m>\u001b[0m-------------------------| 902 /2.4k ( 37.58%) ETA 03m55s"
       ]
      },
      {
       "output_type": "stream",
       "stream": "stdout",
       "text": [
        "\r",
        "|\u001b[0;34m===============\u001b[0m\u001b[0;32m>\u001b[0m-------------------------| 903 /2.4k ( 37.62%) ETA 03m54s"
       ]
      },
      {
       "output_type": "stream",
       "stream": "stdout",
       "text": [
        "\r",
        "|\u001b[0;34m===============\u001b[0m\u001b[0;32m>\u001b[0m-------------------------| 904 /2.4k ( 37.67%) ETA 03m54s"
       ]
      },
      {
       "output_type": "stream",
       "stream": "stdout",
       "text": [
        "\r",
        "|\u001b[0;34m===============\u001b[0m\u001b[0;32m>\u001b[0m-------------------------| 905 /2.4k ( 37.71%) ETA 03m54s"
       ]
      },
      {
       "output_type": "stream",
       "stream": "stdout",
       "text": [
        "\r",
        "|\u001b[0;34m===============\u001b[0m\u001b[0;32m>\u001b[0m-------------------------| 906 /2.4k ( 37.75%) ETA 03m54s"
       ]
      },
      {
       "output_type": "stream",
       "stream": "stdout",
       "text": [
        "\r",
        "|\u001b[0;34m===============\u001b[0m\u001b[0;32m>\u001b[0m-------------------------| 907 /2.4k ( 37.79%) ETA 03m54s"
       ]
      },
      {
       "output_type": "stream",
       "stream": "stdout",
       "text": [
        "\r",
        "|\u001b[0;34m===============\u001b[0m\u001b[0;32m>\u001b[0m-------------------------| 908 /2.4k ( 37.83%) ETA 03m54s"
       ]
      },
      {
       "output_type": "stream",
       "stream": "stdout",
       "text": [
        "\r",
        "|\u001b[0;34m===============\u001b[0m\u001b[0;32m>\u001b[0m-------------------------| 909 /2.4k ( 37.88%) ETA 03m53s"
       ]
      },
      {
       "output_type": "stream",
       "stream": "stdout",
       "text": [
        "\r",
        "|\u001b[0;34m===============\u001b[0m\u001b[0;32m>\u001b[0m-------------------------| 910 /2.4k ( 37.92%) ETA 03m53s"
       ]
      },
      {
       "output_type": "stream",
       "stream": "stdout",
       "text": [
        "\r",
        "|\u001b[0;34m===============\u001b[0m\u001b[0;32m>\u001b[0m-------------------------| 911 /2.4k ( 37.96%) ETA 03m53s"
       ]
      },
      {
       "output_type": "stream",
       "stream": "stdout",
       "text": [
        "\r",
        "|\u001b[0;34m===============\u001b[0m\u001b[0;32m>\u001b[0m-------------------------| 912 /2.4k ( 38.00%) ETA 03m53s"
       ]
      },
      {
       "output_type": "stream",
       "stream": "stdout",
       "text": [
        "\r",
        "|\u001b[0;34m===============\u001b[0m\u001b[0;32m>\u001b[0m-------------------------| 913 /2.4k ( 38.04%) ETA 03m53s"
       ]
      },
      {
       "output_type": "stream",
       "stream": "stdout",
       "text": [
        "\r",
        "|\u001b[0;34m===============\u001b[0m\u001b[0;32m>\u001b[0m-------------------------| 914 /2.4k ( 38.08%) ETA 03m53s"
       ]
      },
      {
       "output_type": "stream",
       "stream": "stdout",
       "text": [
        "\r",
        "|\u001b[0;34m===============\u001b[0m\u001b[0;32m>\u001b[0m-------------------------| 915 /2.4k ( 38.12%) ETA 03m52s"
       ]
      },
      {
       "output_type": "stream",
       "stream": "stdout",
       "text": [
        "\r",
        "|\u001b[0;34m===============\u001b[0m\u001b[0;32m>\u001b[0m-------------------------| 916 /2.4k ( 38.17%) ETA 03m52s"
       ]
      },
      {
       "output_type": "stream",
       "stream": "stdout",
       "text": [
        "\r",
        "|\u001b[0;34m===============\u001b[0m\u001b[0;32m>\u001b[0m-------------------------| 917 /2.4k ( 38.21%) ETA 03m52s"
       ]
      },
      {
       "output_type": "stream",
       "stream": "stdout",
       "text": [
        "\r",
        "|\u001b[0;34m===============\u001b[0m\u001b[0;32m>\u001b[0m-------------------------| 918 /2.4k ( 38.25%) ETA 03m52s"
       ]
      },
      {
       "output_type": "stream",
       "stream": "stdout",
       "text": [
        "\r",
        "|\u001b[0;34m===============\u001b[0m\u001b[0;32m>\u001b[0m-------------------------| 919 /2.4k ( 38.29%) ETA 03m52s"
       ]
      },
      {
       "output_type": "stream",
       "stream": "stdout",
       "text": [
        "\r",
        "|\u001b[0;34m===============\u001b[0m\u001b[0;32m>\u001b[0m-------------------------| 920 /2.4k ( 38.33%) ETA 03m52s"
       ]
      },
      {
       "output_type": "stream",
       "stream": "stdout",
       "text": [
        "\r",
        "|\u001b[0;34m===============\u001b[0m\u001b[0;32m>\u001b[0m-------------------------| 921 /2.4k ( 38.38%) ETA 03m51s"
       ]
      },
      {
       "output_type": "stream",
       "stream": "stdout",
       "text": [
        "\r",
        "|\u001b[0;34m===============\u001b[0m\u001b[0;32m>\u001b[0m-------------------------| 922 /2.4k ( 38.42%) ETA 03m51s"
       ]
      },
      {
       "output_type": "stream",
       "stream": "stdout",
       "text": [
        "\r",
        "|\u001b[0;34m===============\u001b[0m\u001b[0;32m>\u001b[0m-------------------------| 923 /2.4k ( 38.46%) ETA 03m51s"
       ]
      },
      {
       "output_type": "stream",
       "stream": "stdout",
       "text": [
        "\r",
        "|\u001b[0;34m===============\u001b[0m\u001b[0;32m>\u001b[0m-------------------------| 924 /2.4k ( 38.50%) ETA 03m51s"
       ]
      },
      {
       "output_type": "stream",
       "stream": "stdout",
       "text": [
        "\r",
        "|\u001b[0;34m===============\u001b[0m\u001b[0;32m>\u001b[0m-------------------------| 925 /2.4k ( 38.54%) ETA 03m51s"
       ]
      },
      {
       "output_type": "stream",
       "stream": "stdout",
       "text": [
        "\r",
        "|\u001b[0;34m===============\u001b[0m\u001b[0;32m>\u001b[0m-------------------------| 926 /2.4k ( 38.58%) ETA 03m51s"
       ]
      },
      {
       "output_type": "stream",
       "stream": "stdout",
       "text": [
        "\r",
        "|\u001b[0;34m===============\u001b[0m\u001b[0;32m>\u001b[0m-------------------------| 927 /2.4k ( 38.62%) ETA 03m51s"
       ]
      },
      {
       "output_type": "stream",
       "stream": "stdout",
       "text": [
        "\r",
        "|\u001b[0;34m===============\u001b[0m\u001b[0;32m>\u001b[0m-------------------------| 928 /2.4k ( 38.67%) ETA 03m51s"
       ]
      },
      {
       "output_type": "stream",
       "stream": "stdout",
       "text": [
        "\r",
        "|\u001b[0;34m===============\u001b[0m\u001b[0;32m>\u001b[0m-------------------------| 929 /2.4k ( 38.71%) ETA 03m50s"
       ]
      },
      {
       "output_type": "stream",
       "stream": "stdout",
       "text": [
        "\r",
        "|\u001b[0;34m===============\u001b[0m\u001b[0;32m>\u001b[0m-------------------------| 930 /2.4k ( 38.75%) ETA 03m50s"
       ]
      },
      {
       "output_type": "stream",
       "stream": "stdout",
       "text": [
        "\r",
        "|\u001b[0;34m===============\u001b[0m\u001b[0;32m>\u001b[0m-------------------------| 931 /2.4k ( 38.79%) ETA 03m50s"
       ]
      },
      {
       "output_type": "stream",
       "stream": "stdout",
       "text": [
        "\r",
        "|\u001b[0;34m===============\u001b[0m\u001b[0;32m>\u001b[0m-------------------------| 932 /2.4k ( 38.83%) ETA 03m50s"
       ]
      },
      {
       "output_type": "stream",
       "stream": "stdout",
       "text": [
        "\r",
        "|\u001b[0;34m===============\u001b[0m\u001b[0;32m>\u001b[0m-------------------------| 933 /2.4k ( 38.88%) ETA 03m50s"
       ]
      },
      {
       "output_type": "stream",
       "stream": "stdout",
       "text": [
        "\r",
        "|\u001b[0;34m===============\u001b[0m\u001b[0;32m>\u001b[0m-------------------------| 934 /2.4k ( 38.92%) ETA 03m50s"
       ]
      },
      {
       "output_type": "stream",
       "stream": "stdout",
       "text": [
        "\r",
        "|\u001b[0;34m===============\u001b[0m\u001b[0;32m>\u001b[0m-------------------------| 935 /2.4k ( 38.96%) ETA 03m49s"
       ]
      },
      {
       "output_type": "stream",
       "stream": "stdout",
       "text": [
        "\r",
        "|\u001b[0;34m===============\u001b[0m\u001b[0;32m>\u001b[0m-------------------------| 936 /2.4k ( 39.00%) ETA 03m49s"
       ]
      },
      {
       "output_type": "stream",
       "stream": "stdout",
       "text": [
        "\r",
        "|\u001b[0;34m================\u001b[0m\u001b[0;32m>\u001b[0m------------------------| 937 /2.4k ( 39.04%) ETA 03m49s"
       ]
      },
      {
       "output_type": "stream",
       "stream": "stdout",
       "text": [
        "\r",
        "|\u001b[0;34m================\u001b[0m\u001b[0;32m>\u001b[0m------------------------| 938 /2.4k ( 39.08%) ETA 03m49s"
       ]
      },
      {
       "output_type": "stream",
       "stream": "stdout",
       "text": [
        "\r",
        "|\u001b[0;34m================\u001b[0m\u001b[0;32m>\u001b[0m------------------------| 939 /2.4k ( 39.12%) ETA 03m49s"
       ]
      },
      {
       "output_type": "stream",
       "stream": "stdout",
       "text": [
        "\r",
        "|\u001b[0;34m================\u001b[0m\u001b[0;32m>\u001b[0m------------------------| 940 /2.4k ( 39.17%) ETA 03m49s"
       ]
      },
      {
       "output_type": "stream",
       "stream": "stdout",
       "text": [
        "\r",
        "|\u001b[0;34m================\u001b[0m\u001b[0;32m>\u001b[0m------------------------| 941 /2.4k ( 39.21%) ETA 03m49s"
       ]
      },
      {
       "output_type": "stream",
       "stream": "stdout",
       "text": [
        "\r",
        "|\u001b[0;34m================\u001b[0m\u001b[0;32m>\u001b[0m------------------------| 942 /2.4k ( 39.25%) ETA 03m48s"
       ]
      },
      {
       "output_type": "stream",
       "stream": "stdout",
       "text": [
        "\r",
        "|\u001b[0;34m================\u001b[0m\u001b[0;32m>\u001b[0m------------------------| 943 /2.4k ( 39.29%) ETA 03m48s"
       ]
      },
      {
       "output_type": "stream",
       "stream": "stdout",
       "text": [
        "\r",
        "|\u001b[0;34m================\u001b[0m\u001b[0;32m>\u001b[0m------------------------| 944 /2.4k ( 39.33%) ETA 03m48s"
       ]
      },
      {
       "output_type": "stream",
       "stream": "stdout",
       "text": [
        "\r",
        "|\u001b[0;34m================\u001b[0m\u001b[0;32m>\u001b[0m------------------------| 945 /2.4k ( 39.38%) ETA 03m48s"
       ]
      },
      {
       "output_type": "stream",
       "stream": "stdout",
       "text": [
        "\r",
        "|\u001b[0;34m================\u001b[0m\u001b[0;32m>\u001b[0m------------------------| 946 /2.4k ( 39.42%) ETA 03m48s"
       ]
      },
      {
       "output_type": "stream",
       "stream": "stdout",
       "text": [
        "\r",
        "|\u001b[0;34m================\u001b[0m\u001b[0;32m>\u001b[0m------------------------| 947 /2.4k ( 39.46%) ETA 03m48s"
       ]
      },
      {
       "output_type": "stream",
       "stream": "stdout",
       "text": [
        "\r",
        "|\u001b[0;34m================\u001b[0m\u001b[0;32m>\u001b[0m------------------------| 948 /2.4k ( 39.50%) ETA 03m47s"
       ]
      },
      {
       "output_type": "stream",
       "stream": "stdout",
       "text": [
        "\r",
        "|\u001b[0;34m================\u001b[0m\u001b[0;32m>\u001b[0m------------------------| 949 /2.4k ( 39.54%) ETA 03m47s"
       ]
      },
      {
       "output_type": "stream",
       "stream": "stdout",
       "text": [
        "\r",
        "|\u001b[0;34m================\u001b[0m\u001b[0;32m>\u001b[0m------------------------| 950 /2.4k ( 39.58%) ETA 03m47s"
       ]
      },
      {
       "output_type": "stream",
       "stream": "stdout",
       "text": [
        "\r",
        "|\u001b[0;34m================\u001b[0m\u001b[0;32m>\u001b[0m------------------------| 951 /2.4k ( 39.62%) ETA 03m47s"
       ]
      },
      {
       "output_type": "stream",
       "stream": "stdout",
       "text": [
        "\r",
        "|\u001b[0;34m================\u001b[0m\u001b[0;32m>\u001b[0m------------------------| 952 /2.4k ( 39.67%) ETA 03m47s"
       ]
      },
      {
       "output_type": "stream",
       "stream": "stdout",
       "text": [
        "\r",
        "|\u001b[0;34m================\u001b[0m\u001b[0;32m>\u001b[0m------------------------| 953 /2.4k ( 39.71%) ETA 03m47s"
       ]
      },
      {
       "output_type": "stream",
       "stream": "stdout",
       "text": [
        "\r",
        "|\u001b[0;34m================\u001b[0m\u001b[0;32m>\u001b[0m------------------------| 954 /2.4k ( 39.75%) ETA 03m46s"
       ]
      },
      {
       "output_type": "stream",
       "stream": "stdout",
       "text": [
        "\r",
        "|\u001b[0;34m================\u001b[0m\u001b[0;32m>\u001b[0m------------------------| 955 /2.4k ( 39.79%) ETA 03m46s"
       ]
      },
      {
       "output_type": "stream",
       "stream": "stdout",
       "text": [
        "\r",
        "|\u001b[0;34m================\u001b[0m\u001b[0;32m>\u001b[0m------------------------| 956 /2.4k ( 39.83%) ETA 03m46s"
       ]
      },
      {
       "output_type": "stream",
       "stream": "stdout",
       "text": [
        "\r",
        "|\u001b[0;34m================\u001b[0m\u001b[0;32m>\u001b[0m------------------------| 957 /2.4k ( 39.88%) ETA 03m46s"
       ]
      },
      {
       "output_type": "stream",
       "stream": "stdout",
       "text": [
        "\r",
        "|\u001b[0;34m================\u001b[0m\u001b[0;32m>\u001b[0m------------------------| 958 /2.4k ( 39.92%) ETA 03m46s"
       ]
      },
      {
       "output_type": "stream",
       "stream": "stdout",
       "text": [
        "\r",
        "|\u001b[0;34m================\u001b[0m\u001b[0;32m>\u001b[0m------------------------| 959 /2.4k ( 39.96%) ETA 03m46s"
       ]
      },
      {
       "output_type": "stream",
       "stream": "stdout",
       "text": [
        "\r",
        "|\u001b[0;34m================\u001b[0m\u001b[0;32m>\u001b[0m------------------------| 960 /2.4k ( 40.00%) ETA 03m46s"
       ]
      },
      {
       "output_type": "stream",
       "stream": "stdout",
       "text": [
        "\r",
        "|\u001b[0;34m================\u001b[0m\u001b[0;32m>\u001b[0m------------------------| 961 /2.4k ( 40.04%) ETA 03m45s"
       ]
      },
      {
       "output_type": "stream",
       "stream": "stdout",
       "text": [
        "\r",
        "|\u001b[0;34m================\u001b[0m\u001b[0;32m>\u001b[0m------------------------| 962 /2.4k ( 40.08%) ETA 03m45s"
       ]
      },
      {
       "output_type": "stream",
       "stream": "stdout",
       "text": [
        "\r",
        "|\u001b[0;34m================\u001b[0m\u001b[0;32m>\u001b[0m------------------------| 963 /2.4k ( 40.12%) ETA 03m45s"
       ]
      },
      {
       "output_type": "stream",
       "stream": "stdout",
       "text": [
        "\r",
        "|\u001b[0;34m================\u001b[0m\u001b[0;32m>\u001b[0m------------------------| 964 /2.4k ( 40.17%) ETA 03m45s"
       ]
      },
      {
       "output_type": "stream",
       "stream": "stdout",
       "text": [
        "\r",
        "|\u001b[0;34m================\u001b[0m\u001b[0;32m>\u001b[0m------------------------| 965 /2.4k ( 40.21%) ETA 03m45s"
       ]
      },
      {
       "output_type": "stream",
       "stream": "stdout",
       "text": [
        "\r",
        "|\u001b[0;34m================\u001b[0m\u001b[0;32m>\u001b[0m------------------------| 966 /2.4k ( 40.25%) ETA 03m45s"
       ]
      },
      {
       "output_type": "stream",
       "stream": "stdout",
       "text": [
        "\r",
        "|\u001b[0;34m================\u001b[0m\u001b[0;32m>\u001b[0m------------------------| 967 /2.4k ( 40.29%) ETA 03m44s"
       ]
      },
      {
       "output_type": "stream",
       "stream": "stdout",
       "text": [
        "\r",
        "|\u001b[0;34m================\u001b[0m\u001b[0;32m>\u001b[0m------------------------| 968 /2.4k ( 40.33%) ETA 03m44s"
       ]
      },
      {
       "output_type": "stream",
       "stream": "stdout",
       "text": [
        "\r",
        "|\u001b[0;34m================\u001b[0m\u001b[0;32m>\u001b[0m------------------------| 969 /2.4k ( 40.38%) ETA 03m44s"
       ]
      },
      {
       "output_type": "stream",
       "stream": "stdout",
       "text": [
        "\r",
        "|\u001b[0;34m================\u001b[0m\u001b[0;32m>\u001b[0m------------------------| 970 /2.4k ( 40.42%) ETA 03m44s"
       ]
      },
      {
       "output_type": "stream",
       "stream": "stdout",
       "text": [
        "\r",
        "|\u001b[0;34m================\u001b[0m\u001b[0;32m>\u001b[0m------------------------| 971 /2.4k ( 40.46%) ETA 03m44s"
       ]
      },
      {
       "output_type": "stream",
       "stream": "stdout",
       "text": [
        "\r",
        "|\u001b[0;34m================\u001b[0m\u001b[0;32m>\u001b[0m------------------------| 972 /2.4k ( 40.50%) ETA 03m44s"
       ]
      },
      {
       "output_type": "stream",
       "stream": "stdout",
       "text": [
        "\r",
        "|\u001b[0;34m================\u001b[0m\u001b[0;32m>\u001b[0m------------------------| 973 /2.4k ( 40.54%) ETA 03m44s"
       ]
      },
      {
       "output_type": "stream",
       "stream": "stdout",
       "text": [
        "\r",
        "|\u001b[0;34m================\u001b[0m\u001b[0;32m>\u001b[0m------------------------| 974 /2.4k ( 40.58%) ETA 03m43s"
       ]
      },
      {
       "output_type": "stream",
       "stream": "stdout",
       "text": [
        "\r",
        "|\u001b[0;34m================\u001b[0m\u001b[0;32m>\u001b[0m------------------------| 975 /2.4k ( 40.62%) ETA 03m43s"
       ]
      },
      {
       "output_type": "stream",
       "stream": "stdout",
       "text": [
        "\r",
        "|\u001b[0;34m================\u001b[0m\u001b[0;32m>\u001b[0m------------------------| 976 /2.4k ( 40.67%) ETA 03m43s"
       ]
      },
      {
       "output_type": "stream",
       "stream": "stdout",
       "text": [
        "\r",
        "|\u001b[0;34m================\u001b[0m\u001b[0;32m>\u001b[0m------------------------| 977 /2.4k ( 40.71%) ETA 03m43s"
       ]
      },
      {
       "output_type": "stream",
       "stream": "stdout",
       "text": [
        "\r",
        "|\u001b[0;34m================\u001b[0m\u001b[0;32m>\u001b[0m------------------------| 978 /2.4k ( 40.75%) ETA 03m43s"
       ]
      },
      {
       "output_type": "stream",
       "stream": "stdout",
       "text": [
        "\r",
        "|\u001b[0;34m================\u001b[0m\u001b[0;32m>\u001b[0m------------------------| 979 /2.4k ( 40.79%) ETA 03m43s"
       ]
      },
      {
       "output_type": "stream",
       "stream": "stdout",
       "text": [
        "\r",
        "|\u001b[0;34m================\u001b[0m\u001b[0;32m>\u001b[0m------------------------| 980 /2.4k ( 40.83%) ETA 03m42s"
       ]
      },
      {
       "output_type": "stream",
       "stream": "stdout",
       "text": [
        "\r",
        "|\u001b[0;34m================\u001b[0m\u001b[0;32m>\u001b[0m------------------------| 981 /2.4k ( 40.88%) ETA 03m42s"
       ]
      },
      {
       "output_type": "stream",
       "stream": "stdout",
       "text": [
        "\r",
        "|\u001b[0;34m================\u001b[0m\u001b[0;32m>\u001b[0m------------------------| 982 /2.4k ( 40.92%) ETA 03m42s"
       ]
      },
      {
       "output_type": "stream",
       "stream": "stdout",
       "text": [
        "\r",
        "|\u001b[0;34m================\u001b[0m\u001b[0;32m>\u001b[0m------------------------| 983 /2.4k ( 40.96%) ETA 03m42s"
       ]
      },
      {
       "output_type": "stream",
       "stream": "stdout",
       "text": [
        "\r",
        "|\u001b[0;34m================\u001b[0m\u001b[0;32m>\u001b[0m------------------------| 984 /2.4k ( 41.00%) ETA 03m42s"
       ]
      },
      {
       "output_type": "stream",
       "stream": "stdout",
       "text": [
        "\r",
        "|\u001b[0;34m================\u001b[0m\u001b[0;32m>\u001b[0m------------------------| 985 /2.4k ( 41.04%) ETA 03m42s"
       ]
      },
      {
       "output_type": "stream",
       "stream": "stdout",
       "text": [
        "\r",
        "|\u001b[0;34m================\u001b[0m\u001b[0;32m>\u001b[0m------------------------| 986 /2.4k ( 41.08%) ETA 03m42s"
       ]
      },
      {
       "output_type": "stream",
       "stream": "stdout",
       "text": [
        "\r",
        "|\u001b[0;34m================\u001b[0m\u001b[0;32m>\u001b[0m------------------------| 987 /2.4k ( 41.12%) ETA 03m41s"
       ]
      },
      {
       "output_type": "stream",
       "stream": "stdout",
       "text": [
        "\r",
        "|\u001b[0;34m================\u001b[0m\u001b[0;32m>\u001b[0m------------------------| 988 /2.4k ( 41.17%) ETA 03m41s"
       ]
      },
      {
       "output_type": "stream",
       "stream": "stdout",
       "text": [
        "\r",
        "|\u001b[0;34m================\u001b[0m\u001b[0;32m>\u001b[0m------------------------| 989 /2.4k ( 41.21%) ETA 03m41s"
       ]
      },
      {
       "output_type": "stream",
       "stream": "stdout",
       "text": [
        "\r",
        "|\u001b[0;34m================\u001b[0m\u001b[0;32m>\u001b[0m------------------------| 990 /2.4k ( 41.25%) ETA 03m41s"
       ]
      },
      {
       "output_type": "stream",
       "stream": "stdout",
       "text": [
        "\r",
        "|\u001b[0;34m================\u001b[0m\u001b[0;32m>\u001b[0m------------------------| 991 /2.4k ( 41.29%) ETA 03m41s"
       ]
      },
      {
       "output_type": "stream",
       "stream": "stdout",
       "text": [
        "\r",
        "|\u001b[0;34m================\u001b[0m\u001b[0;32m>\u001b[0m------------------------| 992 /2.4k ( 41.33%) ETA 03m41s"
       ]
      },
      {
       "output_type": "stream",
       "stream": "stdout",
       "text": [
        "\r",
        "|\u001b[0;34m================\u001b[0m\u001b[0;32m>\u001b[0m------------------------| 993 /2.4k ( 41.38%) ETA 03m40s"
       ]
      },
      {
       "output_type": "stream",
       "stream": "stdout",
       "text": [
        "\r",
        "|\u001b[0;34m================\u001b[0m\u001b[0;32m>\u001b[0m------------------------| 994 /2.4k ( 41.42%) ETA 03m40s"
       ]
      },
      {
       "output_type": "stream",
       "stream": "stdout",
       "text": [
        "\r",
        "|\u001b[0;34m================\u001b[0m\u001b[0;32m>\u001b[0m------------------------| 995 /2.4k ( 41.46%) ETA 03m40s"
       ]
      },
      {
       "output_type": "stream",
       "stream": "stdout",
       "text": [
        "\r",
        "|\u001b[0;34m=================\u001b[0m\u001b[0;32m>\u001b[0m-----------------------| 996 /2.4k ( 41.50%) ETA 03m40s"
       ]
      },
      {
       "output_type": "stream",
       "stream": "stdout",
       "text": [
        "\r",
        "|\u001b[0;34m=================\u001b[0m\u001b[0;32m>\u001b[0m-----------------------| 997 /2.4k ( 41.54%) ETA 03m40s"
       ]
      },
      {
       "output_type": "stream",
       "stream": "stdout",
       "text": [
        "\r",
        "|\u001b[0;34m=================\u001b[0m\u001b[0;32m>\u001b[0m-----------------------| 998 /2.4k ( 41.58%) ETA 03m40s"
       ]
      },
      {
       "output_type": "stream",
       "stream": "stdout",
       "text": [
        "\r",
        "|\u001b[0;34m=================\u001b[0m\u001b[0;32m>\u001b[0m-----------------------| 999 /2.4k ( 41.62%) ETA 03m39s"
       ]
      },
      {
       "output_type": "stream",
       "stream": "stdout",
       "text": [
        "\r",
        "|\u001b[0;34m=================\u001b[0m\u001b[0;32m>\u001b[0m-----------------------| 1.0k/2.4k ( 41.67%) ETA 03m39s"
       ]
      },
      {
       "output_type": "stream",
       "stream": "stdout",
       "text": [
        "\r",
        "|\u001b[0;34m=================\u001b[0m\u001b[0;32m>\u001b[0m-----------------------| 1.0k/2.4k ( 41.71%) ETA 03m39s"
       ]
      },
      {
       "output_type": "stream",
       "stream": "stdout",
       "text": [
        "\r",
        "|\u001b[0;34m=================\u001b[0m\u001b[0;32m>\u001b[0m-----------------------| 1.0k/2.4k ( 41.75%) ETA 03m39s"
       ]
      },
      {
       "output_type": "stream",
       "stream": "stdout",
       "text": [
        "\r",
        "|\u001b[0;34m=================\u001b[0m\u001b[0;32m>\u001b[0m-----------------------| 1.0k/2.4k ( 41.79%) ETA 03m39s"
       ]
      },
      {
       "output_type": "stream",
       "stream": "stdout",
       "text": [
        "\r",
        "|\u001b[0;34m=================\u001b[0m\u001b[0;32m>\u001b[0m-----------------------| 1.0k/2.4k ( 41.83%) ETA 03m39s"
       ]
      },
      {
       "output_type": "stream",
       "stream": "stdout",
       "text": [
        "\r",
        "|\u001b[0;34m=================\u001b[0m\u001b[0;32m>\u001b[0m-----------------------| 1.0k/2.4k ( 41.88%) ETA 03m39s"
       ]
      },
      {
       "output_type": "stream",
       "stream": "stdout",
       "text": [
        "\r",
        "|\u001b[0;34m=================\u001b[0m\u001b[0;32m>\u001b[0m-----------------------| 1.0k/2.4k ( 41.92%) ETA 03m38s"
       ]
      },
      {
       "output_type": "stream",
       "stream": "stdout",
       "text": [
        "\r",
        "|\u001b[0;34m=================\u001b[0m\u001b[0;32m>\u001b[0m-----------------------| 1.0k/2.4k ( 41.96%) ETA 03m38s"
       ]
      },
      {
       "output_type": "stream",
       "stream": "stdout",
       "text": [
        "\r",
        "|\u001b[0;34m=================\u001b[0m\u001b[0;32m>\u001b[0m-----------------------| 1.0k/2.4k ( 42.00%) ETA 03m38s"
       ]
      },
      {
       "output_type": "stream",
       "stream": "stdout",
       "text": [
        "\r",
        "|\u001b[0;34m=================\u001b[0m\u001b[0;32m>\u001b[0m-----------------------| 1.0k/2.4k ( 42.04%) ETA 03m38s"
       ]
      },
      {
       "output_type": "stream",
       "stream": "stdout",
       "text": [
        "\r",
        "|\u001b[0;34m=================\u001b[0m\u001b[0;32m>\u001b[0m-----------------------| 1.0k/2.4k ( 42.08%) ETA 03m38s"
       ]
      },
      {
       "output_type": "stream",
       "stream": "stdout",
       "text": [
        "\r",
        "|\u001b[0;34m=================\u001b[0m\u001b[0;32m>\u001b[0m-----------------------| 1.0k/2.4k ( 42.12%) ETA 03m38s"
       ]
      },
      {
       "output_type": "stream",
       "stream": "stdout",
       "text": [
        "\r",
        "|\u001b[0;34m=================\u001b[0m\u001b[0;32m>\u001b[0m-----------------------| 1.0k/2.4k ( 42.17%) ETA 03m38s"
       ]
      },
      {
       "output_type": "stream",
       "stream": "stdout",
       "text": [
        "\r",
        "|\u001b[0;34m=================\u001b[0m\u001b[0;32m>\u001b[0m-----------------------| 1.0k/2.4k ( 42.21%) ETA 03m37s"
       ]
      },
      {
       "output_type": "stream",
       "stream": "stdout",
       "text": [
        "\r",
        "|\u001b[0;34m=================\u001b[0m\u001b[0;32m>\u001b[0m-----------------------| 1.0k/2.4k ( 42.25%) ETA 03m37s"
       ]
      },
      {
       "output_type": "stream",
       "stream": "stdout",
       "text": [
        "\r",
        "|\u001b[0;34m=================\u001b[0m\u001b[0;32m>\u001b[0m-----------------------| 1.0k/2.4k ( 42.29%) ETA 03m37s"
       ]
      },
      {
       "output_type": "stream",
       "stream": "stdout",
       "text": [
        "\r",
        "|\u001b[0;34m=================\u001b[0m\u001b[0;32m>\u001b[0m-----------------------| 1.0k/2.4k ( 42.33%) ETA 03m37s"
       ]
      },
      {
       "output_type": "stream",
       "stream": "stdout",
       "text": [
        "\r",
        "|\u001b[0;34m=================\u001b[0m\u001b[0;32m>\u001b[0m-----------------------| 1.0k/2.4k ( 42.38%) ETA 03m37s"
       ]
      },
      {
       "output_type": "stream",
       "stream": "stdout",
       "text": [
        "\r",
        "|\u001b[0;34m=================\u001b[0m\u001b[0;32m>\u001b[0m-----------------------| 1.0k/2.4k ( 42.42%) ETA 03m37s"
       ]
      },
      {
       "output_type": "stream",
       "stream": "stdout",
       "text": [
        "\r",
        "|\u001b[0;34m=================\u001b[0m\u001b[0;32m>\u001b[0m-----------------------| 1.0k/2.4k ( 42.46%) ETA 03m36s"
       ]
      },
      {
       "output_type": "stream",
       "stream": "stdout",
       "text": [
        "\r",
        "|\u001b[0;34m=================\u001b[0m\u001b[0;32m>\u001b[0m-----------------------| 1.0k/2.4k ( 42.50%) ETA 03m36s"
       ]
      },
      {
       "output_type": "stream",
       "stream": "stdout",
       "text": [
        "\r",
        "|\u001b[0;34m=================\u001b[0m\u001b[0;32m>\u001b[0m-----------------------| 1.0k/2.4k ( 42.54%) ETA 03m36s"
       ]
      },
      {
       "output_type": "stream",
       "stream": "stdout",
       "text": [
        "\r",
        "|\u001b[0;34m=================\u001b[0m\u001b[0;32m>\u001b[0m-----------------------| 1.0k/2.4k ( 42.58%) ETA 03m36s"
       ]
      },
      {
       "output_type": "stream",
       "stream": "stdout",
       "text": [
        "\r",
        "|\u001b[0;34m=================\u001b[0m\u001b[0;32m>\u001b[0m-----------------------| 1.0k/2.4k ( 42.62%) ETA 03m36s"
       ]
      },
      {
       "output_type": "stream",
       "stream": "stdout",
       "text": [
        "\r",
        "|\u001b[0;34m=================\u001b[0m\u001b[0;32m>\u001b[0m-----------------------| 1.0k/2.4k ( 42.67%) ETA 03m36s"
       ]
      },
      {
       "output_type": "stream",
       "stream": "stdout",
       "text": [
        "\r",
        "|\u001b[0;34m=================\u001b[0m\u001b[0;32m>\u001b[0m-----------------------| 1.0k/2.4k ( 42.71%) ETA 03m35s"
       ]
      },
      {
       "output_type": "stream",
       "stream": "stdout",
       "text": [
        "\r",
        "|\u001b[0;34m=================\u001b[0m\u001b[0;32m>\u001b[0m-----------------------| 1.0k/2.4k ( 42.75%) ETA 03m35s"
       ]
      },
      {
       "output_type": "stream",
       "stream": "stdout",
       "text": [
        "\r",
        "|\u001b[0;34m=================\u001b[0m\u001b[0;32m>\u001b[0m-----------------------| 1.0k/2.4k ( 42.79%) ETA 03m35s"
       ]
      },
      {
       "output_type": "stream",
       "stream": "stdout",
       "text": [
        "\r",
        "|\u001b[0;34m=================\u001b[0m\u001b[0;32m>\u001b[0m-----------------------| 1.0k/2.4k ( 42.83%) ETA 03m35s"
       ]
      },
      {
       "output_type": "stream",
       "stream": "stdout",
       "text": [
        "\r",
        "|\u001b[0;34m=================\u001b[0m\u001b[0;32m>\u001b[0m-----------------------| 1.0k/2.4k ( 42.88%) ETA 03m35s"
       ]
      },
      {
       "output_type": "stream",
       "stream": "stdout",
       "text": [
        "\r",
        "|\u001b[0;34m=================\u001b[0m\u001b[0;32m>\u001b[0m-----------------------| 1.0k/2.4k ( 42.92%) ETA 03m35s"
       ]
      },
      {
       "output_type": "stream",
       "stream": "stdout",
       "text": [
        "\r",
        "|\u001b[0;34m=================\u001b[0m\u001b[0;32m>\u001b[0m-----------------------| 1.0k/2.4k ( 42.96%) ETA 03m34s"
       ]
      },
      {
       "output_type": "stream",
       "stream": "stdout",
       "text": [
        "\r",
        "|\u001b[0;34m=================\u001b[0m\u001b[0;32m>\u001b[0m-----------------------| 1.0k/2.4k ( 43.00%) ETA 03m34s"
       ]
      },
      {
       "output_type": "stream",
       "stream": "stdout",
       "text": [
        "\r",
        "|\u001b[0;34m=================\u001b[0m\u001b[0;32m>\u001b[0m-----------------------| 1.0k/2.4k ( 43.04%) ETA 03m34s"
       ]
      },
      {
       "output_type": "stream",
       "stream": "stdout",
       "text": [
        "\r",
        "|\u001b[0;34m=================\u001b[0m\u001b[0;32m>\u001b[0m-----------------------| 1.0k/2.4k ( 43.08%) ETA 03m34s"
       ]
      },
      {
       "output_type": "stream",
       "stream": "stdout",
       "text": [
        "\r",
        "|\u001b[0;34m=================\u001b[0m\u001b[0;32m>\u001b[0m-----------------------| 1.0k/2.4k ( 43.12%) ETA 03m34s"
       ]
      },
      {
       "output_type": "stream",
       "stream": "stdout",
       "text": [
        "\r",
        "|\u001b[0;34m=================\u001b[0m\u001b[0;32m>\u001b[0m-----------------------| 1.0k/2.4k ( 43.17%) ETA 03m34s"
       ]
      },
      {
       "output_type": "stream",
       "stream": "stdout",
       "text": [
        "\r",
        "|\u001b[0;34m=================\u001b[0m\u001b[0;32m>\u001b[0m-----------------------| 1.0k/2.4k ( 43.21%) ETA 03m34s"
       ]
      },
      {
       "output_type": "stream",
       "stream": "stdout",
       "text": [
        "\r",
        "|\u001b[0;34m=================\u001b[0m\u001b[0;32m>\u001b[0m-----------------------| 1.0k/2.4k ( 43.25%) ETA 03m33s"
       ]
      },
      {
       "output_type": "stream",
       "stream": "stdout",
       "text": [
        "\r",
        "|\u001b[0;34m=================\u001b[0m\u001b[0;32m>\u001b[0m-----------------------| 1.0k/2.4k ( 43.29%) ETA 03m33s"
       ]
      },
      {
       "output_type": "stream",
       "stream": "stdout",
       "text": [
        "\r",
        "|\u001b[0;34m=================\u001b[0m\u001b[0;32m>\u001b[0m-----------------------| 1.0k/2.4k ( 43.33%) ETA 03m33s"
       ]
      },
      {
       "output_type": "stream",
       "stream": "stdout",
       "text": [
        "\r",
        "|\u001b[0;34m=================\u001b[0m\u001b[0;32m>\u001b[0m-----------------------| 1.0k/2.4k ( 43.38%) ETA 03m33s"
       ]
      },
      {
       "output_type": "stream",
       "stream": "stdout",
       "text": [
        "\r",
        "|\u001b[0;34m=================\u001b[0m\u001b[0;32m>\u001b[0m-----------------------| 1.0k/2.4k ( 43.42%) ETA 03m33s"
       ]
      },
      {
       "output_type": "stream",
       "stream": "stdout",
       "text": [
        "\r",
        "|\u001b[0;34m=================\u001b[0m\u001b[0;32m>\u001b[0m-----------------------| 1.0k/2.4k ( 43.46%) ETA 03m33s"
       ]
      },
      {
       "output_type": "stream",
       "stream": "stdout",
       "text": [
        "\r",
        "|\u001b[0;34m=================\u001b[0m\u001b[0;32m>\u001b[0m-----------------------| 1.0k/2.4k ( 43.50%) ETA 03m32s"
       ]
      },
      {
       "output_type": "stream",
       "stream": "stdout",
       "text": [
        "\r",
        "|\u001b[0;34m=================\u001b[0m\u001b[0;32m>\u001b[0m-----------------------| 1.0k/2.4k ( 43.54%) ETA 03m32s"
       ]
      },
      {
       "output_type": "stream",
       "stream": "stdout",
       "text": [
        "\r",
        "|\u001b[0;34m=================\u001b[0m\u001b[0;32m>\u001b[0m-----------------------| 1.0k/2.4k ( 43.58%) ETA 03m32s"
       ]
      },
      {
       "output_type": "stream",
       "stream": "stdout",
       "text": [
        "\r",
        "|\u001b[0;34m=================\u001b[0m\u001b[0;32m>\u001b[0m-----------------------| 1.0k/2.4k ( 43.62%) ETA 03m32s"
       ]
      },
      {
       "output_type": "stream",
       "stream": "stdout",
       "text": [
        "\r",
        "|\u001b[0;34m=================\u001b[0m\u001b[0;32m>\u001b[0m-----------------------| 1.0k/2.4k ( 43.67%) ETA 03m32s"
       ]
      },
      {
       "output_type": "stream",
       "stream": "stdout",
       "text": [
        "\r",
        "|\u001b[0;34m=================\u001b[0m\u001b[0;32m>\u001b[0m-----------------------| 1.0k/2.4k ( 43.71%) ETA 03m32s"
       ]
      },
      {
       "output_type": "stream",
       "stream": "stdout",
       "text": [
        "\r",
        "|\u001b[0;34m=================\u001b[0m\u001b[0;32m>\u001b[0m-----------------------| 1.0k/2.4k ( 43.75%) ETA 03m32s"
       ]
      },
      {
       "output_type": "stream",
       "stream": "stdout",
       "text": [
        "\r",
        "|\u001b[0;34m=================\u001b[0m\u001b[0;32m>\u001b[0m-----------------------| 1.0k/2.4k ( 43.79%) ETA 03m31s"
       ]
      },
      {
       "output_type": "stream",
       "stream": "stdout",
       "text": [
        "\r",
        "|\u001b[0;34m=================\u001b[0m\u001b[0;32m>\u001b[0m-----------------------| 1.0k/2.4k ( 43.83%) ETA 03m31s"
       ]
      },
      {
       "output_type": "stream",
       "stream": "stdout",
       "text": [
        "\r",
        "|\u001b[0;34m=================\u001b[0m\u001b[0;32m>\u001b[0m-----------------------| 1.0k/2.4k ( 43.88%) ETA 03m31s"
       ]
      },
      {
       "output_type": "stream",
       "stream": "stdout",
       "text": [
        "\r",
        "|\u001b[0;34m==================\u001b[0m\u001b[0;32m>\u001b[0m----------------------| 1.0k/2.4k ( 43.92%) ETA 03m31s"
       ]
      },
      {
       "output_type": "stream",
       "stream": "stdout",
       "text": [
        "\r",
        "|\u001b[0;34m==================\u001b[0m\u001b[0;32m>\u001b[0m----------------------| 1.0k/2.4k ( 43.96%) ETA 03m31s"
       ]
      },
      {
       "output_type": "stream",
       "stream": "stdout",
       "text": [
        "\r",
        "|\u001b[0;34m==================\u001b[0m\u001b[0;32m>\u001b[0m----------------------| 1.0k/2.4k ( 44.00%) ETA 03m31s"
       ]
      },
      {
       "output_type": "stream",
       "stream": "stdout",
       "text": [
        "\r",
        "|\u001b[0;34m==================\u001b[0m\u001b[0;32m>\u001b[0m----------------------| 1.0k/2.4k ( 44.04%) ETA 03m30s"
       ]
      },
      {
       "output_type": "stream",
       "stream": "stdout",
       "text": [
        "\r",
        "|\u001b[0;34m==================\u001b[0m\u001b[0;32m>\u001b[0m----------------------| 1.0k/2.4k ( 44.08%) ETA 03m30s"
       ]
      },
      {
       "output_type": "stream",
       "stream": "stdout",
       "text": [
        "\r",
        "|\u001b[0;34m==================\u001b[0m\u001b[0;32m>\u001b[0m----------------------| 1.0k/2.4k ( 44.12%) ETA 03m30s"
       ]
      },
      {
       "output_type": "stream",
       "stream": "stdout",
       "text": [
        "\r",
        "|\u001b[0;34m==================\u001b[0m\u001b[0;32m>\u001b[0m----------------------| 1.0k/2.4k ( 44.17%) ETA 03m30s"
       ]
      },
      {
       "output_type": "stream",
       "stream": "stdout",
       "text": [
        "\r",
        "|\u001b[0;34m==================\u001b[0m\u001b[0;32m>\u001b[0m----------------------| 1.0k/2.4k ( 44.21%) ETA 03m30s"
       ]
      },
      {
       "output_type": "stream",
       "stream": "stdout",
       "text": [
        "\r",
        "|\u001b[0;34m==================\u001b[0m\u001b[0;32m>\u001b[0m----------------------| 1.0k/2.4k ( 44.25%) ETA 03m30s"
       ]
      },
      {
       "output_type": "stream",
       "stream": "stdout",
       "text": [
        "\r",
        "|\u001b[0;34m==================\u001b[0m\u001b[0;32m>\u001b[0m----------------------| 1.0k/2.4k ( 44.29%) ETA 03m29s"
       ]
      },
      {
       "output_type": "stream",
       "stream": "stdout",
       "text": [
        "\r",
        "|\u001b[0;34m==================\u001b[0m\u001b[0;32m>\u001b[0m----------------------| 1.0k/2.4k ( 44.33%) ETA 03m29s"
       ]
      },
      {
       "output_type": "stream",
       "stream": "stdout",
       "text": [
        "\r",
        "|\u001b[0;34m==================\u001b[0m\u001b[0;32m>\u001b[0m----------------------| 1.0k/2.4k ( 44.38%) ETA 03m29s"
       ]
      },
      {
       "output_type": "stream",
       "stream": "stdout",
       "text": [
        "\r",
        "|\u001b[0;34m==================\u001b[0m\u001b[0;32m>\u001b[0m----------------------| 1.0k/2.4k ( 44.42%) ETA 03m29s"
       ]
      },
      {
       "output_type": "stream",
       "stream": "stdout",
       "text": [
        "\r",
        "|\u001b[0;34m==================\u001b[0m\u001b[0;32m>\u001b[0m----------------------| 1.0k/2.4k ( 44.46%) ETA 03m29s"
       ]
      },
      {
       "output_type": "stream",
       "stream": "stdout",
       "text": [
        "\r",
        "|\u001b[0;34m==================\u001b[0m\u001b[0;32m>\u001b[0m----------------------| 1.0k/2.4k ( 44.50%) ETA 03m29s"
       ]
      },
      {
       "output_type": "stream",
       "stream": "stdout",
       "text": [
        "\r",
        "|\u001b[0;34m==================\u001b[0m\u001b[0;32m>\u001b[0m----------------------| 1.0k/2.4k ( 44.54%) ETA 03m28s"
       ]
      },
      {
       "output_type": "stream",
       "stream": "stdout",
       "text": [
        "\r",
        "|\u001b[0;34m==================\u001b[0m\u001b[0;32m>\u001b[0m----------------------| 1.0k/2.4k ( 44.58%) ETA 03m28s"
       ]
      },
      {
       "output_type": "stream",
       "stream": "stdout",
       "text": [
        "\r",
        "|\u001b[0;34m==================\u001b[0m\u001b[0;32m>\u001b[0m----------------------| 1.0k/2.4k ( 44.62%) ETA 03m28s"
       ]
      },
      {
       "output_type": "stream",
       "stream": "stdout",
       "text": [
        "\r",
        "|\u001b[0;34m==================\u001b[0m\u001b[0;32m>\u001b[0m----------------------| 1.0k/2.4k ( 44.67%) ETA 03m28s"
       ]
      },
      {
       "output_type": "stream",
       "stream": "stdout",
       "text": [
        "\r",
        "|\u001b[0;34m==================\u001b[0m\u001b[0;32m>\u001b[0m----------------------| 1.0k/2.4k ( 44.71%) ETA 03m28s"
       ]
      },
      {
       "output_type": "stream",
       "stream": "stdout",
       "text": [
        "\r",
        "|\u001b[0;34m==================\u001b[0m\u001b[0;32m>\u001b[0m----------------------| 1.0k/2.4k ( 44.75%) ETA 03m28s"
       ]
      },
      {
       "output_type": "stream",
       "stream": "stdout",
       "text": [
        "\r",
        "|\u001b[0;34m==================\u001b[0m\u001b[0;32m>\u001b[0m----------------------| 1.0k/2.4k ( 44.79%) ETA 03m28s"
       ]
      },
      {
       "output_type": "stream",
       "stream": "stdout",
       "text": [
        "\r",
        "|\u001b[0;34m==================\u001b[0m\u001b[0;32m>\u001b[0m----------------------| 1.0k/2.4k ( 44.83%) ETA 03m27s"
       ]
      },
      {
       "output_type": "stream",
       "stream": "stdout",
       "text": [
        "\r",
        "|\u001b[0;34m==================\u001b[0m\u001b[0;32m>\u001b[0m----------------------| 1.0k/2.4k ( 44.88%) ETA 03m27s"
       ]
      },
      {
       "output_type": "stream",
       "stream": "stdout",
       "text": [
        "\r",
        "|\u001b[0;34m==================\u001b[0m\u001b[0;32m>\u001b[0m----------------------| 1.0k/2.4k ( 44.92%) ETA 03m27s"
       ]
      },
      {
       "output_type": "stream",
       "stream": "stdout",
       "text": [
        "\r",
        "|\u001b[0;34m==================\u001b[0m\u001b[0;32m>\u001b[0m----------------------| 1.0k/2.4k ( 44.96%) ETA 03m27s"
       ]
      },
      {
       "output_type": "stream",
       "stream": "stdout",
       "text": [
        "\r",
        "|\u001b[0;34m==================\u001b[0m\u001b[0;32m>\u001b[0m----------------------| 1.0k/2.4k ( 45.00%) ETA 03m27s"
       ]
      },
      {
       "output_type": "stream",
       "stream": "stdout",
       "text": [
        "\r",
        "|\u001b[0;34m==================\u001b[0m\u001b[0;32m>\u001b[0m----------------------| 1.0k/2.4k ( 45.04%) ETA 03m27s"
       ]
      },
      {
       "output_type": "stream",
       "stream": "stdout",
       "text": [
        "\r",
        "|\u001b[0;34m==================\u001b[0m\u001b[0;32m>\u001b[0m----------------------| 1.0k/2.4k ( 45.08%) ETA 03m26s"
       ]
      },
      {
       "output_type": "stream",
       "stream": "stdout",
       "text": [
        "\r",
        "|\u001b[0;34m==================\u001b[0m\u001b[0;32m>\u001b[0m----------------------| 1.0k/2.4k ( 45.12%) ETA 03m26s"
       ]
      },
      {
       "output_type": "stream",
       "stream": "stdout",
       "text": [
        "\r",
        "|\u001b[0;34m==================\u001b[0m\u001b[0;32m>\u001b[0m----------------------| 1.0k/2.4k ( 45.17%) ETA 03m26s"
       ]
      },
      {
       "output_type": "stream",
       "stream": "stdout",
       "text": [
        "\r",
        "|\u001b[0;34m==================\u001b[0m\u001b[0;32m>\u001b[0m----------------------| 1.0k/2.4k ( 45.21%) ETA 03m26s"
       ]
      },
      {
       "output_type": "stream",
       "stream": "stdout",
       "text": [
        "\r",
        "|\u001b[0;34m==================\u001b[0m\u001b[0;32m>\u001b[0m----------------------| 1.0k/2.4k ( 45.25%) ETA 03m26s"
       ]
      },
      {
       "output_type": "stream",
       "stream": "stdout",
       "text": [
        "\r",
        "|\u001b[0;34m==================\u001b[0m\u001b[0;32m>\u001b[0m----------------------| 1.0k/2.4k ( 45.29%) ETA 03m26s"
       ]
      },
      {
       "output_type": "stream",
       "stream": "stdout",
       "text": [
        "\r",
        "|\u001b[0;34m==================\u001b[0m\u001b[0;32m>\u001b[0m----------------------| 1.0k/2.4k ( 45.33%) ETA 03m25s"
       ]
      },
      {
       "output_type": "stream",
       "stream": "stdout",
       "text": [
        "\r",
        "|\u001b[0;34m==================\u001b[0m\u001b[0;32m>\u001b[0m----------------------| 1.0k/2.4k ( 45.38%) ETA 03m25s"
       ]
      },
      {
       "output_type": "stream",
       "stream": "stdout",
       "text": [
        "\r",
        "|\u001b[0;34m==================\u001b[0m\u001b[0;32m>\u001b[0m----------------------| 1.0k/2.4k ( 45.42%) ETA 03m25s"
       ]
      },
      {
       "output_type": "stream",
       "stream": "stdout",
       "text": [
        "\r",
        "|\u001b[0;34m==================\u001b[0m\u001b[0;32m>\u001b[0m----------------------| 1.0k/2.4k ( 45.46%) ETA 03m25s"
       ]
      },
      {
       "output_type": "stream",
       "stream": "stdout",
       "text": [
        "\r",
        "|\u001b[0;34m==================\u001b[0m\u001b[0;32m>\u001b[0m----------------------| 1.0k/2.4k ( 45.50%) ETA 03m25s"
       ]
      },
      {
       "output_type": "stream",
       "stream": "stdout",
       "text": [
        "\r",
        "|\u001b[0;34m==================\u001b[0m\u001b[0;32m>\u001b[0m----------------------| 1.0k/2.4k ( 45.54%) ETA 03m25s"
       ]
      },
      {
       "output_type": "stream",
       "stream": "stdout",
       "text": [
        "\r",
        "|\u001b[0;34m==================\u001b[0m\u001b[0;32m>\u001b[0m----------------------| 1.0k/2.4k ( 45.58%) ETA 03m25s"
       ]
      },
      {
       "output_type": "stream",
       "stream": "stdout",
       "text": [
        "\r",
        "|\u001b[0;34m==================\u001b[0m\u001b[0;32m>\u001b[0m----------------------| 1.0k/2.4k ( 45.62%) ETA 03m24s"
       ]
      },
      {
       "output_type": "stream",
       "stream": "stdout",
       "text": [
        "\r",
        "|\u001b[0;34m==================\u001b[0m\u001b[0;32m>\u001b[0m----------------------| 1.0k/2.4k ( 45.67%) ETA 03m24s"
       ]
      },
      {
       "output_type": "stream",
       "stream": "stdout",
       "text": [
        "\r",
        "|\u001b[0;34m==================\u001b[0m\u001b[0;32m>\u001b[0m----------------------| 1.0k/2.4k ( 45.71%) ETA 03m24s"
       ]
      },
      {
       "output_type": "stream",
       "stream": "stdout",
       "text": [
        "\r",
        "|\u001b[0;34m==================\u001b[0m\u001b[0;32m>\u001b[0m----------------------| 1.0k/2.4k ( 45.75%) ETA 03m24s"
       ]
      },
      {
       "output_type": "stream",
       "stream": "stdout",
       "text": [
        "\r",
        "|\u001b[0;34m==================\u001b[0m\u001b[0;32m>\u001b[0m----------------------| 1.0k/2.4k ( 45.79%) ETA 03m24s"
       ]
      },
      {
       "output_type": "stream",
       "stream": "stdout",
       "text": [
        "\r",
        "|\u001b[0;34m==================\u001b[0m\u001b[0;32m>\u001b[0m----------------------| 1.1k/2.4k ( 45.83%) ETA 03m24s"
       ]
      },
      {
       "output_type": "stream",
       "stream": "stdout",
       "text": [
        "\r",
        "|\u001b[0;34m==================\u001b[0m\u001b[0;32m>\u001b[0m----------------------| 1.1k/2.4k ( 45.88%) ETA 03m24s"
       ]
      },
      {
       "output_type": "stream",
       "stream": "stdout",
       "text": [
        "\r",
        "|\u001b[0;34m==================\u001b[0m\u001b[0;32m>\u001b[0m----------------------| 1.1k/2.4k ( 45.92%) ETA 03m23s"
       ]
      },
      {
       "output_type": "stream",
       "stream": "stdout",
       "text": [
        "\r",
        "|\u001b[0;34m==================\u001b[0m\u001b[0;32m>\u001b[0m----------------------| 1.1k/2.4k ( 45.96%) ETA 03m23s"
       ]
      },
      {
       "output_type": "stream",
       "stream": "stdout",
       "text": [
        "\r",
        "|\u001b[0;34m==================\u001b[0m\u001b[0;32m>\u001b[0m----------------------| 1.1k/2.4k ( 46.00%) ETA 03m23s"
       ]
      },
      {
       "output_type": "stream",
       "stream": "stdout",
       "text": [
        "\r",
        "|\u001b[0;34m==================\u001b[0m\u001b[0;32m>\u001b[0m----------------------| 1.1k/2.4k ( 46.04%) ETA 03m23s"
       ]
      },
      {
       "output_type": "stream",
       "stream": "stdout",
       "text": [
        "\r",
        "|\u001b[0;34m==================\u001b[0m\u001b[0;32m>\u001b[0m----------------------| 1.1k/2.4k ( 46.08%) ETA 03m23s"
       ]
      },
      {
       "output_type": "stream",
       "stream": "stdout",
       "text": [
        "\r",
        "|\u001b[0;34m==================\u001b[0m\u001b[0;32m>\u001b[0m----------------------| 1.1k/2.4k ( 46.12%) ETA 03m23s"
       ]
      },
      {
       "output_type": "stream",
       "stream": "stdout",
       "text": [
        "\r",
        "|\u001b[0;34m==================\u001b[0m\u001b[0;32m>\u001b[0m----------------------| 1.1k/2.4k ( 46.17%) ETA 03m22s"
       ]
      },
      {
       "output_type": "stream",
       "stream": "stdout",
       "text": [
        "\r",
        "|\u001b[0;34m==================\u001b[0m\u001b[0;32m>\u001b[0m----------------------| 1.1k/2.4k ( 46.21%) ETA 03m22s"
       ]
      },
      {
       "output_type": "stream",
       "stream": "stdout",
       "text": [
        "\r",
        "|\u001b[0;34m==================\u001b[0m\u001b[0;32m>\u001b[0m----------------------| 1.1k/2.4k ( 46.25%) ETA 03m22s"
       ]
      },
      {
       "output_type": "stream",
       "stream": "stdout",
       "text": [
        "\r",
        "|\u001b[0;34m==================\u001b[0m\u001b[0;32m>\u001b[0m----------------------| 1.1k/2.4k ( 46.29%) ETA 03m22s"
       ]
      },
      {
       "output_type": "stream",
       "stream": "stdout",
       "text": [
        "\r",
        "|\u001b[0;34m==================\u001b[0m\u001b[0;32m>\u001b[0m----------------------| 1.1k/2.4k ( 46.33%) ETA 03m22s"
       ]
      },
      {
       "output_type": "stream",
       "stream": "stdout",
       "text": [
        "\r",
        "|\u001b[0;34m===================\u001b[0m\u001b[0;32m>\u001b[0m---------------------| 1.1k/2.4k ( 46.38%) ETA 03m22s"
       ]
      },
      {
       "output_type": "stream",
       "stream": "stdout",
       "text": [
        "\r",
        "|\u001b[0;34m===================\u001b[0m\u001b[0;32m>\u001b[0m---------------------| 1.1k/2.4k ( 46.42%) ETA 03m21s"
       ]
      },
      {
       "output_type": "stream",
       "stream": "stdout",
       "text": [
        "\r",
        "|\u001b[0;34m===================\u001b[0m\u001b[0;32m>\u001b[0m---------------------| 1.1k/2.4k ( 46.46%) ETA 03m21s"
       ]
      },
      {
       "output_type": "stream",
       "stream": "stdout",
       "text": [
        "\r",
        "|\u001b[0;34m===================\u001b[0m\u001b[0;32m>\u001b[0m---------------------| 1.1k/2.4k ( 46.50%) ETA 03m21s"
       ]
      },
      {
       "output_type": "stream",
       "stream": "stdout",
       "text": [
        "\r",
        "|\u001b[0;34m===================\u001b[0m\u001b[0;32m>\u001b[0m---------------------| 1.1k/2.4k ( 46.54%) ETA 03m21s"
       ]
      },
      {
       "output_type": "stream",
       "stream": "stdout",
       "text": [
        "\r",
        "|\u001b[0;34m===================\u001b[0m\u001b[0;32m>\u001b[0m---------------------| 1.1k/2.4k ( 46.58%) ETA 03m21s"
       ]
      },
      {
       "output_type": "stream",
       "stream": "stdout",
       "text": [
        "\r",
        "|\u001b[0;34m===================\u001b[0m\u001b[0;32m>\u001b[0m---------------------| 1.1k/2.4k ( 46.62%) ETA 03m21s"
       ]
      },
      {
       "output_type": "stream",
       "stream": "stdout",
       "text": [
        "\r",
        "|\u001b[0;34m===================\u001b[0m\u001b[0;32m>\u001b[0m---------------------| 1.1k/2.4k ( 46.67%) ETA 03m20s"
       ]
      },
      {
       "output_type": "stream",
       "stream": "stdout",
       "text": [
        "\r",
        "|\u001b[0;34m===================\u001b[0m\u001b[0;32m>\u001b[0m---------------------| 1.1k/2.4k ( 46.71%) ETA 03m20s"
       ]
      },
      {
       "output_type": "stream",
       "stream": "stdout",
       "text": [
        "\r",
        "|\u001b[0;34m===================\u001b[0m\u001b[0;32m>\u001b[0m---------------------| 1.1k/2.4k ( 46.75%) ETA 03m20s"
       ]
      },
      {
       "output_type": "stream",
       "stream": "stdout",
       "text": [
        "\r",
        "|\u001b[0;34m===================\u001b[0m\u001b[0;32m>\u001b[0m---------------------| 1.1k/2.4k ( 46.79%) ETA 03m20s"
       ]
      },
      {
       "output_type": "stream",
       "stream": "stdout",
       "text": [
        "\r",
        "|\u001b[0;34m===================\u001b[0m\u001b[0;32m>\u001b[0m---------------------| 1.1k/2.4k ( 46.83%) ETA 03m20s"
       ]
      },
      {
       "output_type": "stream",
       "stream": "stdout",
       "text": [
        "\r",
        "|\u001b[0;34m===================\u001b[0m\u001b[0;32m>\u001b[0m---------------------| 1.1k/2.4k ( 46.88%) ETA 03m20s"
       ]
      },
      {
       "output_type": "stream",
       "stream": "stdout",
       "text": [
        "\r",
        "|\u001b[0;34m===================\u001b[0m\u001b[0;32m>\u001b[0m---------------------| 1.1k/2.4k ( 46.92%) ETA 03m20s"
       ]
      },
      {
       "output_type": "stream",
       "stream": "stdout",
       "text": [
        "\r",
        "|\u001b[0;34m===================\u001b[0m\u001b[0;32m>\u001b[0m---------------------| 1.1k/2.4k ( 46.96%) ETA 03m19s"
       ]
      },
      {
       "output_type": "stream",
       "stream": "stdout",
       "text": [
        "\r",
        "|\u001b[0;34m===================\u001b[0m\u001b[0;32m>\u001b[0m---------------------| 1.1k/2.4k ( 47.00%) ETA 03m19s"
       ]
      },
      {
       "output_type": "stream",
       "stream": "stdout",
       "text": [
        "\r",
        "|\u001b[0;34m===================\u001b[0m\u001b[0;32m>\u001b[0m---------------------| 1.1k/2.4k ( 47.04%) ETA 03m19s"
       ]
      },
      {
       "output_type": "stream",
       "stream": "stdout",
       "text": [
        "\r",
        "|\u001b[0;34m===================\u001b[0m\u001b[0;32m>\u001b[0m---------------------| 1.1k/2.4k ( 47.08%) ETA 03m19s"
       ]
      },
      {
       "output_type": "stream",
       "stream": "stdout",
       "text": [
        "\r",
        "|\u001b[0;34m===================\u001b[0m\u001b[0;32m>\u001b[0m---------------------| 1.1k/2.4k ( 47.12%) ETA 03m19s"
       ]
      },
      {
       "output_type": "stream",
       "stream": "stdout",
       "text": [
        "\r",
        "|\u001b[0;34m===================\u001b[0m\u001b[0;32m>\u001b[0m---------------------| 1.1k/2.4k ( 47.17%) ETA 03m19s"
       ]
      },
      {
       "output_type": "stream",
       "stream": "stdout",
       "text": [
        "\r",
        "|\u001b[0;34m===================\u001b[0m\u001b[0;32m>\u001b[0m---------------------| 1.1k/2.4k ( 47.21%) ETA 03m18s"
       ]
      },
      {
       "output_type": "stream",
       "stream": "stdout",
       "text": [
        "\r",
        "|\u001b[0;34m===================\u001b[0m\u001b[0;32m>\u001b[0m---------------------| 1.1k/2.4k ( 47.25%) ETA 03m18s"
       ]
      },
      {
       "output_type": "stream",
       "stream": "stdout",
       "text": [
        "\r",
        "|\u001b[0;34m===================\u001b[0m\u001b[0;32m>\u001b[0m---------------------| 1.1k/2.4k ( 47.29%) ETA 03m18s"
       ]
      },
      {
       "output_type": "stream",
       "stream": "stdout",
       "text": [
        "\r",
        "|\u001b[0;34m===================\u001b[0m\u001b[0;32m>\u001b[0m---------------------| 1.1k/2.4k ( 47.33%) ETA 03m18s"
       ]
      },
      {
       "output_type": "stream",
       "stream": "stdout",
       "text": [
        "\r",
        "|\u001b[0;34m===================\u001b[0m\u001b[0;32m>\u001b[0m---------------------| 1.1k/2.4k ( 47.38%) ETA 03m18s"
       ]
      },
      {
       "output_type": "stream",
       "stream": "stdout",
       "text": [
        "\r",
        "|\u001b[0;34m===================\u001b[0m\u001b[0;32m>\u001b[0m---------------------| 1.1k/2.4k ( 47.42%) ETA 03m18s"
       ]
      },
      {
       "output_type": "stream",
       "stream": "stdout",
       "text": [
        "\r",
        "|\u001b[0;34m===================\u001b[0m\u001b[0;32m>\u001b[0m---------------------| 1.1k/2.4k ( 47.46%) ETA 03m18s"
       ]
      },
      {
       "output_type": "stream",
       "stream": "stdout",
       "text": [
        "\r",
        "|\u001b[0;34m===================\u001b[0m\u001b[0;32m>\u001b[0m---------------------| 1.1k/2.4k ( 47.50%) ETA 03m17s"
       ]
      },
      {
       "output_type": "stream",
       "stream": "stdout",
       "text": [
        "\r",
        "|\u001b[0;34m===================\u001b[0m\u001b[0;32m>\u001b[0m---------------------| 1.1k/2.4k ( 47.54%) ETA 03m17s"
       ]
      },
      {
       "output_type": "stream",
       "stream": "stdout",
       "text": [
        "\r",
        "|\u001b[0;34m===================\u001b[0m\u001b[0;32m>\u001b[0m---------------------| 1.1k/2.4k ( 47.58%) ETA 03m17s"
       ]
      },
      {
       "output_type": "stream",
       "stream": "stdout",
       "text": [
        "\r",
        "|\u001b[0;34m===================\u001b[0m\u001b[0;32m>\u001b[0m---------------------| 1.1k/2.4k ( 47.62%) ETA 03m17s"
       ]
      },
      {
       "output_type": "stream",
       "stream": "stdout",
       "text": [
        "\r",
        "|\u001b[0;34m===================\u001b[0m\u001b[0;32m>\u001b[0m---------------------| 1.1k/2.4k ( 47.67%) ETA 03m17s"
       ]
      },
      {
       "output_type": "stream",
       "stream": "stdout",
       "text": [
        "\r",
        "|\u001b[0;34m===================\u001b[0m\u001b[0;32m>\u001b[0m---------------------| 1.1k/2.4k ( 47.71%) ETA 03m17s"
       ]
      },
      {
       "output_type": "stream",
       "stream": "stdout",
       "text": [
        "\r",
        "|\u001b[0;34m===================\u001b[0m\u001b[0;32m>\u001b[0m---------------------| 1.1k/2.4k ( 47.75%) ETA 03m16s"
       ]
      },
      {
       "output_type": "stream",
       "stream": "stdout",
       "text": [
        "\r",
        "|\u001b[0;34m===================\u001b[0m\u001b[0;32m>\u001b[0m---------------------| 1.1k/2.4k ( 47.79%) ETA 03m16s"
       ]
      },
      {
       "output_type": "stream",
       "stream": "stdout",
       "text": [
        "\r",
        "|\u001b[0;34m===================\u001b[0m\u001b[0;32m>\u001b[0m---------------------| 1.1k/2.4k ( 47.83%) ETA 03m16s"
       ]
      },
      {
       "output_type": "stream",
       "stream": "stdout",
       "text": [
        "\r",
        "|\u001b[0;34m===================\u001b[0m\u001b[0;32m>\u001b[0m---------------------| 1.1k/2.4k ( 47.88%) ETA 03m16s"
       ]
      },
      {
       "output_type": "stream",
       "stream": "stdout",
       "text": [
        "\r",
        "|\u001b[0;34m===================\u001b[0m\u001b[0;32m>\u001b[0m---------------------| 1.1k/2.4k ( 47.92%) ETA 03m16s"
       ]
      },
      {
       "output_type": "stream",
       "stream": "stdout",
       "text": [
        "\r",
        "|\u001b[0;34m===================\u001b[0m\u001b[0;32m>\u001b[0m---------------------| 1.1k/2.4k ( 47.96%) ETA 03m16s"
       ]
      },
      {
       "output_type": "stream",
       "stream": "stdout",
       "text": [
        "\r",
        "|\u001b[0;34m===================\u001b[0m\u001b[0;32m>\u001b[0m---------------------| 1.1k/2.4k ( 48.00%) ETA 03m15s"
       ]
      },
      {
       "output_type": "stream",
       "stream": "stdout",
       "text": [
        "\r",
        "|\u001b[0;34m===================\u001b[0m\u001b[0;32m>\u001b[0m---------------------| 1.1k/2.4k ( 48.04%) ETA 03m15s"
       ]
      },
      {
       "output_type": "stream",
       "stream": "stdout",
       "text": [
        "\r",
        "|\u001b[0;34m===================\u001b[0m\u001b[0;32m>\u001b[0m---------------------| 1.1k/2.4k ( 48.08%) ETA 03m15s"
       ]
      },
      {
       "output_type": "stream",
       "stream": "stdout",
       "text": [
        "\r",
        "|\u001b[0;34m===================\u001b[0m\u001b[0;32m>\u001b[0m---------------------| 1.1k/2.4k ( 48.12%) ETA 03m15s"
       ]
      },
      {
       "output_type": "stream",
       "stream": "stdout",
       "text": [
        "\r",
        "|\u001b[0;34m===================\u001b[0m\u001b[0;32m>\u001b[0m---------------------| 1.1k/2.4k ( 48.17%) ETA 03m15s"
       ]
      },
      {
       "output_type": "stream",
       "stream": "stdout",
       "text": [
        "\r",
        "|\u001b[0;34m===================\u001b[0m\u001b[0;32m>\u001b[0m---------------------| 1.1k/2.4k ( 48.21%) ETA 03m15s"
       ]
      },
      {
       "output_type": "stream",
       "stream": "stdout",
       "text": [
        "\r",
        "|\u001b[0;34m===================\u001b[0m\u001b[0;32m>\u001b[0m---------------------| 1.1k/2.4k ( 48.25%) ETA 03m15s"
       ]
      },
      {
       "output_type": "stream",
       "stream": "stdout",
       "text": [
        "\r",
        "|\u001b[0;34m===================\u001b[0m\u001b[0;32m>\u001b[0m---------------------| 1.1k/2.4k ( 48.29%) ETA 03m14s"
       ]
      },
      {
       "output_type": "stream",
       "stream": "stdout",
       "text": [
        "\r",
        "|\u001b[0;34m===================\u001b[0m\u001b[0;32m>\u001b[0m---------------------| 1.1k/2.4k ( 48.33%) ETA 03m14s"
       ]
      },
      {
       "output_type": "stream",
       "stream": "stdout",
       "text": [
        "\r",
        "|\u001b[0;34m===================\u001b[0m\u001b[0;32m>\u001b[0m---------------------| 1.1k/2.4k ( 48.38%) ETA 03m14s"
       ]
      },
      {
       "output_type": "stream",
       "stream": "stdout",
       "text": [
        "\r",
        "|\u001b[0;34m===================\u001b[0m\u001b[0;32m>\u001b[0m---------------------| 1.1k/2.4k ( 48.42%) ETA 03m14s"
       ]
      },
      {
       "output_type": "stream",
       "stream": "stdout",
       "text": [
        "\r",
        "|\u001b[0;34m===================\u001b[0m\u001b[0;32m>\u001b[0m---------------------| 1.1k/2.4k ( 48.46%) ETA 03m14s"
       ]
      },
      {
       "output_type": "stream",
       "stream": "stdout",
       "text": [
        "\r",
        "|\u001b[0;34m===================\u001b[0m\u001b[0;32m>\u001b[0m---------------------| 1.1k/2.4k ( 48.50%) ETA 03m14s"
       ]
      },
      {
       "output_type": "stream",
       "stream": "stdout",
       "text": [
        "\r",
        "|\u001b[0;34m===================\u001b[0m\u001b[0;32m>\u001b[0m---------------------| 1.1k/2.4k ( 48.54%) ETA 03m13s"
       ]
      },
      {
       "output_type": "stream",
       "stream": "stdout",
       "text": [
        "\r",
        "|\u001b[0;34m===================\u001b[0m\u001b[0;32m>\u001b[0m---------------------| 1.1k/2.4k ( 48.58%) ETA 03m13s"
       ]
      },
      {
       "output_type": "stream",
       "stream": "stdout",
       "text": [
        "\r",
        "|\u001b[0;34m===================\u001b[0m\u001b[0;32m>\u001b[0m---------------------| 1.1k/2.4k ( 48.62%) ETA 03m13s"
       ]
      },
      {
       "output_type": "stream",
       "stream": "stdout",
       "text": [
        "\r",
        "|\u001b[0;34m===================\u001b[0m\u001b[0;32m>\u001b[0m---------------------| 1.1k/2.4k ( 48.67%) ETA 03m13s"
       ]
      },
      {
       "output_type": "stream",
       "stream": "stdout",
       "text": [
        "\r",
        "|\u001b[0;34m===================\u001b[0m\u001b[0;32m>\u001b[0m---------------------| 1.1k/2.4k ( 48.71%) ETA 03m13s"
       ]
      },
      {
       "output_type": "stream",
       "stream": "stdout",
       "text": [
        "\r",
        "|\u001b[0;34m===================\u001b[0m\u001b[0;32m>\u001b[0m---------------------| 1.1k/2.4k ( 48.75%) ETA 03m13s"
       ]
      },
      {
       "output_type": "stream",
       "stream": "stdout",
       "text": [
        "\r",
        "|\u001b[0;34m====================\u001b[0m\u001b[0;32m>\u001b[0m--------------------| 1.1k/2.4k ( 48.79%) ETA 03m12s"
       ]
      },
      {
       "output_type": "stream",
       "stream": "stdout",
       "text": [
        "\r",
        "|\u001b[0;34m====================\u001b[0m\u001b[0;32m>\u001b[0m--------------------| 1.1k/2.4k ( 48.83%) ETA 03m12s"
       ]
      },
      {
       "output_type": "stream",
       "stream": "stdout",
       "text": [
        "\r",
        "|\u001b[0;34m====================\u001b[0m\u001b[0;32m>\u001b[0m--------------------| 1.1k/2.4k ( 48.88%) ETA 03m12s"
       ]
      },
      {
       "output_type": "stream",
       "stream": "stdout",
       "text": [
        "\r",
        "|\u001b[0;34m====================\u001b[0m\u001b[0;32m>\u001b[0m--------------------| 1.1k/2.4k ( 48.92%) ETA 03m12s"
       ]
      },
      {
       "output_type": "stream",
       "stream": "stdout",
       "text": [
        "\r",
        "|\u001b[0;34m====================\u001b[0m\u001b[0;32m>\u001b[0m--------------------| 1.1k/2.4k ( 48.96%) ETA 03m12s"
       ]
      },
      {
       "output_type": "stream",
       "stream": "stdout",
       "text": [
        "\r",
        "|\u001b[0;34m====================\u001b[0m\u001b[0;32m>\u001b[0m--------------------| 1.1k/2.4k ( 49.00%) ETA 03m12s"
       ]
      },
      {
       "output_type": "stream",
       "stream": "stdout",
       "text": [
        "\r",
        "|\u001b[0;34m====================\u001b[0m\u001b[0;32m>\u001b[0m--------------------| 1.1k/2.4k ( 49.04%) ETA 03m12s"
       ]
      },
      {
       "output_type": "stream",
       "stream": "stdout",
       "text": [
        "\r",
        "|\u001b[0;34m====================\u001b[0m\u001b[0;32m>\u001b[0m--------------------| 1.1k/2.4k ( 49.08%) ETA 03m11s"
       ]
      },
      {
       "output_type": "stream",
       "stream": "stdout",
       "text": [
        "\r",
        "|\u001b[0;34m====================\u001b[0m\u001b[0;32m>\u001b[0m--------------------| 1.1k/2.4k ( 49.12%) ETA 03m11s"
       ]
      },
      {
       "output_type": "stream",
       "stream": "stdout",
       "text": [
        "\r",
        "|\u001b[0;34m====================\u001b[0m\u001b[0;32m>\u001b[0m--------------------| 1.1k/2.4k ( 49.17%) ETA 03m11s"
       ]
      },
      {
       "output_type": "stream",
       "stream": "stdout",
       "text": [
        "\r",
        "|\u001b[0;34m====================\u001b[0m\u001b[0;32m>\u001b[0m--------------------| 1.1k/2.4k ( 49.21%) ETA 03m11s"
       ]
      },
      {
       "output_type": "stream",
       "stream": "stdout",
       "text": [
        "\r",
        "|\u001b[0;34m====================\u001b[0m\u001b[0;32m>\u001b[0m--------------------| 1.1k/2.4k ( 49.25%) ETA 03m11s"
       ]
      },
      {
       "output_type": "stream",
       "stream": "stdout",
       "text": [
        "\r",
        "|\u001b[0;34m====================\u001b[0m\u001b[0;32m>\u001b[0m--------------------| 1.1k/2.4k ( 49.29%) ETA 03m11s"
       ]
      },
      {
       "output_type": "stream",
       "stream": "stdout",
       "text": [
        "\r",
        "|\u001b[0;34m====================\u001b[0m\u001b[0;32m>\u001b[0m--------------------| 1.1k/2.4k ( 49.33%) ETA 03m11s"
       ]
      },
      {
       "output_type": "stream",
       "stream": "stdout",
       "text": [
        "\r",
        "|\u001b[0;34m====================\u001b[0m\u001b[0;32m>\u001b[0m--------------------| 1.1k/2.4k ( 49.38%) ETA 03m10s"
       ]
      },
      {
       "output_type": "stream",
       "stream": "stdout",
       "text": [
        "\r",
        "|\u001b[0;34m====================\u001b[0m\u001b[0;32m>\u001b[0m--------------------| 1.1k/2.4k ( 49.42%) ETA 03m10s"
       ]
      },
      {
       "output_type": "stream",
       "stream": "stdout",
       "text": [
        "\r",
        "|\u001b[0;34m====================\u001b[0m\u001b[0;32m>\u001b[0m--------------------| 1.1k/2.4k ( 49.46%) ETA 03m10s"
       ]
      },
      {
       "output_type": "stream",
       "stream": "stdout",
       "text": [
        "\r",
        "|\u001b[0;34m====================\u001b[0m\u001b[0;32m>\u001b[0m--------------------| 1.1k/2.4k ( 49.50%) ETA 03m10s"
       ]
      },
      {
       "output_type": "stream",
       "stream": "stdout",
       "text": [
        "\r",
        "|\u001b[0;34m====================\u001b[0m\u001b[0;32m>\u001b[0m--------------------| 1.1k/2.4k ( 49.54%) ETA 03m10s"
       ]
      },
      {
       "output_type": "stream",
       "stream": "stdout",
       "text": [
        "\r",
        "|\u001b[0;34m====================\u001b[0m\u001b[0;32m>\u001b[0m--------------------| 1.1k/2.4k ( 49.58%) ETA 03m10s"
       ]
      },
      {
       "output_type": "stream",
       "stream": "stdout",
       "text": [
        "\r",
        "|\u001b[0;34m====================\u001b[0m\u001b[0;32m>\u001b[0m--------------------| 1.1k/2.4k ( 49.62%) ETA 03m09s"
       ]
      },
      {
       "output_type": "stream",
       "stream": "stdout",
       "text": [
        "\r",
        "|\u001b[0;34m====================\u001b[0m\u001b[0;32m>\u001b[0m--------------------| 1.1k/2.4k ( 49.67%) ETA 03m09s"
       ]
      },
      {
       "output_type": "stream",
       "stream": "stdout",
       "text": [
        "\r",
        "|\u001b[0;34m====================\u001b[0m\u001b[0;32m>\u001b[0m--------------------| 1.1k/2.4k ( 49.71%) ETA 03m09s"
       ]
      },
      {
       "output_type": "stream",
       "stream": "stdout",
       "text": [
        "\r",
        "|\u001b[0;34m====================\u001b[0m\u001b[0;32m>\u001b[0m--------------------| 1.1k/2.4k ( 49.75%) ETA 03m09s"
       ]
      },
      {
       "output_type": "stream",
       "stream": "stdout",
       "text": [
        "\r",
        "|\u001b[0;34m====================\u001b[0m\u001b[0;32m>\u001b[0m--------------------| 1.1k/2.4k ( 49.79%) ETA 03m09s"
       ]
      },
      {
       "output_type": "stream",
       "stream": "stdout",
       "text": [
        "\r",
        "|\u001b[0;34m====================\u001b[0m\u001b[0;32m>\u001b[0m--------------------| 1.1k/2.4k ( 49.83%) ETA 03m09s"
       ]
      },
      {
       "output_type": "stream",
       "stream": "stdout",
       "text": [
        "\r",
        "|\u001b[0;34m====================\u001b[0m\u001b[0;32m>\u001b[0m--------------------| 1.1k/2.4k ( 49.88%) ETA 03m08s"
       ]
      },
      {
       "output_type": "stream",
       "stream": "stdout",
       "text": [
        "\r",
        "|\u001b[0;34m====================\u001b[0m\u001b[0;32m>\u001b[0m--------------------| 1.1k/2.4k ( 49.92%) ETA 03m08s"
       ]
      },
      {
       "output_type": "stream",
       "stream": "stdout",
       "text": [
        "\r",
        "|\u001b[0;34m====================\u001b[0m\u001b[0;32m>\u001b[0m--------------------| 1.1k/2.4k ( 49.96%) ETA 03m08s"
       ]
      },
      {
       "output_type": "stream",
       "stream": "stdout",
       "text": [
        "\r",
        "|\u001b[0;34m====================\u001b[0m\u001b[0;32m>\u001b[0m--------------------| 1.2k/2.4k ( 50.00%) ETA 03m08s"
       ]
      },
      {
       "output_type": "stream",
       "stream": "stdout",
       "text": [
        "\r",
        "|\u001b[0;34m====================\u001b[0m\u001b[0;32m>\u001b[0m--------------------| 1.2k/2.4k ( 50.04%) ETA 03m08s"
       ]
      },
      {
       "output_type": "stream",
       "stream": "stdout",
       "text": [
        "\r",
        "|\u001b[0;34m====================\u001b[0m\u001b[0;32m>\u001b[0m--------------------| 1.2k/2.4k ( 50.08%) ETA 03m08s"
       ]
      },
      {
       "output_type": "stream",
       "stream": "stdout",
       "text": [
        "\r",
        "|\u001b[0;34m====================\u001b[0m\u001b[0;32m>\u001b[0m--------------------| 1.2k/2.4k ( 50.12%) ETA 03m08s"
       ]
      },
      {
       "output_type": "stream",
       "stream": "stdout",
       "text": [
        "\r",
        "|\u001b[0;34m====================\u001b[0m\u001b[0;32m>\u001b[0m--------------------| 1.2k/2.4k ( 50.17%) ETA 03m07s"
       ]
      },
      {
       "output_type": "stream",
       "stream": "stdout",
       "text": [
        "\r",
        "|\u001b[0;34m====================\u001b[0m\u001b[0;32m>\u001b[0m--------------------| 1.2k/2.4k ( 50.21%) ETA 03m07s"
       ]
      },
      {
       "output_type": "stream",
       "stream": "stdout",
       "text": [
        "\r",
        "|\u001b[0;34m====================\u001b[0m\u001b[0;32m>\u001b[0m--------------------| 1.2k/2.4k ( 50.25%) ETA 03m07s"
       ]
      },
      {
       "output_type": "stream",
       "stream": "stdout",
       "text": [
        "\r",
        "|\u001b[0;34m====================\u001b[0m\u001b[0;32m>\u001b[0m--------------------| 1.2k/2.4k ( 50.29%) ETA 03m07s"
       ]
      },
      {
       "output_type": "stream",
       "stream": "stdout",
       "text": [
        "\r",
        "|\u001b[0;34m====================\u001b[0m\u001b[0;32m>\u001b[0m--------------------| 1.2k/2.4k ( 50.33%) ETA 03m07s"
       ]
      },
      {
       "output_type": "stream",
       "stream": "stdout",
       "text": [
        "\r",
        "|\u001b[0;34m====================\u001b[0m\u001b[0;32m>\u001b[0m--------------------| 1.2k/2.4k ( 50.38%) ETA 03m07s"
       ]
      },
      {
       "output_type": "stream",
       "stream": "stdout",
       "text": [
        "\r",
        "|\u001b[0;34m====================\u001b[0m\u001b[0;32m>\u001b[0m--------------------| 1.2k/2.4k ( 50.42%) ETA 03m06s"
       ]
      },
      {
       "output_type": "stream",
       "stream": "stdout",
       "text": [
        "\r",
        "|\u001b[0;34m====================\u001b[0m\u001b[0;32m>\u001b[0m--------------------| 1.2k/2.4k ( 50.46%) ETA 03m06s"
       ]
      },
      {
       "output_type": "stream",
       "stream": "stdout",
       "text": [
        "\r",
        "|\u001b[0;34m====================\u001b[0m\u001b[0;32m>\u001b[0m--------------------| 1.2k/2.4k ( 50.50%) ETA 03m06s"
       ]
      },
      {
       "output_type": "stream",
       "stream": "stdout",
       "text": [
        "\r",
        "|\u001b[0;34m====================\u001b[0m\u001b[0;32m>\u001b[0m--------------------| 1.2k/2.4k ( 50.54%) ETA 03m06s"
       ]
      },
      {
       "output_type": "stream",
       "stream": "stdout",
       "text": [
        "\r",
        "|\u001b[0;34m====================\u001b[0m\u001b[0;32m>\u001b[0m--------------------| 1.2k/2.4k ( 50.58%) ETA 03m06s"
       ]
      },
      {
       "output_type": "stream",
       "stream": "stdout",
       "text": [
        "\r",
        "|\u001b[0;34m====================\u001b[0m\u001b[0;32m>\u001b[0m--------------------| 1.2k/2.4k ( 50.62%) ETA 03m06s"
       ]
      },
      {
       "output_type": "stream",
       "stream": "stdout",
       "text": [
        "\r",
        "|\u001b[0;34m====================\u001b[0m\u001b[0;32m>\u001b[0m--------------------| 1.2k/2.4k ( 50.67%) ETA 03m05s"
       ]
      },
      {
       "output_type": "stream",
       "stream": "stdout",
       "text": [
        "\r",
        "|\u001b[0;34m====================\u001b[0m\u001b[0;32m>\u001b[0m--------------------| 1.2k/2.4k ( 50.71%) ETA 03m05s"
       ]
      },
      {
       "output_type": "stream",
       "stream": "stdout",
       "text": [
        "\r",
        "|\u001b[0;34m====================\u001b[0m\u001b[0;32m>\u001b[0m--------------------| 1.2k/2.4k ( 50.75%) ETA 03m05s"
       ]
      },
      {
       "output_type": "stream",
       "stream": "stdout",
       "text": [
        "\r",
        "|\u001b[0;34m====================\u001b[0m\u001b[0;32m>\u001b[0m--------------------| 1.2k/2.4k ( 50.79%) ETA 03m05s"
       ]
      },
      {
       "output_type": "stream",
       "stream": "stdout",
       "text": [
        "\r",
        "|\u001b[0;34m====================\u001b[0m\u001b[0;32m>\u001b[0m--------------------| 1.2k/2.4k ( 50.83%) ETA 03m05s"
       ]
      },
      {
       "output_type": "stream",
       "stream": "stdout",
       "text": [
        "\r",
        "|\u001b[0;34m====================\u001b[0m\u001b[0;32m>\u001b[0m--------------------| 1.2k/2.4k ( 50.88%) ETA 03m05s"
       ]
      },
      {
       "output_type": "stream",
       "stream": "stdout",
       "text": [
        "\r",
        "|\u001b[0;34m====================\u001b[0m\u001b[0;32m>\u001b[0m--------------------| 1.2k/2.4k ( 50.92%) ETA 03m05s"
       ]
      },
      {
       "output_type": "stream",
       "stream": "stdout",
       "text": [
        "\r",
        "|\u001b[0;34m====================\u001b[0m\u001b[0;32m>\u001b[0m--------------------| 1.2k/2.4k ( 50.96%) ETA 03m04s"
       ]
      },
      {
       "output_type": "stream",
       "stream": "stdout",
       "text": [
        "\r",
        "|\u001b[0;34m====================\u001b[0m\u001b[0;32m>\u001b[0m--------------------| 1.2k/2.4k ( 51.00%) ETA 03m04s"
       ]
      },
      {
       "output_type": "stream",
       "stream": "stdout",
       "text": [
        "\r",
        "|\u001b[0;34m====================\u001b[0m\u001b[0;32m>\u001b[0m--------------------| 1.2k/2.4k ( 51.04%) ETA 03m04s"
       ]
      },
      {
       "output_type": "stream",
       "stream": "stdout",
       "text": [
        "\r",
        "|\u001b[0;34m====================\u001b[0m\u001b[0;32m>\u001b[0m--------------------| 1.2k/2.4k ( 51.08%) ETA 03m04s"
       ]
      },
      {
       "output_type": "stream",
       "stream": "stdout",
       "text": [
        "\r",
        "|\u001b[0;34m====================\u001b[0m\u001b[0;32m>\u001b[0m--------------------| 1.2k/2.4k ( 51.12%) ETA 03m04s"
       ]
      },
      {
       "output_type": "stream",
       "stream": "stdout",
       "text": [
        "\r",
        "|\u001b[0;34m====================\u001b[0m\u001b[0;32m>\u001b[0m--------------------| 1.2k/2.4k ( 51.17%) ETA 03m04s"
       ]
      },
      {
       "output_type": "stream",
       "stream": "stdout",
       "text": [
        "\r",
        "|\u001b[0;34m====================\u001b[0m\u001b[0;32m>\u001b[0m--------------------| 1.2k/2.4k ( 51.21%) ETA 03m03s"
       ]
      },
      {
       "output_type": "stream",
       "stream": "stdout",
       "text": [
        "\r",
        "|\u001b[0;34m=====================\u001b[0m\u001b[0;32m>\u001b[0m-------------------| 1.2k/2.4k ( 51.25%) ETA 03m03s"
       ]
      },
      {
       "output_type": "stream",
       "stream": "stdout",
       "text": [
        "\r",
        "|\u001b[0;34m=====================\u001b[0m\u001b[0;32m>\u001b[0m-------------------| 1.2k/2.4k ( 51.29%) ETA 03m03s"
       ]
      },
      {
       "output_type": "stream",
       "stream": "stdout",
       "text": [
        "\r",
        "|\u001b[0;34m=====================\u001b[0m\u001b[0;32m>\u001b[0m-------------------| 1.2k/2.4k ( 51.33%) ETA 03m03s"
       ]
      },
      {
       "output_type": "stream",
       "stream": "stdout",
       "text": [
        "\r",
        "|\u001b[0;34m=====================\u001b[0m\u001b[0;32m>\u001b[0m-------------------| 1.2k/2.4k ( 51.38%) ETA 03m03s"
       ]
      },
      {
       "output_type": "stream",
       "stream": "stdout",
       "text": [
        "\r",
        "|\u001b[0;34m=====================\u001b[0m\u001b[0;32m>\u001b[0m-------------------| 1.2k/2.4k ( 51.42%) ETA 03m03s"
       ]
      },
      {
       "output_type": "stream",
       "stream": "stdout",
       "text": [
        "\r",
        "|\u001b[0;34m=====================\u001b[0m\u001b[0;32m>\u001b[0m-------------------| 1.2k/2.4k ( 51.46%) ETA 03m03s"
       ]
      },
      {
       "output_type": "stream",
       "stream": "stdout",
       "text": [
        "\r",
        "|\u001b[0;34m=====================\u001b[0m\u001b[0;32m>\u001b[0m-------------------| 1.2k/2.4k ( 51.50%) ETA 03m02s"
       ]
      },
      {
       "output_type": "stream",
       "stream": "stdout",
       "text": [
        "\r",
        "|\u001b[0;34m=====================\u001b[0m\u001b[0;32m>\u001b[0m-------------------| 1.2k/2.4k ( 51.54%) ETA 03m02s"
       ]
      },
      {
       "output_type": "stream",
       "stream": "stdout",
       "text": [
        "\r",
        "|\u001b[0;34m=====================\u001b[0m\u001b[0;32m>\u001b[0m-------------------| 1.2k/2.4k ( 51.58%) ETA 03m02s"
       ]
      },
      {
       "output_type": "stream",
       "stream": "stdout",
       "text": [
        "\r",
        "|\u001b[0;34m=====================\u001b[0m\u001b[0;32m>\u001b[0m-------------------| 1.2k/2.4k ( 51.62%) ETA 03m02s"
       ]
      },
      {
       "output_type": "stream",
       "stream": "stdout",
       "text": [
        "\r",
        "|\u001b[0;34m=====================\u001b[0m\u001b[0;32m>\u001b[0m-------------------| 1.2k/2.4k ( 51.67%) ETA 03m02s"
       ]
      },
      {
       "output_type": "stream",
       "stream": "stdout",
       "text": [
        "\r",
        "|\u001b[0;34m=====================\u001b[0m\u001b[0;32m>\u001b[0m-------------------| 1.2k/2.4k ( 51.71%) ETA 03m02s"
       ]
      },
      {
       "output_type": "stream",
       "stream": "stdout",
       "text": [
        "\r",
        "|\u001b[0;34m=====================\u001b[0m\u001b[0;32m>\u001b[0m-------------------| 1.2k/2.4k ( 51.75%) ETA 03m01s"
       ]
      },
      {
       "output_type": "stream",
       "stream": "stdout",
       "text": [
        "\r",
        "|\u001b[0;34m=====================\u001b[0m\u001b[0;32m>\u001b[0m-------------------| 1.2k/2.4k ( 51.79%) ETA 03m01s"
       ]
      },
      {
       "output_type": "stream",
       "stream": "stdout",
       "text": [
        "\r",
        "|\u001b[0;34m=====================\u001b[0m\u001b[0;32m>\u001b[0m-------------------| 1.2k/2.4k ( 51.83%) ETA 03m01s"
       ]
      },
      {
       "output_type": "stream",
       "stream": "stdout",
       "text": [
        "\r",
        "|\u001b[0;34m=====================\u001b[0m\u001b[0;32m>\u001b[0m-------------------| 1.2k/2.4k ( 51.88%) ETA 03m01s"
       ]
      },
      {
       "output_type": "stream",
       "stream": "stdout",
       "text": [
        "\r",
        "|\u001b[0;34m=====================\u001b[0m\u001b[0;32m>\u001b[0m-------------------| 1.2k/2.4k ( 51.92%) ETA 03m01s"
       ]
      },
      {
       "output_type": "stream",
       "stream": "stdout",
       "text": [
        "\r",
        "|\u001b[0;34m=====================\u001b[0m\u001b[0;32m>\u001b[0m-------------------| 1.2k/2.4k ( 51.96%) ETA 03m01s"
       ]
      },
      {
       "output_type": "stream",
       "stream": "stdout",
       "text": [
        "\r",
        "|\u001b[0;34m=====================\u001b[0m\u001b[0;32m>\u001b[0m-------------------| 1.2k/2.4k ( 52.00%) ETA 03m01s"
       ]
      },
      {
       "output_type": "stream",
       "stream": "stdout",
       "text": [
        "\r",
        "|\u001b[0;34m=====================\u001b[0m\u001b[0;32m>\u001b[0m-------------------| 1.2k/2.4k ( 52.04%) ETA 03m00s"
       ]
      },
      {
       "output_type": "stream",
       "stream": "stdout",
       "text": [
        "\r",
        "|\u001b[0;34m=====================\u001b[0m\u001b[0;32m>\u001b[0m-------------------| 1.2k/2.4k ( 52.08%) ETA 03m00s"
       ]
      },
      {
       "output_type": "stream",
       "stream": "stdout",
       "text": [
        "\r",
        "|\u001b[0;34m=====================\u001b[0m\u001b[0;32m>\u001b[0m-------------------| 1.2k/2.4k ( 52.12%) ETA 03m00s"
       ]
      },
      {
       "output_type": "stream",
       "stream": "stdout",
       "text": [
        "\r",
        "|\u001b[0;34m=====================\u001b[0m\u001b[0;32m>\u001b[0m-------------------| 1.2k/2.4k ( 52.17%) ETA 03m00s"
       ]
      },
      {
       "output_type": "stream",
       "stream": "stdout",
       "text": [
        "\r",
        "|\u001b[0;34m=====================\u001b[0m\u001b[0;32m>\u001b[0m-------------------| 1.2k/2.4k ( 52.21%) ETA 03m00s"
       ]
      },
      {
       "output_type": "stream",
       "stream": "stdout",
       "text": [
        "\r",
        "|\u001b[0;34m=====================\u001b[0m\u001b[0;32m>\u001b[0m-------------------| 1.2k/2.4k ( 52.25%) ETA 03m00s"
       ]
      },
      {
       "output_type": "stream",
       "stream": "stdout",
       "text": [
        "\r",
        "|\u001b[0;34m=====================\u001b[0m\u001b[0;32m>\u001b[0m-------------------| 1.2k/2.4k ( 52.29%) ETA 02m59s"
       ]
      },
      {
       "output_type": "stream",
       "stream": "stdout",
       "text": [
        "\r",
        "|\u001b[0;34m=====================\u001b[0m\u001b[0;32m>\u001b[0m-------------------| 1.2k/2.4k ( 52.33%) ETA 02m59s"
       ]
      },
      {
       "output_type": "stream",
       "stream": "stdout",
       "text": [
        "\r",
        "|\u001b[0;34m=====================\u001b[0m\u001b[0;32m>\u001b[0m-------------------| 1.2k/2.4k ( 52.38%) ETA 02m59s"
       ]
      },
      {
       "output_type": "stream",
       "stream": "stdout",
       "text": [
        "\r",
        "|\u001b[0;34m=====================\u001b[0m\u001b[0;32m>\u001b[0m-------------------| 1.2k/2.4k ( 52.42%) ETA 02m59s"
       ]
      },
      {
       "output_type": "stream",
       "stream": "stdout",
       "text": [
        "\r",
        "|\u001b[0;34m=====================\u001b[0m\u001b[0;32m>\u001b[0m-------------------| 1.2k/2.4k ( 52.46%) ETA 02m59s"
       ]
      },
      {
       "output_type": "stream",
       "stream": "stdout",
       "text": [
        "\r",
        "|\u001b[0;34m=====================\u001b[0m\u001b[0;32m>\u001b[0m-------------------| 1.2k/2.4k ( 52.50%) ETA 02m59s"
       ]
      },
      {
       "output_type": "stream",
       "stream": "stdout",
       "text": [
        "\r",
        "|\u001b[0;34m=====================\u001b[0m\u001b[0;32m>\u001b[0m-------------------| 1.2k/2.4k ( 52.54%) ETA 02m59s"
       ]
      },
      {
       "output_type": "stream",
       "stream": "stdout",
       "text": [
        "\r",
        "|\u001b[0;34m=====================\u001b[0m\u001b[0;32m>\u001b[0m-------------------| 1.2k/2.4k ( 52.58%) ETA 02m58s"
       ]
      },
      {
       "output_type": "stream",
       "stream": "stdout",
       "text": [
        "\r",
        "|\u001b[0;34m=====================\u001b[0m\u001b[0;32m>\u001b[0m-------------------| 1.2k/2.4k ( 52.62%) ETA 02m58s"
       ]
      },
      {
       "output_type": "stream",
       "stream": "stdout",
       "text": [
        "\r",
        "|\u001b[0;34m=====================\u001b[0m\u001b[0;32m>\u001b[0m-------------------| 1.2k/2.4k ( 52.67%) ETA 02m58s"
       ]
      },
      {
       "output_type": "stream",
       "stream": "stdout",
       "text": [
        "\r",
        "|\u001b[0;34m=====================\u001b[0m\u001b[0;32m>\u001b[0m-------------------| 1.2k/2.4k ( 52.71%) ETA 02m58s"
       ]
      },
      {
       "output_type": "stream",
       "stream": "stdout",
       "text": [
        "\r",
        "|\u001b[0;34m=====================\u001b[0m\u001b[0;32m>\u001b[0m-------------------| 1.2k/2.4k ( 52.75%) ETA 02m58s"
       ]
      },
      {
       "output_type": "stream",
       "stream": "stdout",
       "text": [
        "\r",
        "|\u001b[0;34m=====================\u001b[0m\u001b[0;32m>\u001b[0m-------------------| 1.2k/2.4k ( 52.79%) ETA 02m58s"
       ]
      },
      {
       "output_type": "stream",
       "stream": "stdout",
       "text": [
        "\r",
        "|\u001b[0;34m=====================\u001b[0m\u001b[0;32m>\u001b[0m-------------------| 1.2k/2.4k ( 52.83%) ETA 02m57s"
       ]
      },
      {
       "output_type": "stream",
       "stream": "stdout",
       "text": [
        "\r",
        "|\u001b[0;34m=====================\u001b[0m\u001b[0;32m>\u001b[0m-------------------| 1.2k/2.4k ( 52.88%) ETA 02m57s"
       ]
      },
      {
       "output_type": "stream",
       "stream": "stdout",
       "text": [
        "\r",
        "|\u001b[0;34m=====================\u001b[0m\u001b[0;32m>\u001b[0m-------------------| 1.2k/2.4k ( 52.92%) ETA 02m57s"
       ]
      },
      {
       "output_type": "stream",
       "stream": "stdout",
       "text": [
        "\r",
        "|\u001b[0;34m=====================\u001b[0m\u001b[0;32m>\u001b[0m-------------------| 1.2k/2.4k ( 52.96%) ETA 02m57s"
       ]
      },
      {
       "output_type": "stream",
       "stream": "stdout",
       "text": [
        "\r",
        "|\u001b[0;34m=====================\u001b[0m\u001b[0;32m>\u001b[0m-------------------| 1.2k/2.4k ( 53.00%) ETA 02m57s"
       ]
      },
      {
       "output_type": "stream",
       "stream": "stdout",
       "text": [
        "\r",
        "|\u001b[0;34m=====================\u001b[0m\u001b[0;32m>\u001b[0m-------------------| 1.2k/2.4k ( 53.04%) ETA 02m57s"
       ]
      },
      {
       "output_type": "stream",
       "stream": "stdout",
       "text": [
        "\r",
        "|\u001b[0;34m=====================\u001b[0m\u001b[0;32m>\u001b[0m-------------------| 1.2k/2.4k ( 53.08%) ETA 02m56s"
       ]
      },
      {
       "output_type": "stream",
       "stream": "stdout",
       "text": [
        "\r",
        "|\u001b[0;34m=====================\u001b[0m\u001b[0;32m>\u001b[0m-------------------| 1.2k/2.4k ( 53.12%) ETA 02m56s"
       ]
      },
      {
       "output_type": "stream",
       "stream": "stdout",
       "text": [
        "\r",
        "|\u001b[0;34m=====================\u001b[0m\u001b[0;32m>\u001b[0m-------------------| 1.2k/2.4k ( 53.17%) ETA 02m56s"
       ]
      },
      {
       "output_type": "stream",
       "stream": "stdout",
       "text": [
        "\r",
        "|\u001b[0;34m=====================\u001b[0m\u001b[0;32m>\u001b[0m-------------------| 1.2k/2.4k ( 53.21%) ETA 02m56s"
       ]
      },
      {
       "output_type": "stream",
       "stream": "stdout",
       "text": [
        "\r",
        "|\u001b[0;34m=====================\u001b[0m\u001b[0;32m>\u001b[0m-------------------| 1.2k/2.4k ( 53.25%) ETA 02m56s"
       ]
      },
      {
       "output_type": "stream",
       "stream": "stdout",
       "text": [
        "\r",
        "|\u001b[0;34m=====================\u001b[0m\u001b[0;32m>\u001b[0m-------------------| 1.2k/2.4k ( 53.29%) ETA 02m56s"
       ]
      },
      {
       "output_type": "stream",
       "stream": "stdout",
       "text": [
        "\r",
        "|\u001b[0;34m=====================\u001b[0m\u001b[0;32m>\u001b[0m-------------------| 1.2k/2.4k ( 53.33%) ETA 02m56s"
       ]
      },
      {
       "output_type": "stream",
       "stream": "stdout",
       "text": [
        "\r",
        "|\u001b[0;34m=====================\u001b[0m\u001b[0;32m>\u001b[0m-------------------| 1.2k/2.4k ( 53.37%) ETA 02m55s"
       ]
      },
      {
       "output_type": "stream",
       "stream": "stdout",
       "text": [
        "\r",
        "|\u001b[0;34m=====================\u001b[0m\u001b[0;32m>\u001b[0m-------------------| 1.2k/2.4k ( 53.42%) ETA 02m55s"
       ]
      },
      {
       "output_type": "stream",
       "stream": "stdout",
       "text": [
        "\r",
        "|\u001b[0;34m=====================\u001b[0m\u001b[0;32m>\u001b[0m-------------------| 1.2k/2.4k ( 53.46%) ETA 02m55s"
       ]
      },
      {
       "output_type": "stream",
       "stream": "stdout",
       "text": [
        "\r",
        "|\u001b[0;34m=====================\u001b[0m\u001b[0;32m>\u001b[0m-------------------| 1.2k/2.4k ( 53.50%) ETA 02m55s"
       ]
      },
      {
       "output_type": "stream",
       "stream": "stdout",
       "text": [
        "\r",
        "|\u001b[0;34m=====================\u001b[0m\u001b[0;32m>\u001b[0m-------------------| 1.2k/2.4k ( 53.54%) ETA 02m55s"
       ]
      },
      {
       "output_type": "stream",
       "stream": "stdout",
       "text": [
        "\r",
        "|\u001b[0;34m=====================\u001b[0m\u001b[0;32m>\u001b[0m-------------------| 1.2k/2.4k ( 53.58%) ETA 02m55s"
       ]
      },
      {
       "output_type": "stream",
       "stream": "stdout",
       "text": [
        "\r",
        "|\u001b[0;34m=====================\u001b[0m\u001b[0;32m>\u001b[0m-------------------| 1.2k/2.4k ( 53.62%) ETA 02m54s"
       ]
      },
      {
       "output_type": "stream",
       "stream": "stdout",
       "text": [
        "\r",
        "|\u001b[0;34m======================\u001b[0m\u001b[0;32m>\u001b[0m------------------| 1.2k/2.4k ( 53.67%) ETA 02m54s"
       ]
      },
      {
       "output_type": "stream",
       "stream": "stdout",
       "text": [
        "\r",
        "|\u001b[0;34m======================\u001b[0m\u001b[0;32m>\u001b[0m------------------| 1.2k/2.4k ( 53.71%) ETA 02m54s"
       ]
      },
      {
       "output_type": "stream",
       "stream": "stdout",
       "text": [
        "\r",
        "|\u001b[0;34m======================\u001b[0m\u001b[0;32m>\u001b[0m------------------| 1.2k/2.4k ( 53.75%) ETA 02m54s"
       ]
      },
      {
       "output_type": "stream",
       "stream": "stdout",
       "text": [
        "\r",
        "|\u001b[0;34m======================\u001b[0m\u001b[0;32m>\u001b[0m------------------| 1.2k/2.4k ( 53.79%) ETA 02m54s"
       ]
      },
      {
       "output_type": "stream",
       "stream": "stdout",
       "text": [
        "\r",
        "|\u001b[0;34m======================\u001b[0m\u001b[0;32m>\u001b[0m------------------| 1.2k/2.4k ( 53.83%) ETA 02m54s"
       ]
      },
      {
       "output_type": "stream",
       "stream": "stdout",
       "text": [
        "\r",
        "|\u001b[0;34m======================\u001b[0m\u001b[0;32m>\u001b[0m------------------| 1.2k/2.4k ( 53.87%) ETA 02m53s"
       ]
      },
      {
       "output_type": "stream",
       "stream": "stdout",
       "text": [
        "\r",
        "|\u001b[0;34m======================\u001b[0m\u001b[0;32m>\u001b[0m------------------| 1.2k/2.4k ( 53.92%) ETA 02m53s"
       ]
      },
      {
       "output_type": "stream",
       "stream": "stdout",
       "text": [
        "\r",
        "|\u001b[0;34m======================\u001b[0m\u001b[0;32m>\u001b[0m------------------| 1.2k/2.4k ( 53.96%) ETA 02m53s"
       ]
      },
      {
       "output_type": "stream",
       "stream": "stdout",
       "text": [
        "\r",
        "|\u001b[0;34m======================\u001b[0m\u001b[0;32m>\u001b[0m------------------| 1.2k/2.4k ( 54.00%) ETA 02m53s"
       ]
      },
      {
       "output_type": "stream",
       "stream": "stdout",
       "text": [
        "\r",
        "|\u001b[0;34m======================\u001b[0m\u001b[0;32m>\u001b[0m------------------| 1.2k/2.4k ( 54.04%) ETA 02m53s"
       ]
      },
      {
       "output_type": "stream",
       "stream": "stdout",
       "text": [
        "\r",
        "|\u001b[0;34m======================\u001b[0m\u001b[0;32m>\u001b[0m------------------| 1.2k/2.4k ( 54.08%) ETA 02m53s"
       ]
      },
      {
       "output_type": "stream",
       "stream": "stdout",
       "text": [
        "\r",
        "|\u001b[0;34m======================\u001b[0m\u001b[0;32m>\u001b[0m------------------| 1.2k/2.4k ( 54.12%) ETA 02m53s"
       ]
      },
      {
       "output_type": "stream",
       "stream": "stdout",
       "text": [
        "\r",
        "|\u001b[0;34m======================\u001b[0m\u001b[0;32m>\u001b[0m------------------| 1.3k/2.4k ( 54.17%) ETA 02m52s"
       ]
      },
      {
       "output_type": "stream",
       "stream": "stdout",
       "text": [
        "\r",
        "|\u001b[0;34m======================\u001b[0m\u001b[0;32m>\u001b[0m------------------| 1.3k/2.4k ( 54.21%) ETA 02m52s"
       ]
      },
      {
       "output_type": "stream",
       "stream": "stdout",
       "text": [
        "\r",
        "|\u001b[0;34m======================\u001b[0m\u001b[0;32m>\u001b[0m------------------| 1.3k/2.4k ( 54.25%) ETA 02m52s"
       ]
      },
      {
       "output_type": "stream",
       "stream": "stdout",
       "text": [
        "\r",
        "|\u001b[0;34m======================\u001b[0m\u001b[0;32m>\u001b[0m------------------| 1.3k/2.4k ( 54.29%) ETA 02m52s"
       ]
      },
      {
       "output_type": "stream",
       "stream": "stdout",
       "text": [
        "\r",
        "|\u001b[0;34m======================\u001b[0m\u001b[0;32m>\u001b[0m------------------| 1.3k/2.4k ( 54.33%) ETA 02m52s"
       ]
      },
      {
       "output_type": "stream",
       "stream": "stdout",
       "text": [
        "\r",
        "|\u001b[0;34m======================\u001b[0m\u001b[0;32m>\u001b[0m------------------| 1.3k/2.4k ( 54.37%) ETA 02m52s"
       ]
      },
      {
       "output_type": "stream",
       "stream": "stdout",
       "text": [
        "\r",
        "|\u001b[0;34m======================\u001b[0m\u001b[0;32m>\u001b[0m------------------| 1.3k/2.4k ( 54.42%) ETA 02m51s"
       ]
      },
      {
       "output_type": "stream",
       "stream": "stdout",
       "text": [
        "\r",
        "|\u001b[0;34m======================\u001b[0m\u001b[0;32m>\u001b[0m------------------| 1.3k/2.4k ( 54.46%) ETA 02m51s"
       ]
      },
      {
       "output_type": "stream",
       "stream": "stdout",
       "text": [
        "\r",
        "|\u001b[0;34m======================\u001b[0m\u001b[0;32m>\u001b[0m------------------| 1.3k/2.4k ( 54.50%) ETA 02m51s"
       ]
      },
      {
       "output_type": "stream",
       "stream": "stdout",
       "text": [
        "\r",
        "|\u001b[0;34m======================\u001b[0m\u001b[0;32m>\u001b[0m------------------| 1.3k/2.4k ( 54.54%) ETA 02m51s"
       ]
      },
      {
       "output_type": "stream",
       "stream": "stdout",
       "text": [
        "\r",
        "|\u001b[0;34m======================\u001b[0m\u001b[0;32m>\u001b[0m------------------| 1.3k/2.4k ( 54.58%) ETA 02m51s"
       ]
      },
      {
       "output_type": "stream",
       "stream": "stdout",
       "text": [
        "\r",
        "|\u001b[0;34m======================\u001b[0m\u001b[0;32m>\u001b[0m------------------| 1.3k/2.4k ( 54.62%) ETA 02m51s"
       ]
      },
      {
       "output_type": "stream",
       "stream": "stdout",
       "text": [
        "\r",
        "|\u001b[0;34m======================\u001b[0m\u001b[0;32m>\u001b[0m------------------| 1.3k/2.4k ( 54.67%) ETA 02m50s"
       ]
      },
      {
       "output_type": "stream",
       "stream": "stdout",
       "text": [
        "\r",
        "|\u001b[0;34m======================\u001b[0m\u001b[0;32m>\u001b[0m------------------| 1.3k/2.4k ( 54.71%) ETA 02m50s"
       ]
      },
      {
       "output_type": "stream",
       "stream": "stdout",
       "text": [
        "\r",
        "|\u001b[0;34m======================\u001b[0m\u001b[0;32m>\u001b[0m------------------| 1.3k/2.4k ( 54.75%) ETA 02m50s"
       ]
      },
      {
       "output_type": "stream",
       "stream": "stdout",
       "text": [
        "\r",
        "|\u001b[0;34m======================\u001b[0m\u001b[0;32m>\u001b[0m------------------| 1.3k/2.4k ( 54.79%) ETA 02m50s"
       ]
      },
      {
       "output_type": "stream",
       "stream": "stdout",
       "text": [
        "\r",
        "|\u001b[0;34m======================\u001b[0m\u001b[0;32m>\u001b[0m------------------| 1.3k/2.4k ( 54.83%) ETA 02m50s"
       ]
      },
      {
       "output_type": "stream",
       "stream": "stdout",
       "text": [
        "\r",
        "|\u001b[0;34m======================\u001b[0m\u001b[0;32m>\u001b[0m------------------| 1.3k/2.4k ( 54.87%) ETA 02m50s"
       ]
      },
      {
       "output_type": "stream",
       "stream": "stdout",
       "text": [
        "\r",
        "|\u001b[0;34m======================\u001b[0m\u001b[0;32m>\u001b[0m------------------| 1.3k/2.4k ( 54.92%) ETA 02m50s"
       ]
      },
      {
       "output_type": "stream",
       "stream": "stdout",
       "text": [
        "\r",
        "|\u001b[0;34m======================\u001b[0m\u001b[0;32m>\u001b[0m------------------| 1.3k/2.4k ( 54.96%) ETA 02m49s"
       ]
      },
      {
       "output_type": "stream",
       "stream": "stdout",
       "text": [
        "\r",
        "|\u001b[0;34m======================\u001b[0m\u001b[0;32m>\u001b[0m------------------| 1.3k/2.4k ( 55.00%) ETA 02m49s"
       ]
      },
      {
       "output_type": "stream",
       "stream": "stdout",
       "text": [
        "\r",
        "|\u001b[0;34m======================\u001b[0m\u001b[0;32m>\u001b[0m------------------| 1.3k/2.4k ( 55.04%) ETA 02m49s"
       ]
      },
      {
       "output_type": "stream",
       "stream": "stdout",
       "text": [
        "\r",
        "|\u001b[0;34m======================\u001b[0m\u001b[0;32m>\u001b[0m------------------| 1.3k/2.4k ( 55.08%) ETA 02m49s"
       ]
      },
      {
       "output_type": "stream",
       "stream": "stdout",
       "text": [
        "\r",
        "|\u001b[0;34m======================\u001b[0m\u001b[0;32m>\u001b[0m------------------| 1.3k/2.4k ( 55.12%) ETA 02m49s"
       ]
      },
      {
       "output_type": "stream",
       "stream": "stdout",
       "text": [
        "\r",
        "|\u001b[0;34m======================\u001b[0m\u001b[0;32m>\u001b[0m------------------| 1.3k/2.4k ( 55.17%) ETA 02m49s"
       ]
      },
      {
       "output_type": "stream",
       "stream": "stdout",
       "text": [
        "\r",
        "|\u001b[0;34m======================\u001b[0m\u001b[0;32m>\u001b[0m------------------| 1.3k/2.4k ( 55.21%) ETA 02m48s"
       ]
      },
      {
       "output_type": "stream",
       "stream": "stdout",
       "text": [
        "\r",
        "|\u001b[0;34m======================\u001b[0m\u001b[0;32m>\u001b[0m------------------| 1.3k/2.4k ( 55.25%) ETA 02m48s"
       ]
      },
      {
       "output_type": "stream",
       "stream": "stdout",
       "text": [
        "\r",
        "|\u001b[0;34m======================\u001b[0m\u001b[0;32m>\u001b[0m------------------| 1.3k/2.4k ( 55.29%) ETA 02m48s"
       ]
      },
      {
       "output_type": "stream",
       "stream": "stdout",
       "text": [
        "\r",
        "|\u001b[0;34m======================\u001b[0m\u001b[0;32m>\u001b[0m------------------| 1.3k/2.4k ( 55.33%) ETA 02m48s"
       ]
      },
      {
       "output_type": "stream",
       "stream": "stdout",
       "text": [
        "\r",
        "|\u001b[0;34m======================\u001b[0m\u001b[0;32m>\u001b[0m------------------| 1.3k/2.4k ( 55.38%) ETA 02m48s"
       ]
      },
      {
       "output_type": "stream",
       "stream": "stdout",
       "text": [
        "\r",
        "|\u001b[0;34m======================\u001b[0m\u001b[0;32m>\u001b[0m------------------| 1.3k/2.4k ( 55.42%) ETA 02m48s"
       ]
      },
      {
       "output_type": "stream",
       "stream": "stdout",
       "text": [
        "\r",
        "|\u001b[0;34m======================\u001b[0m\u001b[0;32m>\u001b[0m------------------| 1.3k/2.4k ( 55.46%) ETA 02m47s"
       ]
      },
      {
       "output_type": "stream",
       "stream": "stdout",
       "text": [
        "\r",
        "|\u001b[0;34m======================\u001b[0m\u001b[0;32m>\u001b[0m------------------| 1.3k/2.4k ( 55.50%) ETA 02m47s"
       ]
      },
      {
       "output_type": "stream",
       "stream": "stdout",
       "text": [
        "\r",
        "|\u001b[0;34m======================\u001b[0m\u001b[0;32m>\u001b[0m------------------| 1.3k/2.4k ( 55.54%) ETA 02m47s"
       ]
      },
      {
       "output_type": "stream",
       "stream": "stdout",
       "text": [
        "\r",
        "|\u001b[0;34m======================\u001b[0m\u001b[0;32m>\u001b[0m------------------| 1.3k/2.4k ( 55.58%) ETA 02m47s"
       ]
      },
      {
       "output_type": "stream",
       "stream": "stdout",
       "text": [
        "\r",
        "|\u001b[0;34m======================\u001b[0m\u001b[0;32m>\u001b[0m------------------| 1.3k/2.4k ( 55.62%) ETA 02m47s"
       ]
      },
      {
       "output_type": "stream",
       "stream": "stdout",
       "text": [
        "\r",
        "|\u001b[0;34m======================\u001b[0m\u001b[0;32m>\u001b[0m------------------| 1.3k/2.4k ( 55.67%) ETA 02m47s"
       ]
      },
      {
       "output_type": "stream",
       "stream": "stdout",
       "text": [
        "\r",
        "|\u001b[0;34m======================\u001b[0m\u001b[0;32m>\u001b[0m------------------| 1.3k/2.4k ( 55.71%) ETA 02m47s"
       ]
      },
      {
       "output_type": "stream",
       "stream": "stdout",
       "text": [
        "\r",
        "|\u001b[0;34m======================\u001b[0m\u001b[0;32m>\u001b[0m------------------| 1.3k/2.4k ( 55.75%) ETA 02m46s"
       ]
      },
      {
       "output_type": "stream",
       "stream": "stdout",
       "text": [
        "\r",
        "|\u001b[0;34m======================\u001b[0m\u001b[0;32m>\u001b[0m------------------| 1.3k/2.4k ( 55.79%) ETA 02m46s"
       ]
      },
      {
       "output_type": "stream",
       "stream": "stdout",
       "text": [
        "\r",
        "|\u001b[0;34m======================\u001b[0m\u001b[0;32m>\u001b[0m------------------| 1.3k/2.4k ( 55.83%) ETA 02m46s"
       ]
      },
      {
       "output_type": "stream",
       "stream": "stdout",
       "text": [
        "\r",
        "|\u001b[0;34m======================\u001b[0m\u001b[0;32m>\u001b[0m------------------| 1.3k/2.4k ( 55.88%) ETA 02m46s"
       ]
      },
      {
       "output_type": "stream",
       "stream": "stdout",
       "text": [
        "\r",
        "|\u001b[0;34m======================\u001b[0m\u001b[0;32m>\u001b[0m------------------| 1.3k/2.4k ( 55.92%) ETA 02m46s"
       ]
      },
      {
       "output_type": "stream",
       "stream": "stdout",
       "text": [
        "\r",
        "|\u001b[0;34m======================\u001b[0m\u001b[0;32m>\u001b[0m------------------| 1.3k/2.4k ( 55.96%) ETA 02m46s"
       ]
      },
      {
       "output_type": "stream",
       "stream": "stdout",
       "text": [
        "\r",
        "|\u001b[0;34m======================\u001b[0m\u001b[0;32m>\u001b[0m------------------| 1.3k/2.4k ( 56.00%) ETA 02m46s"
       ]
      },
      {
       "output_type": "stream",
       "stream": "stdout",
       "text": [
        "\r",
        "|\u001b[0;34m======================\u001b[0m\u001b[0;32m>\u001b[0m------------------| 1.3k/2.4k ( 56.04%) ETA 02m45s"
       ]
      },
      {
       "output_type": "stream",
       "stream": "stdout",
       "text": [
        "\r",
        "|\u001b[0;34m======================\u001b[0m\u001b[0;32m>\u001b[0m------------------| 1.3k/2.4k ( 56.08%) ETA 02m45s"
       ]
      },
      {
       "output_type": "stream",
       "stream": "stdout",
       "text": [
        "\r",
        "|\u001b[0;34m=======================\u001b[0m\u001b[0;32m>\u001b[0m-----------------| 1.3k/2.4k ( 56.12%) ETA 02m45s"
       ]
      },
      {
       "output_type": "stream",
       "stream": "stdout",
       "text": [
        "\r",
        "|\u001b[0;34m=======================\u001b[0m\u001b[0;32m>\u001b[0m-----------------| 1.3k/2.4k ( 56.17%) ETA 02m45s"
       ]
      },
      {
       "output_type": "stream",
       "stream": "stdout",
       "text": [
        "\r",
        "|\u001b[0;34m=======================\u001b[0m\u001b[0;32m>\u001b[0m-----------------| 1.3k/2.4k ( 56.21%) ETA 02m45s"
       ]
      },
      {
       "output_type": "stream",
       "stream": "stdout",
       "text": [
        "\r",
        "|\u001b[0;34m=======================\u001b[0m\u001b[0;32m>\u001b[0m-----------------| 1.3k/2.4k ( 56.25%) ETA 02m45s"
       ]
      },
      {
       "output_type": "stream",
       "stream": "stdout",
       "text": [
        "\r",
        "|\u001b[0;34m=======================\u001b[0m\u001b[0;32m>\u001b[0m-----------------| 1.3k/2.4k ( 56.29%) ETA 02m44s"
       ]
      },
      {
       "output_type": "stream",
       "stream": "stdout",
       "text": [
        "\r",
        "|\u001b[0;34m=======================\u001b[0m\u001b[0;32m>\u001b[0m-----------------| 1.3k/2.4k ( 56.33%) ETA 02m44s"
       ]
      },
      {
       "output_type": "stream",
       "stream": "stdout",
       "text": [
        "\r",
        "|\u001b[0;34m=======================\u001b[0m\u001b[0;32m>\u001b[0m-----------------| 1.3k/2.4k ( 56.38%) ETA 02m44s"
       ]
      },
      {
       "output_type": "stream",
       "stream": "stdout",
       "text": [
        "\r",
        "|\u001b[0;34m=======================\u001b[0m\u001b[0;32m>\u001b[0m-----------------| 1.3k/2.4k ( 56.42%) ETA 02m44s"
       ]
      },
      {
       "output_type": "stream",
       "stream": "stdout",
       "text": [
        "\r",
        "|\u001b[0;34m=======================\u001b[0m\u001b[0;32m>\u001b[0m-----------------| 1.3k/2.4k ( 56.46%) ETA 02m44s"
       ]
      },
      {
       "output_type": "stream",
       "stream": "stdout",
       "text": [
        "\r",
        "|\u001b[0;34m=======================\u001b[0m\u001b[0;32m>\u001b[0m-----------------| 1.3k/2.4k ( 56.50%) ETA 02m44s"
       ]
      },
      {
       "output_type": "stream",
       "stream": "stdout",
       "text": [
        "\r",
        "|\u001b[0;34m=======================\u001b[0m\u001b[0;32m>\u001b[0m-----------------| 1.3k/2.4k ( 56.54%) ETA 02m43s"
       ]
      },
      {
       "output_type": "stream",
       "stream": "stdout",
       "text": [
        "\r",
        "|\u001b[0;34m=======================\u001b[0m\u001b[0;32m>\u001b[0m-----------------| 1.3k/2.4k ( 56.58%) ETA 02m43s"
       ]
      },
      {
       "output_type": "stream",
       "stream": "stdout",
       "text": [
        "\r",
        "|\u001b[0;34m=======================\u001b[0m\u001b[0;32m>\u001b[0m-----------------| 1.3k/2.4k ( 56.62%) ETA 02m43s"
       ]
      },
      {
       "output_type": "stream",
       "stream": "stdout",
       "text": [
        "\r",
        "|\u001b[0;34m=======================\u001b[0m\u001b[0;32m>\u001b[0m-----------------| 1.3k/2.4k ( 56.67%) ETA 02m43s"
       ]
      },
      {
       "output_type": "stream",
       "stream": "stdout",
       "text": [
        "\r",
        "|\u001b[0;34m=======================\u001b[0m\u001b[0;32m>\u001b[0m-----------------| 1.3k/2.4k ( 56.71%) ETA 02m43s"
       ]
      },
      {
       "output_type": "stream",
       "stream": "stdout",
       "text": [
        "\r",
        "|\u001b[0;34m=======================\u001b[0m\u001b[0;32m>\u001b[0m-----------------| 1.3k/2.4k ( 56.75%) ETA 02m43s"
       ]
      },
      {
       "output_type": "stream",
       "stream": "stdout",
       "text": [
        "\r",
        "|\u001b[0;34m=======================\u001b[0m\u001b[0;32m>\u001b[0m-----------------| 1.3k/2.4k ( 56.79%) ETA 02m43s"
       ]
      },
      {
       "output_type": "stream",
       "stream": "stdout",
       "text": [
        "\r",
        "|\u001b[0;34m=======================\u001b[0m\u001b[0;32m>\u001b[0m-----------------| 1.3k/2.4k ( 56.83%) ETA 02m42s"
       ]
      },
      {
       "output_type": "stream",
       "stream": "stdout",
       "text": [
        "\r",
        "|\u001b[0;34m=======================\u001b[0m\u001b[0;32m>\u001b[0m-----------------| 1.3k/2.4k ( 56.88%) ETA 02m42s"
       ]
      },
      {
       "output_type": "stream",
       "stream": "stdout",
       "text": [
        "\r",
        "|\u001b[0;34m=======================\u001b[0m\u001b[0;32m>\u001b[0m-----------------| 1.3k/2.4k ( 56.92%) ETA 02m42s"
       ]
      },
      {
       "output_type": "stream",
       "stream": "stdout",
       "text": [
        "\r",
        "|\u001b[0;34m=======================\u001b[0m\u001b[0;32m>\u001b[0m-----------------| 1.3k/2.4k ( 56.96%) ETA 02m42s"
       ]
      },
      {
       "output_type": "stream",
       "stream": "stdout",
       "text": [
        "\r",
        "|\u001b[0;34m=======================\u001b[0m\u001b[0;32m>\u001b[0m-----------------| 1.3k/2.4k ( 57.00%) ETA 02m42s"
       ]
      },
      {
       "output_type": "stream",
       "stream": "stdout",
       "text": [
        "\r",
        "|\u001b[0;34m=======================\u001b[0m\u001b[0;32m>\u001b[0m-----------------| 1.3k/2.4k ( 57.04%) ETA 02m42s"
       ]
      },
      {
       "output_type": "stream",
       "stream": "stdout",
       "text": [
        "\r",
        "|\u001b[0;34m=======================\u001b[0m\u001b[0;32m>\u001b[0m-----------------| 1.3k/2.4k ( 57.08%) ETA 02m41s"
       ]
      },
      {
       "output_type": "stream",
       "stream": "stdout",
       "text": [
        "\r",
        "|\u001b[0;34m=======================\u001b[0m\u001b[0;32m>\u001b[0m-----------------| 1.3k/2.4k ( 57.12%) ETA 02m41s"
       ]
      },
      {
       "output_type": "stream",
       "stream": "stdout",
       "text": [
        "\r",
        "|\u001b[0;34m=======================\u001b[0m\u001b[0;32m>\u001b[0m-----------------| 1.3k/2.4k ( 57.17%) ETA 02m41s"
       ]
      },
      {
       "output_type": "stream",
       "stream": "stdout",
       "text": [
        "\r",
        "|\u001b[0;34m=======================\u001b[0m\u001b[0;32m>\u001b[0m-----------------| 1.3k/2.4k ( 57.21%) ETA 02m41s"
       ]
      },
      {
       "output_type": "stream",
       "stream": "stdout",
       "text": [
        "\r",
        "|\u001b[0;34m=======================\u001b[0m\u001b[0;32m>\u001b[0m-----------------| 1.3k/2.4k ( 57.25%) ETA 02m41s"
       ]
      },
      {
       "output_type": "stream",
       "stream": "stdout",
       "text": [
        "\r",
        "|\u001b[0;34m=======================\u001b[0m\u001b[0;32m>\u001b[0m-----------------| 1.3k/2.4k ( 57.29%) ETA 02m41s"
       ]
      },
      {
       "output_type": "stream",
       "stream": "stdout",
       "text": [
        "\r",
        "|\u001b[0;34m=======================\u001b[0m\u001b[0;32m>\u001b[0m-----------------| 1.3k/2.4k ( 57.33%) ETA 02m40s"
       ]
      },
      {
       "output_type": "stream",
       "stream": "stdout",
       "text": [
        "\r",
        "|\u001b[0;34m=======================\u001b[0m\u001b[0;32m>\u001b[0m-----------------| 1.3k/2.4k ( 57.38%) ETA 02m40s"
       ]
      },
      {
       "output_type": "stream",
       "stream": "stdout",
       "text": [
        "\r",
        "|\u001b[0;34m=======================\u001b[0m\u001b[0;32m>\u001b[0m-----------------| 1.3k/2.4k ( 57.42%) ETA 02m40s"
       ]
      },
      {
       "output_type": "stream",
       "stream": "stdout",
       "text": [
        "\r",
        "|\u001b[0;34m=======================\u001b[0m\u001b[0;32m>\u001b[0m-----------------| 1.3k/2.4k ( 57.46%) ETA 02m40s"
       ]
      },
      {
       "output_type": "stream",
       "stream": "stdout",
       "text": [
        "\r",
        "|\u001b[0;34m=======================\u001b[0m\u001b[0;32m>\u001b[0m-----------------| 1.3k/2.4k ( 57.50%) ETA 02m40s"
       ]
      },
      {
       "output_type": "stream",
       "stream": "stdout",
       "text": [
        "\r",
        "|\u001b[0;34m=======================\u001b[0m\u001b[0;32m>\u001b[0m-----------------| 1.3k/2.4k ( 57.54%) ETA 02m40s"
       ]
      },
      {
       "output_type": "stream",
       "stream": "stdout",
       "text": [
        "\r",
        "|\u001b[0;34m=======================\u001b[0m\u001b[0;32m>\u001b[0m-----------------| 1.3k/2.4k ( 57.58%) ETA 02m40s"
       ]
      },
      {
       "output_type": "stream",
       "stream": "stdout",
       "text": [
        "\r",
        "|\u001b[0;34m=======================\u001b[0m\u001b[0;32m>\u001b[0m-----------------| 1.3k/2.4k ( 57.63%) ETA 02m39s"
       ]
      },
      {
       "output_type": "stream",
       "stream": "stdout",
       "text": [
        "\r",
        "|\u001b[0;34m=======================\u001b[0m\u001b[0;32m>\u001b[0m-----------------| 1.3k/2.4k ( 57.67%) ETA 02m39s"
       ]
      },
      {
       "output_type": "stream",
       "stream": "stdout",
       "text": [
        "\r",
        "|\u001b[0;34m=======================\u001b[0m\u001b[0;32m>\u001b[0m-----------------| 1.3k/2.4k ( 57.71%) ETA 02m39s"
       ]
      },
      {
       "output_type": "stream",
       "stream": "stdout",
       "text": [
        "\r",
        "|\u001b[0;34m=======================\u001b[0m\u001b[0;32m>\u001b[0m-----------------| 1.3k/2.4k ( 57.75%) ETA 02m39s"
       ]
      },
      {
       "output_type": "stream",
       "stream": "stdout",
       "text": [
        "\r",
        "|\u001b[0;34m=======================\u001b[0m\u001b[0;32m>\u001b[0m-----------------| 1.3k/2.4k ( 57.79%) ETA 02m39s"
       ]
      },
      {
       "output_type": "stream",
       "stream": "stdout",
       "text": [
        "\r",
        "|\u001b[0;34m=======================\u001b[0m\u001b[0;32m>\u001b[0m-----------------| 1.3k/2.4k ( 57.83%) ETA 02m39s"
       ]
      },
      {
       "output_type": "stream",
       "stream": "stdout",
       "text": [
        "\r",
        "|\u001b[0;34m=======================\u001b[0m\u001b[0;32m>\u001b[0m-----------------| 1.3k/2.4k ( 57.88%) ETA 02m38s"
       ]
      },
      {
       "output_type": "stream",
       "stream": "stdout",
       "text": [
        "\r",
        "|\u001b[0;34m=======================\u001b[0m\u001b[0;32m>\u001b[0m-----------------| 1.3k/2.4k ( 57.92%) ETA 02m38s"
       ]
      },
      {
       "output_type": "stream",
       "stream": "stdout",
       "text": [
        "\r",
        "|\u001b[0;34m=======================\u001b[0m\u001b[0;32m>\u001b[0m-----------------| 1.3k/2.4k ( 57.96%) ETA 02m38s"
       ]
      },
      {
       "output_type": "stream",
       "stream": "stdout",
       "text": [
        "\r",
        "|\u001b[0;34m=======================\u001b[0m\u001b[0;32m>\u001b[0m-----------------| 1.3k/2.4k ( 58.00%) ETA 02m38s"
       ]
      },
      {
       "output_type": "stream",
       "stream": "stdout",
       "text": [
        "\r",
        "|\u001b[0;34m=======================\u001b[0m\u001b[0;32m>\u001b[0m-----------------| 1.3k/2.4k ( 58.04%) ETA 02m38s"
       ]
      },
      {
       "output_type": "stream",
       "stream": "stdout",
       "text": [
        "\r",
        "|\u001b[0;34m=======================\u001b[0m\u001b[0;32m>\u001b[0m-----------------| 1.3k/2.4k ( 58.08%) ETA 02m38s"
       ]
      },
      {
       "output_type": "stream",
       "stream": "stdout",
       "text": [
        "\r",
        "|\u001b[0;34m=======================\u001b[0m\u001b[0;32m>\u001b[0m-----------------| 1.3k/2.4k ( 58.13%) ETA 02m38s"
       ]
      },
      {
       "output_type": "stream",
       "stream": "stdout",
       "text": [
        "\r",
        "|\u001b[0;34m=======================\u001b[0m\u001b[0;32m>\u001b[0m-----------------| 1.3k/2.4k ( 58.17%) ETA 02m37s"
       ]
      },
      {
       "output_type": "stream",
       "stream": "stdout",
       "text": [
        "\r",
        "|\u001b[0;34m=======================\u001b[0m\u001b[0;32m>\u001b[0m-----------------| 1.3k/2.4k ( 58.21%) ETA 02m37s"
       ]
      },
      {
       "output_type": "stream",
       "stream": "stdout",
       "text": [
        "\r",
        "|\u001b[0;34m=======================\u001b[0m\u001b[0;32m>\u001b[0m-----------------| 1.3k/2.4k ( 58.25%) ETA 02m37s"
       ]
      },
      {
       "output_type": "stream",
       "stream": "stdout",
       "text": [
        "\r",
        "|\u001b[0;34m=======================\u001b[0m\u001b[0;32m>\u001b[0m-----------------| 1.3k/2.4k ( 58.29%) ETA 02m37s"
       ]
      },
      {
       "output_type": "stream",
       "stream": "stdout",
       "text": [
        "\r",
        "|\u001b[0;34m=======================\u001b[0m\u001b[0;32m>\u001b[0m-----------------| 1.4k/2.4k ( 58.33%) ETA 02m37s"
       ]
      },
      {
       "output_type": "stream",
       "stream": "stdout",
       "text": [
        "\r",
        "|\u001b[0;34m=======================\u001b[0m\u001b[0;32m>\u001b[0m-----------------| 1.4k/2.4k ( 58.38%) ETA 02m37s"
       ]
      },
      {
       "output_type": "stream",
       "stream": "stdout",
       "text": [
        "\r",
        "|\u001b[0;34m=======================\u001b[0m\u001b[0;32m>\u001b[0m-----------------| 1.4k/2.4k ( 58.42%) ETA 02m36s"
       ]
      },
      {
       "output_type": "stream",
       "stream": "stdout",
       "text": [
        "\r",
        "|\u001b[0;34m=======================\u001b[0m\u001b[0;32m>\u001b[0m-----------------| 1.4k/2.4k ( 58.46%) ETA 02m36s"
       ]
      },
      {
       "output_type": "stream",
       "stream": "stdout",
       "text": [
        "\r",
        "|\u001b[0;34m=======================\u001b[0m\u001b[0;32m>\u001b[0m-----------------| 1.4k/2.4k ( 58.50%) ETA 02m36s"
       ]
      },
      {
       "output_type": "stream",
       "stream": "stdout",
       "text": [
        "\r",
        "|\u001b[0;34m========================\u001b[0m\u001b[0;32m>\u001b[0m----------------| 1.4k/2.4k ( 58.54%) ETA 02m36s"
       ]
      },
      {
       "output_type": "stream",
       "stream": "stdout",
       "text": [
        "\r",
        "|\u001b[0;34m========================\u001b[0m\u001b[0;32m>\u001b[0m----------------| 1.4k/2.4k ( 58.58%) ETA 02m36s"
       ]
      },
      {
       "output_type": "stream",
       "stream": "stdout",
       "text": [
        "\r",
        "|\u001b[0;34m========================\u001b[0m\u001b[0;32m>\u001b[0m----------------| 1.4k/2.4k ( 58.63%) ETA 02m36s"
       ]
      },
      {
       "output_type": "stream",
       "stream": "stdout",
       "text": [
        "\r",
        "|\u001b[0;34m========================\u001b[0m\u001b[0;32m>\u001b[0m----------------| 1.4k/2.4k ( 58.67%) ETA 02m35s"
       ]
      },
      {
       "output_type": "stream",
       "stream": "stdout",
       "text": [
        "\r",
        "|\u001b[0;34m========================\u001b[0m\u001b[0;32m>\u001b[0m----------------| 1.4k/2.4k ( 58.71%) ETA 02m35s"
       ]
      },
      {
       "output_type": "stream",
       "stream": "stdout",
       "text": [
        "\r",
        "|\u001b[0;34m========================\u001b[0m\u001b[0;32m>\u001b[0m----------------| 1.4k/2.4k ( 58.75%) ETA 02m35s"
       ]
      },
      {
       "output_type": "stream",
       "stream": "stdout",
       "text": [
        "\r",
        "|\u001b[0;34m========================\u001b[0m\u001b[0;32m>\u001b[0m----------------| 1.4k/2.4k ( 58.79%) ETA 02m35s"
       ]
      },
      {
       "output_type": "stream",
       "stream": "stdout",
       "text": [
        "\r",
        "|\u001b[0;34m========================\u001b[0m\u001b[0;32m>\u001b[0m----------------| 1.4k/2.4k ( 58.83%) ETA 02m35s"
       ]
      },
      {
       "output_type": "stream",
       "stream": "stdout",
       "text": [
        "\r",
        "|\u001b[0;34m========================\u001b[0m\u001b[0;32m>\u001b[0m----------------| 1.4k/2.4k ( 58.88%) ETA 02m35s"
       ]
      },
      {
       "output_type": "stream",
       "stream": "stdout",
       "text": [
        "\r",
        "|\u001b[0;34m========================\u001b[0m\u001b[0;32m>\u001b[0m----------------| 1.4k/2.4k ( 58.92%) ETA 02m35s"
       ]
      },
      {
       "output_type": "stream",
       "stream": "stdout",
       "text": [
        "\r",
        "|\u001b[0;34m========================\u001b[0m\u001b[0;32m>\u001b[0m----------------| 1.4k/2.4k ( 58.96%) ETA 02m34s"
       ]
      },
      {
       "output_type": "stream",
       "stream": "stdout",
       "text": [
        "\r",
        "|\u001b[0;34m========================\u001b[0m\u001b[0;32m>\u001b[0m----------------| 1.4k/2.4k ( 59.00%) ETA 02m34s"
       ]
      },
      {
       "output_type": "stream",
       "stream": "stdout",
       "text": [
        "\r",
        "|\u001b[0;34m========================\u001b[0m\u001b[0;32m>\u001b[0m----------------| 1.4k/2.4k ( 59.04%) ETA 02m34s"
       ]
      },
      {
       "output_type": "stream",
       "stream": "stdout",
       "text": [
        "\r",
        "|\u001b[0;34m========================\u001b[0m\u001b[0;32m>\u001b[0m----------------| 1.4k/2.4k ( 59.08%) ETA 02m34s"
       ]
      },
      {
       "output_type": "stream",
       "stream": "stdout",
       "text": [
        "\r",
        "|\u001b[0;34m========================\u001b[0m\u001b[0;32m>\u001b[0m----------------| 1.4k/2.4k ( 59.13%) ETA 02m34s"
       ]
      },
      {
       "output_type": "stream",
       "stream": "stdout",
       "text": [
        "\r",
        "|\u001b[0;34m========================\u001b[0m\u001b[0;32m>\u001b[0m----------------| 1.4k/2.4k ( 59.17%) ETA 02m34s"
       ]
      },
      {
       "output_type": "stream",
       "stream": "stdout",
       "text": [
        "\r",
        "|\u001b[0;34m========================\u001b[0m\u001b[0;32m>\u001b[0m----------------| 1.4k/2.4k ( 59.21%) ETA 02m33s"
       ]
      },
      {
       "output_type": "stream",
       "stream": "stdout",
       "text": [
        "\r",
        "|\u001b[0;34m========================\u001b[0m\u001b[0;32m>\u001b[0m----------------| 1.4k/2.4k ( 59.25%) ETA 02m33s"
       ]
      },
      {
       "output_type": "stream",
       "stream": "stdout",
       "text": [
        "\r",
        "|\u001b[0;34m========================\u001b[0m\u001b[0;32m>\u001b[0m----------------| 1.4k/2.4k ( 59.29%) ETA 02m33s"
       ]
      },
      {
       "output_type": "stream",
       "stream": "stdout",
       "text": [
        "\r",
        "|\u001b[0;34m========================\u001b[0m\u001b[0;32m>\u001b[0m----------------| 1.4k/2.4k ( 59.33%) ETA 02m33s"
       ]
      },
      {
       "output_type": "stream",
       "stream": "stdout",
       "text": [
        "\r",
        "|\u001b[0;34m========================\u001b[0m\u001b[0;32m>\u001b[0m----------------| 1.4k/2.4k ( 59.38%) ETA 02m33s"
       ]
      },
      {
       "output_type": "stream",
       "stream": "stdout",
       "text": [
        "\r",
        "|\u001b[0;34m========================\u001b[0m\u001b[0;32m>\u001b[0m----------------| 1.4k/2.4k ( 59.42%) ETA 02m33s"
       ]
      },
      {
       "output_type": "stream",
       "stream": "stdout",
       "text": [
        "\r",
        "|\u001b[0;34m========================\u001b[0m\u001b[0;32m>\u001b[0m----------------| 1.4k/2.4k ( 59.46%) ETA 02m33s"
       ]
      },
      {
       "output_type": "stream",
       "stream": "stdout",
       "text": [
        "\r",
        "|\u001b[0;34m========================\u001b[0m\u001b[0;32m>\u001b[0m----------------| 1.4k/2.4k ( 59.50%) ETA 02m32s"
       ]
      },
      {
       "output_type": "stream",
       "stream": "stdout",
       "text": [
        "\r",
        "|\u001b[0;34m========================\u001b[0m\u001b[0;32m>\u001b[0m----------------| 1.4k/2.4k ( 59.54%) ETA 02m32s"
       ]
      },
      {
       "output_type": "stream",
       "stream": "stdout",
       "text": [
        "\r",
        "|\u001b[0;34m========================\u001b[0m\u001b[0;32m>\u001b[0m----------------| 1.4k/2.4k ( 59.58%) ETA 02m32s"
       ]
      },
      {
       "output_type": "stream",
       "stream": "stdout",
       "text": [
        "\r",
        "|\u001b[0;34m========================\u001b[0m\u001b[0;32m>\u001b[0m----------------| 1.4k/2.4k ( 59.62%) ETA 02m32s"
       ]
      },
      {
       "output_type": "stream",
       "stream": "stdout",
       "text": [
        "\r",
        "|\u001b[0;34m========================\u001b[0m\u001b[0;32m>\u001b[0m----------------| 1.4k/2.4k ( 59.67%) ETA 02m32s"
       ]
      },
      {
       "output_type": "stream",
       "stream": "stdout",
       "text": [
        "\r",
        "|\u001b[0;34m========================\u001b[0m\u001b[0;32m>\u001b[0m----------------| 1.4k/2.4k ( 59.71%) ETA 02m32s"
       ]
      },
      {
       "output_type": "stream",
       "stream": "stdout",
       "text": [
        "\r",
        "|\u001b[0;34m========================\u001b[0m\u001b[0;32m>\u001b[0m----------------| 1.4k/2.4k ( 59.75%) ETA 02m31s"
       ]
      },
      {
       "output_type": "stream",
       "stream": "stdout",
       "text": [
        "\r",
        "|\u001b[0;34m========================\u001b[0m\u001b[0;32m>\u001b[0m----------------| 1.4k/2.4k ( 59.79%) ETA 02m31s"
       ]
      },
      {
       "output_type": "stream",
       "stream": "stdout",
       "text": [
        "\r",
        "|\u001b[0;34m========================\u001b[0m\u001b[0;32m>\u001b[0m----------------| 1.4k/2.4k ( 59.83%) ETA 02m31s"
       ]
      },
      {
       "output_type": "stream",
       "stream": "stdout",
       "text": [
        "\r",
        "|\u001b[0;34m========================\u001b[0m\u001b[0;32m>\u001b[0m----------------| 1.4k/2.4k ( 59.88%) ETA 02m31s"
       ]
      },
      {
       "output_type": "stream",
       "stream": "stdout",
       "text": [
        "\r",
        "|\u001b[0;34m========================\u001b[0m\u001b[0;32m>\u001b[0m----------------| 1.4k/2.4k ( 59.92%) ETA 02m31s"
       ]
      },
      {
       "output_type": "stream",
       "stream": "stdout",
       "text": [
        "\r",
        "|\u001b[0;34m========================\u001b[0m\u001b[0;32m>\u001b[0m----------------| 1.4k/2.4k ( 59.96%) ETA 02m31s"
       ]
      },
      {
       "output_type": "stream",
       "stream": "stdout",
       "text": [
        "\r",
        "|\u001b[0;34m========================\u001b[0m\u001b[0;32m>\u001b[0m----------------| 1.4k/2.4k ( 60.00%) ETA 02m30s"
       ]
      },
      {
       "output_type": "stream",
       "stream": "stdout",
       "text": [
        "\r",
        "|\u001b[0;34m========================\u001b[0m\u001b[0;32m>\u001b[0m----------------| 1.4k/2.4k ( 60.04%) ETA 02m30s"
       ]
      },
      {
       "output_type": "stream",
       "stream": "stdout",
       "text": [
        "\r",
        "|\u001b[0;34m========================\u001b[0m\u001b[0;32m>\u001b[0m----------------| 1.4k/2.4k ( 60.08%) ETA 02m30s"
       ]
      },
      {
       "output_type": "stream",
       "stream": "stdout",
       "text": [
        "\r",
        "|\u001b[0;34m========================\u001b[0m\u001b[0;32m>\u001b[0m----------------| 1.4k/2.4k ( 60.12%) ETA 02m30s"
       ]
      },
      {
       "output_type": "stream",
       "stream": "stdout",
       "text": [
        "\r",
        "|\u001b[0;34m========================\u001b[0m\u001b[0;32m>\u001b[0m----------------| 1.4k/2.4k ( 60.17%) ETA 02m30s"
       ]
      },
      {
       "output_type": "stream",
       "stream": "stdout",
       "text": [
        "\r",
        "|\u001b[0;34m========================\u001b[0m\u001b[0;32m>\u001b[0m----------------| 1.4k/2.4k ( 60.21%) ETA 02m30s"
       ]
      },
      {
       "output_type": "stream",
       "stream": "stdout",
       "text": [
        "\r",
        "|\u001b[0;34m========================\u001b[0m\u001b[0;32m>\u001b[0m----------------| 1.4k/2.4k ( 60.25%) ETA 02m30s"
       ]
      },
      {
       "output_type": "stream",
       "stream": "stdout",
       "text": [
        "\r",
        "|\u001b[0;34m========================\u001b[0m\u001b[0;32m>\u001b[0m----------------| 1.4k/2.4k ( 60.29%) ETA 02m29s"
       ]
      },
      {
       "output_type": "stream",
       "stream": "stdout",
       "text": [
        "\r",
        "|\u001b[0;34m========================\u001b[0m\u001b[0;32m>\u001b[0m----------------| 1.4k/2.4k ( 60.33%) ETA 02m29s"
       ]
      },
      {
       "output_type": "stream",
       "stream": "stdout",
       "text": [
        "\r",
        "|\u001b[0;34m========================\u001b[0m\u001b[0;32m>\u001b[0m----------------| 1.4k/2.4k ( 60.38%) ETA 02m29s"
       ]
      },
      {
       "output_type": "stream",
       "stream": "stdout",
       "text": [
        "\r",
        "|\u001b[0;34m========================\u001b[0m\u001b[0;32m>\u001b[0m----------------| 1.4k/2.4k ( 60.42%) ETA 02m29s"
       ]
      },
      {
       "output_type": "stream",
       "stream": "stdout",
       "text": [
        "\r",
        "|\u001b[0;34m========================\u001b[0m\u001b[0;32m>\u001b[0m----------------| 1.4k/2.4k ( 60.46%) ETA 02m29s"
       ]
      },
      {
       "output_type": "stream",
       "stream": "stdout",
       "text": [
        "\r",
        "|\u001b[0;34m========================\u001b[0m\u001b[0;32m>\u001b[0m----------------| 1.4k/2.4k ( 60.50%) ETA 02m29s"
       ]
      },
      {
       "output_type": "stream",
       "stream": "stdout",
       "text": [
        "\r",
        "|\u001b[0;34m========================\u001b[0m\u001b[0;32m>\u001b[0m----------------| 1.4k/2.4k ( 60.54%) ETA 02m28s"
       ]
      },
      {
       "output_type": "stream",
       "stream": "stdout",
       "text": [
        "\r",
        "|\u001b[0;34m========================\u001b[0m\u001b[0;32m>\u001b[0m----------------| 1.4k/2.4k ( 60.58%) ETA 02m28s"
       ]
      },
      {
       "output_type": "stream",
       "stream": "stdout",
       "text": [
        "\r",
        "|\u001b[0;34m========================\u001b[0m\u001b[0;32m>\u001b[0m----------------| 1.4k/2.4k ( 60.62%) ETA 02m28s"
       ]
      },
      {
       "output_type": "stream",
       "stream": "stdout",
       "text": [
        "\r",
        "|\u001b[0;34m========================\u001b[0m\u001b[0;32m>\u001b[0m----------------| 1.4k/2.4k ( 60.67%) ETA 02m28s"
       ]
      },
      {
       "output_type": "stream",
       "stream": "stdout",
       "text": [
        "\r",
        "|\u001b[0;34m========================\u001b[0m\u001b[0;32m>\u001b[0m----------------| 1.4k/2.4k ( 60.71%) ETA 02m28s"
       ]
      },
      {
       "output_type": "stream",
       "stream": "stdout",
       "text": [
        "\r",
        "|\u001b[0;34m========================\u001b[0m\u001b[0;32m>\u001b[0m----------------| 1.4k/2.4k ( 60.75%) ETA 02m28s"
       ]
      },
      {
       "output_type": "stream",
       "stream": "stdout",
       "text": [
        "\r",
        "|\u001b[0;34m========================\u001b[0m\u001b[0;32m>\u001b[0m----------------| 1.4k/2.4k ( 60.79%) ETA 02m27s"
       ]
      },
      {
       "output_type": "stream",
       "stream": "stdout",
       "text": [
        "\r",
        "|\u001b[0;34m========================\u001b[0m\u001b[0;32m>\u001b[0m----------------| 1.4k/2.4k ( 60.83%) ETA 02m27s"
       ]
      },
      {
       "output_type": "stream",
       "stream": "stdout",
       "text": [
        "\r",
        "|\u001b[0;34m========================\u001b[0m\u001b[0;32m>\u001b[0m----------------| 1.4k/2.4k ( 60.88%) ETA 02m27s"
       ]
      },
      {
       "output_type": "stream",
       "stream": "stdout",
       "text": [
        "\r",
        "|\u001b[0;34m========================\u001b[0m\u001b[0;32m>\u001b[0m----------------| 1.4k/2.4k ( 60.92%) ETA 02m27s"
       ]
      },
      {
       "output_type": "stream",
       "stream": "stdout",
       "text": [
        "\r",
        "|\u001b[0;34m========================\u001b[0m\u001b[0;32m>\u001b[0m----------------| 1.4k/2.4k ( 60.96%) ETA 02m27s"
       ]
      },
      {
       "output_type": "stream",
       "stream": "stdout",
       "text": [
        "\r",
        "|\u001b[0;34m=========================\u001b[0m\u001b[0;32m>\u001b[0m---------------| 1.4k/2.4k ( 61.00%) ETA 02m27s"
       ]
      },
      {
       "output_type": "stream",
       "stream": "stdout",
       "text": [
        "\r",
        "|\u001b[0;34m=========================\u001b[0m\u001b[0;32m>\u001b[0m---------------| 1.4k/2.4k ( 61.04%) ETA 02m27s"
       ]
      },
      {
       "output_type": "stream",
       "stream": "stdout",
       "text": [
        "\r",
        "|\u001b[0;34m=========================\u001b[0m\u001b[0;32m>\u001b[0m---------------| 1.4k/2.4k ( 61.08%) ETA 02m26s"
       ]
      },
      {
       "output_type": "stream",
       "stream": "stdout",
       "text": [
        "\r",
        "|\u001b[0;34m=========================\u001b[0m\u001b[0;32m>\u001b[0m---------------| 1.4k/2.4k ( 61.12%) ETA 02m26s"
       ]
      },
      {
       "output_type": "stream",
       "stream": "stdout",
       "text": [
        "\r",
        "|\u001b[0;34m=========================\u001b[0m\u001b[0;32m>\u001b[0m---------------| 1.4k/2.4k ( 61.17%) ETA 02m26s"
       ]
      },
      {
       "output_type": "stream",
       "stream": "stdout",
       "text": [
        "\r",
        "|\u001b[0;34m=========================\u001b[0m\u001b[0;32m>\u001b[0m---------------| 1.4k/2.4k ( 61.21%) ETA 02m26s"
       ]
      },
      {
       "output_type": "stream",
       "stream": "stdout",
       "text": [
        "\r",
        "|\u001b[0;34m=========================\u001b[0m\u001b[0;32m>\u001b[0m---------------| 1.4k/2.4k ( 61.25%) ETA 02m26s"
       ]
      },
      {
       "output_type": "stream",
       "stream": "stdout",
       "text": [
        "\r",
        "|\u001b[0;34m=========================\u001b[0m\u001b[0;32m>\u001b[0m---------------| 1.4k/2.4k ( 61.29%) ETA 02m26s"
       ]
      },
      {
       "output_type": "stream",
       "stream": "stdout",
       "text": [
        "\r",
        "|\u001b[0;34m=========================\u001b[0m\u001b[0;32m>\u001b[0m---------------| 1.4k/2.4k ( 61.33%) ETA 02m25s"
       ]
      },
      {
       "output_type": "stream",
       "stream": "stdout",
       "text": [
        "\r",
        "|\u001b[0;34m=========================\u001b[0m\u001b[0;32m>\u001b[0m---------------| 1.4k/2.4k ( 61.38%) ETA 02m25s"
       ]
      },
      {
       "output_type": "stream",
       "stream": "stdout",
       "text": [
        "\r",
        "|\u001b[0;34m=========================\u001b[0m\u001b[0;32m>\u001b[0m---------------| 1.4k/2.4k ( 61.42%) ETA 02m25s"
       ]
      },
      {
       "output_type": "stream",
       "stream": "stdout",
       "text": [
        "\r",
        "|\u001b[0;34m=========================\u001b[0m\u001b[0;32m>\u001b[0m---------------| 1.4k/2.4k ( 61.46%) ETA 02m25s"
       ]
      },
      {
       "output_type": "stream",
       "stream": "stdout",
       "text": [
        "\r",
        "|\u001b[0;34m=========================\u001b[0m\u001b[0;32m>\u001b[0m---------------| 1.4k/2.4k ( 61.50%) ETA 02m25s"
       ]
      },
      {
       "output_type": "stream",
       "stream": "stdout",
       "text": [
        "\r",
        "|\u001b[0;34m=========================\u001b[0m\u001b[0;32m>\u001b[0m---------------| 1.4k/2.4k ( 61.54%) ETA 02m25s"
       ]
      },
      {
       "output_type": "stream",
       "stream": "stdout",
       "text": [
        "\r",
        "|\u001b[0;34m=========================\u001b[0m\u001b[0;32m>\u001b[0m---------------| 1.4k/2.4k ( 61.58%) ETA 02m24s"
       ]
      },
      {
       "output_type": "stream",
       "stream": "stdout",
       "text": [
        "\r",
        "|\u001b[0;34m=========================\u001b[0m\u001b[0;32m>\u001b[0m---------------| 1.4k/2.4k ( 61.62%) ETA 02m24s"
       ]
      },
      {
       "output_type": "stream",
       "stream": "stdout",
       "text": [
        "\r",
        "|\u001b[0;34m=========================\u001b[0m\u001b[0;32m>\u001b[0m---------------| 1.4k/2.4k ( 61.67%) ETA 02m24s"
       ]
      },
      {
       "output_type": "stream",
       "stream": "stdout",
       "text": [
        "\r",
        "|\u001b[0;34m=========================\u001b[0m\u001b[0;32m>\u001b[0m---------------| 1.4k/2.4k ( 61.71%) ETA 02m24s"
       ]
      },
      {
       "output_type": "stream",
       "stream": "stdout",
       "text": [
        "\r",
        "|\u001b[0;34m=========================\u001b[0m\u001b[0;32m>\u001b[0m---------------| 1.4k/2.4k ( 61.75%) ETA 02m24s"
       ]
      },
      {
       "output_type": "stream",
       "stream": "stdout",
       "text": [
        "\r",
        "|\u001b[0;34m=========================\u001b[0m\u001b[0;32m>\u001b[0m---------------| 1.4k/2.4k ( 61.79%) ETA 02m24s"
       ]
      },
      {
       "output_type": "stream",
       "stream": "stdout",
       "text": [
        "\r",
        "|\u001b[0;34m=========================\u001b[0m\u001b[0;32m>\u001b[0m---------------| 1.4k/2.4k ( 61.83%) ETA 02m24s"
       ]
      },
      {
       "output_type": "stream",
       "stream": "stdout",
       "text": [
        "\r",
        "|\u001b[0;34m=========================\u001b[0m\u001b[0;32m>\u001b[0m---------------| 1.4k/2.4k ( 61.88%) ETA 02m23s"
       ]
      },
      {
       "output_type": "stream",
       "stream": "stdout",
       "text": [
        "\r",
        "|\u001b[0;34m=========================\u001b[0m\u001b[0;32m>\u001b[0m---------------| 1.4k/2.4k ( 61.92%) ETA 02m23s"
       ]
      },
      {
       "output_type": "stream",
       "stream": "stdout",
       "text": [
        "\r",
        "|\u001b[0;34m=========================\u001b[0m\u001b[0;32m>\u001b[0m---------------| 1.4k/2.4k ( 61.96%) ETA 02m23s"
       ]
      },
      {
       "output_type": "stream",
       "stream": "stdout",
       "text": [
        "\r",
        "|\u001b[0;34m=========================\u001b[0m\u001b[0;32m>\u001b[0m---------------| 1.4k/2.4k ( 62.00%) ETA 02m23s"
       ]
      },
      {
       "output_type": "stream",
       "stream": "stdout",
       "text": [
        "\r",
        "|\u001b[0;34m=========================\u001b[0m\u001b[0;32m>\u001b[0m---------------| 1.4k/2.4k ( 62.04%) ETA 02m23s"
       ]
      },
      {
       "output_type": "stream",
       "stream": "stdout",
       "text": [
        "\r",
        "|\u001b[0;34m=========================\u001b[0m\u001b[0;32m>\u001b[0m---------------| 1.4k/2.4k ( 62.08%) ETA 02m23s"
       ]
      },
      {
       "output_type": "stream",
       "stream": "stdout",
       "text": [
        "\r",
        "|\u001b[0;34m=========================\u001b[0m\u001b[0;32m>\u001b[0m---------------| 1.4k/2.4k ( 62.12%) ETA 02m22s"
       ]
      },
      {
       "output_type": "stream",
       "stream": "stdout",
       "text": [
        "\r",
        "|\u001b[0;34m=========================\u001b[0m\u001b[0;32m>\u001b[0m---------------| 1.4k/2.4k ( 62.17%) ETA 02m22s"
       ]
      },
      {
       "output_type": "stream",
       "stream": "stdout",
       "text": [
        "\r",
        "|\u001b[0;34m=========================\u001b[0m\u001b[0;32m>\u001b[0m---------------| 1.4k/2.4k ( 62.21%) ETA 02m22s"
       ]
      },
      {
       "output_type": "stream",
       "stream": "stdout",
       "text": [
        "\r",
        "|\u001b[0;34m=========================\u001b[0m\u001b[0;32m>\u001b[0m---------------| 1.4k/2.4k ( 62.25%) ETA 02m22s"
       ]
      },
      {
       "output_type": "stream",
       "stream": "stdout",
       "text": [
        "\r",
        "|\u001b[0;34m=========================\u001b[0m\u001b[0;32m>\u001b[0m---------------| 1.4k/2.4k ( 62.29%) ETA 02m22s"
       ]
      },
      {
       "output_type": "stream",
       "stream": "stdout",
       "text": [
        "\r",
        "|\u001b[0;34m=========================\u001b[0m\u001b[0;32m>\u001b[0m---------------| 1.4k/2.4k ( 62.33%) ETA 02m22s"
       ]
      },
      {
       "output_type": "stream",
       "stream": "stdout",
       "text": [
        "\r",
        "|\u001b[0;34m=========================\u001b[0m\u001b[0;32m>\u001b[0m---------------| 1.4k/2.4k ( 62.38%) ETA 02m22s"
       ]
      },
      {
       "output_type": "stream",
       "stream": "stdout",
       "text": [
        "\r",
        "|\u001b[0;34m=========================\u001b[0m\u001b[0;32m>\u001b[0m---------------| 1.4k/2.4k ( 62.42%) ETA 02m21s"
       ]
      },
      {
       "output_type": "stream",
       "stream": "stdout",
       "text": [
        "\r",
        "|\u001b[0;34m=========================\u001b[0m\u001b[0;32m>\u001b[0m---------------| 1.4k/2.4k ( 62.46%) ETA 02m21s"
       ]
      },
      {
       "output_type": "stream",
       "stream": "stdout",
       "text": [
        "\r",
        "|\u001b[0;34m=========================\u001b[0m\u001b[0;32m>\u001b[0m---------------| 1.5k/2.4k ( 62.50%) ETA 02m21s"
       ]
      },
      {
       "output_type": "stream",
       "stream": "stdout",
       "text": [
        "\r",
        "|\u001b[0;34m=========================\u001b[0m\u001b[0;32m>\u001b[0m---------------| 1.5k/2.4k ( 62.54%) ETA 02m21s"
       ]
      },
      {
       "output_type": "stream",
       "stream": "stdout",
       "text": [
        "\r",
        "|\u001b[0;34m=========================\u001b[0m\u001b[0;32m>\u001b[0m---------------| 1.5k/2.4k ( 62.58%) ETA 02m21s"
       ]
      },
      {
       "output_type": "stream",
       "stream": "stdout",
       "text": [
        "\r",
        "|\u001b[0;34m=========================\u001b[0m\u001b[0;32m>\u001b[0m---------------| 1.5k/2.4k ( 62.62%) ETA 02m21s"
       ]
      },
      {
       "output_type": "stream",
       "stream": "stdout",
       "text": [
        "\r",
        "|\u001b[0;34m=========================\u001b[0m\u001b[0;32m>\u001b[0m---------------| 1.5k/2.4k ( 62.67%) ETA 02m20s"
       ]
      },
      {
       "output_type": "stream",
       "stream": "stdout",
       "text": [
        "\r",
        "|\u001b[0;34m=========================\u001b[0m\u001b[0;32m>\u001b[0m---------------| 1.5k/2.4k ( 62.71%) ETA 02m20s"
       ]
      },
      {
       "output_type": "stream",
       "stream": "stdout",
       "text": [
        "\r",
        "|\u001b[0;34m=========================\u001b[0m\u001b[0;32m>\u001b[0m---------------| 1.5k/2.4k ( 62.75%) ETA 02m20s"
       ]
      },
      {
       "output_type": "stream",
       "stream": "stdout",
       "text": [
        "\r",
        "|\u001b[0;34m=========================\u001b[0m\u001b[0;32m>\u001b[0m---------------| 1.5k/2.4k ( 62.79%) ETA 02m20s"
       ]
      },
      {
       "output_type": "stream",
       "stream": "stdout",
       "text": [
        "\r",
        "|\u001b[0;34m=========================\u001b[0m\u001b[0;32m>\u001b[0m---------------| 1.5k/2.4k ( 62.83%) ETA 02m20s"
       ]
      },
      {
       "output_type": "stream",
       "stream": "stdout",
       "text": [
        "\r",
        "|\u001b[0;34m=========================\u001b[0m\u001b[0;32m>\u001b[0m---------------| 1.5k/2.4k ( 62.88%) ETA 02m20s"
       ]
      },
      {
       "output_type": "stream",
       "stream": "stdout",
       "text": [
        "\r",
        "|\u001b[0;34m=========================\u001b[0m\u001b[0;32m>\u001b[0m---------------| 1.5k/2.4k ( 62.92%) ETA 02m20s"
       ]
      },
      {
       "output_type": "stream",
       "stream": "stdout",
       "text": [
        "\r",
        "|\u001b[0;34m=========================\u001b[0m\u001b[0;32m>\u001b[0m---------------| 1.5k/2.4k ( 62.96%) ETA 02m19s"
       ]
      },
      {
       "output_type": "stream",
       "stream": "stdout",
       "text": [
        "\r",
        "|\u001b[0;34m=========================\u001b[0m\u001b[0;32m>\u001b[0m---------------| 1.5k/2.4k ( 63.00%) ETA 02m19s"
       ]
      },
      {
       "output_type": "stream",
       "stream": "stdout",
       "text": [
        "\r",
        "|\u001b[0;34m=========================\u001b[0m\u001b[0;32m>\u001b[0m---------------| 1.5k/2.4k ( 63.04%) ETA 02m19s"
       ]
      },
      {
       "output_type": "stream",
       "stream": "stdout",
       "text": [
        "\r",
        "|\u001b[0;34m=========================\u001b[0m\u001b[0;32m>\u001b[0m---------------| 1.5k/2.4k ( 63.08%) ETA 02m19s"
       ]
      },
      {
       "output_type": "stream",
       "stream": "stdout",
       "text": [
        "\r",
        "|\u001b[0;34m=========================\u001b[0m\u001b[0;32m>\u001b[0m---------------| 1.5k/2.4k ( 63.12%) ETA 02m19s"
       ]
      },
      {
       "output_type": "stream",
       "stream": "stdout",
       "text": [
        "\r",
        "|\u001b[0;34m=========================\u001b[0m\u001b[0;32m>\u001b[0m---------------| 1.5k/2.4k ( 63.17%) ETA 02m19s"
       ]
      },
      {
       "output_type": "stream",
       "stream": "stdout",
       "text": [
        "\r",
        "|\u001b[0;34m=========================\u001b[0m\u001b[0;32m>\u001b[0m---------------| 1.5k/2.4k ( 63.21%) ETA 02m18s"
       ]
      },
      {
       "output_type": "stream",
       "stream": "stdout",
       "text": [
        "\r",
        "|\u001b[0;34m=========================\u001b[0m\u001b[0;32m>\u001b[0m---------------| 1.5k/2.4k ( 63.25%) ETA 02m18s"
       ]
      },
      {
       "output_type": "stream",
       "stream": "stdout",
       "text": [
        "\r",
        "|\u001b[0;34m=========================\u001b[0m\u001b[0;32m>\u001b[0m---------------| 1.5k/2.4k ( 63.29%) ETA 02m18s"
       ]
      },
      {
       "output_type": "stream",
       "stream": "stdout",
       "text": [
        "\r",
        "|\u001b[0;34m=========================\u001b[0m\u001b[0;32m>\u001b[0m---------------| 1.5k/2.4k ( 63.33%) ETA 02m18s"
       ]
      },
      {
       "output_type": "stream",
       "stream": "stdout",
       "text": [
        "\r",
        "|\u001b[0;34m=========================\u001b[0m\u001b[0;32m>\u001b[0m---------------| 1.5k/2.4k ( 63.38%) ETA 02m18s"
       ]
      },
      {
       "output_type": "stream",
       "stream": "stdout",
       "text": [
        "\r",
        "|\u001b[0;34m==========================\u001b[0m\u001b[0;32m>\u001b[0m--------------| 1.5k/2.4k ( 63.42%) ETA 02m18s"
       ]
      },
      {
       "output_type": "stream",
       "stream": "stdout",
       "text": [
        "\r",
        "|\u001b[0;34m==========================\u001b[0m\u001b[0;32m>\u001b[0m--------------| 1.5k/2.4k ( 63.46%) ETA 02m17s"
       ]
      },
      {
       "output_type": "stream",
       "stream": "stdout",
       "text": [
        "\r",
        "|\u001b[0;34m==========================\u001b[0m\u001b[0;32m>\u001b[0m--------------| 1.5k/2.4k ( 63.50%) ETA 02m17s"
       ]
      },
      {
       "output_type": "stream",
       "stream": "stdout",
       "text": [
        "\r",
        "|\u001b[0;34m==========================\u001b[0m\u001b[0;32m>\u001b[0m--------------| 1.5k/2.4k ( 63.54%) ETA 02m17s"
       ]
      },
      {
       "output_type": "stream",
       "stream": "stdout",
       "text": [
        "\r",
        "|\u001b[0;34m==========================\u001b[0m\u001b[0;32m>\u001b[0m--------------| 1.5k/2.4k ( 63.58%) ETA 02m17s"
       ]
      },
      {
       "output_type": "stream",
       "stream": "stdout",
       "text": [
        "\r",
        "|\u001b[0;34m==========================\u001b[0m\u001b[0;32m>\u001b[0m--------------| 1.5k/2.4k ( 63.62%) ETA 02m17s"
       ]
      },
      {
       "output_type": "stream",
       "stream": "stdout",
       "text": [
        "\r",
        "|\u001b[0;34m==========================\u001b[0m\u001b[0;32m>\u001b[0m--------------| 1.5k/2.4k ( 63.67%) ETA 02m17s"
       ]
      },
      {
       "output_type": "stream",
       "stream": "stdout",
       "text": [
        "\r",
        "|\u001b[0;34m==========================\u001b[0m\u001b[0;32m>\u001b[0m--------------| 1.5k/2.4k ( 63.71%) ETA 02m17s"
       ]
      },
      {
       "output_type": "stream",
       "stream": "stdout",
       "text": [
        "\r",
        "|\u001b[0;34m==========================\u001b[0m\u001b[0;32m>\u001b[0m--------------| 1.5k/2.4k ( 63.75%) ETA 02m16s"
       ]
      },
      {
       "output_type": "stream",
       "stream": "stdout",
       "text": [
        "\r",
        "|\u001b[0;34m==========================\u001b[0m\u001b[0;32m>\u001b[0m--------------| 1.5k/2.4k ( 63.79%) ETA 02m16s"
       ]
      },
      {
       "output_type": "stream",
       "stream": "stdout",
       "text": [
        "\r",
        "|\u001b[0;34m==========================\u001b[0m\u001b[0;32m>\u001b[0m--------------| 1.5k/2.4k ( 63.83%) ETA 02m16s"
       ]
      },
      {
       "output_type": "stream",
       "stream": "stdout",
       "text": [
        "\r",
        "|\u001b[0;34m==========================\u001b[0m\u001b[0;32m>\u001b[0m--------------| 1.5k/2.4k ( 63.88%) ETA 02m16s"
       ]
      },
      {
       "output_type": "stream",
       "stream": "stdout",
       "text": [
        "\r",
        "|\u001b[0;34m==========================\u001b[0m\u001b[0;32m>\u001b[0m--------------| 1.5k/2.4k ( 63.92%) ETA 02m16s"
       ]
      },
      {
       "output_type": "stream",
       "stream": "stdout",
       "text": [
        "\r",
        "|\u001b[0;34m==========================\u001b[0m\u001b[0;32m>\u001b[0m--------------| 1.5k/2.4k ( 63.96%) ETA 02m16s"
       ]
      },
      {
       "output_type": "stream",
       "stream": "stdout",
       "text": [
        "\r",
        "|\u001b[0;34m==========================\u001b[0m\u001b[0;32m>\u001b[0m--------------| 1.5k/2.4k ( 64.00%) ETA 02m15s"
       ]
      },
      {
       "output_type": "stream",
       "stream": "stdout",
       "text": [
        "\r",
        "|\u001b[0;34m==========================\u001b[0m\u001b[0;32m>\u001b[0m--------------| 1.5k/2.4k ( 64.04%) ETA 02m15s"
       ]
      },
      {
       "output_type": "stream",
       "stream": "stdout",
       "text": [
        "\r",
        "|\u001b[0;34m==========================\u001b[0m\u001b[0;32m>\u001b[0m--------------| 1.5k/2.4k ( 64.08%) ETA 02m15s"
       ]
      },
      {
       "output_type": "stream",
       "stream": "stdout",
       "text": [
        "\r",
        "|\u001b[0;34m==========================\u001b[0m\u001b[0;32m>\u001b[0m--------------| 1.5k/2.4k ( 64.12%) ETA 02m15s"
       ]
      },
      {
       "output_type": "stream",
       "stream": "stdout",
       "text": [
        "\r",
        "|\u001b[0;34m==========================\u001b[0m\u001b[0;32m>\u001b[0m--------------| 1.5k/2.4k ( 64.17%) ETA 02m15s"
       ]
      },
      {
       "output_type": "stream",
       "stream": "stdout",
       "text": [
        "\r",
        "|\u001b[0;34m==========================\u001b[0m\u001b[0;32m>\u001b[0m--------------| 1.5k/2.4k ( 64.21%) ETA 02m15s"
       ]
      },
      {
       "output_type": "stream",
       "stream": "stdout",
       "text": [
        "\r",
        "|\u001b[0;34m==========================\u001b[0m\u001b[0;32m>\u001b[0m--------------| 1.5k/2.4k ( 64.25%) ETA 02m14s"
       ]
      },
      {
       "output_type": "stream",
       "stream": "stdout",
       "text": [
        "\r",
        "|\u001b[0;34m==========================\u001b[0m\u001b[0;32m>\u001b[0m--------------| 1.5k/2.4k ( 64.29%) ETA 02m14s"
       ]
      },
      {
       "output_type": "stream",
       "stream": "stdout",
       "text": [
        "\r",
        "|\u001b[0;34m==========================\u001b[0m\u001b[0;32m>\u001b[0m--------------| 1.5k/2.4k ( 64.33%) ETA 02m14s"
       ]
      },
      {
       "output_type": "stream",
       "stream": "stdout",
       "text": [
        "\r",
        "|\u001b[0;34m==========================\u001b[0m\u001b[0;32m>\u001b[0m--------------| 1.5k/2.4k ( 64.38%) ETA 02m14s"
       ]
      },
      {
       "output_type": "stream",
       "stream": "stdout",
       "text": [
        "\r",
        "|\u001b[0;34m==========================\u001b[0m\u001b[0;32m>\u001b[0m--------------| 1.5k/2.4k ( 64.42%) ETA 02m14s"
       ]
      },
      {
       "output_type": "stream",
       "stream": "stdout",
       "text": [
        "\r",
        "|\u001b[0;34m==========================\u001b[0m\u001b[0;32m>\u001b[0m--------------| 1.5k/2.4k ( 64.46%) ETA 02m14s"
       ]
      },
      {
       "output_type": "stream",
       "stream": "stdout",
       "text": [
        "\r",
        "|\u001b[0;34m==========================\u001b[0m\u001b[0;32m>\u001b[0m--------------| 1.5k/2.4k ( 64.50%) ETA 02m14s"
       ]
      },
      {
       "output_type": "stream",
       "stream": "stdout",
       "text": [
        "\r",
        "|\u001b[0;34m==========================\u001b[0m\u001b[0;32m>\u001b[0m--------------| 1.5k/2.4k ( 64.54%) ETA 02m13s"
       ]
      },
      {
       "output_type": "stream",
       "stream": "stdout",
       "text": [
        "\r",
        "|\u001b[0;34m==========================\u001b[0m\u001b[0;32m>\u001b[0m--------------| 1.5k/2.4k ( 64.58%) ETA 02m13s"
       ]
      },
      {
       "output_type": "stream",
       "stream": "stdout",
       "text": [
        "\r",
        "|\u001b[0;34m==========================\u001b[0m\u001b[0;32m>\u001b[0m--------------| 1.5k/2.4k ( 64.62%) ETA 02m13s"
       ]
      },
      {
       "output_type": "stream",
       "stream": "stdout",
       "text": [
        "\r",
        "|\u001b[0;34m==========================\u001b[0m\u001b[0;32m>\u001b[0m--------------| 1.5k/2.4k ( 64.67%) ETA 02m13s"
       ]
      },
      {
       "output_type": "stream",
       "stream": "stdout",
       "text": [
        "\r",
        "|\u001b[0;34m==========================\u001b[0m\u001b[0;32m>\u001b[0m--------------| 1.5k/2.4k ( 64.71%) ETA 02m13s"
       ]
      },
      {
       "output_type": "stream",
       "stream": "stdout",
       "text": [
        "\r",
        "|\u001b[0;34m==========================\u001b[0m\u001b[0;32m>\u001b[0m--------------| 1.5k/2.4k ( 64.75%) ETA 02m13s"
       ]
      },
      {
       "output_type": "stream",
       "stream": "stdout",
       "text": [
        "\r",
        "|\u001b[0;34m==========================\u001b[0m\u001b[0;32m>\u001b[0m--------------| 1.5k/2.4k ( 64.79%) ETA 02m12s"
       ]
      },
      {
       "output_type": "stream",
       "stream": "stdout",
       "text": [
        "\r",
        "|\u001b[0;34m==========================\u001b[0m\u001b[0;32m>\u001b[0m--------------| 1.5k/2.4k ( 64.83%) ETA 02m12s"
       ]
      },
      {
       "output_type": "stream",
       "stream": "stdout",
       "text": [
        "\r",
        "|\u001b[0;34m==========================\u001b[0m\u001b[0;32m>\u001b[0m--------------| 1.5k/2.4k ( 64.88%) ETA 02m12s"
       ]
      },
      {
       "output_type": "stream",
       "stream": "stdout",
       "text": [
        "\r",
        "|\u001b[0;34m==========================\u001b[0m\u001b[0;32m>\u001b[0m--------------| 1.5k/2.4k ( 64.92%) ETA 02m12s"
       ]
      },
      {
       "output_type": "stream",
       "stream": "stdout",
       "text": [
        "\r",
        "|\u001b[0;34m==========================\u001b[0m\u001b[0;32m>\u001b[0m--------------| 1.5k/2.4k ( 64.96%) ETA 02m12s"
       ]
      },
      {
       "output_type": "stream",
       "stream": "stdout",
       "text": [
        "\r",
        "|\u001b[0;34m==========================\u001b[0m\u001b[0;32m>\u001b[0m--------------| 1.5k/2.4k ( 65.00%) ETA 02m12s"
       ]
      },
      {
       "output_type": "stream",
       "stream": "stdout",
       "text": [
        "\r",
        "|\u001b[0;34m==========================\u001b[0m\u001b[0;32m>\u001b[0m--------------| 1.5k/2.4k ( 65.04%) ETA 02m11s"
       ]
      },
      {
       "output_type": "stream",
       "stream": "stdout",
       "text": [
        "\r",
        "|\u001b[0;34m==========================\u001b[0m\u001b[0;32m>\u001b[0m--------------| 1.5k/2.4k ( 65.08%) ETA 02m11s"
       ]
      },
      {
       "output_type": "stream",
       "stream": "stdout",
       "text": [
        "\r",
        "|\u001b[0;34m==========================\u001b[0m\u001b[0;32m>\u001b[0m--------------| 1.5k/2.4k ( 65.12%) ETA 02m11s"
       ]
      },
      {
       "output_type": "stream",
       "stream": "stdout",
       "text": [
        "\r",
        "|\u001b[0;34m==========================\u001b[0m\u001b[0;32m>\u001b[0m--------------| 1.5k/2.4k ( 65.17%) ETA 02m11s"
       ]
      },
      {
       "output_type": "stream",
       "stream": "stdout",
       "text": [
        "\r",
        "|\u001b[0;34m==========================\u001b[0m\u001b[0;32m>\u001b[0m--------------| 1.5k/2.4k ( 65.21%) ETA 02m11s"
       ]
      },
      {
       "output_type": "stream",
       "stream": "stdout",
       "text": [
        "\r",
        "|\u001b[0;34m==========================\u001b[0m\u001b[0;32m>\u001b[0m--------------| 1.5k/2.4k ( 65.25%) ETA 02m11s"
       ]
      },
      {
       "output_type": "stream",
       "stream": "stdout",
       "text": [
        "\r",
        "|\u001b[0;34m==========================\u001b[0m\u001b[0;32m>\u001b[0m--------------| 1.5k/2.4k ( 65.29%) ETA 02m11s"
       ]
      },
      {
       "output_type": "stream",
       "stream": "stdout",
       "text": [
        "\r",
        "|\u001b[0;34m==========================\u001b[0m\u001b[0;32m>\u001b[0m--------------| 1.5k/2.4k ( 65.33%) ETA 02m10s"
       ]
      },
      {
       "output_type": "stream",
       "stream": "stdout",
       "text": [
        "\r",
        "|\u001b[0;34m==========================\u001b[0m\u001b[0;32m>\u001b[0m--------------| 1.5k/2.4k ( 65.38%) ETA 02m10s"
       ]
      },
      {
       "output_type": "stream",
       "stream": "stdout",
       "text": [
        "\r",
        "|\u001b[0;34m==========================\u001b[0m\u001b[0;32m>\u001b[0m--------------| 1.5k/2.4k ( 65.42%) ETA 02m10s"
       ]
      },
      {
       "output_type": "stream",
       "stream": "stdout",
       "text": [
        "\r",
        "|\u001b[0;34m==========================\u001b[0m\u001b[0;32m>\u001b[0m--------------| 1.5k/2.4k ( 65.46%) ETA 02m10s"
       ]
      },
      {
       "output_type": "stream",
       "stream": "stdout",
       "text": [
        "\r",
        "|\u001b[0;34m==========================\u001b[0m\u001b[0;32m>\u001b[0m--------------| 1.5k/2.4k ( 65.50%) ETA 02m10s"
       ]
      },
      {
       "output_type": "stream",
       "stream": "stdout",
       "text": [
        "\r",
        "|\u001b[0;34m==========================\u001b[0m\u001b[0;32m>\u001b[0m--------------| 1.5k/2.4k ( 65.54%) ETA 02m10s"
       ]
      },
      {
       "output_type": "stream",
       "stream": "stdout",
       "text": [
        "\r",
        "|\u001b[0;34m==========================\u001b[0m\u001b[0;32m>\u001b[0m--------------| 1.5k/2.4k ( 65.58%) ETA 02m09s"
       ]
      },
      {
       "output_type": "stream",
       "stream": "stdout",
       "text": [
        "\r",
        "|\u001b[0;34m==========================\u001b[0m\u001b[0;32m>\u001b[0m--------------| 1.5k/2.4k ( 65.62%) ETA 02m09s"
       ]
      },
      {
       "output_type": "stream",
       "stream": "stdout",
       "text": [
        "\r",
        "|\u001b[0;34m==========================\u001b[0m\u001b[0;32m>\u001b[0m--------------| 1.5k/2.4k ( 65.67%) ETA 02m09s"
       ]
      },
      {
       "output_type": "stream",
       "stream": "stdout",
       "text": [
        "\r",
        "|\u001b[0;34m==========================\u001b[0m\u001b[0;32m>\u001b[0m--------------| 1.5k/2.4k ( 65.71%) ETA 02m09s"
       ]
      },
      {
       "output_type": "stream",
       "stream": "stdout",
       "text": [
        "\r",
        "|\u001b[0;34m==========================\u001b[0m\u001b[0;32m>\u001b[0m--------------| 1.5k/2.4k ( 65.75%) ETA 02m09s"
       ]
      },
      {
       "output_type": "stream",
       "stream": "stdout",
       "text": [
        "\r",
        "|\u001b[0;34m==========================\u001b[0m\u001b[0;32m>\u001b[0m--------------| 1.5k/2.4k ( 65.79%) ETA 02m09s"
       ]
      },
      {
       "output_type": "stream",
       "stream": "stdout",
       "text": [
        "\r",
        "|\u001b[0;34m==========================\u001b[0m\u001b[0;32m>\u001b[0m--------------| 1.5k/2.4k ( 65.83%) ETA 02m08s"
       ]
      },
      {
       "output_type": "stream",
       "stream": "stdout",
       "text": [
        "\r",
        "|\u001b[0;34m===========================\u001b[0m\u001b[0;32m>\u001b[0m-------------| 1.5k/2.4k ( 65.88%) ETA 02m08s"
       ]
      },
      {
       "output_type": "stream",
       "stream": "stdout",
       "text": [
        "\r",
        "|\u001b[0;34m===========================\u001b[0m\u001b[0;32m>\u001b[0m-------------| 1.5k/2.4k ( 65.92%) ETA 02m08s"
       ]
      },
      {
       "output_type": "stream",
       "stream": "stdout",
       "text": [
        "\r",
        "|\u001b[0;34m===========================\u001b[0m\u001b[0;32m>\u001b[0m-------------| 1.5k/2.4k ( 65.96%) ETA 02m08s"
       ]
      },
      {
       "output_type": "stream",
       "stream": "stdout",
       "text": [
        "\r",
        "|\u001b[0;34m===========================\u001b[0m\u001b[0;32m>\u001b[0m-------------| 1.5k/2.4k ( 66.00%) ETA 02m08s"
       ]
      },
      {
       "output_type": "stream",
       "stream": "stdout",
       "text": [
        "\r",
        "|\u001b[0;34m===========================\u001b[0m\u001b[0;32m>\u001b[0m-------------| 1.5k/2.4k ( 66.04%) ETA 02m08s"
       ]
      },
      {
       "output_type": "stream",
       "stream": "stdout",
       "text": [
        "\r",
        "|\u001b[0;34m===========================\u001b[0m\u001b[0;32m>\u001b[0m-------------| 1.5k/2.4k ( 66.08%) ETA 02m08s"
       ]
      },
      {
       "output_type": "stream",
       "stream": "stdout",
       "text": [
        "\r",
        "|\u001b[0;34m===========================\u001b[0m\u001b[0;32m>\u001b[0m-------------| 1.5k/2.4k ( 66.12%) ETA 02m07s"
       ]
      },
      {
       "output_type": "stream",
       "stream": "stdout",
       "text": [
        "\r",
        "|\u001b[0;34m===========================\u001b[0m\u001b[0;32m>\u001b[0m-------------| 1.5k/2.4k ( 66.17%) ETA 02m07s"
       ]
      },
      {
       "output_type": "stream",
       "stream": "stdout",
       "text": [
        "\r",
        "|\u001b[0;34m===========================\u001b[0m\u001b[0;32m>\u001b[0m-------------| 1.5k/2.4k ( 66.21%) ETA 02m07s"
       ]
      },
      {
       "output_type": "stream",
       "stream": "stdout",
       "text": [
        "\r",
        "|\u001b[0;34m===========================\u001b[0m\u001b[0;32m>\u001b[0m-------------| 1.5k/2.4k ( 66.25%) ETA 02m07s"
       ]
      },
      {
       "output_type": "stream",
       "stream": "stdout",
       "text": [
        "\r",
        "|\u001b[0;34m===========================\u001b[0m\u001b[0;32m>\u001b[0m-------------| 1.5k/2.4k ( 66.29%) ETA 02m07s"
       ]
      },
      {
       "output_type": "stream",
       "stream": "stdout",
       "text": [
        "\r",
        "|\u001b[0;34m===========================\u001b[0m\u001b[0;32m>\u001b[0m-------------| 1.5k/2.4k ( 66.33%) ETA 02m07s"
       ]
      },
      {
       "output_type": "stream",
       "stream": "stdout",
       "text": [
        "\r",
        "|\u001b[0;34m===========================\u001b[0m\u001b[0;32m>\u001b[0m-------------| 1.5k/2.4k ( 66.38%) ETA 02m06s"
       ]
      },
      {
       "output_type": "stream",
       "stream": "stdout",
       "text": [
        "\r",
        "|\u001b[0;34m===========================\u001b[0m\u001b[0;32m>\u001b[0m-------------| 1.5k/2.4k ( 66.42%) ETA 02m06s"
       ]
      },
      {
       "output_type": "stream",
       "stream": "stdout",
       "text": [
        "\r",
        "|\u001b[0;34m===========================\u001b[0m\u001b[0;32m>\u001b[0m-------------| 1.5k/2.4k ( 66.46%) ETA 02m06s"
       ]
      },
      {
       "output_type": "stream",
       "stream": "stdout",
       "text": [
        "\r",
        "|\u001b[0;34m===========================\u001b[0m\u001b[0;32m>\u001b[0m-------------| 1.5k/2.4k ( 66.50%) ETA 02m06s"
       ]
      },
      {
       "output_type": "stream",
       "stream": "stdout",
       "text": [
        "\r",
        "|\u001b[0;34m===========================\u001b[0m\u001b[0;32m>\u001b[0m-------------| 1.5k/2.4k ( 66.54%) ETA 02m06s"
       ]
      },
      {
       "output_type": "stream",
       "stream": "stdout",
       "text": [
        "\r",
        "|\u001b[0;34m===========================\u001b[0m\u001b[0;32m>\u001b[0m-------------| 1.5k/2.4k ( 66.58%) ETA 02m06s"
       ]
      },
      {
       "output_type": "stream",
       "stream": "stdout",
       "text": [
        "\r",
        "|\u001b[0;34m===========================\u001b[0m\u001b[0;32m>\u001b[0m-------------| 1.5k/2.4k ( 66.62%) ETA 02m06s"
       ]
      },
      {
       "output_type": "stream",
       "stream": "stdout",
       "text": [
        "\r",
        "|\u001b[0;34m===========================\u001b[0m\u001b[0;32m>\u001b[0m-------------| 1.6k/2.4k ( 66.67%) ETA 02m05s"
       ]
      },
      {
       "output_type": "stream",
       "stream": "stdout",
       "text": [
        "\r",
        "|\u001b[0;34m===========================\u001b[0m\u001b[0;32m>\u001b[0m-------------| 1.6k/2.4k ( 66.71%) ETA 02m05s"
       ]
      },
      {
       "output_type": "stream",
       "stream": "stdout",
       "text": [
        "\r",
        "|\u001b[0;34m===========================\u001b[0m\u001b[0;32m>\u001b[0m-------------| 1.6k/2.4k ( 66.75%) ETA 02m05s"
       ]
      },
      {
       "output_type": "stream",
       "stream": "stdout",
       "text": [
        "\r",
        "|\u001b[0;34m===========================\u001b[0m\u001b[0;32m>\u001b[0m-------------| 1.6k/2.4k ( 66.79%) ETA 02m05s"
       ]
      },
      {
       "output_type": "stream",
       "stream": "stdout",
       "text": [
        "\r",
        "|\u001b[0;34m===========================\u001b[0m\u001b[0;32m>\u001b[0m-------------| 1.6k/2.4k ( 66.83%) ETA 02m05s"
       ]
      },
      {
       "output_type": "stream",
       "stream": "stdout",
       "text": [
        "\r",
        "|\u001b[0;34m===========================\u001b[0m\u001b[0;32m>\u001b[0m-------------| 1.6k/2.4k ( 66.88%) ETA 02m05s"
       ]
      },
      {
       "output_type": "stream",
       "stream": "stdout",
       "text": [
        "\r",
        "|\u001b[0;34m===========================\u001b[0m\u001b[0;32m>\u001b[0m-------------| 1.6k/2.4k ( 66.92%) ETA 02m04s"
       ]
      },
      {
       "output_type": "stream",
       "stream": "stdout",
       "text": [
        "\r",
        "|\u001b[0;34m===========================\u001b[0m\u001b[0;32m>\u001b[0m-------------| 1.6k/2.4k ( 66.96%) ETA 02m04s"
       ]
      },
      {
       "output_type": "stream",
       "stream": "stdout",
       "text": [
        "\r",
        "|\u001b[0;34m===========================\u001b[0m\u001b[0;32m>\u001b[0m-------------| 1.6k/2.4k ( 67.00%) ETA 02m04s"
       ]
      },
      {
       "output_type": "stream",
       "stream": "stdout",
       "text": [
        "\r",
        "|\u001b[0;34m===========================\u001b[0m\u001b[0;32m>\u001b[0m-------------| 1.6k/2.4k ( 67.04%) ETA 02m04s"
       ]
      },
      {
       "output_type": "stream",
       "stream": "stdout",
       "text": [
        "\r",
        "|\u001b[0;34m===========================\u001b[0m\u001b[0;32m>\u001b[0m-------------| 1.6k/2.4k ( 67.08%) ETA 02m04s"
       ]
      },
      {
       "output_type": "stream",
       "stream": "stdout",
       "text": [
        "\r",
        "|\u001b[0;34m===========================\u001b[0m\u001b[0;32m>\u001b[0m-------------| 1.6k/2.4k ( 67.12%) ETA 02m04s"
       ]
      },
      {
       "output_type": "stream",
       "stream": "stdout",
       "text": [
        "\r",
        "|\u001b[0;34m===========================\u001b[0m\u001b[0;32m>\u001b[0m-------------| 1.6k/2.4k ( 67.17%) ETA 02m04s"
       ]
      },
      {
       "output_type": "stream",
       "stream": "stdout",
       "text": [
        "\r",
        "|\u001b[0;34m===========================\u001b[0m\u001b[0;32m>\u001b[0m-------------| 1.6k/2.4k ( 67.21%) ETA 02m03s"
       ]
      },
      {
       "output_type": "stream",
       "stream": "stdout",
       "text": [
        "\r",
        "|\u001b[0;34m===========================\u001b[0m\u001b[0;32m>\u001b[0m-------------| 1.6k/2.4k ( 67.25%) ETA 02m03s"
       ]
      },
      {
       "output_type": "stream",
       "stream": "stdout",
       "text": [
        "\r",
        "|\u001b[0;34m===========================\u001b[0m\u001b[0;32m>\u001b[0m-------------| 1.6k/2.4k ( 67.29%) ETA 02m03s"
       ]
      },
      {
       "output_type": "stream",
       "stream": "stdout",
       "text": [
        "\r",
        "|\u001b[0;34m===========================\u001b[0m\u001b[0;32m>\u001b[0m-------------| 1.6k/2.4k ( 67.33%) ETA 02m03s"
       ]
      },
      {
       "output_type": "stream",
       "stream": "stdout",
       "text": [
        "\r",
        "|\u001b[0;34m===========================\u001b[0m\u001b[0;32m>\u001b[0m-------------| 1.6k/2.4k ( 67.38%) ETA 02m03s"
       ]
      },
      {
       "output_type": "stream",
       "stream": "stdout",
       "text": [
        "\r",
        "|\u001b[0;34m===========================\u001b[0m\u001b[0;32m>\u001b[0m-------------| 1.6k/2.4k ( 67.42%) ETA 02m03s"
       ]
      },
      {
       "output_type": "stream",
       "stream": "stdout",
       "text": [
        "\r",
        "|\u001b[0;34m===========================\u001b[0m\u001b[0;32m>\u001b[0m-------------| 1.6k/2.4k ( 67.46%) ETA 02m02s"
       ]
      },
      {
       "output_type": "stream",
       "stream": "stdout",
       "text": [
        "\r",
        "|\u001b[0;34m===========================\u001b[0m\u001b[0;32m>\u001b[0m-------------| 1.6k/2.4k ( 67.50%) ETA 02m02s"
       ]
      },
      {
       "output_type": "stream",
       "stream": "stdout",
       "text": [
        "\r",
        "|\u001b[0;34m===========================\u001b[0m\u001b[0;32m>\u001b[0m-------------| 1.6k/2.4k ( 67.54%) ETA 02m02s"
       ]
      },
      {
       "output_type": "stream",
       "stream": "stdout",
       "text": [
        "\r",
        "|\u001b[0;34m===========================\u001b[0m\u001b[0;32m>\u001b[0m-------------| 1.6k/2.4k ( 67.58%) ETA 02m02s"
       ]
      },
      {
       "output_type": "stream",
       "stream": "stdout",
       "text": [
        "\r",
        "|\u001b[0;34m===========================\u001b[0m\u001b[0;32m>\u001b[0m-------------| 1.6k/2.4k ( 67.62%) ETA 02m02s"
       ]
      },
      {
       "output_type": "stream",
       "stream": "stdout",
       "text": [
        "\r",
        "|\u001b[0;34m===========================\u001b[0m\u001b[0;32m>\u001b[0m-------------| 1.6k/2.4k ( 67.67%) ETA 02m02s"
       ]
      },
      {
       "output_type": "stream",
       "stream": "stdout",
       "text": [
        "\r",
        "|\u001b[0;34m===========================\u001b[0m\u001b[0;32m>\u001b[0m-------------| 1.6k/2.4k ( 67.71%) ETA 02m01s"
       ]
      },
      {
       "output_type": "stream",
       "stream": "stdout",
       "text": [
        "\r",
        "|\u001b[0;34m===========================\u001b[0m\u001b[0;32m>\u001b[0m-------------| 1.6k/2.4k ( 67.75%) ETA 02m01s"
       ]
      },
      {
       "output_type": "stream",
       "stream": "stdout",
       "text": [
        "\r",
        "|\u001b[0;34m===========================\u001b[0m\u001b[0;32m>\u001b[0m-------------| 1.6k/2.4k ( 67.79%) ETA 02m01s"
       ]
      },
      {
       "output_type": "stream",
       "stream": "stdout",
       "text": [
        "\r",
        "|\u001b[0;34m===========================\u001b[0m\u001b[0;32m>\u001b[0m-------------| 1.6k/2.4k ( 67.83%) ETA 02m01s"
       ]
      },
      {
       "output_type": "stream",
       "stream": "stdout",
       "text": [
        "\r",
        "|\u001b[0;34m===========================\u001b[0m\u001b[0;32m>\u001b[0m-------------| 1.6k/2.4k ( 67.88%) ETA 02m01s"
       ]
      },
      {
       "output_type": "stream",
       "stream": "stdout",
       "text": [
        "\r",
        "|\u001b[0;34m===========================\u001b[0m\u001b[0;32m>\u001b[0m-------------| 1.6k/2.4k ( 67.92%) ETA 02m01s"
       ]
      },
      {
       "output_type": "stream",
       "stream": "stdout",
       "text": [
        "\r",
        "|\u001b[0;34m===========================\u001b[0m\u001b[0;32m>\u001b[0m-------------| 1.6k/2.4k ( 67.96%) ETA 02m01s"
       ]
      },
      {
       "output_type": "stream",
       "stream": "stdout",
       "text": [
        "\r",
        "|\u001b[0;34m===========================\u001b[0m\u001b[0;32m>\u001b[0m-------------| 1.6k/2.4k ( 68.00%) ETA 02m00s"
       ]
      },
      {
       "output_type": "stream",
       "stream": "stdout",
       "text": [
        "\r",
        "|\u001b[0;34m===========================\u001b[0m\u001b[0;32m>\u001b[0m-------------| 1.6k/2.4k ( 68.04%) ETA 02m00s"
       ]
      },
      {
       "output_type": "stream",
       "stream": "stdout",
       "text": [
        "\r",
        "|\u001b[0;34m===========================\u001b[0m\u001b[0;32m>\u001b[0m-------------| 1.6k/2.4k ( 68.08%) ETA 02m00s"
       ]
      },
      {
       "output_type": "stream",
       "stream": "stdout",
       "text": [
        "\r",
        "|\u001b[0;34m===========================\u001b[0m\u001b[0;32m>\u001b[0m-------------| 1.6k/2.4k ( 68.12%) ETA 02m00s"
       ]
      },
      {
       "output_type": "stream",
       "stream": "stdout",
       "text": [
        "\r",
        "|\u001b[0;34m===========================\u001b[0m\u001b[0;32m>\u001b[0m-------------| 1.6k/2.4k ( 68.17%) ETA 02m00s"
       ]
      },
      {
       "output_type": "stream",
       "stream": "stdout",
       "text": [
        "\r",
        "|\u001b[0;34m===========================\u001b[0m\u001b[0;32m>\u001b[0m-------------| 1.6k/2.4k ( 68.21%) ETA 02m00s"
       ]
      },
      {
       "output_type": "stream",
       "stream": "stdout",
       "text": [
        "\r",
        "|\u001b[0;34m===========================\u001b[0m\u001b[0;32m>\u001b[0m-------------| 1.6k/2.4k ( 68.25%) ETA 01m59s"
       ]
      },
      {
       "output_type": "stream",
       "stream": "stdout",
       "text": [
        "\r",
        "|\u001b[0;34m===========================\u001b[0m\u001b[0;32m>\u001b[0m-------------| 1.6k/2.4k ( 68.29%) ETA 01m59s"
       ]
      },
      {
       "output_type": "stream",
       "stream": "stdout",
       "text": [
        "\r",
        "|\u001b[0;34m============================\u001b[0m\u001b[0;32m>\u001b[0m------------| 1.6k/2.4k ( 68.33%) ETA 01m59s"
       ]
      },
      {
       "output_type": "stream",
       "stream": "stdout",
       "text": [
        "\r",
        "|\u001b[0;34m============================\u001b[0m\u001b[0;32m>\u001b[0m------------| 1.6k/2.4k ( 68.38%) ETA 01m59s"
       ]
      },
      {
       "output_type": "stream",
       "stream": "stdout",
       "text": [
        "\r",
        "|\u001b[0;34m============================\u001b[0m\u001b[0;32m>\u001b[0m------------| 1.6k/2.4k ( 68.42%) ETA 01m59s"
       ]
      },
      {
       "output_type": "stream",
       "stream": "stdout",
       "text": [
        "\r",
        "|\u001b[0;34m============================\u001b[0m\u001b[0;32m>\u001b[0m------------| 1.6k/2.4k ( 68.46%) ETA 01m59s"
       ]
      },
      {
       "output_type": "stream",
       "stream": "stdout",
       "text": [
        "\r",
        "|\u001b[0;34m============================\u001b[0m\u001b[0;32m>\u001b[0m------------| 1.6k/2.4k ( 68.50%) ETA 01m59s"
       ]
      },
      {
       "output_type": "stream",
       "stream": "stdout",
       "text": [
        "\r",
        "|\u001b[0;34m============================\u001b[0m\u001b[0;32m>\u001b[0m------------| 1.6k/2.4k ( 68.54%) ETA 01m58s"
       ]
      },
      {
       "output_type": "stream",
       "stream": "stdout",
       "text": [
        "\r",
        "|\u001b[0;34m============================\u001b[0m\u001b[0;32m>\u001b[0m------------| 1.6k/2.4k ( 68.58%) ETA 01m58s"
       ]
      },
      {
       "output_type": "stream",
       "stream": "stdout",
       "text": [
        "\r",
        "|\u001b[0;34m============================\u001b[0m\u001b[0;32m>\u001b[0m------------| 1.6k/2.4k ( 68.62%) ETA 01m58s"
       ]
      },
      {
       "output_type": "stream",
       "stream": "stdout",
       "text": [
        "\r",
        "|\u001b[0;34m============================\u001b[0m\u001b[0;32m>\u001b[0m------------| 1.6k/2.4k ( 68.67%) ETA 01m58s"
       ]
      },
      {
       "output_type": "stream",
       "stream": "stdout",
       "text": [
        "\r",
        "|\u001b[0;34m============================\u001b[0m\u001b[0;32m>\u001b[0m------------| 1.6k/2.4k ( 68.71%) ETA 01m58s"
       ]
      },
      {
       "output_type": "stream",
       "stream": "stdout",
       "text": [
        "\r",
        "|\u001b[0;34m============================\u001b[0m\u001b[0;32m>\u001b[0m------------| 1.6k/2.4k ( 68.75%) ETA 01m58s"
       ]
      },
      {
       "output_type": "stream",
       "stream": "stdout",
       "text": [
        "\r",
        "|\u001b[0;34m============================\u001b[0m\u001b[0;32m>\u001b[0m------------| 1.6k/2.4k ( 68.79%) ETA 01m57s"
       ]
      },
      {
       "output_type": "stream",
       "stream": "stdout",
       "text": [
        "\r",
        "|\u001b[0;34m============================\u001b[0m\u001b[0;32m>\u001b[0m------------| 1.6k/2.4k ( 68.83%) ETA 01m57s"
       ]
      },
      {
       "output_type": "stream",
       "stream": "stdout",
       "text": [
        "\r",
        "|\u001b[0;34m============================\u001b[0m\u001b[0;32m>\u001b[0m------------| 1.6k/2.4k ( 68.88%) ETA 01m57s"
       ]
      },
      {
       "output_type": "stream",
       "stream": "stdout",
       "text": [
        "\r",
        "|\u001b[0;34m============================\u001b[0m\u001b[0;32m>\u001b[0m------------| 1.6k/2.4k ( 68.92%) ETA 01m57s"
       ]
      },
      {
       "output_type": "stream",
       "stream": "stdout",
       "text": [
        "\r",
        "|\u001b[0;34m============================\u001b[0m\u001b[0;32m>\u001b[0m------------| 1.6k/2.4k ( 68.96%) ETA 01m57s"
       ]
      },
      {
       "output_type": "stream",
       "stream": "stdout",
       "text": [
        "\r",
        "|\u001b[0;34m============================\u001b[0m\u001b[0;32m>\u001b[0m------------| 1.6k/2.4k ( 69.00%) ETA 01m57s"
       ]
      },
      {
       "output_type": "stream",
       "stream": "stdout",
       "text": [
        "\r",
        "|\u001b[0;34m============================\u001b[0m\u001b[0;32m>\u001b[0m------------| 1.6k/2.4k ( 69.04%) ETA 01m56s"
       ]
      },
      {
       "output_type": "stream",
       "stream": "stdout",
       "text": [
        "\r",
        "|\u001b[0;34m============================\u001b[0m\u001b[0;32m>\u001b[0m------------| 1.6k/2.4k ( 69.08%) ETA 01m56s"
       ]
      },
      {
       "output_type": "stream",
       "stream": "stdout",
       "text": [
        "\r",
        "|\u001b[0;34m============================\u001b[0m\u001b[0;32m>\u001b[0m------------| 1.6k/2.4k ( 69.12%) ETA 01m56s"
       ]
      },
      {
       "output_type": "stream",
       "stream": "stdout",
       "text": [
        "\r",
        "|\u001b[0;34m============================\u001b[0m\u001b[0;32m>\u001b[0m------------| 1.6k/2.4k ( 69.17%) ETA 01m56s"
       ]
      },
      {
       "output_type": "stream",
       "stream": "stdout",
       "text": [
        "\r",
        "|\u001b[0;34m============================\u001b[0m\u001b[0;32m>\u001b[0m------------| 1.6k/2.4k ( 69.21%) ETA 01m56s"
       ]
      },
      {
       "output_type": "stream",
       "stream": "stdout",
       "text": [
        "\r",
        "|\u001b[0;34m============================\u001b[0m\u001b[0;32m>\u001b[0m------------| 1.6k/2.4k ( 69.25%) ETA 01m56s"
       ]
      },
      {
       "output_type": "stream",
       "stream": "stdout",
       "text": [
        "\r",
        "|\u001b[0;34m============================\u001b[0m\u001b[0;32m>\u001b[0m------------| 1.6k/2.4k ( 69.29%) ETA 01m56s"
       ]
      },
      {
       "output_type": "stream",
       "stream": "stdout",
       "text": [
        "\r",
        "|\u001b[0;34m============================\u001b[0m\u001b[0;32m>\u001b[0m------------| 1.6k/2.4k ( 69.33%) ETA 01m55s"
       ]
      },
      {
       "output_type": "stream",
       "stream": "stdout",
       "text": [
        "\r",
        "|\u001b[0;34m============================\u001b[0m\u001b[0;32m>\u001b[0m------------| 1.6k/2.4k ( 69.38%) ETA 01m55s"
       ]
      },
      {
       "output_type": "stream",
       "stream": "stdout",
       "text": [
        "\r",
        "|\u001b[0;34m============================\u001b[0m\u001b[0;32m>\u001b[0m------------| 1.6k/2.4k ( 69.42%) ETA 01m55s"
       ]
      },
      {
       "output_type": "stream",
       "stream": "stdout",
       "text": [
        "\r",
        "|\u001b[0;34m============================\u001b[0m\u001b[0;32m>\u001b[0m------------| 1.6k/2.4k ( 69.46%) ETA 01m55s"
       ]
      },
      {
       "output_type": "stream",
       "stream": "stdout",
       "text": [
        "\r",
        "|\u001b[0;34m============================\u001b[0m\u001b[0;32m>\u001b[0m------------| 1.6k/2.4k ( 69.50%) ETA 01m55s"
       ]
      },
      {
       "output_type": "stream",
       "stream": "stdout",
       "text": [
        "\r",
        "|\u001b[0;34m============================\u001b[0m\u001b[0;32m>\u001b[0m------------| 1.6k/2.4k ( 69.54%) ETA 01m55s"
       ]
      },
      {
       "output_type": "stream",
       "stream": "stdout",
       "text": [
        "\r",
        "|\u001b[0;34m============================\u001b[0m\u001b[0;32m>\u001b[0m------------| 1.6k/2.4k ( 69.58%) ETA 01m54s"
       ]
      },
      {
       "output_type": "stream",
       "stream": "stdout",
       "text": [
        "\r",
        "|\u001b[0;34m============================\u001b[0m\u001b[0;32m>\u001b[0m------------| 1.6k/2.4k ( 69.62%) ETA 01m54s"
       ]
      },
      {
       "output_type": "stream",
       "stream": "stdout",
       "text": [
        "\r",
        "|\u001b[0;34m============================\u001b[0m\u001b[0;32m>\u001b[0m------------| 1.6k/2.4k ( 69.67%) ETA 01m54s"
       ]
      },
      {
       "output_type": "stream",
       "stream": "stdout",
       "text": [
        "\r",
        "|\u001b[0;34m============================\u001b[0m\u001b[0;32m>\u001b[0m------------| 1.6k/2.4k ( 69.71%) ETA 01m54s"
       ]
      },
      {
       "output_type": "stream",
       "stream": "stdout",
       "text": [
        "\r",
        "|\u001b[0;34m============================\u001b[0m\u001b[0;32m>\u001b[0m------------| 1.6k/2.4k ( 69.75%) ETA 01m54s"
       ]
      },
      {
       "output_type": "stream",
       "stream": "stdout",
       "text": [
        "\r",
        "|\u001b[0;34m============================\u001b[0m\u001b[0;32m>\u001b[0m------------| 1.6k/2.4k ( 69.79%) ETA 01m54s"
       ]
      },
      {
       "output_type": "stream",
       "stream": "stdout",
       "text": [
        "\r",
        "|\u001b[0;34m============================\u001b[0m\u001b[0;32m>\u001b[0m------------| 1.6k/2.4k ( 69.83%) ETA 01m54s"
       ]
      },
      {
       "output_type": "stream",
       "stream": "stdout",
       "text": [
        "\r",
        "|\u001b[0;34m============================\u001b[0m\u001b[0;32m>\u001b[0m------------| 1.6k/2.4k ( 69.88%) ETA 01m53s"
       ]
      },
      {
       "output_type": "stream",
       "stream": "stdout",
       "text": [
        "\r",
        "|\u001b[0;34m============================\u001b[0m\u001b[0;32m>\u001b[0m------------| 1.6k/2.4k ( 69.92%) ETA 01m53s"
       ]
      },
      {
       "output_type": "stream",
       "stream": "stdout",
       "text": [
        "\r",
        "|\u001b[0;34m============================\u001b[0m\u001b[0;32m>\u001b[0m------------| 1.6k/2.4k ( 69.96%) ETA 01m53s"
       ]
      },
      {
       "output_type": "stream",
       "stream": "stdout",
       "text": [
        "\r",
        "|\u001b[0;34m============================\u001b[0m\u001b[0;32m>\u001b[0m------------| 1.6k/2.4k ( 70.00%) ETA 01m53s"
       ]
      },
      {
       "output_type": "stream",
       "stream": "stdout",
       "text": [
        "\r",
        "|\u001b[0;34m============================\u001b[0m\u001b[0;32m>\u001b[0m------------| 1.6k/2.4k ( 70.04%) ETA 01m53s"
       ]
      },
      {
       "output_type": "stream",
       "stream": "stdout",
       "text": [
        "\r",
        "|\u001b[0;34m============================\u001b[0m\u001b[0;32m>\u001b[0m------------| 1.6k/2.4k ( 70.08%) ETA 01m53s"
       ]
      },
      {
       "output_type": "stream",
       "stream": "stdout",
       "text": [
        "\r",
        "|\u001b[0;34m============================\u001b[0m\u001b[0;32m>\u001b[0m------------| 1.6k/2.4k ( 70.12%) ETA 01m52s"
       ]
      },
      {
       "output_type": "stream",
       "stream": "stdout",
       "text": [
        "\r",
        "|\u001b[0;34m============================\u001b[0m\u001b[0;32m>\u001b[0m------------| 1.6k/2.4k ( 70.17%) ETA 01m52s"
       ]
      },
      {
       "output_type": "stream",
       "stream": "stdout",
       "text": [
        "\r",
        "|\u001b[0;34m============================\u001b[0m\u001b[0;32m>\u001b[0m------------| 1.6k/2.4k ( 70.21%) ETA 01m52s"
       ]
      },
      {
       "output_type": "stream",
       "stream": "stdout",
       "text": [
        "\r",
        "|\u001b[0;34m============================\u001b[0m\u001b[0;32m>\u001b[0m------------| 1.6k/2.4k ( 70.25%) ETA 01m52s"
       ]
      },
      {
       "output_type": "stream",
       "stream": "stdout",
       "text": [
        "\r",
        "|\u001b[0;34m============================\u001b[0m\u001b[0;32m>\u001b[0m------------| 1.6k/2.4k ( 70.29%) ETA 01m52s"
       ]
      },
      {
       "output_type": "stream",
       "stream": "stdout",
       "text": [
        "\r",
        "|\u001b[0;34m============================\u001b[0m\u001b[0;32m>\u001b[0m------------| 1.6k/2.4k ( 70.33%) ETA 01m52s"
       ]
      },
      {
       "output_type": "stream",
       "stream": "stdout",
       "text": [
        "\r",
        "|\u001b[0;34m============================\u001b[0m\u001b[0;32m>\u001b[0m------------| 1.6k/2.4k ( 70.38%) ETA 01m51s"
       ]
      },
      {
       "output_type": "stream",
       "stream": "stdout",
       "text": [
        "\r",
        "|\u001b[0;34m============================\u001b[0m\u001b[0;32m>\u001b[0m------------| 1.6k/2.4k ( 70.42%) ETA 01m51s"
       ]
      },
      {
       "output_type": "stream",
       "stream": "stdout",
       "text": [
        "\r",
        "|\u001b[0;34m============================\u001b[0m\u001b[0;32m>\u001b[0m------------| 1.6k/2.4k ( 70.46%) ETA 01m51s"
       ]
      },
      {
       "output_type": "stream",
       "stream": "stdout",
       "text": [
        "\r",
        "|\u001b[0;34m============================\u001b[0m\u001b[0;32m>\u001b[0m------------| 1.6k/2.4k ( 70.50%) ETA 01m51s"
       ]
      },
      {
       "output_type": "stream",
       "stream": "stdout",
       "text": [
        "\r",
        "|\u001b[0;34m============================\u001b[0m\u001b[0;32m>\u001b[0m------------| 1.6k/2.4k ( 70.54%) ETA 01m51s"
       ]
      },
      {
       "output_type": "stream",
       "stream": "stdout",
       "text": [
        "\r",
        "|\u001b[0;34m============================\u001b[0m\u001b[0;32m>\u001b[0m------------| 1.6k/2.4k ( 70.58%) ETA 01m51s"
       ]
      },
      {
       "output_type": "stream",
       "stream": "stdout",
       "text": [
        "\r",
        "|\u001b[0;34m============================\u001b[0m\u001b[0;32m>\u001b[0m------------| 1.6k/2.4k ( 70.62%) ETA 01m51s"
       ]
      },
      {
       "output_type": "stream",
       "stream": "stdout",
       "text": [
        "\r",
        "|\u001b[0;34m============================\u001b[0m\u001b[0;32m>\u001b[0m------------| 1.6k/2.4k ( 70.67%) ETA 01m50s"
       ]
      },
      {
       "output_type": "stream",
       "stream": "stdout",
       "text": [
        "\r",
        "|\u001b[0;34m============================\u001b[0m\u001b[0;32m>\u001b[0m------------| 1.6k/2.4k ( 70.71%) ETA 01m50s"
       ]
      },
      {
       "output_type": "stream",
       "stream": "stdout",
       "text": [
        "\r",
        "|\u001b[0;34m=============================\u001b[0m\u001b[0;32m>\u001b[0m-----------| 1.6k/2.4k ( 70.75%) ETA 01m50s"
       ]
      },
      {
       "output_type": "stream",
       "stream": "stdout",
       "text": [
        "\r",
        "|\u001b[0;34m=============================\u001b[0m\u001b[0;32m>\u001b[0m-----------| 1.6k/2.4k ( 70.79%) ETA 01m50s"
       ]
      },
      {
       "output_type": "stream",
       "stream": "stdout",
       "text": [
        "\r",
        "|\u001b[0;34m=============================\u001b[0m\u001b[0;32m>\u001b[0m-----------| 1.7k/2.4k ( 70.83%) ETA 01m50s"
       ]
      },
      {
       "output_type": "stream",
       "stream": "stdout",
       "text": [
        "\r",
        "|\u001b[0;34m=============================\u001b[0m\u001b[0;32m>\u001b[0m-----------| 1.7k/2.4k ( 70.88%) ETA 01m50s"
       ]
      },
      {
       "output_type": "stream",
       "stream": "stdout",
       "text": [
        "\r",
        "|\u001b[0;34m=============================\u001b[0m\u001b[0;32m>\u001b[0m-----------| 1.7k/2.4k ( 70.92%) ETA 01m49s"
       ]
      },
      {
       "output_type": "stream",
       "stream": "stdout",
       "text": [
        "\r",
        "|\u001b[0;34m=============================\u001b[0m\u001b[0;32m>\u001b[0m-----------| 1.7k/2.4k ( 70.96%) ETA 01m49s"
       ]
      },
      {
       "output_type": "stream",
       "stream": "stdout",
       "text": [
        "\r",
        "|\u001b[0;34m=============================\u001b[0m\u001b[0;32m>\u001b[0m-----------| 1.7k/2.4k ( 71.00%) ETA 01m49s"
       ]
      },
      {
       "output_type": "stream",
       "stream": "stdout",
       "text": [
        "\r",
        "|\u001b[0;34m=============================\u001b[0m\u001b[0;32m>\u001b[0m-----------| 1.7k/2.4k ( 71.04%) ETA 01m49s"
       ]
      },
      {
       "output_type": "stream",
       "stream": "stdout",
       "text": [
        "\r",
        "|\u001b[0;34m=============================\u001b[0m\u001b[0;32m>\u001b[0m-----------| 1.7k/2.4k ( 71.08%) ETA 01m49s"
       ]
      },
      {
       "output_type": "stream",
       "stream": "stdout",
       "text": [
        "\r",
        "|\u001b[0;34m=============================\u001b[0m\u001b[0;32m>\u001b[0m-----------| 1.7k/2.4k ( 71.12%) ETA 01m49s"
       ]
      },
      {
       "output_type": "stream",
       "stream": "stdout",
       "text": [
        "\r",
        "|\u001b[0;34m=============================\u001b[0m\u001b[0;32m>\u001b[0m-----------| 1.7k/2.4k ( 71.17%) ETA 01m48s"
       ]
      },
      {
       "output_type": "stream",
       "stream": "stdout",
       "text": [
        "\r",
        "|\u001b[0;34m=============================\u001b[0m\u001b[0;32m>\u001b[0m-----------| 1.7k/2.4k ( 71.21%) ETA 01m48s"
       ]
      },
      {
       "output_type": "stream",
       "stream": "stdout",
       "text": [
        "\r",
        "|\u001b[0;34m=============================\u001b[0m\u001b[0;32m>\u001b[0m-----------| 1.7k/2.4k ( 71.25%) ETA 01m48s"
       ]
      },
      {
       "output_type": "stream",
       "stream": "stdout",
       "text": [
        "\r",
        "|\u001b[0;34m=============================\u001b[0m\u001b[0;32m>\u001b[0m-----------| 1.7k/2.4k ( 71.29%) ETA 01m48s"
       ]
      },
      {
       "output_type": "stream",
       "stream": "stdout",
       "text": [
        "\r",
        "|\u001b[0;34m=============================\u001b[0m\u001b[0;32m>\u001b[0m-----------| 1.7k/2.4k ( 71.33%) ETA 01m48s"
       ]
      },
      {
       "output_type": "stream",
       "stream": "stdout",
       "text": [
        "\r",
        "|\u001b[0;34m=============================\u001b[0m\u001b[0;32m>\u001b[0m-----------| 1.7k/2.4k ( 71.38%) ETA 01m48s"
       ]
      },
      {
       "output_type": "stream",
       "stream": "stdout",
       "text": [
        "\r",
        "|\u001b[0;34m=============================\u001b[0m\u001b[0;32m>\u001b[0m-----------| 1.7k/2.4k ( 71.42%) ETA 01m48s"
       ]
      },
      {
       "output_type": "stream",
       "stream": "stdout",
       "text": [
        "\r",
        "|\u001b[0;34m=============================\u001b[0m\u001b[0;32m>\u001b[0m-----------| 1.7k/2.4k ( 71.46%) ETA 01m47s"
       ]
      },
      {
       "output_type": "stream",
       "stream": "stdout",
       "text": [
        "\r",
        "|\u001b[0;34m=============================\u001b[0m\u001b[0;32m>\u001b[0m-----------| 1.7k/2.4k ( 71.50%) ETA 01m47s"
       ]
      },
      {
       "output_type": "stream",
       "stream": "stdout",
       "text": [
        "\r",
        "|\u001b[0;34m=============================\u001b[0m\u001b[0;32m>\u001b[0m-----------| 1.7k/2.4k ( 71.54%) ETA 01m47s"
       ]
      },
      {
       "output_type": "stream",
       "stream": "stdout",
       "text": [
        "\r",
        "|\u001b[0;34m=============================\u001b[0m\u001b[0;32m>\u001b[0m-----------| 1.7k/2.4k ( 71.58%) ETA 01m47s"
       ]
      },
      {
       "output_type": "stream",
       "stream": "stdout",
       "text": [
        "\r",
        "|\u001b[0;34m=============================\u001b[0m\u001b[0;32m>\u001b[0m-----------| 1.7k/2.4k ( 71.62%) ETA 01m47s"
       ]
      },
      {
       "output_type": "stream",
       "stream": "stdout",
       "text": [
        "\r",
        "|\u001b[0;34m=============================\u001b[0m\u001b[0;32m>\u001b[0m-----------| 1.7k/2.4k ( 71.67%) ETA 01m47s"
       ]
      },
      {
       "output_type": "stream",
       "stream": "stdout",
       "text": [
        "\r",
        "|\u001b[0;34m=============================\u001b[0m\u001b[0;32m>\u001b[0m-----------| 1.7k/2.4k ( 71.71%) ETA 01m46s"
       ]
      },
      {
       "output_type": "stream",
       "stream": "stdout",
       "text": [
        "\r",
        "|\u001b[0;34m=============================\u001b[0m\u001b[0;32m>\u001b[0m-----------| 1.7k/2.4k ( 71.75%) ETA 01m46s"
       ]
      },
      {
       "output_type": "stream",
       "stream": "stdout",
       "text": [
        "\r",
        "|\u001b[0;34m=============================\u001b[0m\u001b[0;32m>\u001b[0m-----------| 1.7k/2.4k ( 71.79%) ETA 01m46s"
       ]
      },
      {
       "output_type": "stream",
       "stream": "stdout",
       "text": [
        "\r",
        "|\u001b[0;34m=============================\u001b[0m\u001b[0;32m>\u001b[0m-----------| 1.7k/2.4k ( 71.83%) ETA 01m46s"
       ]
      },
      {
       "output_type": "stream",
       "stream": "stdout",
       "text": [
        "\r",
        "|\u001b[0;34m=============================\u001b[0m\u001b[0;32m>\u001b[0m-----------| 1.7k/2.4k ( 71.88%) ETA 01m46s"
       ]
      },
      {
       "output_type": "stream",
       "stream": "stdout",
       "text": [
        "\r",
        "|\u001b[0;34m=============================\u001b[0m\u001b[0;32m>\u001b[0m-----------| 1.7k/2.4k ( 71.92%) ETA 01m46s"
       ]
      },
      {
       "output_type": "stream",
       "stream": "stdout",
       "text": [
        "\r",
        "|\u001b[0;34m=============================\u001b[0m\u001b[0;32m>\u001b[0m-----------| 1.7k/2.4k ( 71.96%) ETA 01m45s"
       ]
      },
      {
       "output_type": "stream",
       "stream": "stdout",
       "text": [
        "\r",
        "|\u001b[0;34m=============================\u001b[0m\u001b[0;32m>\u001b[0m-----------| 1.7k/2.4k ( 72.00%) ETA 01m45s"
       ]
      },
      {
       "output_type": "stream",
       "stream": "stdout",
       "text": [
        "\r",
        "|\u001b[0;34m=============================\u001b[0m\u001b[0;32m>\u001b[0m-----------| 1.7k/2.4k ( 72.04%) ETA 01m45s"
       ]
      },
      {
       "output_type": "stream",
       "stream": "stdout",
       "text": [
        "\r",
        "|\u001b[0;34m=============================\u001b[0m\u001b[0;32m>\u001b[0m-----------| 1.7k/2.4k ( 72.08%) ETA 01m45s"
       ]
      },
      {
       "output_type": "stream",
       "stream": "stdout",
       "text": [
        "\r",
        "|\u001b[0;34m=============================\u001b[0m\u001b[0;32m>\u001b[0m-----------| 1.7k/2.4k ( 72.12%) ETA 01m45s"
       ]
      },
      {
       "output_type": "stream",
       "stream": "stdout",
       "text": [
        "\r",
        "|\u001b[0;34m=============================\u001b[0m\u001b[0;32m>\u001b[0m-----------| 1.7k/2.4k ( 72.17%) ETA 01m45s"
       ]
      },
      {
       "output_type": "stream",
       "stream": "stdout",
       "text": [
        "\r",
        "|\u001b[0;34m=============================\u001b[0m\u001b[0;32m>\u001b[0m-----------| 1.7k/2.4k ( 72.21%) ETA 01m45s"
       ]
      },
      {
       "output_type": "stream",
       "stream": "stdout",
       "text": [
        "\r",
        "|\u001b[0;34m=============================\u001b[0m\u001b[0;32m>\u001b[0m-----------| 1.7k/2.4k ( 72.25%) ETA 01m44s"
       ]
      },
      {
       "output_type": "stream",
       "stream": "stdout",
       "text": [
        "\r",
        "|\u001b[0;34m=============================\u001b[0m\u001b[0;32m>\u001b[0m-----------| 1.7k/2.4k ( 72.29%) ETA 01m44s"
       ]
      },
      {
       "output_type": "stream",
       "stream": "stdout",
       "text": [
        "\r",
        "|\u001b[0;34m=============================\u001b[0m\u001b[0;32m>\u001b[0m-----------| 1.7k/2.4k ( 72.33%) ETA 01m44s"
       ]
      },
      {
       "output_type": "stream",
       "stream": "stdout",
       "text": [
        "\r",
        "|\u001b[0;34m=============================\u001b[0m\u001b[0;32m>\u001b[0m-----------| 1.7k/2.4k ( 72.38%) ETA 01m44s"
       ]
      },
      {
       "output_type": "stream",
       "stream": "stdout",
       "text": [
        "\r",
        "|\u001b[0;34m=============================\u001b[0m\u001b[0;32m>\u001b[0m-----------| 1.7k/2.4k ( 72.42%) ETA 01m44s"
       ]
      },
      {
       "output_type": "stream",
       "stream": "stdout",
       "text": [
        "\r",
        "|\u001b[0;34m=============================\u001b[0m\u001b[0;32m>\u001b[0m-----------| 1.7k/2.4k ( 72.46%) ETA 01m44s"
       ]
      },
      {
       "output_type": "stream",
       "stream": "stdout",
       "text": [
        "\r",
        "|\u001b[0;34m=============================\u001b[0m\u001b[0;32m>\u001b[0m-----------| 1.7k/2.4k ( 72.50%) ETA 01m43s"
       ]
      },
      {
       "output_type": "stream",
       "stream": "stdout",
       "text": [
        "\r",
        "|\u001b[0;34m=============================\u001b[0m\u001b[0;32m>\u001b[0m-----------| 1.7k/2.4k ( 72.54%) ETA 01m43s"
       ]
      },
      {
       "output_type": "stream",
       "stream": "stdout",
       "text": [
        "\r",
        "|\u001b[0;34m=============================\u001b[0m\u001b[0;32m>\u001b[0m-----------| 1.7k/2.4k ( 72.58%) ETA 01m43s"
       ]
      },
      {
       "output_type": "stream",
       "stream": "stdout",
       "text": [
        "\r",
        "|\u001b[0;34m=============================\u001b[0m\u001b[0;32m>\u001b[0m-----------| 1.7k/2.4k ( 72.62%) ETA 01m43s"
       ]
      },
      {
       "output_type": "stream",
       "stream": "stdout",
       "text": [
        "\r",
        "|\u001b[0;34m=============================\u001b[0m\u001b[0;32m>\u001b[0m-----------| 1.7k/2.4k ( 72.67%) ETA 01m43s"
       ]
      },
      {
       "output_type": "stream",
       "stream": "stdout",
       "text": [
        "\r",
        "|\u001b[0;34m=============================\u001b[0m\u001b[0;32m>\u001b[0m-----------| 1.7k/2.4k ( 72.71%) ETA 01m43s"
       ]
      },
      {
       "output_type": "stream",
       "stream": "stdout",
       "text": [
        "\r",
        "|\u001b[0;34m=============================\u001b[0m\u001b[0;32m>\u001b[0m-----------| 1.7k/2.4k ( 72.75%) ETA 01m42s"
       ]
      },
      {
       "output_type": "stream",
       "stream": "stdout",
       "text": [
        "\r",
        "|\u001b[0;34m=============================\u001b[0m\u001b[0;32m>\u001b[0m-----------| 1.7k/2.4k ( 72.79%) ETA 01m42s"
       ]
      },
      {
       "output_type": "stream",
       "stream": "stdout",
       "text": [
        "\r",
        "|\u001b[0;34m=============================\u001b[0m\u001b[0;32m>\u001b[0m-----------| 1.7k/2.4k ( 72.83%) ETA 01m42s"
       ]
      },
      {
       "output_type": "stream",
       "stream": "stdout",
       "text": [
        "\r",
        "|\u001b[0;34m=============================\u001b[0m\u001b[0;32m>\u001b[0m-----------| 1.7k/2.4k ( 72.88%) ETA 01m42s"
       ]
      },
      {
       "output_type": "stream",
       "stream": "stdout",
       "text": [
        "\r",
        "|\u001b[0;34m=============================\u001b[0m\u001b[0;32m>\u001b[0m-----------| 1.7k/2.4k ( 72.92%) ETA 01m42s"
       ]
      },
      {
       "output_type": "stream",
       "stream": "stdout",
       "text": [
        "\r",
        "|\u001b[0;34m=============================\u001b[0m\u001b[0;32m>\u001b[0m-----------| 1.7k/2.4k ( 72.96%) ETA 01m42s"
       ]
      },
      {
       "output_type": "stream",
       "stream": "stdout",
       "text": [
        "\r",
        "|\u001b[0;34m=============================\u001b[0m\u001b[0;32m>\u001b[0m-----------| 1.7k/2.4k ( 73.00%) ETA 01m42s"
       ]
      },
      {
       "output_type": "stream",
       "stream": "stdout",
       "text": [
        "\r",
        "|\u001b[0;34m=============================\u001b[0m\u001b[0;32m>\u001b[0m-----------| 1.7k/2.4k ( 73.04%) ETA 01m41s"
       ]
      },
      {
       "output_type": "stream",
       "stream": "stdout",
       "text": [
        "\r",
        "|\u001b[0;34m=============================\u001b[0m\u001b[0;32m>\u001b[0m-----------| 1.7k/2.4k ( 73.08%) ETA 01m41s"
       ]
      },
      {
       "output_type": "stream",
       "stream": "stdout",
       "text": [
        "\r",
        "|\u001b[0;34m=============================\u001b[0m\u001b[0;32m>\u001b[0m-----------| 1.7k/2.4k ( 73.12%) ETA 01m41s"
       ]
      },
      {
       "output_type": "stream",
       "stream": "stdout",
       "text": [
        "\r",
        "|\u001b[0;34m=============================\u001b[0m\u001b[0;32m>\u001b[0m-----------| 1.7k/2.4k ( 73.17%) ETA 01m41s"
       ]
      },
      {
       "output_type": "stream",
       "stream": "stdout",
       "text": [
        "\r",
        "|\u001b[0;34m==============================\u001b[0m\u001b[0;32m>\u001b[0m----------| 1.7k/2.4k ( 73.21%) ETA 01m41s"
       ]
      },
      {
       "output_type": "stream",
       "stream": "stdout",
       "text": [
        "\r",
        "|\u001b[0;34m==============================\u001b[0m\u001b[0;32m>\u001b[0m----------| 1.7k/2.4k ( 73.25%) ETA 01m41s"
       ]
      },
      {
       "output_type": "stream",
       "stream": "stdout",
       "text": [
        "\r",
        "|\u001b[0;34m==============================\u001b[0m\u001b[0;32m>\u001b[0m----------| 1.7k/2.4k ( 73.29%) ETA 01m40s"
       ]
      },
      {
       "output_type": "stream",
       "stream": "stdout",
       "text": [
        "\r",
        "|\u001b[0;34m==============================\u001b[0m\u001b[0;32m>\u001b[0m----------| 1.7k/2.4k ( 73.33%) ETA 01m40s"
       ]
      },
      {
       "output_type": "stream",
       "stream": "stdout",
       "text": [
        "\r",
        "|\u001b[0;34m==============================\u001b[0m\u001b[0;32m>\u001b[0m----------| 1.7k/2.4k ( 73.38%) ETA 01m40s"
       ]
      },
      {
       "output_type": "stream",
       "stream": "stdout",
       "text": [
        "\r",
        "|\u001b[0;34m==============================\u001b[0m\u001b[0;32m>\u001b[0m----------| 1.7k/2.4k ( 73.42%) ETA 01m40s"
       ]
      },
      {
       "output_type": "stream",
       "stream": "stdout",
       "text": [
        "\r",
        "|\u001b[0;34m==============================\u001b[0m\u001b[0;32m>\u001b[0m----------| 1.7k/2.4k ( 73.46%) ETA 01m40s"
       ]
      },
      {
       "output_type": "stream",
       "stream": "stdout",
       "text": [
        "\r",
        "|\u001b[0;34m==============================\u001b[0m\u001b[0;32m>\u001b[0m----------| 1.7k/2.4k ( 73.50%) ETA 01m40s"
       ]
      },
      {
       "output_type": "stream",
       "stream": "stdout",
       "text": [
        "\r",
        "|\u001b[0;34m==============================\u001b[0m\u001b[0;32m>\u001b[0m----------| 1.7k/2.4k ( 73.54%) ETA 01m40s"
       ]
      },
      {
       "output_type": "stream",
       "stream": "stdout",
       "text": [
        "\r",
        "|\u001b[0;34m==============================\u001b[0m\u001b[0;32m>\u001b[0m----------| 1.7k/2.4k ( 73.58%) ETA 01m39s"
       ]
      },
      {
       "output_type": "stream",
       "stream": "stdout",
       "text": [
        "\r",
        "|\u001b[0;34m==============================\u001b[0m\u001b[0;32m>\u001b[0m----------| 1.7k/2.4k ( 73.62%) ETA 01m39s"
       ]
      },
      {
       "output_type": "stream",
       "stream": "stdout",
       "text": [
        "\r",
        "|\u001b[0;34m==============================\u001b[0m\u001b[0;32m>\u001b[0m----------| 1.7k/2.4k ( 73.67%) ETA 01m39s"
       ]
      },
      {
       "output_type": "stream",
       "stream": "stdout",
       "text": [
        "\r",
        "|\u001b[0;34m==============================\u001b[0m\u001b[0;32m>\u001b[0m----------| 1.7k/2.4k ( 73.71%) ETA 01m39s"
       ]
      },
      {
       "output_type": "stream",
       "stream": "stdout",
       "text": [
        "\r",
        "|\u001b[0;34m==============================\u001b[0m\u001b[0;32m>\u001b[0m----------| 1.7k/2.4k ( 73.75%) ETA 01m39s"
       ]
      },
      {
       "output_type": "stream",
       "stream": "stdout",
       "text": [
        "\r",
        "|\u001b[0;34m==============================\u001b[0m\u001b[0;32m>\u001b[0m----------| 1.7k/2.4k ( 73.79%) ETA 01m39s"
       ]
      },
      {
       "output_type": "stream",
       "stream": "stdout",
       "text": [
        "\r",
        "|\u001b[0;34m==============================\u001b[0m\u001b[0;32m>\u001b[0m----------| 1.7k/2.4k ( 73.83%) ETA 01m38s"
       ]
      },
      {
       "output_type": "stream",
       "stream": "stdout",
       "text": [
        "\r",
        "|\u001b[0;34m==============================\u001b[0m\u001b[0;32m>\u001b[0m----------| 1.7k/2.4k ( 73.88%) ETA 01m38s"
       ]
      },
      {
       "output_type": "stream",
       "stream": "stdout",
       "text": [
        "\r",
        "|\u001b[0;34m==============================\u001b[0m\u001b[0;32m>\u001b[0m----------| 1.7k/2.4k ( 73.92%) ETA 01m38s"
       ]
      },
      {
       "output_type": "stream",
       "stream": "stdout",
       "text": [
        "\r",
        "|\u001b[0;34m==============================\u001b[0m\u001b[0;32m>\u001b[0m----------| 1.7k/2.4k ( 73.96%) ETA 01m38s"
       ]
      },
      {
       "output_type": "stream",
       "stream": "stdout",
       "text": [
        "\r",
        "|\u001b[0;34m==============================\u001b[0m\u001b[0;32m>\u001b[0m----------| 1.7k/2.4k ( 74.00%) ETA 01m38s"
       ]
      },
      {
       "output_type": "stream",
       "stream": "stdout",
       "text": [
        "\r",
        "|\u001b[0;34m==============================\u001b[0m\u001b[0;32m>\u001b[0m----------| 1.7k/2.4k ( 74.04%) ETA 01m38s"
       ]
      },
      {
       "output_type": "stream",
       "stream": "stdout",
       "text": [
        "\r",
        "|\u001b[0;34m==============================\u001b[0m\u001b[0;32m>\u001b[0m----------| 1.7k/2.4k ( 74.08%) ETA 01m37s"
       ]
      },
      {
       "output_type": "stream",
       "stream": "stdout",
       "text": [
        "\r",
        "|\u001b[0;34m==============================\u001b[0m\u001b[0;32m>\u001b[0m----------| 1.7k/2.4k ( 74.12%) ETA 01m37s"
       ]
      },
      {
       "output_type": "stream",
       "stream": "stdout",
       "text": [
        "\r",
        "|\u001b[0;34m==============================\u001b[0m\u001b[0;32m>\u001b[0m----------| 1.7k/2.4k ( 74.17%) ETA 01m37s"
       ]
      },
      {
       "output_type": "stream",
       "stream": "stdout",
       "text": [
        "\r",
        "|\u001b[0;34m==============================\u001b[0m\u001b[0;32m>\u001b[0m----------| 1.7k/2.4k ( 74.21%) ETA 01m37s"
       ]
      },
      {
       "output_type": "stream",
       "stream": "stdout",
       "text": [
        "\r",
        "|\u001b[0;34m==============================\u001b[0m\u001b[0;32m>\u001b[0m----------| 1.7k/2.4k ( 74.25%) ETA 01m37s"
       ]
      },
      {
       "output_type": "stream",
       "stream": "stdout",
       "text": [
        "\r",
        "|\u001b[0;34m==============================\u001b[0m\u001b[0;32m>\u001b[0m----------| 1.7k/2.4k ( 74.29%) ETA 01m37s"
       ]
      },
      {
       "output_type": "stream",
       "stream": "stdout",
       "text": [
        "\r",
        "|\u001b[0;34m==============================\u001b[0m\u001b[0;32m>\u001b[0m----------| 1.7k/2.4k ( 74.33%) ETA 01m37s"
       ]
      },
      {
       "output_type": "stream",
       "stream": "stdout",
       "text": [
        "\r",
        "|\u001b[0;34m==============================\u001b[0m\u001b[0;32m>\u001b[0m----------| 1.7k/2.4k ( 74.38%) ETA 01m36s"
       ]
      },
      {
       "output_type": "stream",
       "stream": "stdout",
       "text": [
        "\r",
        "|\u001b[0;34m==============================\u001b[0m\u001b[0;32m>\u001b[0m----------| 1.7k/2.4k ( 74.42%) ETA 01m36s"
       ]
      },
      {
       "output_type": "stream",
       "stream": "stdout",
       "text": [
        "\r",
        "|\u001b[0;34m==============================\u001b[0m\u001b[0;32m>\u001b[0m----------| 1.7k/2.4k ( 74.46%) ETA 01m36s"
       ]
      },
      {
       "output_type": "stream",
       "stream": "stdout",
       "text": [
        "\r",
        "|\u001b[0;34m==============================\u001b[0m\u001b[0;32m>\u001b[0m----------| 1.7k/2.4k ( 74.50%) ETA 01m36s"
       ]
      },
      {
       "output_type": "stream",
       "stream": "stdout",
       "text": [
        "\r",
        "|\u001b[0;34m==============================\u001b[0m\u001b[0;32m>\u001b[0m----------| 1.7k/2.4k ( 74.54%) ETA 01m36s"
       ]
      },
      {
       "output_type": "stream",
       "stream": "stdout",
       "text": [
        "\r",
        "|\u001b[0;34m==============================\u001b[0m\u001b[0;32m>\u001b[0m----------| 1.7k/2.4k ( 74.58%) ETA 01m36s"
       ]
      },
      {
       "output_type": "stream",
       "stream": "stdout",
       "text": [
        "\r",
        "|\u001b[0;34m==============================\u001b[0m\u001b[0;32m>\u001b[0m----------| 1.7k/2.4k ( 74.62%) ETA 01m35s"
       ]
      },
      {
       "output_type": "stream",
       "stream": "stdout",
       "text": [
        "\r",
        "|\u001b[0;34m==============================\u001b[0m\u001b[0;32m>\u001b[0m----------| 1.7k/2.4k ( 74.67%) ETA 01m35s"
       ]
      },
      {
       "output_type": "stream",
       "stream": "stdout",
       "text": [
        "\r",
        "|\u001b[0;34m==============================\u001b[0m\u001b[0;32m>\u001b[0m----------| 1.7k/2.4k ( 74.71%) ETA 01m35s"
       ]
      },
      {
       "output_type": "stream",
       "stream": "stdout",
       "text": [
        "\r",
        "|\u001b[0;34m==============================\u001b[0m\u001b[0;32m>\u001b[0m----------| 1.7k/2.4k ( 74.75%) ETA 01m35s"
       ]
      },
      {
       "output_type": "stream",
       "stream": "stdout",
       "text": [
        "\r",
        "|\u001b[0;34m==============================\u001b[0m\u001b[0;32m>\u001b[0m----------| 1.7k/2.4k ( 74.79%) ETA 01m35s"
       ]
      },
      {
       "output_type": "stream",
       "stream": "stdout",
       "text": [
        "\r",
        "|\u001b[0;34m==============================\u001b[0m\u001b[0;32m>\u001b[0m----------| 1.7k/2.4k ( 74.83%) ETA 01m35s"
       ]
      },
      {
       "output_type": "stream",
       "stream": "stdout",
       "text": [
        "\r",
        "|\u001b[0;34m==============================\u001b[0m\u001b[0;32m>\u001b[0m----------| 1.7k/2.4k ( 74.88%) ETA 01m34s"
       ]
      },
      {
       "output_type": "stream",
       "stream": "stdout",
       "text": [
        "\r",
        "|\u001b[0;34m==============================\u001b[0m\u001b[0;32m>\u001b[0m----------| 1.7k/2.4k ( 74.92%) ETA 01m34s"
       ]
      },
      {
       "output_type": "stream",
       "stream": "stdout",
       "text": [
        "\r",
        "|\u001b[0;34m==============================\u001b[0m\u001b[0;32m>\u001b[0m----------| 1.7k/2.4k ( 74.96%) ETA 01m34s"
       ]
      },
      {
       "output_type": "stream",
       "stream": "stdout",
       "text": [
        "\r",
        "|\u001b[0;34m==============================\u001b[0m\u001b[0;32m>\u001b[0m----------| 1.8k/2.4k ( 75.00%) ETA 01m34s"
       ]
      },
      {
       "output_type": "stream",
       "stream": "stdout",
       "text": [
        "\r",
        "|\u001b[0;34m==============================\u001b[0m\u001b[0;32m>\u001b[0m----------| 1.8k/2.4k ( 75.04%) ETA 01m34s"
       ]
      },
      {
       "output_type": "stream",
       "stream": "stdout",
       "text": [
        "\r",
        "|\u001b[0;34m==============================\u001b[0m\u001b[0;32m>\u001b[0m----------| 1.8k/2.4k ( 75.08%) ETA 01m34s"
       ]
      },
      {
       "output_type": "stream",
       "stream": "stdout",
       "text": [
        "\r",
        "|\u001b[0;34m==============================\u001b[0m\u001b[0;32m>\u001b[0m----------| 1.8k/2.4k ( 75.12%) ETA 01m34s"
       ]
      },
      {
       "output_type": "stream",
       "stream": "stdout",
       "text": [
        "\r",
        "|\u001b[0;34m==============================\u001b[0m\u001b[0;32m>\u001b[0m----------| 1.8k/2.4k ( 75.17%) ETA 01m33s"
       ]
      },
      {
       "output_type": "stream",
       "stream": "stdout",
       "text": [
        "\r",
        "|\u001b[0;34m==============================\u001b[0m\u001b[0;32m>\u001b[0m----------| 1.8k/2.4k ( 75.21%) ETA 01m33s"
       ]
      },
      {
       "output_type": "stream",
       "stream": "stdout",
       "text": [
        "\r",
        "|\u001b[0;34m==============================\u001b[0m\u001b[0;32m>\u001b[0m----------| 1.8k/2.4k ( 75.25%) ETA 01m33s"
       ]
      },
      {
       "output_type": "stream",
       "stream": "stdout",
       "text": [
        "\r",
        "|\u001b[0;34m==============================\u001b[0m\u001b[0;32m>\u001b[0m----------| 1.8k/2.4k ( 75.29%) ETA 01m33s"
       ]
      },
      {
       "output_type": "stream",
       "stream": "stdout",
       "text": [
        "\r",
        "|\u001b[0;34m==============================\u001b[0m\u001b[0;32m>\u001b[0m----------| 1.8k/2.4k ( 75.33%) ETA 01m33s"
       ]
      },
      {
       "output_type": "stream",
       "stream": "stdout",
       "text": [
        "\r",
        "|\u001b[0;34m==============================\u001b[0m\u001b[0;32m>\u001b[0m----------| 1.8k/2.4k ( 75.38%) ETA 01m33s"
       ]
      },
      {
       "output_type": "stream",
       "stream": "stdout",
       "text": [
        "\r",
        "|\u001b[0;34m==============================\u001b[0m\u001b[0;32m>\u001b[0m----------| 1.8k/2.4k ( 75.42%) ETA 01m32s"
       ]
      },
      {
       "output_type": "stream",
       "stream": "stdout",
       "text": [
        "\r",
        "|\u001b[0;34m==============================\u001b[0m\u001b[0;32m>\u001b[0m----------| 1.8k/2.4k ( 75.46%) ETA 01m32s"
       ]
      },
      {
       "output_type": "stream",
       "stream": "stdout",
       "text": [
        "\r",
        "|\u001b[0;34m==============================\u001b[0m\u001b[0;32m>\u001b[0m----------| 1.8k/2.4k ( 75.50%) ETA 01m32s"
       ]
      },
      {
       "output_type": "stream",
       "stream": "stdout",
       "text": [
        "\r",
        "|\u001b[0;34m==============================\u001b[0m\u001b[0;32m>\u001b[0m----------| 1.8k/2.4k ( 75.54%) ETA 01m32s"
       ]
      },
      {
       "output_type": "stream",
       "stream": "stdout",
       "text": [
        "\r",
        "|\u001b[0;34m==============================\u001b[0m\u001b[0;32m>\u001b[0m----------| 1.8k/2.4k ( 75.58%) ETA 01m32s"
       ]
      },
      {
       "output_type": "stream",
       "stream": "stdout",
       "text": [
        "\r",
        "|\u001b[0;34m===============================\u001b[0m\u001b[0;32m>\u001b[0m---------| 1.8k/2.4k ( 75.62%) ETA 01m32s"
       ]
      },
      {
       "output_type": "stream",
       "stream": "stdout",
       "text": [
        "\r",
        "|\u001b[0;34m===============================\u001b[0m\u001b[0;32m>\u001b[0m---------| 1.8k/2.4k ( 75.67%) ETA 01m31s"
       ]
      },
      {
       "output_type": "stream",
       "stream": "stdout",
       "text": [
        "\r",
        "|\u001b[0;34m===============================\u001b[0m\u001b[0;32m>\u001b[0m---------| 1.8k/2.4k ( 75.71%) ETA 01m31s"
       ]
      },
      {
       "output_type": "stream",
       "stream": "stdout",
       "text": [
        "\r",
        "|\u001b[0;34m===============================\u001b[0m\u001b[0;32m>\u001b[0m---------| 1.8k/2.4k ( 75.75%) ETA 01m31s"
       ]
      },
      {
       "output_type": "stream",
       "stream": "stdout",
       "text": [
        "\r",
        "|\u001b[0;34m===============================\u001b[0m\u001b[0;32m>\u001b[0m---------| 1.8k/2.4k ( 75.79%) ETA 01m31s"
       ]
      },
      {
       "output_type": "stream",
       "stream": "stdout",
       "text": [
        "\r",
        "|\u001b[0;34m===============================\u001b[0m\u001b[0;32m>\u001b[0m---------| 1.8k/2.4k ( 75.83%) ETA 01m31s"
       ]
      },
      {
       "output_type": "stream",
       "stream": "stdout",
       "text": [
        "\r",
        "|\u001b[0;34m===============================\u001b[0m\u001b[0;32m>\u001b[0m---------| 1.8k/2.4k ( 75.88%) ETA 01m31s"
       ]
      },
      {
       "output_type": "stream",
       "stream": "stdout",
       "text": [
        "\r",
        "|\u001b[0;34m===============================\u001b[0m\u001b[0;32m>\u001b[0m---------| 1.8k/2.4k ( 75.92%) ETA 01m31s"
       ]
      },
      {
       "output_type": "stream",
       "stream": "stdout",
       "text": [
        "\r",
        "|\u001b[0;34m===============================\u001b[0m\u001b[0;32m>\u001b[0m---------| 1.8k/2.4k ( 75.96%) ETA 01m30s"
       ]
      },
      {
       "output_type": "stream",
       "stream": "stdout",
       "text": [
        "\r",
        "|\u001b[0;34m===============================\u001b[0m\u001b[0;32m>\u001b[0m---------| 1.8k/2.4k ( 76.00%) ETA 01m30s"
       ]
      },
      {
       "output_type": "stream",
       "stream": "stdout",
       "text": [
        "\r",
        "|\u001b[0;34m===============================\u001b[0m\u001b[0;32m>\u001b[0m---------| 1.8k/2.4k ( 76.04%) ETA 01m30s"
       ]
      },
      {
       "output_type": "stream",
       "stream": "stdout",
       "text": [
        "\r",
        "|\u001b[0;34m===============================\u001b[0m\u001b[0;32m>\u001b[0m---------| 1.8k/2.4k ( 76.08%) ETA 01m30s"
       ]
      },
      {
       "output_type": "stream",
       "stream": "stdout",
       "text": [
        "\r",
        "|\u001b[0;34m===============================\u001b[0m\u001b[0;32m>\u001b[0m---------| 1.8k/2.4k ( 76.12%) ETA 01m30s"
       ]
      },
      {
       "output_type": "stream",
       "stream": "stdout",
       "text": [
        "\r",
        "|\u001b[0;34m===============================\u001b[0m\u001b[0;32m>\u001b[0m---------| 1.8k/2.4k ( 76.17%) ETA 01m30s"
       ]
      },
      {
       "output_type": "stream",
       "stream": "stdout",
       "text": [
        "\r",
        "|\u001b[0;34m===============================\u001b[0m\u001b[0;32m>\u001b[0m---------| 1.8k/2.4k ( 76.21%) ETA 01m29s"
       ]
      },
      {
       "output_type": "stream",
       "stream": "stdout",
       "text": [
        "\r",
        "|\u001b[0;34m===============================\u001b[0m\u001b[0;32m>\u001b[0m---------| 1.8k/2.4k ( 76.25%) ETA 01m29s"
       ]
      },
      {
       "output_type": "stream",
       "stream": "stdout",
       "text": [
        "\r",
        "|\u001b[0;34m===============================\u001b[0m\u001b[0;32m>\u001b[0m---------| 1.8k/2.4k ( 76.29%) ETA 01m29s"
       ]
      },
      {
       "output_type": "stream",
       "stream": "stdout",
       "text": [
        "\r",
        "|\u001b[0;34m===============================\u001b[0m\u001b[0;32m>\u001b[0m---------| 1.8k/2.4k ( 76.33%) ETA 01m29s"
       ]
      },
      {
       "output_type": "stream",
       "stream": "stdout",
       "text": [
        "\r",
        "|\u001b[0;34m===============================\u001b[0m\u001b[0;32m>\u001b[0m---------| 1.8k/2.4k ( 76.38%) ETA 01m29s"
       ]
      },
      {
       "output_type": "stream",
       "stream": "stdout",
       "text": [
        "\r",
        "|\u001b[0;34m===============================\u001b[0m\u001b[0;32m>\u001b[0m---------| 1.8k/2.4k ( 76.42%) ETA 01m29s"
       ]
      },
      {
       "output_type": "stream",
       "stream": "stdout",
       "text": [
        "\r",
        "|\u001b[0;34m===============================\u001b[0m\u001b[0;32m>\u001b[0m---------| 1.8k/2.4k ( 76.46%) ETA 01m28s"
       ]
      },
      {
       "output_type": "stream",
       "stream": "stdout",
       "text": [
        "\r",
        "|\u001b[0;34m===============================\u001b[0m\u001b[0;32m>\u001b[0m---------| 1.8k/2.4k ( 76.50%) ETA 01m28s"
       ]
      },
      {
       "output_type": "stream",
       "stream": "stdout",
       "text": [
        "\r",
        "|\u001b[0;34m===============================\u001b[0m\u001b[0;32m>\u001b[0m---------| 1.8k/2.4k ( 76.54%) ETA 01m28s"
       ]
      },
      {
       "output_type": "stream",
       "stream": "stdout",
       "text": [
        "\r",
        "|\u001b[0;34m===============================\u001b[0m\u001b[0;32m>\u001b[0m---------| 1.8k/2.4k ( 76.58%) ETA 01m28s"
       ]
      },
      {
       "output_type": "stream",
       "stream": "stdout",
       "text": [
        "\r",
        "|\u001b[0;34m===============================\u001b[0m\u001b[0;32m>\u001b[0m---------| 1.8k/2.4k ( 76.62%) ETA 01m28s"
       ]
      },
      {
       "output_type": "stream",
       "stream": "stdout",
       "text": [
        "\r",
        "|\u001b[0;34m===============================\u001b[0m\u001b[0;32m>\u001b[0m---------| 1.8k/2.4k ( 76.67%) ETA 01m28s"
       ]
      },
      {
       "output_type": "stream",
       "stream": "stdout",
       "text": [
        "\r",
        "|\u001b[0;34m===============================\u001b[0m\u001b[0;32m>\u001b[0m---------| 1.8k/2.4k ( 76.71%) ETA 01m28s"
       ]
      },
      {
       "output_type": "stream",
       "stream": "stdout",
       "text": [
        "\r",
        "|\u001b[0;34m===============================\u001b[0m\u001b[0;32m>\u001b[0m---------| 1.8k/2.4k ( 76.75%) ETA 01m27s"
       ]
      },
      {
       "output_type": "stream",
       "stream": "stdout",
       "text": [
        "\r",
        "|\u001b[0;34m===============================\u001b[0m\u001b[0;32m>\u001b[0m---------| 1.8k/2.4k ( 76.79%) ETA 01m27s"
       ]
      },
      {
       "output_type": "stream",
       "stream": "stdout",
       "text": [
        "\r",
        "|\u001b[0;34m===============================\u001b[0m\u001b[0;32m>\u001b[0m---------| 1.8k/2.4k ( 76.83%) ETA 01m27s"
       ]
      },
      {
       "output_type": "stream",
       "stream": "stdout",
       "text": [
        "\r",
        "|\u001b[0;34m===============================\u001b[0m\u001b[0;32m>\u001b[0m---------| 1.8k/2.4k ( 76.88%) ETA 01m27s"
       ]
      },
      {
       "output_type": "stream",
       "stream": "stdout",
       "text": [
        "\r",
        "|\u001b[0;34m===============================\u001b[0m\u001b[0;32m>\u001b[0m---------| 1.8k/2.4k ( 76.92%) ETA 01m27s"
       ]
      },
      {
       "output_type": "stream",
       "stream": "stdout",
       "text": [
        "\r",
        "|\u001b[0;34m===============================\u001b[0m\u001b[0;32m>\u001b[0m---------| 1.8k/2.4k ( 76.96%) ETA 01m27s"
       ]
      },
      {
       "output_type": "stream",
       "stream": "stdout",
       "text": [
        "\r",
        "|\u001b[0;34m===============================\u001b[0m\u001b[0;32m>\u001b[0m---------| 1.8k/2.4k ( 77.00%) ETA 01m26s"
       ]
      },
      {
       "output_type": "stream",
       "stream": "stdout",
       "text": [
        "\r",
        "|\u001b[0;34m===============================\u001b[0m\u001b[0;32m>\u001b[0m---------| 1.8k/2.4k ( 77.04%) ETA 01m26s"
       ]
      },
      {
       "output_type": "stream",
       "stream": "stdout",
       "text": [
        "\r",
        "|\u001b[0;34m===============================\u001b[0m\u001b[0;32m>\u001b[0m---------| 1.8k/2.4k ( 77.08%) ETA 01m26s"
       ]
      },
      {
       "output_type": "stream",
       "stream": "stdout",
       "text": [
        "\r",
        "|\u001b[0;34m===============================\u001b[0m\u001b[0;32m>\u001b[0m---------| 1.8k/2.4k ( 77.12%) ETA 01m26s"
       ]
      },
      {
       "output_type": "stream",
       "stream": "stdout",
       "text": [
        "\r",
        "|\u001b[0;34m===============================\u001b[0m\u001b[0;32m>\u001b[0m---------| 1.8k/2.4k ( 77.17%) ETA 01m26s"
       ]
      },
      {
       "output_type": "stream",
       "stream": "stdout",
       "text": [
        "\r",
        "|\u001b[0;34m===============================\u001b[0m\u001b[0;32m>\u001b[0m---------| 1.8k/2.4k ( 77.21%) ETA 01m26s"
       ]
      },
      {
       "output_type": "stream",
       "stream": "stdout",
       "text": [
        "\r",
        "|\u001b[0;34m===============================\u001b[0m\u001b[0;32m>\u001b[0m---------| 1.8k/2.4k ( 77.25%) ETA 01m26s"
       ]
      },
      {
       "output_type": "stream",
       "stream": "stdout",
       "text": [
        "\r",
        "|\u001b[0;34m===============================\u001b[0m\u001b[0;32m>\u001b[0m---------| 1.8k/2.4k ( 77.29%) ETA 01m25s"
       ]
      },
      {
       "output_type": "stream",
       "stream": "stdout",
       "text": [
        "\r",
        "|\u001b[0;34m===============================\u001b[0m\u001b[0;32m>\u001b[0m---------| 1.8k/2.4k ( 77.33%) ETA 01m25s"
       ]
      },
      {
       "output_type": "stream",
       "stream": "stdout",
       "text": [
        "\r",
        "|\u001b[0;34m===============================\u001b[0m\u001b[0;32m>\u001b[0m---------| 1.8k/2.4k ( 77.38%) ETA 01m25s"
       ]
      },
      {
       "output_type": "stream",
       "stream": "stdout",
       "text": [
        "\r",
        "|\u001b[0;34m===============================\u001b[0m\u001b[0;32m>\u001b[0m---------| 1.8k/2.4k ( 77.42%) ETA 01m25s"
       ]
      },
      {
       "output_type": "stream",
       "stream": "stdout",
       "text": [
        "\r",
        "|\u001b[0;34m===============================\u001b[0m\u001b[0;32m>\u001b[0m---------| 1.8k/2.4k ( 77.46%) ETA 01m25s"
       ]
      },
      {
       "output_type": "stream",
       "stream": "stdout",
       "text": [
        "\r",
        "|\u001b[0;34m===============================\u001b[0m\u001b[0;32m>\u001b[0m---------| 1.8k/2.4k ( 77.50%) ETA 01m25s"
       ]
      },
      {
       "output_type": "stream",
       "stream": "stdout",
       "text": [
        "\r",
        "|\u001b[0;34m===============================\u001b[0m\u001b[0;32m>\u001b[0m---------| 1.8k/2.4k ( 77.54%) ETA 01m24s"
       ]
      },
      {
       "output_type": "stream",
       "stream": "stdout",
       "text": [
        "\r",
        "|\u001b[0;34m===============================\u001b[0m\u001b[0;32m>\u001b[0m---------| 1.8k/2.4k ( 77.58%) ETA 01m24s"
       ]
      },
      {
       "output_type": "stream",
       "stream": "stdout",
       "text": [
        "\r",
        "|\u001b[0;34m===============================\u001b[0m\u001b[0;32m>\u001b[0m---------| 1.8k/2.4k ( 77.62%) ETA 01m24s"
       ]
      },
      {
       "output_type": "stream",
       "stream": "stdout",
       "text": [
        "\r",
        "|\u001b[0;34m===============================\u001b[0m\u001b[0;32m>\u001b[0m---------| 1.8k/2.4k ( 77.67%) ETA 01m24s"
       ]
      },
      {
       "output_type": "stream",
       "stream": "stdout",
       "text": [
        "\r",
        "|\u001b[0;34m===============================\u001b[0m\u001b[0;32m>\u001b[0m---------| 1.8k/2.4k ( 77.71%) ETA 01m24s"
       ]
      },
      {
       "output_type": "stream",
       "stream": "stdout",
       "text": [
        "\r",
        "|\u001b[0;34m===============================\u001b[0m\u001b[0;32m>\u001b[0m---------| 1.8k/2.4k ( 77.75%) ETA 01m24s"
       ]
      },
      {
       "output_type": "stream",
       "stream": "stdout",
       "text": [
        "\r",
        "|\u001b[0;34m===============================\u001b[0m\u001b[0;32m>\u001b[0m---------| 1.8k/2.4k ( 77.79%) ETA 01m23s"
       ]
      },
      {
       "output_type": "stream",
       "stream": "stdout",
       "text": [
        "\r",
        "|\u001b[0;34m===============================\u001b[0m\u001b[0;32m>\u001b[0m---------| 1.8k/2.4k ( 77.83%) ETA 01m23s"
       ]
      },
      {
       "output_type": "stream",
       "stream": "stdout",
       "text": [
        "\r",
        "|\u001b[0;34m===============================\u001b[0m\u001b[0;32m>\u001b[0m---------| 1.8k/2.4k ( 77.88%) ETA 01m23s"
       ]
      },
      {
       "output_type": "stream",
       "stream": "stdout",
       "text": [
        "\r",
        "|\u001b[0;34m===============================\u001b[0m\u001b[0;32m>\u001b[0m---------| 1.8k/2.4k ( 77.92%) ETA 01m23s"
       ]
      },
      {
       "output_type": "stream",
       "stream": "stdout",
       "text": [
        "\r",
        "|\u001b[0;34m===============================\u001b[0m\u001b[0;32m>\u001b[0m---------| 1.8k/2.4k ( 77.96%) ETA 01m23s"
       ]
      },
      {
       "output_type": "stream",
       "stream": "stdout",
       "text": [
        "\r",
        "|\u001b[0;34m===============================\u001b[0m\u001b[0;32m>\u001b[0m---------| 1.8k/2.4k ( 78.00%) ETA 01m23s"
       ]
      },
      {
       "output_type": "stream",
       "stream": "stdout",
       "text": [
        "\r",
        "|\u001b[0;34m===============================\u001b[0m\u001b[0;32m>\u001b[0m---------| 1.8k/2.4k ( 78.04%) ETA 01m23s"
       ]
      },
      {
       "output_type": "stream",
       "stream": "stdout",
       "text": [
        "\r",
        "|\u001b[0;34m================================\u001b[0m\u001b[0;32m>\u001b[0m--------| 1.8k/2.4k ( 78.08%) ETA 01m22s"
       ]
      },
      {
       "output_type": "stream",
       "stream": "stdout",
       "text": [
        "\r",
        "|\u001b[0;34m================================\u001b[0m\u001b[0;32m>\u001b[0m--------| 1.8k/2.4k ( 78.12%) ETA 01m22s"
       ]
      },
      {
       "output_type": "stream",
       "stream": "stdout",
       "text": [
        "\r",
        "|\u001b[0;34m================================\u001b[0m\u001b[0;32m>\u001b[0m--------| 1.8k/2.4k ( 78.17%) ETA 01m22s"
       ]
      },
      {
       "output_type": "stream",
       "stream": "stdout",
       "text": [
        "\r",
        "|\u001b[0;34m================================\u001b[0m\u001b[0;32m>\u001b[0m--------| 1.8k/2.4k ( 78.21%) ETA 01m22s"
       ]
      },
      {
       "output_type": "stream",
       "stream": "stdout",
       "text": [
        "\r",
        "|\u001b[0;34m================================\u001b[0m\u001b[0;32m>\u001b[0m--------| 1.8k/2.4k ( 78.25%) ETA 01m22s"
       ]
      },
      {
       "output_type": "stream",
       "stream": "stdout",
       "text": [
        "\r",
        "|\u001b[0;34m================================\u001b[0m\u001b[0;32m>\u001b[0m--------| 1.8k/2.4k ( 78.29%) ETA 01m22s"
       ]
      },
      {
       "output_type": "stream",
       "stream": "stdout",
       "text": [
        "\r",
        "|\u001b[0;34m================================\u001b[0m\u001b[0;32m>\u001b[0m--------| 1.8k/2.4k ( 78.33%) ETA 01m21s"
       ]
      },
      {
       "output_type": "stream",
       "stream": "stdout",
       "text": [
        "\r",
        "|\u001b[0;34m================================\u001b[0m\u001b[0;32m>\u001b[0m--------| 1.8k/2.4k ( 78.38%) ETA 01m21s"
       ]
      },
      {
       "output_type": "stream",
       "stream": "stdout",
       "text": [
        "\r",
        "|\u001b[0;34m================================\u001b[0m\u001b[0;32m>\u001b[0m--------| 1.8k/2.4k ( 78.42%) ETA 01m21s"
       ]
      },
      {
       "output_type": "stream",
       "stream": "stdout",
       "text": [
        "\r",
        "|\u001b[0;34m================================\u001b[0m\u001b[0;32m>\u001b[0m--------| 1.8k/2.4k ( 78.46%) ETA 01m21s"
       ]
      },
      {
       "output_type": "stream",
       "stream": "stdout",
       "text": [
        "\r",
        "|\u001b[0;34m================================\u001b[0m\u001b[0;32m>\u001b[0m--------| 1.8k/2.4k ( 78.50%) ETA 01m21s"
       ]
      },
      {
       "output_type": "stream",
       "stream": "stdout",
       "text": [
        "\r",
        "|\u001b[0;34m================================\u001b[0m\u001b[0;32m>\u001b[0m--------| 1.8k/2.4k ( 78.54%) ETA 01m21s"
       ]
      },
      {
       "output_type": "stream",
       "stream": "stdout",
       "text": [
        "\r",
        "|\u001b[0;34m================================\u001b[0m\u001b[0;32m>\u001b[0m--------| 1.8k/2.4k ( 78.58%) ETA 01m20s"
       ]
      },
      {
       "output_type": "stream",
       "stream": "stdout",
       "text": [
        "\r",
        "|\u001b[0;34m================================\u001b[0m\u001b[0;32m>\u001b[0m--------| 1.8k/2.4k ( 78.62%) ETA 01m20s"
       ]
      },
      {
       "output_type": "stream",
       "stream": "stdout",
       "text": [
        "\r",
        "|\u001b[0;34m================================\u001b[0m\u001b[0;32m>\u001b[0m--------| 1.8k/2.4k ( 78.67%) ETA 01m20s"
       ]
      },
      {
       "output_type": "stream",
       "stream": "stdout",
       "text": [
        "\r",
        "|\u001b[0;34m================================\u001b[0m\u001b[0;32m>\u001b[0m--------| 1.8k/2.4k ( 78.71%) ETA 01m20s"
       ]
      },
      {
       "output_type": "stream",
       "stream": "stdout",
       "text": [
        "\r",
        "|\u001b[0;34m================================\u001b[0m\u001b[0;32m>\u001b[0m--------| 1.8k/2.4k ( 78.75%) ETA 01m20s"
       ]
      },
      {
       "output_type": "stream",
       "stream": "stdout",
       "text": [
        "\r",
        "|\u001b[0;34m================================\u001b[0m\u001b[0;32m>\u001b[0m--------| 1.8k/2.4k ( 78.79%) ETA 01m20s"
       ]
      },
      {
       "output_type": "stream",
       "stream": "stdout",
       "text": [
        "\r",
        "|\u001b[0;34m================================\u001b[0m\u001b[0;32m>\u001b[0m--------| 1.8k/2.4k ( 78.83%) ETA 01m20s"
       ]
      },
      {
       "output_type": "stream",
       "stream": "stdout",
       "text": [
        "\r",
        "|\u001b[0;34m================================\u001b[0m\u001b[0;32m>\u001b[0m--------| 1.8k/2.4k ( 78.88%) ETA 01m19s"
       ]
      },
      {
       "output_type": "stream",
       "stream": "stdout",
       "text": [
        "\r",
        "|\u001b[0;34m================================\u001b[0m\u001b[0;32m>\u001b[0m--------| 1.8k/2.4k ( 78.92%) ETA 01m19s"
       ]
      },
      {
       "output_type": "stream",
       "stream": "stdout",
       "text": [
        "\r",
        "|\u001b[0;34m================================\u001b[0m\u001b[0;32m>\u001b[0m--------| 1.8k/2.4k ( 78.96%) ETA 01m19s"
       ]
      },
      {
       "output_type": "stream",
       "stream": "stdout",
       "text": [
        "\r",
        "|\u001b[0;34m================================\u001b[0m\u001b[0;32m>\u001b[0m--------| 1.8k/2.4k ( 79.00%) ETA 01m19s"
       ]
      },
      {
       "output_type": "stream",
       "stream": "stdout",
       "text": [
        "\r",
        "|\u001b[0;34m================================\u001b[0m\u001b[0;32m>\u001b[0m--------| 1.8k/2.4k ( 79.04%) ETA 01m19s"
       ]
      },
      {
       "output_type": "stream",
       "stream": "stdout",
       "text": [
        "\r",
        "|\u001b[0;34m================================\u001b[0m\u001b[0;32m>\u001b[0m--------| 1.8k/2.4k ( 79.08%) ETA 01m19s"
       ]
      },
      {
       "output_type": "stream",
       "stream": "stdout",
       "text": [
        "\r",
        "|\u001b[0;34m================================\u001b[0m\u001b[0;32m>\u001b[0m--------| 1.8k/2.4k ( 79.12%) ETA 01m18s"
       ]
      },
      {
       "output_type": "stream",
       "stream": "stdout",
       "text": [
        "\r",
        "|\u001b[0;34m================================\u001b[0m\u001b[0;32m>\u001b[0m--------| 1.9k/2.4k ( 79.17%) ETA 01m18s"
       ]
      },
      {
       "output_type": "stream",
       "stream": "stdout",
       "text": [
        "\r",
        "|\u001b[0;34m================================\u001b[0m\u001b[0;32m>\u001b[0m--------| 1.9k/2.4k ( 79.21%) ETA 01m18s"
       ]
      },
      {
       "output_type": "stream",
       "stream": "stdout",
       "text": [
        "\r",
        "|\u001b[0;34m================================\u001b[0m\u001b[0;32m>\u001b[0m--------| 1.9k/2.4k ( 79.25%) ETA 01m18s"
       ]
      },
      {
       "output_type": "stream",
       "stream": "stdout",
       "text": [
        "\r",
        "|\u001b[0;34m================================\u001b[0m\u001b[0;32m>\u001b[0m--------| 1.9k/2.4k ( 79.29%) ETA 01m18s"
       ]
      },
      {
       "output_type": "stream",
       "stream": "stdout",
       "text": [
        "\r",
        "|\u001b[0;34m================================\u001b[0m\u001b[0;32m>\u001b[0m--------| 1.9k/2.4k ( 79.33%) ETA 01m18s"
       ]
      },
      {
       "output_type": "stream",
       "stream": "stdout",
       "text": [
        "\r",
        "|\u001b[0;34m================================\u001b[0m\u001b[0;32m>\u001b[0m--------| 1.9k/2.4k ( 79.38%) ETA 01m17s"
       ]
      },
      {
       "output_type": "stream",
       "stream": "stdout",
       "text": [
        "\r",
        "|\u001b[0;34m================================\u001b[0m\u001b[0;32m>\u001b[0m--------| 1.9k/2.4k ( 79.42%) ETA 01m17s"
       ]
      },
      {
       "output_type": "stream",
       "stream": "stdout",
       "text": [
        "\r",
        "|\u001b[0;34m================================\u001b[0m\u001b[0;32m>\u001b[0m--------| 1.9k/2.4k ( 79.46%) ETA 01m17s"
       ]
      },
      {
       "output_type": "stream",
       "stream": "stdout",
       "text": [
        "\r",
        "|\u001b[0;34m================================\u001b[0m\u001b[0;32m>\u001b[0m--------| 1.9k/2.4k ( 79.50%) ETA 01m17s"
       ]
      },
      {
       "output_type": "stream",
       "stream": "stdout",
       "text": [
        "\r",
        "|\u001b[0;34m================================\u001b[0m\u001b[0;32m>\u001b[0m--------| 1.9k/2.4k ( 79.54%) ETA 01m17s"
       ]
      },
      {
       "output_type": "stream",
       "stream": "stdout",
       "text": [
        "\r",
        "|\u001b[0;34m================================\u001b[0m\u001b[0;32m>\u001b[0m--------| 1.9k/2.4k ( 79.58%) ETA 01m17s"
       ]
      },
      {
       "output_type": "stream",
       "stream": "stdout",
       "text": [
        "\r",
        "|\u001b[0;34m================================\u001b[0m\u001b[0;32m>\u001b[0m--------| 1.9k/2.4k ( 79.62%) ETA 01m17s"
       ]
      },
      {
       "output_type": "stream",
       "stream": "stdout",
       "text": [
        "\r",
        "|\u001b[0;34m================================\u001b[0m\u001b[0;32m>\u001b[0m--------| 1.9k/2.4k ( 79.67%) ETA 01m16s"
       ]
      },
      {
       "output_type": "stream",
       "stream": "stdout",
       "text": [
        "\r",
        "|\u001b[0;34m================================\u001b[0m\u001b[0;32m>\u001b[0m--------| 1.9k/2.4k ( 79.71%) ETA 01m16s"
       ]
      },
      {
       "output_type": "stream",
       "stream": "stdout",
       "text": [
        "\r",
        "|\u001b[0;34m================================\u001b[0m\u001b[0;32m>\u001b[0m--------| 1.9k/2.4k ( 79.75%) ETA 01m16s"
       ]
      },
      {
       "output_type": "stream",
       "stream": "stdout",
       "text": [
        "\r",
        "|\u001b[0;34m================================\u001b[0m\u001b[0;32m>\u001b[0m--------| 1.9k/2.4k ( 79.79%) ETA 01m16s"
       ]
      },
      {
       "output_type": "stream",
       "stream": "stdout",
       "text": [
        "\r",
        "|\u001b[0;34m================================\u001b[0m\u001b[0;32m>\u001b[0m--------| 1.9k/2.4k ( 79.83%) ETA 01m16s"
       ]
      },
      {
       "output_type": "stream",
       "stream": "stdout",
       "text": [
        "\r",
        "|\u001b[0;34m================================\u001b[0m\u001b[0;32m>\u001b[0m--------| 1.9k/2.4k ( 79.88%) ETA 01m16s"
       ]
      },
      {
       "output_type": "stream",
       "stream": "stdout",
       "text": [
        "\r",
        "|\u001b[0;34m================================\u001b[0m\u001b[0;32m>\u001b[0m--------| 1.9k/2.4k ( 79.92%) ETA 01m15s"
       ]
      },
      {
       "output_type": "stream",
       "stream": "stdout",
       "text": [
        "\r",
        "|\u001b[0;34m================================\u001b[0m\u001b[0;32m>\u001b[0m--------| 1.9k/2.4k ( 79.96%) ETA 01m15s"
       ]
      },
      {
       "output_type": "stream",
       "stream": "stdout",
       "text": [
        "\r",
        "|\u001b[0;34m================================\u001b[0m\u001b[0;32m>\u001b[0m--------| 1.9k/2.4k ( 80.00%) ETA 01m15s"
       ]
      },
      {
       "output_type": "stream",
       "stream": "stdout",
       "text": [
        "\r",
        "|\u001b[0;34m================================\u001b[0m\u001b[0;32m>\u001b[0m--------| 1.9k/2.4k ( 80.04%) ETA 01m15s"
       ]
      },
      {
       "output_type": "stream",
       "stream": "stdout",
       "text": [
        "\r",
        "|\u001b[0;34m================================\u001b[0m\u001b[0;32m>\u001b[0m--------| 1.9k/2.4k ( 80.08%) ETA 01m15s"
       ]
      },
      {
       "output_type": "stream",
       "stream": "stdout",
       "text": [
        "\r",
        "|\u001b[0;34m================================\u001b[0m\u001b[0;32m>\u001b[0m--------| 1.9k/2.4k ( 80.12%) ETA 01m15s"
       ]
      },
      {
       "output_type": "stream",
       "stream": "stdout",
       "text": [
        "\r",
        "|\u001b[0;34m================================\u001b[0m\u001b[0;32m>\u001b[0m--------| 1.9k/2.4k ( 80.17%) ETA 01m14s"
       ]
      },
      {
       "output_type": "stream",
       "stream": "stdout",
       "text": [
        "\r",
        "|\u001b[0;34m================================\u001b[0m\u001b[0;32m>\u001b[0m--------| 1.9k/2.4k ( 80.21%) ETA 01m14s"
       ]
      },
      {
       "output_type": "stream",
       "stream": "stdout",
       "text": [
        "\r",
        "|\u001b[0;34m================================\u001b[0m\u001b[0;32m>\u001b[0m--------| 1.9k/2.4k ( 80.25%) ETA 01m14s"
       ]
      },
      {
       "output_type": "stream",
       "stream": "stdout",
       "text": [
        "\r",
        "|\u001b[0;34m================================\u001b[0m\u001b[0;32m>\u001b[0m--------| 1.9k/2.4k ( 80.29%) ETA 01m14s"
       ]
      },
      {
       "output_type": "stream",
       "stream": "stdout",
       "text": [
        "\r",
        "|\u001b[0;34m================================\u001b[0m\u001b[0;32m>\u001b[0m--------| 1.9k/2.4k ( 80.33%) ETA 01m14s"
       ]
      },
      {
       "output_type": "stream",
       "stream": "stdout",
       "text": [
        "\r",
        "|\u001b[0;34m================================\u001b[0m\u001b[0;32m>\u001b[0m--------| 1.9k/2.4k ( 80.38%) ETA 01m14s"
       ]
      },
      {
       "output_type": "stream",
       "stream": "stdout",
       "text": [
        "\r",
        "|\u001b[0;34m================================\u001b[0m\u001b[0;32m>\u001b[0m--------| 1.9k/2.4k ( 80.42%) ETA 01m14s"
       ]
      },
      {
       "output_type": "stream",
       "stream": "stdout",
       "text": [
        "\r",
        "|\u001b[0;34m================================\u001b[0m\u001b[0;32m>\u001b[0m--------| 1.9k/2.4k ( 80.46%) ETA 01m13s"
       ]
      },
      {
       "output_type": "stream",
       "stream": "stdout",
       "text": [
        "\r",
        "|\u001b[0;34m=================================\u001b[0m\u001b[0;32m>\u001b[0m-------| 1.9k/2.4k ( 80.50%) ETA 01m13s"
       ]
      },
      {
       "output_type": "stream",
       "stream": "stdout",
       "text": [
        "\r",
        "|\u001b[0;34m=================================\u001b[0m\u001b[0;32m>\u001b[0m-------| 1.9k/2.4k ( 80.54%) ETA 01m13s"
       ]
      },
      {
       "output_type": "stream",
       "stream": "stdout",
       "text": [
        "\r",
        "|\u001b[0;34m=================================\u001b[0m\u001b[0;32m>\u001b[0m-------| 1.9k/2.4k ( 80.58%) ETA 01m13s"
       ]
      },
      {
       "output_type": "stream",
       "stream": "stdout",
       "text": [
        "\r",
        "|\u001b[0;34m=================================\u001b[0m\u001b[0;32m>\u001b[0m-------| 1.9k/2.4k ( 80.62%) ETA 01m13s"
       ]
      },
      {
       "output_type": "stream",
       "stream": "stdout",
       "text": [
        "\r",
        "|\u001b[0;34m=================================\u001b[0m\u001b[0;32m>\u001b[0m-------| 1.9k/2.4k ( 80.67%) ETA 01m13s"
       ]
      },
      {
       "output_type": "stream",
       "stream": "stdout",
       "text": [
        "\r",
        "|\u001b[0;34m=================================\u001b[0m\u001b[0;32m>\u001b[0m-------| 1.9k/2.4k ( 80.71%) ETA 01m12s"
       ]
      },
      {
       "output_type": "stream",
       "stream": "stdout",
       "text": [
        "\r",
        "|\u001b[0;34m=================================\u001b[0m\u001b[0;32m>\u001b[0m-------| 1.9k/2.4k ( 80.75%) ETA 01m12s"
       ]
      },
      {
       "output_type": "stream",
       "stream": "stdout",
       "text": [
        "\r",
        "|\u001b[0;34m=================================\u001b[0m\u001b[0;32m>\u001b[0m-------| 1.9k/2.4k ( 80.79%) ETA 01m12s"
       ]
      },
      {
       "output_type": "stream",
       "stream": "stdout",
       "text": [
        "\r",
        "|\u001b[0;34m=================================\u001b[0m\u001b[0;32m>\u001b[0m-------| 1.9k/2.4k ( 80.83%) ETA 01m12s"
       ]
      },
      {
       "output_type": "stream",
       "stream": "stdout",
       "text": [
        "\r",
        "|\u001b[0;34m=================================\u001b[0m\u001b[0;32m>\u001b[0m-------| 1.9k/2.4k ( 80.88%) ETA 01m12s"
       ]
      },
      {
       "output_type": "stream",
       "stream": "stdout",
       "text": [
        "\r",
        "|\u001b[0;34m=================================\u001b[0m\u001b[0;32m>\u001b[0m-------| 1.9k/2.4k ( 80.92%) ETA 01m12s"
       ]
      },
      {
       "output_type": "stream",
       "stream": "stdout",
       "text": [
        "\r",
        "|\u001b[0;34m=================================\u001b[0m\u001b[0;32m>\u001b[0m-------| 1.9k/2.4k ( 80.96%) ETA 01m12s"
       ]
      },
      {
       "output_type": "stream",
       "stream": "stdout",
       "text": [
        "\r",
        "|\u001b[0;34m=================================\u001b[0m\u001b[0;32m>\u001b[0m-------| 1.9k/2.4k ( 81.00%) ETA 01m11s"
       ]
      },
      {
       "output_type": "stream",
       "stream": "stdout",
       "text": [
        "\r",
        "|\u001b[0;34m=================================\u001b[0m\u001b[0;32m>\u001b[0m-------| 1.9k/2.4k ( 81.04%) ETA 01m11s"
       ]
      },
      {
       "output_type": "stream",
       "stream": "stdout",
       "text": [
        "\r",
        "|\u001b[0;34m=================================\u001b[0m\u001b[0;32m>\u001b[0m-------| 1.9k/2.4k ( 81.08%) ETA 01m11s"
       ]
      },
      {
       "output_type": "stream",
       "stream": "stdout",
       "text": [
        "\r",
        "|\u001b[0;34m=================================\u001b[0m\u001b[0;32m>\u001b[0m-------| 1.9k/2.4k ( 81.12%) ETA 01m11s"
       ]
      },
      {
       "output_type": "stream",
       "stream": "stdout",
       "text": [
        "\r",
        "|\u001b[0;34m=================================\u001b[0m\u001b[0;32m>\u001b[0m-------| 1.9k/2.4k ( 81.17%) ETA 01m11s"
       ]
      },
      {
       "output_type": "stream",
       "stream": "stdout",
       "text": [
        "\r",
        "|\u001b[0;34m=================================\u001b[0m\u001b[0;32m>\u001b[0m-------| 1.9k/2.4k ( 81.21%) ETA 01m11s"
       ]
      },
      {
       "output_type": "stream",
       "stream": "stdout",
       "text": [
        "\r",
        "|\u001b[0;34m=================================\u001b[0m\u001b[0;32m>\u001b[0m-------| 1.9k/2.4k ( 81.25%) ETA 01m10s"
       ]
      },
      {
       "output_type": "stream",
       "stream": "stdout",
       "text": [
        "\r",
        "|\u001b[0;34m=================================\u001b[0m\u001b[0;32m>\u001b[0m-------| 1.9k/2.4k ( 81.29%) ETA 01m10s"
       ]
      },
      {
       "output_type": "stream",
       "stream": "stdout",
       "text": [
        "\r",
        "|\u001b[0;34m=================================\u001b[0m\u001b[0;32m>\u001b[0m-------| 1.9k/2.4k ( 81.33%) ETA 01m10s"
       ]
      },
      {
       "output_type": "stream",
       "stream": "stdout",
       "text": [
        "\r",
        "|\u001b[0;34m=================================\u001b[0m\u001b[0;32m>\u001b[0m-------| 1.9k/2.4k ( 81.38%) ETA 01m10s"
       ]
      },
      {
       "output_type": "stream",
       "stream": "stdout",
       "text": [
        "\r",
        "|\u001b[0;34m=================================\u001b[0m\u001b[0;32m>\u001b[0m-------| 1.9k/2.4k ( 81.42%) ETA 01m10s"
       ]
      },
      {
       "output_type": "stream",
       "stream": "stdout",
       "text": [
        "\r",
        "|\u001b[0;34m=================================\u001b[0m\u001b[0;32m>\u001b[0m-------| 1.9k/2.4k ( 81.46%) ETA 01m10s"
       ]
      },
      {
       "output_type": "stream",
       "stream": "stdout",
       "text": [
        "\r",
        "|\u001b[0;34m=================================\u001b[0m\u001b[0;32m>\u001b[0m-------| 1.9k/2.4k ( 81.50%) ETA 01m09s"
       ]
      },
      {
       "output_type": "stream",
       "stream": "stdout",
       "text": [
        "\r",
        "|\u001b[0;34m=================================\u001b[0m\u001b[0;32m>\u001b[0m-------| 1.9k/2.4k ( 81.54%) ETA 01m09s"
       ]
      },
      {
       "output_type": "stream",
       "stream": "stdout",
       "text": [
        "\r",
        "|\u001b[0;34m=================================\u001b[0m\u001b[0;32m>\u001b[0m-------| 1.9k/2.4k ( 81.58%) ETA 01m09s"
       ]
      },
      {
       "output_type": "stream",
       "stream": "stdout",
       "text": [
        "\r",
        "|\u001b[0;34m=================================\u001b[0m\u001b[0;32m>\u001b[0m-------| 1.9k/2.4k ( 81.62%) ETA 01m09s"
       ]
      },
      {
       "output_type": "stream",
       "stream": "stdout",
       "text": [
        "\r",
        "|\u001b[0;34m=================================\u001b[0m\u001b[0;32m>\u001b[0m-------| 1.9k/2.4k ( 81.67%) ETA 01m09s"
       ]
      },
      {
       "output_type": "stream",
       "stream": "stdout",
       "text": [
        "\r",
        "|\u001b[0;34m=================================\u001b[0m\u001b[0;32m>\u001b[0m-------| 1.9k/2.4k ( 81.71%) ETA 01m09s"
       ]
      },
      {
       "output_type": "stream",
       "stream": "stdout",
       "text": [
        "\r",
        "|\u001b[0;34m=================================\u001b[0m\u001b[0;32m>\u001b[0m-------| 1.9k/2.4k ( 81.75%) ETA 01m09s"
       ]
      },
      {
       "output_type": "stream",
       "stream": "stdout",
       "text": [
        "\r",
        "|\u001b[0;34m=================================\u001b[0m\u001b[0;32m>\u001b[0m-------| 1.9k/2.4k ( 81.79%) ETA 01m08s"
       ]
      },
      {
       "output_type": "stream",
       "stream": "stdout",
       "text": [
        "\r",
        "|\u001b[0;34m=================================\u001b[0m\u001b[0;32m>\u001b[0m-------| 1.9k/2.4k ( 81.83%) ETA 01m08s"
       ]
      },
      {
       "output_type": "stream",
       "stream": "stdout",
       "text": [
        "\r",
        "|\u001b[0;34m=================================\u001b[0m\u001b[0;32m>\u001b[0m-------| 1.9k/2.4k ( 81.88%) ETA 01m08s"
       ]
      },
      {
       "output_type": "stream",
       "stream": "stdout",
       "text": [
        "\r",
        "|\u001b[0;34m=================================\u001b[0m\u001b[0;32m>\u001b[0m-------| 1.9k/2.4k ( 81.92%) ETA 01m08s"
       ]
      },
      {
       "output_type": "stream",
       "stream": "stdout",
       "text": [
        "\r",
        "|\u001b[0;34m=================================\u001b[0m\u001b[0;32m>\u001b[0m-------| 1.9k/2.4k ( 81.96%) ETA 01m08s"
       ]
      },
      {
       "output_type": "stream",
       "stream": "stdout",
       "text": [
        "\r",
        "|\u001b[0;34m=================================\u001b[0m\u001b[0;32m>\u001b[0m-------| 1.9k/2.4k ( 82.00%) ETA 01m08s"
       ]
      },
      {
       "output_type": "stream",
       "stream": "stdout",
       "text": [
        "\r",
        "|\u001b[0;34m=================================\u001b[0m\u001b[0;32m>\u001b[0m-------| 1.9k/2.4k ( 82.04%) ETA 01m07s"
       ]
      },
      {
       "output_type": "stream",
       "stream": "stdout",
       "text": [
        "\r",
        "|\u001b[0;34m=================================\u001b[0m\u001b[0;32m>\u001b[0m-------| 1.9k/2.4k ( 82.08%) ETA 01m07s"
       ]
      },
      {
       "output_type": "stream",
       "stream": "stdout",
       "text": [
        "\r",
        "|\u001b[0;34m=================================\u001b[0m\u001b[0;32m>\u001b[0m-------| 1.9k/2.4k ( 82.12%) ETA 01m07s"
       ]
      },
      {
       "output_type": "stream",
       "stream": "stdout",
       "text": [
        "\r",
        "|\u001b[0;34m=================================\u001b[0m\u001b[0;32m>\u001b[0m-------| 1.9k/2.4k ( 82.17%) ETA 01m07s"
       ]
      },
      {
       "output_type": "stream",
       "stream": "stdout",
       "text": [
        "\r",
        "|\u001b[0;34m=================================\u001b[0m\u001b[0;32m>\u001b[0m-------| 1.9k/2.4k ( 82.21%) ETA 01m07s"
       ]
      },
      {
       "output_type": "stream",
       "stream": "stdout",
       "text": [
        "\r",
        "|\u001b[0;34m=================================\u001b[0m\u001b[0;32m>\u001b[0m-------| 1.9k/2.4k ( 82.25%) ETA 01m07s"
       ]
      },
      {
       "output_type": "stream",
       "stream": "stdout",
       "text": [
        "\r",
        "|\u001b[0;34m=================================\u001b[0m\u001b[0;32m>\u001b[0m-------| 1.9k/2.4k ( 82.29%) ETA 01m06s"
       ]
      },
      {
       "output_type": "stream",
       "stream": "stdout",
       "text": [
        "\r",
        "|\u001b[0;34m=================================\u001b[0m\u001b[0;32m>\u001b[0m-------| 1.9k/2.4k ( 82.33%) ETA 01m06s"
       ]
      },
      {
       "output_type": "stream",
       "stream": "stdout",
       "text": [
        "\r",
        "|\u001b[0;34m=================================\u001b[0m\u001b[0;32m>\u001b[0m-------| 1.9k/2.4k ( 82.38%) ETA 01m06s"
       ]
      },
      {
       "output_type": "stream",
       "stream": "stdout",
       "text": [
        "\r",
        "|\u001b[0;34m=================================\u001b[0m\u001b[0;32m>\u001b[0m-------| 1.9k/2.4k ( 82.42%) ETA 01m06s"
       ]
      },
      {
       "output_type": "stream",
       "stream": "stdout",
       "text": [
        "\r",
        "|\u001b[0;34m=================================\u001b[0m\u001b[0;32m>\u001b[0m-------| 1.9k/2.4k ( 82.46%) ETA 01m06s"
       ]
      },
      {
       "output_type": "stream",
       "stream": "stdout",
       "text": [
        "\r",
        "|\u001b[0;34m=================================\u001b[0m\u001b[0;32m>\u001b[0m-------| 1.9k/2.4k ( 82.50%) ETA 01m06s"
       ]
      },
      {
       "output_type": "stream",
       "stream": "stdout",
       "text": [
        "\r",
        "|\u001b[0;34m=================================\u001b[0m\u001b[0;32m>\u001b[0m-------| 1.9k/2.4k ( 82.54%) ETA 01m06s"
       ]
      },
      {
       "output_type": "stream",
       "stream": "stdout",
       "text": [
        "\r",
        "|\u001b[0;34m=================================\u001b[0m\u001b[0;32m>\u001b[0m-------| 1.9k/2.4k ( 82.58%) ETA 01m05s"
       ]
      },
      {
       "output_type": "stream",
       "stream": "stdout",
       "text": [
        "\r",
        "|\u001b[0;34m=================================\u001b[0m\u001b[0;32m>\u001b[0m-------| 1.9k/2.4k ( 82.62%) ETA 01m05s"
       ]
      },
      {
       "output_type": "stream",
       "stream": "stdout",
       "text": [
        "\r",
        "|\u001b[0;34m=================================\u001b[0m\u001b[0;32m>\u001b[0m-------| 1.9k/2.4k ( 82.67%) ETA 01m05s"
       ]
      },
      {
       "output_type": "stream",
       "stream": "stdout",
       "text": [
        "\r",
        "|\u001b[0;34m=================================\u001b[0m\u001b[0;32m>\u001b[0m-------| 1.9k/2.4k ( 82.71%) ETA 01m05s"
       ]
      },
      {
       "output_type": "stream",
       "stream": "stdout",
       "text": [
        "\r",
        "|\u001b[0;34m=================================\u001b[0m\u001b[0;32m>\u001b[0m-------| 1.9k/2.4k ( 82.75%) ETA 01m05s"
       ]
      },
      {
       "output_type": "stream",
       "stream": "stdout",
       "text": [
        "\r",
        "|\u001b[0;34m=================================\u001b[0m\u001b[0;32m>\u001b[0m-------| 1.9k/2.4k ( 82.79%) ETA 01m05s"
       ]
      },
      {
       "output_type": "stream",
       "stream": "stdout",
       "text": [
        "\r",
        "|\u001b[0;34m=================================\u001b[0m\u001b[0;32m>\u001b[0m-------| 1.9k/2.4k ( 82.83%) ETA 01m04s"
       ]
      },
      {
       "output_type": "stream",
       "stream": "stdout",
       "text": [
        "\r",
        "|\u001b[0;34m=================================\u001b[0m\u001b[0;32m>\u001b[0m-------| 1.9k/2.4k ( 82.88%) ETA 01m04s"
       ]
      },
      {
       "output_type": "stream",
       "stream": "stdout",
       "text": [
        "\r",
        "|\u001b[0;34m=================================\u001b[0m\u001b[0;32m>\u001b[0m-------| 1.9k/2.4k ( 82.92%) ETA 01m04s"
       ]
      },
      {
       "output_type": "stream",
       "stream": "stdout",
       "text": [
        "\r",
        "|\u001b[0;34m==================================\u001b[0m\u001b[0;32m>\u001b[0m------| 1.9k/2.4k ( 82.96%) ETA 01m04s"
       ]
      },
      {
       "output_type": "stream",
       "stream": "stdout",
       "text": [
        "\r",
        "|\u001b[0;34m==================================\u001b[0m\u001b[0;32m>\u001b[0m------| 1.9k/2.4k ( 83.00%) ETA 01m04s"
       ]
      },
      {
       "output_type": "stream",
       "stream": "stdout",
       "text": [
        "\r",
        "|\u001b[0;34m==================================\u001b[0m\u001b[0;32m>\u001b[0m------| 1.9k/2.4k ( 83.04%) ETA 01m04s"
       ]
      },
      {
       "output_type": "stream",
       "stream": "stdout",
       "text": [
        "\r",
        "|\u001b[0;34m==================================\u001b[0m\u001b[0;32m>\u001b[0m------| 1.9k/2.4k ( 83.08%) ETA 01m03s"
       ]
      },
      {
       "output_type": "stream",
       "stream": "stdout",
       "text": [
        "\r",
        "|\u001b[0;34m==================================\u001b[0m\u001b[0;32m>\u001b[0m------| 1.9k/2.4k ( 83.12%) ETA 01m03s"
       ]
      },
      {
       "output_type": "stream",
       "stream": "stdout",
       "text": [
        "\r",
        "|\u001b[0;34m==================================\u001b[0m\u001b[0;32m>\u001b[0m------| 1.9k/2.4k ( 83.17%) ETA 01m03s"
       ]
      },
      {
       "output_type": "stream",
       "stream": "stdout",
       "text": [
        "\r",
        "|\u001b[0;34m==================================\u001b[0m\u001b[0;32m>\u001b[0m------| 1.9k/2.4k ( 83.21%) ETA 01m03s"
       ]
      },
      {
       "output_type": "stream",
       "stream": "stdout",
       "text": [
        "\r",
        "|\u001b[0;34m==================================\u001b[0m\u001b[0;32m>\u001b[0m------| 1.9k/2.4k ( 83.25%) ETA 01m03s"
       ]
      },
      {
       "output_type": "stream",
       "stream": "stdout",
       "text": [
        "\r",
        "|\u001b[0;34m==================================\u001b[0m\u001b[0;32m>\u001b[0m------| 1.9k/2.4k ( 83.29%) ETA 01m03s"
       ]
      },
      {
       "output_type": "stream",
       "stream": "stdout",
       "text": [
        "\r",
        "|\u001b[0;34m==================================\u001b[0m\u001b[0;32m>\u001b[0m------| 2.0k/2.4k ( 83.33%) ETA 01m03s"
       ]
      },
      {
       "output_type": "stream",
       "stream": "stdout",
       "text": [
        "\r",
        "|\u001b[0;34m==================================\u001b[0m\u001b[0;32m>\u001b[0m------| 2.0k/2.4k ( 83.38%) ETA 01m02s"
       ]
      },
      {
       "output_type": "stream",
       "stream": "stdout",
       "text": [
        "\r",
        "|\u001b[0;34m==================================\u001b[0m\u001b[0;32m>\u001b[0m------| 2.0k/2.4k ( 83.42%) ETA 01m02s"
       ]
      },
      {
       "output_type": "stream",
       "stream": "stdout",
       "text": [
        "\r",
        "|\u001b[0;34m==================================\u001b[0m\u001b[0;32m>\u001b[0m------| 2.0k/2.4k ( 83.46%) ETA 01m02s"
       ]
      },
      {
       "output_type": "stream",
       "stream": "stdout",
       "text": [
        "\r",
        "|\u001b[0;34m==================================\u001b[0m\u001b[0;32m>\u001b[0m------| 2.0k/2.4k ( 83.50%) ETA 01m02s"
       ]
      },
      {
       "output_type": "stream",
       "stream": "stdout",
       "text": [
        "\r",
        "|\u001b[0;34m==================================\u001b[0m\u001b[0;32m>\u001b[0m------| 2.0k/2.4k ( 83.54%) ETA 01m02s"
       ]
      },
      {
       "output_type": "stream",
       "stream": "stdout",
       "text": [
        "\r",
        "|\u001b[0;34m==================================\u001b[0m\u001b[0;32m>\u001b[0m------| 2.0k/2.4k ( 83.58%) ETA 01m02s"
       ]
      },
      {
       "output_type": "stream",
       "stream": "stdout",
       "text": [
        "\r",
        "|\u001b[0;34m==================================\u001b[0m\u001b[0;32m>\u001b[0m------| 2.0k/2.4k ( 83.62%) ETA 01m01s"
       ]
      },
      {
       "output_type": "stream",
       "stream": "stdout",
       "text": [
        "\r",
        "|\u001b[0;34m==================================\u001b[0m\u001b[0;32m>\u001b[0m------| 2.0k/2.4k ( 83.67%) ETA 01m01s"
       ]
      },
      {
       "output_type": "stream",
       "stream": "stdout",
       "text": [
        "\r",
        "|\u001b[0;34m==================================\u001b[0m\u001b[0;32m>\u001b[0m------| 2.0k/2.4k ( 83.71%) ETA 01m01s"
       ]
      },
      {
       "output_type": "stream",
       "stream": "stdout",
       "text": [
        "\r",
        "|\u001b[0;34m==================================\u001b[0m\u001b[0;32m>\u001b[0m------| 2.0k/2.4k ( 83.75%) ETA 01m01s"
       ]
      },
      {
       "output_type": "stream",
       "stream": "stdout",
       "text": [
        "\r",
        "|\u001b[0;34m==================================\u001b[0m\u001b[0;32m>\u001b[0m------| 2.0k/2.4k ( 83.79%) ETA 01m01s"
       ]
      },
      {
       "output_type": "stream",
       "stream": "stdout",
       "text": [
        "\r",
        "|\u001b[0;34m==================================\u001b[0m\u001b[0;32m>\u001b[0m------| 2.0k/2.4k ( 83.83%) ETA 01m01s"
       ]
      },
      {
       "output_type": "stream",
       "stream": "stdout",
       "text": [
        "\r",
        "|\u001b[0;34m==================================\u001b[0m\u001b[0;32m>\u001b[0m------| 2.0k/2.4k ( 83.88%) ETA 01m00s"
       ]
      },
      {
       "output_type": "stream",
       "stream": "stdout",
       "text": [
        "\r",
        "|\u001b[0;34m==================================\u001b[0m\u001b[0;32m>\u001b[0m------| 2.0k/2.4k ( 83.92%) ETA 01m00s"
       ]
      },
      {
       "output_type": "stream",
       "stream": "stdout",
       "text": [
        "\r",
        "|\u001b[0;34m==================================\u001b[0m\u001b[0;32m>\u001b[0m------| 2.0k/2.4k ( 83.96%) ETA 01m00s"
       ]
      },
      {
       "output_type": "stream",
       "stream": "stdout",
       "text": [
        "\r",
        "|\u001b[0;34m==================================\u001b[0m\u001b[0;32m>\u001b[0m------| 2.0k/2.4k ( 84.00%) ETA 01m00s"
       ]
      },
      {
       "output_type": "stream",
       "stream": "stdout",
       "text": [
        "\r",
        "|\u001b[0;34m==================================\u001b[0m\u001b[0;32m>\u001b[0m------| 2.0k/2.4k ( 84.04%) ETA 01m00s"
       ]
      },
      {
       "output_type": "stream",
       "stream": "stdout",
       "text": [
        "\r",
        "|\u001b[0;34m==================================\u001b[0m\u001b[0;32m>\u001b[0m------| 2.0k/2.4k ( 84.08%) ETA 01m00s"
       ]
      },
      {
       "output_type": "stream",
       "stream": "stdout",
       "text": [
        "\r",
        "|\u001b[0;34m==================================\u001b[0m\u001b[0;32m>\u001b[0m------| 2.0k/2.4k ( 84.12%) ETA 01m00s"
       ]
      },
      {
       "output_type": "stream",
       "stream": "stdout",
       "text": [
        "\r",
        "|\u001b[0;34m==================================\u001b[0m\u001b[0;32m>\u001b[0m------| 2.0k/2.4k ( 84.17%) ETA    59s"
       ]
      },
      {
       "output_type": "stream",
       "stream": "stdout",
       "text": [
        "\r",
        "|\u001b[0;34m==================================\u001b[0m\u001b[0;32m>\u001b[0m------| 2.0k/2.4k ( 84.21%) ETA    59s"
       ]
      },
      {
       "output_type": "stream",
       "stream": "stdout",
       "text": [
        "\r",
        "|\u001b[0;34m==================================\u001b[0m\u001b[0;32m>\u001b[0m------| 2.0k/2.4k ( 84.25%) ETA    59s"
       ]
      },
      {
       "output_type": "stream",
       "stream": "stdout",
       "text": [
        "\r",
        "|\u001b[0;34m==================================\u001b[0m\u001b[0;32m>\u001b[0m------| 2.0k/2.4k ( 84.29%) ETA    59s"
       ]
      },
      {
       "output_type": "stream",
       "stream": "stdout",
       "text": [
        "\r",
        "|\u001b[0;34m==================================\u001b[0m\u001b[0;32m>\u001b[0m------| 2.0k/2.4k ( 84.33%) ETA    59s"
       ]
      },
      {
       "output_type": "stream",
       "stream": "stdout",
       "text": [
        "\r",
        "|\u001b[0;34m==================================\u001b[0m\u001b[0;32m>\u001b[0m------| 2.0k/2.4k ( 84.38%) ETA    59s"
       ]
      },
      {
       "output_type": "stream",
       "stream": "stdout",
       "text": [
        "\r",
        "|\u001b[0;34m==================================\u001b[0m\u001b[0;32m>\u001b[0m------| 2.0k/2.4k ( 84.42%) ETA    58s"
       ]
      },
      {
       "output_type": "stream",
       "stream": "stdout",
       "text": [
        "\r",
        "|\u001b[0;34m==================================\u001b[0m\u001b[0;32m>\u001b[0m------| 2.0k/2.4k ( 84.46%) ETA    58s"
       ]
      },
      {
       "output_type": "stream",
       "stream": "stdout",
       "text": [
        "\r",
        "|\u001b[0;34m==================================\u001b[0m\u001b[0;32m>\u001b[0m------| 2.0k/2.4k ( 84.50%) ETA    58s"
       ]
      },
      {
       "output_type": "stream",
       "stream": "stdout",
       "text": [
        "\r",
        "|\u001b[0;34m==================================\u001b[0m\u001b[0;32m>\u001b[0m------| 2.0k/2.4k ( 84.54%) ETA    58s"
       ]
      },
      {
       "output_type": "stream",
       "stream": "stdout",
       "text": [
        "\r",
        "|\u001b[0;34m==================================\u001b[0m\u001b[0;32m>\u001b[0m------| 2.0k/2.4k ( 84.58%) ETA    58s"
       ]
      },
      {
       "output_type": "stream",
       "stream": "stdout",
       "text": [
        "\r",
        "|\u001b[0;34m==================================\u001b[0m\u001b[0;32m>\u001b[0m------| 2.0k/2.4k ( 84.62%) ETA    58s"
       ]
      },
      {
       "output_type": "stream",
       "stream": "stdout",
       "text": [
        "\r",
        "|\u001b[0;34m==================================\u001b[0m\u001b[0;32m>\u001b[0m------| 2.0k/2.4k ( 84.67%) ETA    57s"
       ]
      },
      {
       "output_type": "stream",
       "stream": "stdout",
       "text": [
        "\r",
        "|\u001b[0;34m==================================\u001b[0m\u001b[0;32m>\u001b[0m------| 2.0k/2.4k ( 84.71%) ETA    57s"
       ]
      },
      {
       "output_type": "stream",
       "stream": "stdout",
       "text": [
        "\r",
        "|\u001b[0;34m==================================\u001b[0m\u001b[0;32m>\u001b[0m------| 2.0k/2.4k ( 84.75%) ETA    57s"
       ]
      },
      {
       "output_type": "stream",
       "stream": "stdout",
       "text": [
        "\r",
        "|\u001b[0;34m==================================\u001b[0m\u001b[0;32m>\u001b[0m------| 2.0k/2.4k ( 84.79%) ETA    57s"
       ]
      },
      {
       "output_type": "stream",
       "stream": "stdout",
       "text": [
        "\r",
        "|\u001b[0;34m==================================\u001b[0m\u001b[0;32m>\u001b[0m------| 2.0k/2.4k ( 84.83%) ETA    57s"
       ]
      },
      {
       "output_type": "stream",
       "stream": "stdout",
       "text": [
        "\r",
        "|\u001b[0;34m==================================\u001b[0m\u001b[0;32m>\u001b[0m------| 2.0k/2.4k ( 84.88%) ETA    57s"
       ]
      },
      {
       "output_type": "stream",
       "stream": "stdout",
       "text": [
        "\r",
        "|\u001b[0;34m==================================\u001b[0m\u001b[0;32m>\u001b[0m------| 2.0k/2.4k ( 84.92%) ETA    57s"
       ]
      },
      {
       "output_type": "stream",
       "stream": "stdout",
       "text": [
        "\r",
        "|\u001b[0;34m==================================\u001b[0m\u001b[0;32m>\u001b[0m------| 2.0k/2.4k ( 84.96%) ETA    56s"
       ]
      },
      {
       "output_type": "stream",
       "stream": "stdout",
       "text": [
        "\r",
        "|\u001b[0;34m==================================\u001b[0m\u001b[0;32m>\u001b[0m------| 2.0k/2.4k ( 85.00%) ETA    56s"
       ]
      },
      {
       "output_type": "stream",
       "stream": "stdout",
       "text": [
        "\r",
        "|\u001b[0;34m==================================\u001b[0m\u001b[0;32m>\u001b[0m------| 2.0k/2.4k ( 85.04%) ETA    56s"
       ]
      },
      {
       "output_type": "stream",
       "stream": "stdout",
       "text": [
        "\r",
        "|\u001b[0;34m==================================\u001b[0m\u001b[0;32m>\u001b[0m------| 2.0k/2.4k ( 85.08%) ETA    56s"
       ]
      },
      {
       "output_type": "stream",
       "stream": "stdout",
       "text": [
        "\r",
        "|\u001b[0;34m==================================\u001b[0m\u001b[0;32m>\u001b[0m------| 2.0k/2.4k ( 85.12%) ETA    56s"
       ]
      },
      {
       "output_type": "stream",
       "stream": "stdout",
       "text": [
        "\r",
        "|\u001b[0;34m==================================\u001b[0m\u001b[0;32m>\u001b[0m------| 2.0k/2.4k ( 85.17%) ETA    56s"
       ]
      },
      {
       "output_type": "stream",
       "stream": "stdout",
       "text": [
        "\r",
        "|\u001b[0;34m==================================\u001b[0m\u001b[0;32m>\u001b[0m------| 2.0k/2.4k ( 85.21%) ETA    55s"
       ]
      },
      {
       "output_type": "stream",
       "stream": "stdout",
       "text": [
        "\r",
        "|\u001b[0;34m==================================\u001b[0m\u001b[0;32m>\u001b[0m------| 2.0k/2.4k ( 85.25%) ETA    55s"
       ]
      },
      {
       "output_type": "stream",
       "stream": "stdout",
       "text": [
        "\r",
        "|\u001b[0;34m==================================\u001b[0m\u001b[0;32m>\u001b[0m------| 2.0k/2.4k ( 85.29%) ETA    55s"
       ]
      },
      {
       "output_type": "stream",
       "stream": "stdout",
       "text": [
        "\r",
        "|\u001b[0;34m==================================\u001b[0m\u001b[0;32m>\u001b[0m------| 2.0k/2.4k ( 85.33%) ETA    55s"
       ]
      },
      {
       "output_type": "stream",
       "stream": "stdout",
       "text": [
        "\r",
        "|\u001b[0;34m===================================\u001b[0m\u001b[0;32m>\u001b[0m-----| 2.0k/2.4k ( 85.38%) ETA    55s"
       ]
      },
      {
       "output_type": "stream",
       "stream": "stdout",
       "text": [
        "\r",
        "|\u001b[0;34m===================================\u001b[0m\u001b[0;32m>\u001b[0m-----| 2.0k/2.4k ( 85.42%) ETA    55s"
       ]
      },
      {
       "output_type": "stream",
       "stream": "stdout",
       "text": [
        "\r",
        "|\u001b[0;34m===================================\u001b[0m\u001b[0;32m>\u001b[0m-----| 2.0k/2.4k ( 85.46%) ETA    54s"
       ]
      },
      {
       "output_type": "stream",
       "stream": "stdout",
       "text": [
        "\r",
        "|\u001b[0;34m===================================\u001b[0m\u001b[0;32m>\u001b[0m-----| 2.0k/2.4k ( 85.50%) ETA    54s"
       ]
      },
      {
       "output_type": "stream",
       "stream": "stdout",
       "text": [
        "\r",
        "|\u001b[0;34m===================================\u001b[0m\u001b[0;32m>\u001b[0m-----| 2.0k/2.4k ( 85.54%) ETA    54s"
       ]
      },
      {
       "output_type": "stream",
       "stream": "stdout",
       "text": [
        "\r",
        "|\u001b[0;34m===================================\u001b[0m\u001b[0;32m>\u001b[0m-----| 2.0k/2.4k ( 85.58%) ETA    54s"
       ]
      },
      {
       "output_type": "stream",
       "stream": "stdout",
       "text": [
        "\r",
        "|\u001b[0;34m===================================\u001b[0m\u001b[0;32m>\u001b[0m-----| 2.0k/2.4k ( 85.62%) ETA    54s"
       ]
      },
      {
       "output_type": "stream",
       "stream": "stdout",
       "text": [
        "\r",
        "|\u001b[0;34m===================================\u001b[0m\u001b[0;32m>\u001b[0m-----| 2.0k/2.4k ( 85.67%) ETA    54s"
       ]
      },
      {
       "output_type": "stream",
       "stream": "stdout",
       "text": [
        "\r",
        "|\u001b[0;34m===================================\u001b[0m\u001b[0;32m>\u001b[0m-----| 2.0k/2.4k ( 85.71%) ETA    54s"
       ]
      },
      {
       "output_type": "stream",
       "stream": "stdout",
       "text": [
        "\r",
        "|\u001b[0;34m===================================\u001b[0m\u001b[0;32m>\u001b[0m-----| 2.0k/2.4k ( 85.75%) ETA    53s"
       ]
      },
      {
       "output_type": "stream",
       "stream": "stdout",
       "text": [
        "\r",
        "|\u001b[0;34m===================================\u001b[0m\u001b[0;32m>\u001b[0m-----| 2.0k/2.4k ( 85.79%) ETA    53s"
       ]
      },
      {
       "output_type": "stream",
       "stream": "stdout",
       "text": [
        "\r",
        "|\u001b[0;34m===================================\u001b[0m\u001b[0;32m>\u001b[0m-----| 2.0k/2.4k ( 85.83%) ETA    53s"
       ]
      },
      {
       "output_type": "stream",
       "stream": "stdout",
       "text": [
        "\r",
        "|\u001b[0;34m===================================\u001b[0m\u001b[0;32m>\u001b[0m-----| 2.0k/2.4k ( 85.88%) ETA    53s"
       ]
      },
      {
       "output_type": "stream",
       "stream": "stdout",
       "text": [
        "\r",
        "|\u001b[0;34m===================================\u001b[0m\u001b[0;32m>\u001b[0m-----| 2.0k/2.4k ( 85.92%) ETA    53s"
       ]
      },
      {
       "output_type": "stream",
       "stream": "stdout",
       "text": [
        "\r",
        "|\u001b[0;34m===================================\u001b[0m\u001b[0;32m>\u001b[0m-----| 2.0k/2.4k ( 85.96%) ETA    53s"
       ]
      },
      {
       "output_type": "stream",
       "stream": "stdout",
       "text": [
        "\r",
        "|\u001b[0;34m===================================\u001b[0m\u001b[0;32m>\u001b[0m-----| 2.0k/2.4k ( 86.00%) ETA    52s"
       ]
      },
      {
       "output_type": "stream",
       "stream": "stdout",
       "text": [
        "\r",
        "|\u001b[0;34m===================================\u001b[0m\u001b[0;32m>\u001b[0m-----| 2.0k/2.4k ( 86.04%) ETA    52s"
       ]
      },
      {
       "output_type": "stream",
       "stream": "stdout",
       "text": [
        "\r",
        "|\u001b[0;34m===================================\u001b[0m\u001b[0;32m>\u001b[0m-----| 2.0k/2.4k ( 86.08%) ETA    52s"
       ]
      },
      {
       "output_type": "stream",
       "stream": "stdout",
       "text": [
        "\r",
        "|\u001b[0;34m===================================\u001b[0m\u001b[0;32m>\u001b[0m-----| 2.0k/2.4k ( 86.12%) ETA    52s"
       ]
      },
      {
       "output_type": "stream",
       "stream": "stdout",
       "text": [
        "\r",
        "|\u001b[0;34m===================================\u001b[0m\u001b[0;32m>\u001b[0m-----| 2.0k/2.4k ( 86.17%) ETA    52s"
       ]
      },
      {
       "output_type": "stream",
       "stream": "stdout",
       "text": [
        "\r",
        "|\u001b[0;34m===================================\u001b[0m\u001b[0;32m>\u001b[0m-----| 2.0k/2.4k ( 86.21%) ETA    52s"
       ]
      },
      {
       "output_type": "stream",
       "stream": "stdout",
       "text": [
        "\r",
        "|\u001b[0;34m===================================\u001b[0m\u001b[0;32m>\u001b[0m-----| 2.0k/2.4k ( 86.25%) ETA    51s"
       ]
      },
      {
       "output_type": "stream",
       "stream": "stdout",
       "text": [
        "\r",
        "|\u001b[0;34m===================================\u001b[0m\u001b[0;32m>\u001b[0m-----| 2.0k/2.4k ( 86.29%) ETA    51s"
       ]
      },
      {
       "output_type": "stream",
       "stream": "stdout",
       "text": [
        "\r",
        "|\u001b[0;34m===================================\u001b[0m\u001b[0;32m>\u001b[0m-----| 2.0k/2.4k ( 86.33%) ETA    51s"
       ]
      },
      {
       "output_type": "stream",
       "stream": "stdout",
       "text": [
        "\r",
        "|\u001b[0;34m===================================\u001b[0m\u001b[0;32m>\u001b[0m-----| 2.0k/2.4k ( 86.38%) ETA    51s"
       ]
      },
      {
       "output_type": "stream",
       "stream": "stdout",
       "text": [
        "\r",
        "|\u001b[0;34m===================================\u001b[0m\u001b[0;32m>\u001b[0m-----| 2.0k/2.4k ( 86.42%) ETA    51s"
       ]
      },
      {
       "output_type": "stream",
       "stream": "stdout",
       "text": [
        "\r",
        "|\u001b[0;34m===================================\u001b[0m\u001b[0;32m>\u001b[0m-----| 2.0k/2.4k ( 86.46%) ETA    51s"
       ]
      },
      {
       "output_type": "stream",
       "stream": "stdout",
       "text": [
        "\r",
        "|\u001b[0;34m===================================\u001b[0m\u001b[0;32m>\u001b[0m-----| 2.0k/2.4k ( 86.50%) ETA    51s"
       ]
      },
      {
       "output_type": "stream",
       "stream": "stdout",
       "text": [
        "\r",
        "|\u001b[0;34m===================================\u001b[0m\u001b[0;32m>\u001b[0m-----| 2.0k/2.4k ( 86.54%) ETA    50s"
       ]
      },
      {
       "output_type": "stream",
       "stream": "stdout",
       "text": [
        "\r",
        "|\u001b[0;34m===================================\u001b[0m\u001b[0;32m>\u001b[0m-----| 2.0k/2.4k ( 86.58%) ETA    50s"
       ]
      },
      {
       "output_type": "stream",
       "stream": "stdout",
       "text": [
        "\r",
        "|\u001b[0;34m===================================\u001b[0m\u001b[0;32m>\u001b[0m-----| 2.0k/2.4k ( 86.62%) ETA    50s"
       ]
      },
      {
       "output_type": "stream",
       "stream": "stdout",
       "text": [
        "\r",
        "|\u001b[0;34m===================================\u001b[0m\u001b[0;32m>\u001b[0m-----| 2.0k/2.4k ( 86.67%) ETA    50s"
       ]
      },
      {
       "output_type": "stream",
       "stream": "stdout",
       "text": [
        "\r",
        "|\u001b[0;34m===================================\u001b[0m\u001b[0;32m>\u001b[0m-----| 2.0k/2.4k ( 86.71%) ETA    50s"
       ]
      },
      {
       "output_type": "stream",
       "stream": "stdout",
       "text": [
        "\r",
        "|\u001b[0;34m===================================\u001b[0m\u001b[0;32m>\u001b[0m-----| 2.0k/2.4k ( 86.75%) ETA    50s"
       ]
      },
      {
       "output_type": "stream",
       "stream": "stdout",
       "text": [
        "\r",
        "|\u001b[0;34m===================================\u001b[0m\u001b[0;32m>\u001b[0m-----| 2.0k/2.4k ( 86.79%) ETA    49s"
       ]
      },
      {
       "output_type": "stream",
       "stream": "stdout",
       "text": [
        "\r",
        "|\u001b[0;34m===================================\u001b[0m\u001b[0;32m>\u001b[0m-----| 2.0k/2.4k ( 86.83%) ETA    49s"
       ]
      },
      {
       "output_type": "stream",
       "stream": "stdout",
       "text": [
        "\r",
        "|\u001b[0;34m===================================\u001b[0m\u001b[0;32m>\u001b[0m-----| 2.0k/2.4k ( 86.88%) ETA    49s"
       ]
      },
      {
       "output_type": "stream",
       "stream": "stdout",
       "text": [
        "\r",
        "|\u001b[0;34m===================================\u001b[0m\u001b[0;32m>\u001b[0m-----| 2.0k/2.4k ( 86.92%) ETA    49s"
       ]
      },
      {
       "output_type": "stream",
       "stream": "stdout",
       "text": [
        "\r",
        "|\u001b[0;34m===================================\u001b[0m\u001b[0;32m>\u001b[0m-----| 2.0k/2.4k ( 86.96%) ETA    49s"
       ]
      },
      {
       "output_type": "stream",
       "stream": "stdout",
       "text": [
        "\r",
        "|\u001b[0;34m===================================\u001b[0m\u001b[0;32m>\u001b[0m-----| 2.0k/2.4k ( 87.00%) ETA    49s"
       ]
      },
      {
       "output_type": "stream",
       "stream": "stdout",
       "text": [
        "\r",
        "|\u001b[0;34m===================================\u001b[0m\u001b[0;32m>\u001b[0m-----| 2.0k/2.4k ( 87.04%) ETA    48s"
       ]
      },
      {
       "output_type": "stream",
       "stream": "stdout",
       "text": [
        "\r",
        "|\u001b[0;34m===================================\u001b[0m\u001b[0;32m>\u001b[0m-----| 2.0k/2.4k ( 87.08%) ETA    48s"
       ]
      },
      {
       "output_type": "stream",
       "stream": "stdout",
       "text": [
        "\r",
        "|\u001b[0;34m===================================\u001b[0m\u001b[0;32m>\u001b[0m-----| 2.0k/2.4k ( 87.12%) ETA    48s"
       ]
      },
      {
       "output_type": "stream",
       "stream": "stdout",
       "text": [
        "\r",
        "|\u001b[0;34m===================================\u001b[0m\u001b[0;32m>\u001b[0m-----| 2.0k/2.4k ( 87.17%) ETA    48s"
       ]
      },
      {
       "output_type": "stream",
       "stream": "stdout",
       "text": [
        "\r",
        "|\u001b[0;34m===================================\u001b[0m\u001b[0;32m>\u001b[0m-----| 2.0k/2.4k ( 87.21%) ETA    48s"
       ]
      },
      {
       "output_type": "stream",
       "stream": "stdout",
       "text": [
        "\r",
        "|\u001b[0;34m===================================\u001b[0m\u001b[0;32m>\u001b[0m-----| 2.0k/2.4k ( 87.25%) ETA    48s"
       ]
      },
      {
       "output_type": "stream",
       "stream": "stdout",
       "text": [
        "\r",
        "|\u001b[0;34m===================================\u001b[0m\u001b[0;32m>\u001b[0m-----| 2.0k/2.4k ( 87.29%) ETA    48s"
       ]
      },
      {
       "output_type": "stream",
       "stream": "stdout",
       "text": [
        "\r",
        "|\u001b[0;34m===================================\u001b[0m\u001b[0;32m>\u001b[0m-----| 2.0k/2.4k ( 87.33%) ETA    47s"
       ]
      },
      {
       "output_type": "stream",
       "stream": "stdout",
       "text": [
        "\r",
        "|\u001b[0;34m===================================\u001b[0m\u001b[0;32m>\u001b[0m-----| 2.0k/2.4k ( 87.38%) ETA    47s"
       ]
      },
      {
       "output_type": "stream",
       "stream": "stdout",
       "text": [
        "\r",
        "|\u001b[0;34m===================================\u001b[0m\u001b[0;32m>\u001b[0m-----| 2.0k/2.4k ( 87.42%) ETA    47s"
       ]
      },
      {
       "output_type": "stream",
       "stream": "stdout",
       "text": [
        "\r",
        "|\u001b[0;34m===================================\u001b[0m\u001b[0;32m>\u001b[0m-----| 2.0k/2.4k ( 87.46%) ETA    47s"
       ]
      },
      {
       "output_type": "stream",
       "stream": "stdout",
       "text": [
        "\r",
        "|\u001b[0;34m===================================\u001b[0m\u001b[0;32m>\u001b[0m-----| 2.1k/2.4k ( 87.50%) ETA    47s"
       ]
      },
      {
       "output_type": "stream",
       "stream": "stdout",
       "text": [
        "\r",
        "|\u001b[0;34m===================================\u001b[0m\u001b[0;32m>\u001b[0m-----| 2.1k/2.4k ( 87.54%) ETA    47s"
       ]
      },
      {
       "output_type": "stream",
       "stream": "stdout",
       "text": [
        "\r",
        "|\u001b[0;34m===================================\u001b[0m\u001b[0;32m>\u001b[0m-----| 2.1k/2.4k ( 87.58%) ETA    46s"
       ]
      },
      {
       "output_type": "stream",
       "stream": "stdout",
       "text": [
        "\r",
        "|\u001b[0;34m===================================\u001b[0m\u001b[0;32m>\u001b[0m-----| 2.1k/2.4k ( 87.62%) ETA    46s"
       ]
      },
      {
       "output_type": "stream",
       "stream": "stdout",
       "text": [
        "\r",
        "|\u001b[0;34m===================================\u001b[0m\u001b[0;32m>\u001b[0m-----| 2.1k/2.4k ( 87.67%) ETA    46s"
       ]
      },
      {
       "output_type": "stream",
       "stream": "stdout",
       "text": [
        "\r",
        "|\u001b[0;34m===================================\u001b[0m\u001b[0;32m>\u001b[0m-----| 2.1k/2.4k ( 87.71%) ETA    46s"
       ]
      },
      {
       "output_type": "stream",
       "stream": "stdout",
       "text": [
        "\r",
        "|\u001b[0;34m===================================\u001b[0m\u001b[0;32m>\u001b[0m-----| 2.1k/2.4k ( 87.75%) ETA    46s"
       ]
      },
      {
       "output_type": "stream",
       "stream": "stdout",
       "text": [
        "\r",
        "|\u001b[0;34m===================================\u001b[0m\u001b[0;32m>\u001b[0m-----| 2.1k/2.4k ( 87.79%) ETA    46s"
       ]
      },
      {
       "output_type": "stream",
       "stream": "stdout",
       "text": [
        "\r",
        "|\u001b[0;34m====================================\u001b[0m\u001b[0;32m>\u001b[0m----| 2.1k/2.4k ( 87.83%) ETA    46s"
       ]
      },
      {
       "output_type": "stream",
       "stream": "stdout",
       "text": [
        "\r",
        "|\u001b[0;34m====================================\u001b[0m\u001b[0;32m>\u001b[0m----| 2.1k/2.4k ( 87.88%) ETA    45s"
       ]
      },
      {
       "output_type": "stream",
       "stream": "stdout",
       "text": [
        "\r",
        "|\u001b[0;34m====================================\u001b[0m\u001b[0;32m>\u001b[0m----| 2.1k/2.4k ( 87.92%) ETA    45s"
       ]
      },
      {
       "output_type": "stream",
       "stream": "stdout",
       "text": [
        "\r",
        "|\u001b[0;34m====================================\u001b[0m\u001b[0;32m>\u001b[0m----| 2.1k/2.4k ( 87.96%) ETA    45s"
       ]
      },
      {
       "output_type": "stream",
       "stream": "stdout",
       "text": [
        "\r",
        "|\u001b[0;34m====================================\u001b[0m\u001b[0;32m>\u001b[0m----| 2.1k/2.4k ( 88.00%) ETA    45s"
       ]
      },
      {
       "output_type": "stream",
       "stream": "stdout",
       "text": [
        "\r",
        "|\u001b[0;34m====================================\u001b[0m\u001b[0;32m>\u001b[0m----| 2.1k/2.4k ( 88.04%) ETA    45s"
       ]
      },
      {
       "output_type": "stream",
       "stream": "stdout",
       "text": [
        "\r",
        "|\u001b[0;34m====================================\u001b[0m\u001b[0;32m>\u001b[0m----| 2.1k/2.4k ( 88.08%) ETA    45s"
       ]
      },
      {
       "output_type": "stream",
       "stream": "stdout",
       "text": [
        "\r",
        "|\u001b[0;34m====================================\u001b[0m\u001b[0;32m>\u001b[0m----| 2.1k/2.4k ( 88.12%) ETA    44s"
       ]
      },
      {
       "output_type": "stream",
       "stream": "stdout",
       "text": [
        "\r",
        "|\u001b[0;34m====================================\u001b[0m\u001b[0;32m>\u001b[0m----| 2.1k/2.4k ( 88.17%) ETA    44s"
       ]
      },
      {
       "output_type": "stream",
       "stream": "stdout",
       "text": [
        "\r",
        "|\u001b[0;34m====================================\u001b[0m\u001b[0;32m>\u001b[0m----| 2.1k/2.4k ( 88.21%) ETA    44s"
       ]
      },
      {
       "output_type": "stream",
       "stream": "stdout",
       "text": [
        "\r",
        "|\u001b[0;34m====================================\u001b[0m\u001b[0;32m>\u001b[0m----| 2.1k/2.4k ( 88.25%) ETA    44s"
       ]
      },
      {
       "output_type": "stream",
       "stream": "stdout",
       "text": [
        "\r",
        "|\u001b[0;34m====================================\u001b[0m\u001b[0;32m>\u001b[0m----| 2.1k/2.4k ( 88.29%) ETA    44s"
       ]
      },
      {
       "output_type": "stream",
       "stream": "stdout",
       "text": [
        "\r",
        "|\u001b[0;34m====================================\u001b[0m\u001b[0;32m>\u001b[0m----| 2.1k/2.4k ( 88.33%) ETA    44s"
       ]
      },
      {
       "output_type": "stream",
       "stream": "stdout",
       "text": [
        "\r",
        "|\u001b[0;34m====================================\u001b[0m\u001b[0;32m>\u001b[0m----| 2.1k/2.4k ( 88.38%) ETA    43s"
       ]
      },
      {
       "output_type": "stream",
       "stream": "stdout",
       "text": [
        "\r",
        "|\u001b[0;34m====================================\u001b[0m\u001b[0;32m>\u001b[0m----| 2.1k/2.4k ( 88.42%) ETA    43s"
       ]
      },
      {
       "output_type": "stream",
       "stream": "stdout",
       "text": [
        "\r",
        "|\u001b[0;34m====================================\u001b[0m\u001b[0;32m>\u001b[0m----| 2.1k/2.4k ( 88.46%) ETA    43s"
       ]
      },
      {
       "output_type": "stream",
       "stream": "stdout",
       "text": [
        "\r",
        "|\u001b[0;34m====================================\u001b[0m\u001b[0;32m>\u001b[0m----| 2.1k/2.4k ( 88.50%) ETA    43s"
       ]
      },
      {
       "output_type": "stream",
       "stream": "stdout",
       "text": [
        "\r",
        "|\u001b[0;34m====================================\u001b[0m\u001b[0;32m>\u001b[0m----| 2.1k/2.4k ( 88.54%) ETA    43s"
       ]
      },
      {
       "output_type": "stream",
       "stream": "stdout",
       "text": [
        "\r",
        "|\u001b[0;34m====================================\u001b[0m\u001b[0;32m>\u001b[0m----| 2.1k/2.4k ( 88.58%) ETA    43s"
       ]
      },
      {
       "output_type": "stream",
       "stream": "stdout",
       "text": [
        "\r",
        "|\u001b[0;34m====================================\u001b[0m\u001b[0;32m>\u001b[0m----| 2.1k/2.4k ( 88.62%) ETA    43s"
       ]
      },
      {
       "output_type": "stream",
       "stream": "stdout",
       "text": [
        "\r",
        "|\u001b[0;34m====================================\u001b[0m\u001b[0;32m>\u001b[0m----| 2.1k/2.4k ( 88.67%) ETA    42s"
       ]
      },
      {
       "output_type": "stream",
       "stream": "stdout",
       "text": [
        "\r",
        "|\u001b[0;34m====================================\u001b[0m\u001b[0;32m>\u001b[0m----| 2.1k/2.4k ( 88.71%) ETA    42s"
       ]
      },
      {
       "output_type": "stream",
       "stream": "stdout",
       "text": [
        "\r",
        "|\u001b[0;34m====================================\u001b[0m\u001b[0;32m>\u001b[0m----| 2.1k/2.4k ( 88.75%) ETA    42s"
       ]
      },
      {
       "output_type": "stream",
       "stream": "stdout",
       "text": [
        "\r",
        "|\u001b[0;34m====================================\u001b[0m\u001b[0;32m>\u001b[0m----| 2.1k/2.4k ( 88.79%) ETA    42s"
       ]
      },
      {
       "output_type": "stream",
       "stream": "stdout",
       "text": [
        "\r",
        "|\u001b[0;34m====================================\u001b[0m\u001b[0;32m>\u001b[0m----| 2.1k/2.4k ( 88.83%) ETA    42s"
       ]
      },
      {
       "output_type": "stream",
       "stream": "stdout",
       "text": [
        "\r",
        "|\u001b[0;34m====================================\u001b[0m\u001b[0;32m>\u001b[0m----| 2.1k/2.4k ( 88.88%) ETA    42s"
       ]
      },
      {
       "output_type": "stream",
       "stream": "stdout",
       "text": [
        "\r",
        "|\u001b[0;34m====================================\u001b[0m\u001b[0;32m>\u001b[0m----| 2.1k/2.4k ( 88.92%) ETA    41s"
       ]
      },
      {
       "output_type": "stream",
       "stream": "stdout",
       "text": [
        "\r",
        "|\u001b[0;34m====================================\u001b[0m\u001b[0;32m>\u001b[0m----| 2.1k/2.4k ( 88.96%) ETA    41s"
       ]
      },
      {
       "output_type": "stream",
       "stream": "stdout",
       "text": [
        "\r",
        "|\u001b[0;34m====================================\u001b[0m\u001b[0;32m>\u001b[0m----| 2.1k/2.4k ( 89.00%) ETA    41s"
       ]
      },
      {
       "output_type": "stream",
       "stream": "stdout",
       "text": [
        "\r",
        "|\u001b[0;34m====================================\u001b[0m\u001b[0;32m>\u001b[0m----| 2.1k/2.4k ( 89.04%) ETA    41s"
       ]
      },
      {
       "output_type": "stream",
       "stream": "stdout",
       "text": [
        "\r",
        "|\u001b[0;34m====================================\u001b[0m\u001b[0;32m>\u001b[0m----| 2.1k/2.4k ( 89.08%) ETA    41s"
       ]
      },
      {
       "output_type": "stream",
       "stream": "stdout",
       "text": [
        "\r",
        "|\u001b[0;34m====================================\u001b[0m\u001b[0;32m>\u001b[0m----| 2.1k/2.4k ( 89.12%) ETA    41s"
       ]
      },
      {
       "output_type": "stream",
       "stream": "stdout",
       "text": [
        "\r",
        "|\u001b[0;34m====================================\u001b[0m\u001b[0;32m>\u001b[0m----| 2.1k/2.4k ( 89.17%) ETA    40s"
       ]
      },
      {
       "output_type": "stream",
       "stream": "stdout",
       "text": [
        "\r",
        "|\u001b[0;34m====================================\u001b[0m\u001b[0;32m>\u001b[0m----| 2.1k/2.4k ( 89.21%) ETA    40s"
       ]
      },
      {
       "output_type": "stream",
       "stream": "stdout",
       "text": [
        "\r",
        "|\u001b[0;34m====================================\u001b[0m\u001b[0;32m>\u001b[0m----| 2.1k/2.4k ( 89.25%) ETA    40s"
       ]
      },
      {
       "output_type": "stream",
       "stream": "stdout",
       "text": [
        "\r",
        "|\u001b[0;34m====================================\u001b[0m\u001b[0;32m>\u001b[0m----| 2.1k/2.4k ( 89.29%) ETA    40s"
       ]
      },
      {
       "output_type": "stream",
       "stream": "stdout",
       "text": [
        "\r",
        "|\u001b[0;34m====================================\u001b[0m\u001b[0;32m>\u001b[0m----| 2.1k/2.4k ( 89.33%) ETA    40s"
       ]
      },
      {
       "output_type": "stream",
       "stream": "stdout",
       "text": [
        "\r",
        "|\u001b[0;34m====================================\u001b[0m\u001b[0;32m>\u001b[0m----| 2.1k/2.4k ( 89.38%) ETA    40s"
       ]
      },
      {
       "output_type": "stream",
       "stream": "stdout",
       "text": [
        "\r",
        "|\u001b[0;34m====================================\u001b[0m\u001b[0;32m>\u001b[0m----| 2.1k/2.4k ( 89.42%) ETA    40s"
       ]
      },
      {
       "output_type": "stream",
       "stream": "stdout",
       "text": [
        "\r",
        "|\u001b[0;34m====================================\u001b[0m\u001b[0;32m>\u001b[0m----| 2.1k/2.4k ( 89.46%) ETA    39s"
       ]
      },
      {
       "output_type": "stream",
       "stream": "stdout",
       "text": [
        "\r",
        "|\u001b[0;34m====================================\u001b[0m\u001b[0;32m>\u001b[0m----| 2.1k/2.4k ( 89.50%) ETA    39s"
       ]
      },
      {
       "output_type": "stream",
       "stream": "stdout",
       "text": [
        "\r",
        "|\u001b[0;34m====================================\u001b[0m\u001b[0;32m>\u001b[0m----| 2.1k/2.4k ( 89.54%) ETA    39s"
       ]
      },
      {
       "output_type": "stream",
       "stream": "stdout",
       "text": [
        "\r",
        "|\u001b[0;34m====================================\u001b[0m\u001b[0;32m>\u001b[0m----| 2.1k/2.4k ( 89.58%) ETA    39s"
       ]
      },
      {
       "output_type": "stream",
       "stream": "stdout",
       "text": [
        "\r",
        "|\u001b[0;34m====================================\u001b[0m\u001b[0;32m>\u001b[0m----| 2.1k/2.4k ( 89.62%) ETA    39s"
       ]
      },
      {
       "output_type": "stream",
       "stream": "stdout",
       "text": [
        "\r",
        "|\u001b[0;34m====================================\u001b[0m\u001b[0;32m>\u001b[0m----| 2.1k/2.4k ( 89.67%) ETA    39s"
       ]
      },
      {
       "output_type": "stream",
       "stream": "stdout",
       "text": [
        "\r",
        "|\u001b[0;34m====================================\u001b[0m\u001b[0;32m>\u001b[0m----| 2.1k/2.4k ( 89.71%) ETA    38s"
       ]
      },
      {
       "output_type": "stream",
       "stream": "stdout",
       "text": [
        "\r",
        "|\u001b[0;34m====================================\u001b[0m\u001b[0;32m>\u001b[0m----| 2.1k/2.4k ( 89.75%) ETA    38s"
       ]
      },
      {
       "output_type": "stream",
       "stream": "stdout",
       "text": [
        "\r",
        "|\u001b[0;34m====================================\u001b[0m\u001b[0;32m>\u001b[0m----| 2.1k/2.4k ( 89.79%) ETA    38s"
       ]
      },
      {
       "output_type": "stream",
       "stream": "stdout",
       "text": [
        "\r",
        "|\u001b[0;34m====================================\u001b[0m\u001b[0;32m>\u001b[0m----| 2.1k/2.4k ( 89.83%) ETA    38s"
       ]
      },
      {
       "output_type": "stream",
       "stream": "stdout",
       "text": [
        "\r",
        "|\u001b[0;34m====================================\u001b[0m\u001b[0;32m>\u001b[0m----| 2.1k/2.4k ( 89.88%) ETA    38s"
       ]
      },
      {
       "output_type": "stream",
       "stream": "stdout",
       "text": [
        "\r",
        "|\u001b[0;34m====================================\u001b[0m\u001b[0;32m>\u001b[0m----| 2.1k/2.4k ( 89.92%) ETA    38s"
       ]
      },
      {
       "output_type": "stream",
       "stream": "stdout",
       "text": [
        "\r",
        "|\u001b[0;34m====================================\u001b[0m\u001b[0;32m>\u001b[0m----| 2.1k/2.4k ( 89.96%) ETA    37s"
       ]
      },
      {
       "output_type": "stream",
       "stream": "stdout",
       "text": [
        "\r",
        "|\u001b[0;34m====================================\u001b[0m\u001b[0;32m>\u001b[0m----| 2.1k/2.4k ( 90.00%) ETA    37s"
       ]
      },
      {
       "output_type": "stream",
       "stream": "stdout",
       "text": [
        "\r",
        "|\u001b[0;34m====================================\u001b[0m\u001b[0;32m>\u001b[0m----| 2.1k/2.4k ( 90.04%) ETA    37s"
       ]
      },
      {
       "output_type": "stream",
       "stream": "stdout",
       "text": [
        "\r",
        "|\u001b[0;34m====================================\u001b[0m\u001b[0;32m>\u001b[0m----| 2.1k/2.4k ( 90.08%) ETA    37s"
       ]
      },
      {
       "output_type": "stream",
       "stream": "stdout",
       "text": [
        "\r",
        "|\u001b[0;34m====================================\u001b[0m\u001b[0;32m>\u001b[0m----| 2.1k/2.4k ( 90.12%) ETA    37s"
       ]
      },
      {
       "output_type": "stream",
       "stream": "stdout",
       "text": [
        "\r",
        "|\u001b[0;34m====================================\u001b[0m\u001b[0;32m>\u001b[0m----| 2.1k/2.4k ( 90.17%) ETA    37s"
       ]
      },
      {
       "output_type": "stream",
       "stream": "stdout",
       "text": [
        "\r",
        "|\u001b[0;34m====================================\u001b[0m\u001b[0;32m>\u001b[0m----| 2.1k/2.4k ( 90.21%) ETA    37s"
       ]
      },
      {
       "output_type": "stream",
       "stream": "stdout",
       "text": [
        "\r",
        "|\u001b[0;34m=====================================\u001b[0m\u001b[0;32m>\u001b[0m---| 2.1k/2.4k ( 90.25%) ETA    36s"
       ]
      },
      {
       "output_type": "stream",
       "stream": "stdout",
       "text": [
        "\r",
        "|\u001b[0;34m=====================================\u001b[0m\u001b[0;32m>\u001b[0m---| 2.1k/2.4k ( 90.29%) ETA    36s"
       ]
      },
      {
       "output_type": "stream",
       "stream": "stdout",
       "text": [
        "\r",
        "|\u001b[0;34m=====================================\u001b[0m\u001b[0;32m>\u001b[0m---| 2.1k/2.4k ( 90.33%) ETA    36s"
       ]
      },
      {
       "output_type": "stream",
       "stream": "stdout",
       "text": [
        "\r",
        "|\u001b[0;34m=====================================\u001b[0m\u001b[0;32m>\u001b[0m---| 2.1k/2.4k ( 90.38%) ETA    36s"
       ]
      },
      {
       "output_type": "stream",
       "stream": "stdout",
       "text": [
        "\r",
        "|\u001b[0;34m=====================================\u001b[0m\u001b[0;32m>\u001b[0m---| 2.1k/2.4k ( 90.42%) ETA    36s"
       ]
      },
      {
       "output_type": "stream",
       "stream": "stdout",
       "text": [
        "\r",
        "|\u001b[0;34m=====================================\u001b[0m\u001b[0;32m>\u001b[0m---| 2.1k/2.4k ( 90.46%) ETA    36s"
       ]
      },
      {
       "output_type": "stream",
       "stream": "stdout",
       "text": [
        "\r",
        "|\u001b[0;34m=====================================\u001b[0m\u001b[0;32m>\u001b[0m---| 2.1k/2.4k ( 90.50%) ETA    35s"
       ]
      },
      {
       "output_type": "stream",
       "stream": "stdout",
       "text": [
        "\r",
        "|\u001b[0;34m=====================================\u001b[0m\u001b[0;32m>\u001b[0m---| 2.1k/2.4k ( 90.54%) ETA    35s"
       ]
      },
      {
       "output_type": "stream",
       "stream": "stdout",
       "text": [
        "\r",
        "|\u001b[0;34m=====================================\u001b[0m\u001b[0;32m>\u001b[0m---| 2.1k/2.4k ( 90.58%) ETA    35s"
       ]
      },
      {
       "output_type": "stream",
       "stream": "stdout",
       "text": [
        "\r",
        "|\u001b[0;34m=====================================\u001b[0m\u001b[0;32m>\u001b[0m---| 2.1k/2.4k ( 90.62%) ETA    35s"
       ]
      },
      {
       "output_type": "stream",
       "stream": "stdout",
       "text": [
        "\r",
        "|\u001b[0;34m=====================================\u001b[0m\u001b[0;32m>\u001b[0m---| 2.1k/2.4k ( 90.67%) ETA    35s"
       ]
      },
      {
       "output_type": "stream",
       "stream": "stdout",
       "text": [
        "\r",
        "|\u001b[0;34m=====================================\u001b[0m\u001b[0;32m>\u001b[0m---| 2.1k/2.4k ( 90.71%) ETA    35s"
       ]
      },
      {
       "output_type": "stream",
       "stream": "stdout",
       "text": [
        "\r",
        "|\u001b[0;34m=====================================\u001b[0m\u001b[0;32m>\u001b[0m---| 2.1k/2.4k ( 90.75%) ETA    34s"
       ]
      },
      {
       "output_type": "stream",
       "stream": "stdout",
       "text": [
        "\r",
        "|\u001b[0;34m=====================================\u001b[0m\u001b[0;32m>\u001b[0m---| 2.1k/2.4k ( 90.79%) ETA    34s"
       ]
      },
      {
       "output_type": "stream",
       "stream": "stdout",
       "text": [
        "\r",
        "|\u001b[0;34m=====================================\u001b[0m\u001b[0;32m>\u001b[0m---| 2.1k/2.4k ( 90.83%) ETA    34s"
       ]
      },
      {
       "output_type": "stream",
       "stream": "stdout",
       "text": [
        "\r",
        "|\u001b[0;34m=====================================\u001b[0m\u001b[0;32m>\u001b[0m---| 2.1k/2.4k ( 90.88%) ETA    34s"
       ]
      },
      {
       "output_type": "stream",
       "stream": "stdout",
       "text": [
        "\r",
        "|\u001b[0;34m=====================================\u001b[0m\u001b[0;32m>\u001b[0m---| 2.1k/2.4k ( 90.92%) ETA    34s"
       ]
      },
      {
       "output_type": "stream",
       "stream": "stdout",
       "text": [
        "\r",
        "|\u001b[0;34m=====================================\u001b[0m\u001b[0;32m>\u001b[0m---| 2.1k/2.4k ( 90.96%) ETA    34s"
       ]
      },
      {
       "output_type": "stream",
       "stream": "stdout",
       "text": [
        "\r",
        "|\u001b[0;34m=====================================\u001b[0m\u001b[0;32m>\u001b[0m---| 2.1k/2.4k ( 91.00%) ETA    34s"
       ]
      },
      {
       "output_type": "stream",
       "stream": "stdout",
       "text": [
        "\r",
        "|\u001b[0;34m=====================================\u001b[0m\u001b[0;32m>\u001b[0m---| 2.1k/2.4k ( 91.04%) ETA    33s"
       ]
      },
      {
       "output_type": "stream",
       "stream": "stdout",
       "text": [
        "\r",
        "|\u001b[0;34m=====================================\u001b[0m\u001b[0;32m>\u001b[0m---| 2.1k/2.4k ( 91.08%) ETA    33s"
       ]
      },
      {
       "output_type": "stream",
       "stream": "stdout",
       "text": [
        "\r",
        "|\u001b[0;34m=====================================\u001b[0m\u001b[0;32m>\u001b[0m---| 2.1k/2.4k ( 91.12%) ETA    33s"
       ]
      },
      {
       "output_type": "stream",
       "stream": "stdout",
       "text": [
        "\r",
        "|\u001b[0;34m=====================================\u001b[0m\u001b[0;32m>\u001b[0m---| 2.1k/2.4k ( 91.17%) ETA    33s"
       ]
      },
      {
       "output_type": "stream",
       "stream": "stdout",
       "text": [
        "\r",
        "|\u001b[0;34m=====================================\u001b[0m\u001b[0;32m>\u001b[0m---| 2.1k/2.4k ( 91.21%) ETA    33s"
       ]
      },
      {
       "output_type": "stream",
       "stream": "stdout",
       "text": [
        "\r",
        "|\u001b[0;34m=====================================\u001b[0m\u001b[0;32m>\u001b[0m---| 2.1k/2.4k ( 91.25%) ETA    33s"
       ]
      },
      {
       "output_type": "stream",
       "stream": "stdout",
       "text": [
        "\r",
        "|\u001b[0;34m=====================================\u001b[0m\u001b[0;32m>\u001b[0m---| 2.1k/2.4k ( 91.29%) ETA    32s"
       ]
      },
      {
       "output_type": "stream",
       "stream": "stdout",
       "text": [
        "\r",
        "|\u001b[0;34m=====================================\u001b[0m\u001b[0;32m>\u001b[0m---| 2.1k/2.4k ( 91.33%) ETA    32s"
       ]
      },
      {
       "output_type": "stream",
       "stream": "stdout",
       "text": [
        "\r",
        "|\u001b[0;34m=====================================\u001b[0m\u001b[0;32m>\u001b[0m---| 2.1k/2.4k ( 91.38%) ETA    32s"
       ]
      },
      {
       "output_type": "stream",
       "stream": "stdout",
       "text": [
        "\r",
        "|\u001b[0;34m=====================================\u001b[0m\u001b[0;32m>\u001b[0m---| 2.1k/2.4k ( 91.42%) ETA    32s"
       ]
      },
      {
       "output_type": "stream",
       "stream": "stdout",
       "text": [
        "\r",
        "|\u001b[0;34m=====================================\u001b[0m\u001b[0;32m>\u001b[0m---| 2.1k/2.4k ( 91.46%) ETA    32s"
       ]
      },
      {
       "output_type": "stream",
       "stream": "stdout",
       "text": [
        "\r",
        "|\u001b[0;34m=====================================\u001b[0m\u001b[0;32m>\u001b[0m---| 2.1k/2.4k ( 91.50%) ETA    32s"
       ]
      },
      {
       "output_type": "stream",
       "stream": "stdout",
       "text": [
        "\r",
        "|\u001b[0;34m=====================================\u001b[0m\u001b[0;32m>\u001b[0m---| 2.1k/2.4k ( 91.54%) ETA    31s"
       ]
      },
      {
       "output_type": "stream",
       "stream": "stdout",
       "text": [
        "\r",
        "|\u001b[0;34m=====================================\u001b[0m\u001b[0;32m>\u001b[0m---| 2.1k/2.4k ( 91.58%) ETA    31s"
       ]
      },
      {
       "output_type": "stream",
       "stream": "stdout",
       "text": [
        "\r",
        "|\u001b[0;34m=====================================\u001b[0m\u001b[0;32m>\u001b[0m---| 2.1k/2.4k ( 91.62%) ETA    31s"
       ]
      },
      {
       "output_type": "stream",
       "stream": "stdout",
       "text": [
        "\r",
        "|\u001b[0;34m=====================================\u001b[0m\u001b[0;32m>\u001b[0m---| 2.2k/2.4k ( 91.67%) ETA    31s"
       ]
      },
      {
       "output_type": "stream",
       "stream": "stdout",
       "text": [
        "\r",
        "|\u001b[0;34m=====================================\u001b[0m\u001b[0;32m>\u001b[0m---| 2.2k/2.4k ( 91.71%) ETA    31s"
       ]
      },
      {
       "output_type": "stream",
       "stream": "stdout",
       "text": [
        "\r",
        "|\u001b[0;34m=====================================\u001b[0m\u001b[0;32m>\u001b[0m---| 2.2k/2.4k ( 91.75%) ETA    31s"
       ]
      },
      {
       "output_type": "stream",
       "stream": "stdout",
       "text": [
        "\r",
        "|\u001b[0;34m=====================================\u001b[0m\u001b[0;32m>\u001b[0m---| 2.2k/2.4k ( 91.79%) ETA    31s"
       ]
      },
      {
       "output_type": "stream",
       "stream": "stdout",
       "text": [
        "\r",
        "|\u001b[0;34m=====================================\u001b[0m\u001b[0;32m>\u001b[0m---| 2.2k/2.4k ( 91.83%) ETA    30s"
       ]
      },
      {
       "output_type": "stream",
       "stream": "stdout",
       "text": [
        "\r",
        "|\u001b[0;34m=====================================\u001b[0m\u001b[0;32m>\u001b[0m---| 2.2k/2.4k ( 91.88%) ETA    30s"
       ]
      },
      {
       "output_type": "stream",
       "stream": "stdout",
       "text": [
        "\r",
        "|\u001b[0;34m=====================================\u001b[0m\u001b[0;32m>\u001b[0m---| 2.2k/2.4k ( 91.92%) ETA    30s"
       ]
      },
      {
       "output_type": "stream",
       "stream": "stdout",
       "text": [
        "\r",
        "|\u001b[0;34m=====================================\u001b[0m\u001b[0;32m>\u001b[0m---| 2.2k/2.4k ( 91.96%) ETA    30s"
       ]
      },
      {
       "output_type": "stream",
       "stream": "stdout",
       "text": [
        "\r",
        "|\u001b[0;34m=====================================\u001b[0m\u001b[0;32m>\u001b[0m---| 2.2k/2.4k ( 92.00%) ETA    30s"
       ]
      },
      {
       "output_type": "stream",
       "stream": "stdout",
       "text": [
        "\r",
        "|\u001b[0;34m=====================================\u001b[0m\u001b[0;32m>\u001b[0m---| 2.2k/2.4k ( 92.04%) ETA    30s"
       ]
      },
      {
       "output_type": "stream",
       "stream": "stdout",
       "text": [
        "\r",
        "|\u001b[0;34m=====================================\u001b[0m\u001b[0;32m>\u001b[0m---| 2.2k/2.4k ( 92.08%) ETA    29s"
       ]
      },
      {
       "output_type": "stream",
       "stream": "stdout",
       "text": [
        "\r",
        "|\u001b[0;34m=====================================\u001b[0m\u001b[0;32m>\u001b[0m---| 2.2k/2.4k ( 92.12%) ETA    29s"
       ]
      },
      {
       "output_type": "stream",
       "stream": "stdout",
       "text": [
        "\r",
        "|\u001b[0;34m=====================================\u001b[0m\u001b[0;32m>\u001b[0m---| 2.2k/2.4k ( 92.17%) ETA    29s"
       ]
      },
      {
       "output_type": "stream",
       "stream": "stdout",
       "text": [
        "\r",
        "|\u001b[0;34m=====================================\u001b[0m\u001b[0;32m>\u001b[0m---| 2.2k/2.4k ( 92.21%) ETA    29s"
       ]
      },
      {
       "output_type": "stream",
       "stream": "stdout",
       "text": [
        "\r",
        "|\u001b[0;34m=====================================\u001b[0m\u001b[0;32m>\u001b[0m---| 2.2k/2.4k ( 92.25%) ETA    29s"
       ]
      },
      {
       "output_type": "stream",
       "stream": "stdout",
       "text": [
        "\r",
        "|\u001b[0;34m=====================================\u001b[0m\u001b[0;32m>\u001b[0m---| 2.2k/2.4k ( 92.29%) ETA    29s"
       ]
      },
      {
       "output_type": "stream",
       "stream": "stdout",
       "text": [
        "\r",
        "|\u001b[0;34m=====================================\u001b[0m\u001b[0;32m>\u001b[0m---| 2.2k/2.4k ( 92.33%) ETA    28s"
       ]
      },
      {
       "output_type": "stream",
       "stream": "stdout",
       "text": [
        "\r",
        "|\u001b[0;34m=====================================\u001b[0m\u001b[0;32m>\u001b[0m---| 2.2k/2.4k ( 92.38%) ETA    28s"
       ]
      },
      {
       "output_type": "stream",
       "stream": "stdout",
       "text": [
        "\r",
        "|\u001b[0;34m=====================================\u001b[0m\u001b[0;32m>\u001b[0m---| 2.2k/2.4k ( 92.42%) ETA    28s"
       ]
      },
      {
       "output_type": "stream",
       "stream": "stdout",
       "text": [
        "\r",
        "|\u001b[0;34m=====================================\u001b[0m\u001b[0;32m>\u001b[0m---| 2.2k/2.4k ( 92.46%) ETA    28s"
       ]
      },
      {
       "output_type": "stream",
       "stream": "stdout",
       "text": [
        "\r",
        "|\u001b[0;34m=====================================\u001b[0m\u001b[0;32m>\u001b[0m---| 2.2k/2.4k ( 92.50%) ETA    28s"
       ]
      },
      {
       "output_type": "stream",
       "stream": "stdout",
       "text": [
        "\r",
        "|\u001b[0;34m=====================================\u001b[0m\u001b[0;32m>\u001b[0m---| 2.2k/2.4k ( 92.54%) ETA    28s"
       ]
      },
      {
       "output_type": "stream",
       "stream": "stdout",
       "text": [
        "\r",
        "|\u001b[0;34m=====================================\u001b[0m\u001b[0;32m>\u001b[0m---| 2.2k/2.4k ( 92.58%) ETA    28s"
       ]
      },
      {
       "output_type": "stream",
       "stream": "stdout",
       "text": [
        "\r",
        "|\u001b[0;34m=====================================\u001b[0m\u001b[0;32m>\u001b[0m---| 2.2k/2.4k ( 92.62%) ETA    27s"
       ]
      },
      {
       "output_type": "stream",
       "stream": "stdout",
       "text": [
        "\r",
        "|\u001b[0;34m=====================================\u001b[0m\u001b[0;32m>\u001b[0m---| 2.2k/2.4k ( 92.67%) ETA    27s"
       ]
      },
      {
       "output_type": "stream",
       "stream": "stdout",
       "text": [
        "\r",
        "|\u001b[0;34m======================================\u001b[0m\u001b[0;32m>\u001b[0m--| 2.2k/2.4k ( 92.71%) ETA    27s"
       ]
      },
      {
       "output_type": "stream",
       "stream": "stdout",
       "text": [
        "\r",
        "|\u001b[0;34m======================================\u001b[0m\u001b[0;32m>\u001b[0m--| 2.2k/2.4k ( 92.75%) ETA    27s"
       ]
      },
      {
       "output_type": "stream",
       "stream": "stdout",
       "text": [
        "\r",
        "|\u001b[0;34m======================================\u001b[0m\u001b[0;32m>\u001b[0m--| 2.2k/2.4k ( 92.79%) ETA    27s"
       ]
      },
      {
       "output_type": "stream",
       "stream": "stdout",
       "text": [
        "\r",
        "|\u001b[0;34m======================================\u001b[0m\u001b[0;32m>\u001b[0m--| 2.2k/2.4k ( 92.83%) ETA    27s"
       ]
      },
      {
       "output_type": "stream",
       "stream": "stdout",
       "text": [
        "\r",
        "|\u001b[0;34m======================================\u001b[0m\u001b[0;32m>\u001b[0m--| 2.2k/2.4k ( 92.88%) ETA    26s"
       ]
      },
      {
       "output_type": "stream",
       "stream": "stdout",
       "text": [
        "\r",
        "|\u001b[0;34m======================================\u001b[0m\u001b[0;32m>\u001b[0m--| 2.2k/2.4k ( 92.92%) ETA    26s"
       ]
      },
      {
       "output_type": "stream",
       "stream": "stdout",
       "text": [
        "\r",
        "|\u001b[0;34m======================================\u001b[0m\u001b[0;32m>\u001b[0m--| 2.2k/2.4k ( 92.96%) ETA    26s"
       ]
      },
      {
       "output_type": "stream",
       "stream": "stdout",
       "text": [
        "\r",
        "|\u001b[0;34m======================================\u001b[0m\u001b[0;32m>\u001b[0m--| 2.2k/2.4k ( 93.00%) ETA    26s"
       ]
      },
      {
       "output_type": "stream",
       "stream": "stdout",
       "text": [
        "\r",
        "|\u001b[0;34m======================================\u001b[0m\u001b[0;32m>\u001b[0m--| 2.2k/2.4k ( 93.04%) ETA    26s"
       ]
      },
      {
       "output_type": "stream",
       "stream": "stdout",
       "text": [
        "\r",
        "|\u001b[0;34m======================================\u001b[0m\u001b[0;32m>\u001b[0m--| 2.2k/2.4k ( 93.08%) ETA    26s"
       ]
      },
      {
       "output_type": "stream",
       "stream": "stdout",
       "text": [
        "\r",
        "|\u001b[0;34m======================================\u001b[0m\u001b[0;32m>\u001b[0m--| 2.2k/2.4k ( 93.12%) ETA    26s"
       ]
      },
      {
       "output_type": "stream",
       "stream": "stdout",
       "text": [
        "\r",
        "|\u001b[0;34m======================================\u001b[0m\u001b[0;32m>\u001b[0m--| 2.2k/2.4k ( 93.17%) ETA    25s"
       ]
      },
      {
       "output_type": "stream",
       "stream": "stdout",
       "text": [
        "\r",
        "|\u001b[0;34m======================================\u001b[0m\u001b[0;32m>\u001b[0m--| 2.2k/2.4k ( 93.21%) ETA    25s"
       ]
      },
      {
       "output_type": "stream",
       "stream": "stdout",
       "text": [
        "\r",
        "|\u001b[0;34m======================================\u001b[0m\u001b[0;32m>\u001b[0m--| 2.2k/2.4k ( 93.25%) ETA    25s"
       ]
      },
      {
       "output_type": "stream",
       "stream": "stdout",
       "text": [
        "\r",
        "|\u001b[0;34m======================================\u001b[0m\u001b[0;32m>\u001b[0m--| 2.2k/2.4k ( 93.29%) ETA    25s"
       ]
      },
      {
       "output_type": "stream",
       "stream": "stdout",
       "text": [
        "\r",
        "|\u001b[0;34m======================================\u001b[0m\u001b[0;32m>\u001b[0m--| 2.2k/2.4k ( 93.33%) ETA    25s"
       ]
      },
      {
       "output_type": "stream",
       "stream": "stdout",
       "text": [
        "\r",
        "|\u001b[0;34m======================================\u001b[0m\u001b[0;32m>\u001b[0m--| 2.2k/2.4k ( 93.38%) ETA    25s"
       ]
      },
      {
       "output_type": "stream",
       "stream": "stdout",
       "text": [
        "\r",
        "|\u001b[0;34m======================================\u001b[0m\u001b[0;32m>\u001b[0m--| 2.2k/2.4k ( 93.42%) ETA    24s"
       ]
      },
      {
       "output_type": "stream",
       "stream": "stdout",
       "text": [
        "\r",
        "|\u001b[0;34m======================================\u001b[0m\u001b[0;32m>\u001b[0m--| 2.2k/2.4k ( 93.46%) ETA    24s"
       ]
      },
      {
       "output_type": "stream",
       "stream": "stdout",
       "text": [
        "\r",
        "|\u001b[0;34m======================================\u001b[0m\u001b[0;32m>\u001b[0m--| 2.2k/2.4k ( 93.50%) ETA    24s"
       ]
      },
      {
       "output_type": "stream",
       "stream": "stdout",
       "text": [
        "\r",
        "|\u001b[0;34m======================================\u001b[0m\u001b[0;32m>\u001b[0m--| 2.2k/2.4k ( 93.54%) ETA    24s"
       ]
      },
      {
       "output_type": "stream",
       "stream": "stdout",
       "text": [
        "\r",
        "|\u001b[0;34m======================================\u001b[0m\u001b[0;32m>\u001b[0m--| 2.2k/2.4k ( 93.58%) ETA    24s"
       ]
      },
      {
       "output_type": "stream",
       "stream": "stdout",
       "text": [
        "\r",
        "|\u001b[0;34m======================================\u001b[0m\u001b[0;32m>\u001b[0m--| 2.2k/2.4k ( 93.62%) ETA    24s"
       ]
      },
      {
       "output_type": "stream",
       "stream": "stdout",
       "text": [
        "\r",
        "|\u001b[0;34m======================================\u001b[0m\u001b[0;32m>\u001b[0m--| 2.2k/2.4k ( 93.67%) ETA    23s"
       ]
      },
      {
       "output_type": "stream",
       "stream": "stdout",
       "text": [
        "\r",
        "|\u001b[0;34m======================================\u001b[0m\u001b[0;32m>\u001b[0m--| 2.2k/2.4k ( 93.71%) ETA    23s"
       ]
      },
      {
       "output_type": "stream",
       "stream": "stdout",
       "text": [
        "\r",
        "|\u001b[0;34m======================================\u001b[0m\u001b[0;32m>\u001b[0m--| 2.2k/2.4k ( 93.75%) ETA    23s"
       ]
      },
      {
       "output_type": "stream",
       "stream": "stdout",
       "text": [
        "\r",
        "|\u001b[0;34m======================================\u001b[0m\u001b[0;32m>\u001b[0m--| 2.2k/2.4k ( 93.79%) ETA    23s"
       ]
      },
      {
       "output_type": "stream",
       "stream": "stdout",
       "text": [
        "\r",
        "|\u001b[0;34m======================================\u001b[0m\u001b[0;32m>\u001b[0m--| 2.2k/2.4k ( 93.83%) ETA    23s"
       ]
      },
      {
       "output_type": "stream",
       "stream": "stdout",
       "text": [
        "\r",
        "|\u001b[0;34m======================================\u001b[0m\u001b[0;32m>\u001b[0m--| 2.2k/2.4k ( 93.88%) ETA    23s"
       ]
      },
      {
       "output_type": "stream",
       "stream": "stdout",
       "text": [
        "\r",
        "|\u001b[0;34m======================================\u001b[0m\u001b[0;32m>\u001b[0m--| 2.2k/2.4k ( 93.92%) ETA    23s"
       ]
      },
      {
       "output_type": "stream",
       "stream": "stdout",
       "text": [
        "\r",
        "|\u001b[0;34m======================================\u001b[0m\u001b[0;32m>\u001b[0m--| 2.2k/2.4k ( 93.96%) ETA    22s"
       ]
      },
      {
       "output_type": "stream",
       "stream": "stdout",
       "text": [
        "\r",
        "|\u001b[0;34m======================================\u001b[0m\u001b[0;32m>\u001b[0m--| 2.2k/2.4k ( 94.00%) ETA    22s"
       ]
      },
      {
       "output_type": "stream",
       "stream": "stdout",
       "text": [
        "\r",
        "|\u001b[0;34m======================================\u001b[0m\u001b[0;32m>\u001b[0m--| 2.2k/2.4k ( 94.04%) ETA    22s"
       ]
      },
      {
       "output_type": "stream",
       "stream": "stdout",
       "text": [
        "\r",
        "|\u001b[0;34m======================================\u001b[0m\u001b[0;32m>\u001b[0m--| 2.2k/2.4k ( 94.08%) ETA    22s"
       ]
      },
      {
       "output_type": "stream",
       "stream": "stdout",
       "text": [
        "\r",
        "|\u001b[0;34m======================================\u001b[0m\u001b[0;32m>\u001b[0m--| 2.2k/2.4k ( 94.12%) ETA    22s"
       ]
      },
      {
       "output_type": "stream",
       "stream": "stdout",
       "text": [
        "\r",
        "|\u001b[0;34m======================================\u001b[0m\u001b[0;32m>\u001b[0m--| 2.2k/2.4k ( 94.17%) ETA    22s"
       ]
      },
      {
       "output_type": "stream",
       "stream": "stdout",
       "text": [
        "\r",
        "|\u001b[0;34m======================================\u001b[0m\u001b[0;32m>\u001b[0m--| 2.2k/2.4k ( 94.21%) ETA    21s"
       ]
      },
      {
       "output_type": "stream",
       "stream": "stdout",
       "text": [
        "\r",
        "|\u001b[0;34m======================================\u001b[0m\u001b[0;32m>\u001b[0m--| 2.2k/2.4k ( 94.25%) ETA    21s"
       ]
      },
      {
       "output_type": "stream",
       "stream": "stdout",
       "text": [
        "\r",
        "|\u001b[0;34m======================================\u001b[0m\u001b[0;32m>\u001b[0m--| 2.2k/2.4k ( 94.29%) ETA    21s"
       ]
      },
      {
       "output_type": "stream",
       "stream": "stdout",
       "text": [
        "\r",
        "|\u001b[0;34m======================================\u001b[0m\u001b[0;32m>\u001b[0m--| 2.2k/2.4k ( 94.33%) ETA    21s"
       ]
      },
      {
       "output_type": "stream",
       "stream": "stdout",
       "text": [
        "\r",
        "|\u001b[0;34m======================================\u001b[0m\u001b[0;32m>\u001b[0m--| 2.2k/2.4k ( 94.38%) ETA    21s"
       ]
      },
      {
       "output_type": "stream",
       "stream": "stdout",
       "text": [
        "\r",
        "|\u001b[0;34m======================================\u001b[0m\u001b[0;32m>\u001b[0m--| 2.2k/2.4k ( 94.42%) ETA    21s"
       ]
      },
      {
       "output_type": "stream",
       "stream": "stdout",
       "text": [
        "\r",
        "|\u001b[0;34m======================================\u001b[0m\u001b[0;32m>\u001b[0m--| 2.2k/2.4k ( 94.46%) ETA    20s"
       ]
      },
      {
       "output_type": "stream",
       "stream": "stdout",
       "text": [
        "\r",
        "|\u001b[0;34m======================================\u001b[0m\u001b[0;32m>\u001b[0m--| 2.2k/2.4k ( 94.50%) ETA    20s"
       ]
      },
      {
       "output_type": "stream",
       "stream": "stdout",
       "text": [
        "\r",
        "|\u001b[0;34m======================================\u001b[0m\u001b[0;32m>\u001b[0m--| 2.2k/2.4k ( 94.54%) ETA    20s"
       ]
      },
      {
       "output_type": "stream",
       "stream": "stdout",
       "text": [
        "\r",
        "|\u001b[0;34m======================================\u001b[0m\u001b[0;32m>\u001b[0m--| 2.2k/2.4k ( 94.58%) ETA    20s"
       ]
      },
      {
       "output_type": "stream",
       "stream": "stdout",
       "text": [
        "\r",
        "|\u001b[0;34m======================================\u001b[0m\u001b[0;32m>\u001b[0m--| 2.2k/2.4k ( 94.62%) ETA    20s"
       ]
      },
      {
       "output_type": "stream",
       "stream": "stdout",
       "text": [
        "\r",
        "|\u001b[0;34m======================================\u001b[0m\u001b[0;32m>\u001b[0m--| 2.2k/2.4k ( 94.67%) ETA    20s"
       ]
      },
      {
       "output_type": "stream",
       "stream": "stdout",
       "text": [
        "\r",
        "|\u001b[0;34m======================================\u001b[0m\u001b[0;32m>\u001b[0m--| 2.2k/2.4k ( 94.71%) ETA    20s"
       ]
      },
      {
       "output_type": "stream",
       "stream": "stdout",
       "text": [
        "\r",
        "|\u001b[0;34m======================================\u001b[0m\u001b[0;32m>\u001b[0m--| 2.2k/2.4k ( 94.75%) ETA    19s"
       ]
      },
      {
       "output_type": "stream",
       "stream": "stdout",
       "text": [
        "\r",
        "|\u001b[0;34m======================================\u001b[0m\u001b[0;32m>\u001b[0m--| 2.2k/2.4k ( 94.79%) ETA    19s"
       ]
      },
      {
       "output_type": "stream",
       "stream": "stdout",
       "text": [
        "\r",
        "|\u001b[0;34m======================================\u001b[0m\u001b[0;32m>\u001b[0m--| 2.2k/2.4k ( 94.83%) ETA    19s"
       ]
      },
      {
       "output_type": "stream",
       "stream": "stdout",
       "text": [
        "\r",
        "|\u001b[0;34m======================================\u001b[0m\u001b[0;32m>\u001b[0m--| 2.2k/2.4k ( 94.88%) ETA    19s"
       ]
      },
      {
       "output_type": "stream",
       "stream": "stdout",
       "text": [
        "\r",
        "|\u001b[0;34m======================================\u001b[0m\u001b[0;32m>\u001b[0m--| 2.2k/2.4k ( 94.92%) ETA    19s"
       ]
      },
      {
       "output_type": "stream",
       "stream": "stdout",
       "text": [
        "\r",
        "|\u001b[0;34m======================================\u001b[0m\u001b[0;32m>\u001b[0m--| 2.2k/2.4k ( 94.96%) ETA    19s"
       ]
      },
      {
       "output_type": "stream",
       "stream": "stdout",
       "text": [
        "\r",
        "|\u001b[0;34m======================================\u001b[0m\u001b[0;32m>\u001b[0m--| 2.2k/2.4k ( 95.00%) ETA    18s"
       ]
      },
      {
       "output_type": "stream",
       "stream": "stdout",
       "text": [
        "\r",
        "|\u001b[0;34m======================================\u001b[0m\u001b[0;32m>\u001b[0m--| 2.2k/2.4k ( 95.04%) ETA    18s"
       ]
      },
      {
       "output_type": "stream",
       "stream": "stdout",
       "text": [
        "\r",
        "|\u001b[0;34m======================================\u001b[0m\u001b[0;32m>\u001b[0m--| 2.2k/2.4k ( 95.08%) ETA    18s"
       ]
      },
      {
       "output_type": "stream",
       "stream": "stdout",
       "text": [
        "\r",
        "|\u001b[0;34m=======================================\u001b[0m\u001b[0;32m>\u001b[0m-| 2.2k/2.4k ( 95.12%) ETA    18s"
       ]
      },
      {
       "output_type": "stream",
       "stream": "stdout",
       "text": [
        "\r",
        "|\u001b[0;34m=======================================\u001b[0m\u001b[0;32m>\u001b[0m-| 2.2k/2.4k ( 95.17%) ETA    18s"
       ]
      },
      {
       "output_type": "stream",
       "stream": "stdout",
       "text": [
        "\r",
        "|\u001b[0;34m=======================================\u001b[0m\u001b[0;32m>\u001b[0m-| 2.2k/2.4k ( 95.21%) ETA    18s"
       ]
      },
      {
       "output_type": "stream",
       "stream": "stdout",
       "text": [
        "\r",
        "|\u001b[0;34m=======================================\u001b[0m\u001b[0;32m>\u001b[0m-| 2.2k/2.4k ( 95.25%) ETA    17s"
       ]
      },
      {
       "output_type": "stream",
       "stream": "stdout",
       "text": [
        "\r",
        "|\u001b[0;34m=======================================\u001b[0m\u001b[0;32m>\u001b[0m-| 2.2k/2.4k ( 95.29%) ETA    17s"
       ]
      },
      {
       "output_type": "stream",
       "stream": "stdout",
       "text": [
        "\r",
        "|\u001b[0;34m=======================================\u001b[0m\u001b[0;32m>\u001b[0m-| 2.2k/2.4k ( 95.33%) ETA    17s"
       ]
      },
      {
       "output_type": "stream",
       "stream": "stdout",
       "text": [
        "\r",
        "|\u001b[0;34m=======================================\u001b[0m\u001b[0;32m>\u001b[0m-| 2.2k/2.4k ( 95.38%) ETA    17s"
       ]
      },
      {
       "output_type": "stream",
       "stream": "stdout",
       "text": [
        "\r",
        "|\u001b[0;34m=======================================\u001b[0m\u001b[0;32m>\u001b[0m-| 2.2k/2.4k ( 95.42%) ETA    17s"
       ]
      },
      {
       "output_type": "stream",
       "stream": "stdout",
       "text": [
        "\r",
        "|\u001b[0;34m=======================================\u001b[0m\u001b[0;32m>\u001b[0m-| 2.2k/2.4k ( 95.46%) ETA    17s"
       ]
      },
      {
       "output_type": "stream",
       "stream": "stdout",
       "text": [
        "\r",
        "|\u001b[0;34m=======================================\u001b[0m\u001b[0;32m>\u001b[0m-| 2.2k/2.4k ( 95.50%) ETA    17s"
       ]
      },
      {
       "output_type": "stream",
       "stream": "stdout",
       "text": [
        "\r",
        "|\u001b[0;34m=======================================\u001b[0m\u001b[0;32m>\u001b[0m-| 2.2k/2.4k ( 95.54%) ETA    16s"
       ]
      },
      {
       "output_type": "stream",
       "stream": "stdout",
       "text": [
        "\r",
        "|\u001b[0;34m=======================================\u001b[0m\u001b[0;32m>\u001b[0m-| 2.2k/2.4k ( 95.58%) ETA    16s"
       ]
      },
      {
       "output_type": "stream",
       "stream": "stdout",
       "text": [
        "\r",
        "|\u001b[0;34m=======================================\u001b[0m\u001b[0;32m>\u001b[0m-| 2.2k/2.4k ( 95.62%) ETA    16s"
       ]
      },
      {
       "output_type": "stream",
       "stream": "stdout",
       "text": [
        "\r",
        "|\u001b[0;34m=======================================\u001b[0m\u001b[0;32m>\u001b[0m-| 2.2k/2.4k ( 95.67%) ETA    16s"
       ]
      },
      {
       "output_type": "stream",
       "stream": "stdout",
       "text": [
        "\r",
        "|\u001b[0;34m=======================================\u001b[0m\u001b[0;32m>\u001b[0m-| 2.2k/2.4k ( 95.71%) ETA    16s"
       ]
      },
      {
       "output_type": "stream",
       "stream": "stdout",
       "text": [
        "\r",
        "|\u001b[0;34m=======================================\u001b[0m\u001b[0;32m>\u001b[0m-| 2.2k/2.4k ( 95.75%) ETA    16s"
       ]
      },
      {
       "output_type": "stream",
       "stream": "stdout",
       "text": [
        "\r",
        "|\u001b[0;34m=======================================\u001b[0m\u001b[0;32m>\u001b[0m-| 2.2k/2.4k ( 95.79%) ETA    15s"
       ]
      },
      {
       "output_type": "stream",
       "stream": "stdout",
       "text": [
        "\r",
        "|\u001b[0;34m=======================================\u001b[0m\u001b[0;32m>\u001b[0m-| 2.3k/2.4k ( 95.83%) ETA    15s"
       ]
      },
      {
       "output_type": "stream",
       "stream": "stdout",
       "text": [
        "\r",
        "|\u001b[0;34m=======================================\u001b[0m\u001b[0;32m>\u001b[0m-| 2.3k/2.4k ( 95.88%) ETA    15s"
       ]
      },
      {
       "output_type": "stream",
       "stream": "stdout",
       "text": [
        "\r",
        "|\u001b[0;34m=======================================\u001b[0m\u001b[0;32m>\u001b[0m-| 2.3k/2.4k ( 95.92%) ETA    15s"
       ]
      },
      {
       "output_type": "stream",
       "stream": "stdout",
       "text": [
        "\r",
        "|\u001b[0;34m=======================================\u001b[0m\u001b[0;32m>\u001b[0m-| 2.3k/2.4k ( 95.96%) ETA    15s"
       ]
      },
      {
       "output_type": "stream",
       "stream": "stdout",
       "text": [
        "\r",
        "|\u001b[0;34m=======================================\u001b[0m\u001b[0;32m>\u001b[0m-| 2.3k/2.4k ( 96.00%) ETA    15s"
       ]
      },
      {
       "output_type": "stream",
       "stream": "stdout",
       "text": [
        "\r",
        "|\u001b[0;34m=======================================\u001b[0m\u001b[0;32m>\u001b[0m-| 2.3k/2.4k ( 96.04%) ETA    14s"
       ]
      },
      {
       "output_type": "stream",
       "stream": "stdout",
       "text": [
        "\r",
        "|\u001b[0;34m=======================================\u001b[0m\u001b[0;32m>\u001b[0m-| 2.3k/2.4k ( 96.08%) ETA    14s"
       ]
      },
      {
       "output_type": "stream",
       "stream": "stdout",
       "text": [
        "\r",
        "|\u001b[0;34m=======================================\u001b[0m\u001b[0;32m>\u001b[0m-| 2.3k/2.4k ( 96.12%) ETA    14s"
       ]
      },
      {
       "output_type": "stream",
       "stream": "stdout",
       "text": [
        "\r",
        "|\u001b[0;34m=======================================\u001b[0m\u001b[0;32m>\u001b[0m-| 2.3k/2.4k ( 96.17%) ETA    14s"
       ]
      },
      {
       "output_type": "stream",
       "stream": "stdout",
       "text": [
        "\r",
        "|\u001b[0;34m=======================================\u001b[0m\u001b[0;32m>\u001b[0m-| 2.3k/2.4k ( 96.21%) ETA    14s"
       ]
      },
      {
       "output_type": "stream",
       "stream": "stdout",
       "text": [
        "\r",
        "|\u001b[0;34m=======================================\u001b[0m\u001b[0;32m>\u001b[0m-| 2.3k/2.4k ( 96.25%) ETA    14s"
       ]
      },
      {
       "output_type": "stream",
       "stream": "stdout",
       "text": [
        "\r",
        "|\u001b[0;34m=======================================\u001b[0m\u001b[0;32m>\u001b[0m-| 2.3k/2.4k ( 96.29%) ETA    14s"
       ]
      },
      {
       "output_type": "stream",
       "stream": "stdout",
       "text": [
        "\r",
        "|\u001b[0;34m=======================================\u001b[0m\u001b[0;32m>\u001b[0m-| 2.3k/2.4k ( 96.33%) ETA    13s"
       ]
      },
      {
       "output_type": "stream",
       "stream": "stdout",
       "text": [
        "\r",
        "|\u001b[0;34m=======================================\u001b[0m\u001b[0;32m>\u001b[0m-| 2.3k/2.4k ( 96.38%) ETA    13s"
       ]
      },
      {
       "output_type": "stream",
       "stream": "stdout",
       "text": [
        "\r",
        "|\u001b[0;34m=======================================\u001b[0m\u001b[0;32m>\u001b[0m-| 2.3k/2.4k ( 96.42%) ETA    13s"
       ]
      },
      {
       "output_type": "stream",
       "stream": "stdout",
       "text": [
        "\r",
        "|\u001b[0;34m=======================================\u001b[0m\u001b[0;32m>\u001b[0m-| 2.3k/2.4k ( 96.46%) ETA    13s"
       ]
      },
      {
       "output_type": "stream",
       "stream": "stdout",
       "text": [
        "\r",
        "|\u001b[0;34m=======================================\u001b[0m\u001b[0;32m>\u001b[0m-| 2.3k/2.4k ( 96.50%) ETA    13s"
       ]
      },
      {
       "output_type": "stream",
       "stream": "stdout",
       "text": [
        "\r",
        "|\u001b[0;34m=======================================\u001b[0m\u001b[0;32m>\u001b[0m-| 2.3k/2.4k ( 96.54%) ETA    13s"
       ]
      },
      {
       "output_type": "stream",
       "stream": "stdout",
       "text": [
        "\r",
        "|\u001b[0;34m=======================================\u001b[0m\u001b[0;32m>\u001b[0m-| 2.3k/2.4k ( 96.58%) ETA    12s"
       ]
      },
      {
       "output_type": "stream",
       "stream": "stdout",
       "text": [
        "\r",
        "|\u001b[0;34m=======================================\u001b[0m\u001b[0;32m>\u001b[0m-| 2.3k/2.4k ( 96.62%) ETA    12s"
       ]
      },
      {
       "output_type": "stream",
       "stream": "stdout",
       "text": [
        "\r",
        "|\u001b[0;34m=======================================\u001b[0m\u001b[0;32m>\u001b[0m-| 2.3k/2.4k ( 96.67%) ETA    12s"
       ]
      },
      {
       "output_type": "stream",
       "stream": "stdout",
       "text": [
        "\r",
        "|\u001b[0;34m=======================================\u001b[0m\u001b[0;32m>\u001b[0m-| 2.3k/2.4k ( 96.71%) ETA    12s"
       ]
      },
      {
       "output_type": "stream",
       "stream": "stdout",
       "text": [
        "\r",
        "|\u001b[0;34m=======================================\u001b[0m\u001b[0;32m>\u001b[0m-| 2.3k/2.4k ( 96.75%) ETA    12s"
       ]
      },
      {
       "output_type": "stream",
       "stream": "stdout",
       "text": [
        "\r",
        "|\u001b[0;34m=======================================\u001b[0m\u001b[0;32m>\u001b[0m-| 2.3k/2.4k ( 96.79%) ETA    12s"
       ]
      },
      {
       "output_type": "stream",
       "stream": "stdout",
       "text": [
        "\r",
        "|\u001b[0;34m=======================================\u001b[0m\u001b[0;32m>\u001b[0m-| 2.3k/2.4k ( 96.83%) ETA    11s"
       ]
      },
      {
       "output_type": "stream",
       "stream": "stdout",
       "text": [
        "\r",
        "|\u001b[0;34m=======================================\u001b[0m\u001b[0;32m>\u001b[0m-| 2.3k/2.4k ( 96.88%) ETA    11s"
       ]
      },
      {
       "output_type": "stream",
       "stream": "stdout",
       "text": [
        "\r",
        "|\u001b[0;34m=======================================\u001b[0m\u001b[0;32m>\u001b[0m-| 2.3k/2.4k ( 96.92%) ETA    11s"
       ]
      },
      {
       "output_type": "stream",
       "stream": "stdout",
       "text": [
        "\r",
        "|\u001b[0;34m=======================================\u001b[0m\u001b[0;32m>\u001b[0m-| 2.3k/2.4k ( 96.96%) ETA    11s"
       ]
      },
      {
       "output_type": "stream",
       "stream": "stdout",
       "text": [
        "\r",
        "|\u001b[0;34m=======================================\u001b[0m\u001b[0;32m>\u001b[0m-| 2.3k/2.4k ( 97.00%) ETA    11s"
       ]
      },
      {
       "output_type": "stream",
       "stream": "stdout",
       "text": [
        "\r",
        "|\u001b[0;34m=======================================\u001b[0m\u001b[0;32m>\u001b[0m-| 2.3k/2.4k ( 97.04%) ETA    11s"
       ]
      },
      {
       "output_type": "stream",
       "stream": "stdout",
       "text": [
        "\r",
        "|\u001b[0;34m=======================================\u001b[0m\u001b[0;32m>\u001b[0m-| 2.3k/2.4k ( 97.08%) ETA    11s"
       ]
      },
      {
       "output_type": "stream",
       "stream": "stdout",
       "text": [
        "\r",
        "|\u001b[0;34m=======================================\u001b[0m\u001b[0;32m>\u001b[0m-| 2.3k/2.4k ( 97.12%) ETA    10s"
       ]
      },
      {
       "output_type": "stream",
       "stream": "stdout",
       "text": [
        "\r",
        "|\u001b[0;34m=======================================\u001b[0m\u001b[0;32m>\u001b[0m-| 2.3k/2.4k ( 97.17%) ETA    10s"
       ]
      },
      {
       "output_type": "stream",
       "stream": "stdout",
       "text": [
        "\r",
        "|\u001b[0;34m=======================================\u001b[0m\u001b[0;32m>\u001b[0m-| 2.3k/2.4k ( 97.21%) ETA    10s"
       ]
      },
      {
       "output_type": "stream",
       "stream": "stdout",
       "text": [
        "\r",
        "|\u001b[0;34m=======================================\u001b[0m\u001b[0;32m>\u001b[0m-| 2.3k/2.4k ( 97.25%) ETA    10s"
       ]
      },
      {
       "output_type": "stream",
       "stream": "stdout",
       "text": [
        "\r",
        "|\u001b[0;34m=======================================\u001b[0m\u001b[0;32m>\u001b[0m-| 2.3k/2.4k ( 97.29%) ETA    10s"
       ]
      },
      {
       "output_type": "stream",
       "stream": "stdout",
       "text": [
        "\r",
        "|\u001b[0;34m=======================================\u001b[0m\u001b[0;32m>\u001b[0m-| 2.3k/2.4k ( 97.33%) ETA    10s"
       ]
      },
      {
       "output_type": "stream",
       "stream": "stdout",
       "text": [
        "\r",
        "|\u001b[0;34m=======================================\u001b[0m\u001b[0;32m>\u001b[0m-| 2.3k/2.4k ( 97.38%) ETA    09s"
       ]
      },
      {
       "output_type": "stream",
       "stream": "stdout",
       "text": [
        "\r",
        "|\u001b[0;34m=======================================\u001b[0m\u001b[0;32m>\u001b[0m-| 2.3k/2.4k ( 97.42%) ETA    09s"
       ]
      },
      {
       "output_type": "stream",
       "stream": "stdout",
       "text": [
        "\r",
        "|\u001b[0;34m=======================================\u001b[0m\u001b[0;32m>\u001b[0m-| 2.3k/2.4k ( 97.46%) ETA    09s"
       ]
      },
      {
       "output_type": "stream",
       "stream": "stdout",
       "text": [
        "\r",
        "|\u001b[0;34m=======================================\u001b[0m\u001b[0;32m>\u001b[0m-| 2.3k/2.4k ( 97.50%) ETA    09s"
       ]
      },
      {
       "output_type": "stream",
       "stream": "stdout",
       "text": [
        "\r",
        "|\u001b[0;34m=======================================\u001b[0m\u001b[0;32m>\u001b[0m-| 2.3k/2.4k ( 97.54%) ETA    09s"
       ]
      },
      {
       "output_type": "stream",
       "stream": "stdout",
       "text": [
        "\r",
        "|\u001b[0;34m========================================\u001b[0m\u001b[0;32m>\u001b[0m| 2.3k/2.4k ( 97.58%) ETA    09s"
       ]
      },
      {
       "output_type": "stream",
       "stream": "stdout",
       "text": [
        "\r",
        "|\u001b[0;34m========================================\u001b[0m\u001b[0;32m>\u001b[0m| 2.3k/2.4k ( 97.62%) ETA    08s"
       ]
      },
      {
       "output_type": "stream",
       "stream": "stdout",
       "text": [
        "\r",
        "|\u001b[0;34m========================================\u001b[0m\u001b[0;32m>\u001b[0m| 2.3k/2.4k ( 97.67%) ETA    08s"
       ]
      },
      {
       "output_type": "stream",
       "stream": "stdout",
       "text": [
        "\r",
        "|\u001b[0;34m========================================\u001b[0m\u001b[0;32m>\u001b[0m| 2.3k/2.4k ( 97.71%) ETA    08s"
       ]
      },
      {
       "output_type": "stream",
       "stream": "stdout",
       "text": [
        "\r",
        "|\u001b[0;34m========================================\u001b[0m\u001b[0;32m>\u001b[0m| 2.3k/2.4k ( 97.75%) ETA    08s"
       ]
      },
      {
       "output_type": "stream",
       "stream": "stdout",
       "text": [
        "\r",
        "|\u001b[0;34m========================================\u001b[0m\u001b[0;32m>\u001b[0m| 2.3k/2.4k ( 97.79%) ETA    08s"
       ]
      },
      {
       "output_type": "stream",
       "stream": "stdout",
       "text": [
        "\r",
        "|\u001b[0;34m========================================\u001b[0m\u001b[0;32m>\u001b[0m| 2.3k/2.4k ( 97.83%) ETA    08s"
       ]
      },
      {
       "output_type": "stream",
       "stream": "stdout",
       "text": [
        "\r",
        "|\u001b[0;34m========================================\u001b[0m\u001b[0;32m>\u001b[0m| 2.3k/2.4k ( 97.88%) ETA    08s"
       ]
      },
      {
       "output_type": "stream",
       "stream": "stdout",
       "text": [
        "\r",
        "|\u001b[0;34m========================================\u001b[0m\u001b[0;32m>\u001b[0m| 2.3k/2.4k ( 97.92%) ETA    07s"
       ]
      },
      {
       "output_type": "stream",
       "stream": "stdout",
       "text": [
        "\r",
        "|\u001b[0;34m========================================\u001b[0m\u001b[0;32m>\u001b[0m| 2.3k/2.4k ( 97.96%) ETA    07s"
       ]
      },
      {
       "output_type": "stream",
       "stream": "stdout",
       "text": [
        "\r",
        "|\u001b[0;34m========================================\u001b[0m\u001b[0;32m>\u001b[0m| 2.3k/2.4k ( 98.00%) ETA    07s"
       ]
      },
      {
       "output_type": "stream",
       "stream": "stdout",
       "text": [
        "\r",
        "|\u001b[0;34m========================================\u001b[0m\u001b[0;32m>\u001b[0m| 2.3k/2.4k ( 98.04%) ETA    07s"
       ]
      },
      {
       "output_type": "stream",
       "stream": "stdout",
       "text": [
        "\r",
        "|\u001b[0;34m========================================\u001b[0m\u001b[0;32m>\u001b[0m| 2.3k/2.4k ( 98.08%) ETA    07s"
       ]
      },
      {
       "output_type": "stream",
       "stream": "stdout",
       "text": [
        "\r",
        "|\u001b[0;34m========================================\u001b[0m\u001b[0;32m>\u001b[0m| 2.3k/2.4k ( 98.12%) ETA    07s"
       ]
      },
      {
       "output_type": "stream",
       "stream": "stdout",
       "text": [
        "\r",
        "|\u001b[0;34m========================================\u001b[0m\u001b[0;32m>\u001b[0m| 2.3k/2.4k ( 98.17%) ETA    06s"
       ]
      },
      {
       "output_type": "stream",
       "stream": "stdout",
       "text": [
        "\r",
        "|\u001b[0;34m========================================\u001b[0m\u001b[0;32m>\u001b[0m| 2.3k/2.4k ( 98.21%) ETA    06s"
       ]
      },
      {
       "output_type": "stream",
       "stream": "stdout",
       "text": [
        "\r",
        "|\u001b[0;34m========================================\u001b[0m\u001b[0;32m>\u001b[0m| 2.3k/2.4k ( 98.25%) ETA    06s"
       ]
      },
      {
       "output_type": "stream",
       "stream": "stdout",
       "text": [
        "\r",
        "|\u001b[0;34m========================================\u001b[0m\u001b[0;32m>\u001b[0m| 2.3k/2.4k ( 98.29%) ETA    06s"
       ]
      },
      {
       "output_type": "stream",
       "stream": "stdout",
       "text": [
        "\r",
        "|\u001b[0;34m========================================\u001b[0m\u001b[0;32m>\u001b[0m| 2.3k/2.4k ( 98.33%) ETA    06s"
       ]
      },
      {
       "output_type": "stream",
       "stream": "stdout",
       "text": [
        "\r",
        "|\u001b[0;34m========================================\u001b[0m\u001b[0;32m>\u001b[0m| 2.3k/2.4k ( 98.38%) ETA    06s"
       ]
      },
      {
       "output_type": "stream",
       "stream": "stdout",
       "text": [
        "\r",
        "|\u001b[0;34m========================================\u001b[0m\u001b[0;32m>\u001b[0m| 2.3k/2.4k ( 98.42%) ETA    05s"
       ]
      },
      {
       "output_type": "stream",
       "stream": "stdout",
       "text": [
        "\r",
        "|\u001b[0;34m========================================\u001b[0m\u001b[0;32m>\u001b[0m| 2.3k/2.4k ( 98.46%) ETA    05s"
       ]
      },
      {
       "output_type": "stream",
       "stream": "stdout",
       "text": [
        "\r",
        "|\u001b[0;34m========================================\u001b[0m\u001b[0;32m>\u001b[0m| 2.3k/2.4k ( 98.50%) ETA    05s"
       ]
      },
      {
       "output_type": "stream",
       "stream": "stdout",
       "text": [
        "\r",
        "|\u001b[0;34m========================================\u001b[0m\u001b[0;32m>\u001b[0m| 2.3k/2.4k ( 98.54%) ETA    05s"
       ]
      },
      {
       "output_type": "stream",
       "stream": "stdout",
       "text": [
        "\r",
        "|\u001b[0;34m========================================\u001b[0m\u001b[0;32m>\u001b[0m| 2.3k/2.4k ( 98.58%) ETA    05s"
       ]
      },
      {
       "output_type": "stream",
       "stream": "stdout",
       "text": [
        "\r",
        "|\u001b[0;34m========================================\u001b[0m\u001b[0;32m>\u001b[0m| 2.3k/2.4k ( 98.62%) ETA    05s"
       ]
      },
      {
       "output_type": "stream",
       "stream": "stdout",
       "text": [
        "\r",
        "|\u001b[0;34m========================================\u001b[0m\u001b[0;32m>\u001b[0m| 2.3k/2.4k ( 98.67%) ETA    05s"
       ]
      },
      {
       "output_type": "stream",
       "stream": "stdout",
       "text": [
        "\r",
        "|\u001b[0;34m========================================\u001b[0m\u001b[0;32m>\u001b[0m| 2.3k/2.4k ( 98.71%) ETA    04s"
       ]
      },
      {
       "output_type": "stream",
       "stream": "stdout",
       "text": [
        "\r",
        "|\u001b[0;34m========================================\u001b[0m\u001b[0;32m>\u001b[0m| 2.3k/2.4k ( 98.75%) ETA    04s"
       ]
      },
      {
       "output_type": "stream",
       "stream": "stdout",
       "text": [
        "\r",
        "|\u001b[0;34m========================================\u001b[0m\u001b[0;32m>\u001b[0m| 2.3k/2.4k ( 98.79%) ETA    04s"
       ]
      },
      {
       "output_type": "stream",
       "stream": "stdout",
       "text": [
        "\r",
        "|\u001b[0;34m========================================\u001b[0m\u001b[0;32m>\u001b[0m| 2.3k/2.4k ( 98.83%) ETA    04s"
       ]
      },
      {
       "output_type": "stream",
       "stream": "stdout",
       "text": [
        "\r",
        "|\u001b[0;34m========================================\u001b[0m\u001b[0;32m>\u001b[0m| 2.3k/2.4k ( 98.88%) ETA    04s"
       ]
      },
      {
       "output_type": "stream",
       "stream": "stdout",
       "text": [
        "\r",
        "|\u001b[0;34m========================================\u001b[0m\u001b[0;32m>\u001b[0m| 2.3k/2.4k ( 98.92%) ETA    04s"
       ]
      },
      {
       "output_type": "stream",
       "stream": "stdout",
       "text": [
        "\r",
        "|\u001b[0;34m========================================\u001b[0m\u001b[0;32m>\u001b[0m| 2.3k/2.4k ( 98.96%) ETA    03s"
       ]
      },
      {
       "output_type": "stream",
       "stream": "stdout",
       "text": [
        "\r",
        "|\u001b[0;34m========================================\u001b[0m\u001b[0;32m>\u001b[0m| 2.3k/2.4k ( 99.00%) ETA    03s"
       ]
      },
      {
       "output_type": "stream",
       "stream": "stdout",
       "text": [
        "\r",
        "|\u001b[0;34m========================================\u001b[0m\u001b[0;32m>\u001b[0m| 2.3k/2.4k ( 99.04%) ETA    03s"
       ]
      },
      {
       "output_type": "stream",
       "stream": "stdout",
       "text": [
        "\r",
        "|\u001b[0;34m========================================\u001b[0m\u001b[0;32m>\u001b[0m| 2.3k/2.4k ( 99.08%) ETA    03s"
       ]
      },
      {
       "output_type": "stream",
       "stream": "stdout",
       "text": [
        "\r",
        "|\u001b[0;34m========================================\u001b[0m\u001b[0;32m>\u001b[0m| 2.3k/2.4k ( 99.12%) ETA    03s"
       ]
      },
      {
       "output_type": "stream",
       "stream": "stdout",
       "text": [
        "\r",
        "|\u001b[0;34m========================================\u001b[0m\u001b[0;32m>\u001b[0m| 2.3k/2.4k ( 99.17%) ETA    03s"
       ]
      },
      {
       "output_type": "stream",
       "stream": "stdout",
       "text": [
        "\r",
        "|\u001b[0;34m========================================\u001b[0m\u001b[0;32m>\u001b[0m| 2.3k/2.4k ( 99.21%) ETA    02s"
       ]
      },
      {
       "output_type": "stream",
       "stream": "stdout",
       "text": [
        "\r",
        "|\u001b[0;34m========================================\u001b[0m\u001b[0;32m>\u001b[0m| 2.3k/2.4k ( 99.25%) ETA    02s"
       ]
      },
      {
       "output_type": "stream",
       "stream": "stdout",
       "text": [
        "\r",
        "|\u001b[0;34m========================================\u001b[0m\u001b[0;32m>\u001b[0m| 2.3k/2.4k ( 99.29%) ETA    02s"
       ]
      },
      {
       "output_type": "stream",
       "stream": "stdout",
       "text": [
        "\r",
        "|\u001b[0;34m========================================\u001b[0m\u001b[0;32m>\u001b[0m| 2.3k/2.4k ( 99.33%) ETA    02s"
       ]
      },
      {
       "output_type": "stream",
       "stream": "stdout",
       "text": [
        "\r",
        "|\u001b[0;34m========================================\u001b[0m\u001b[0;32m>\u001b[0m| 2.3k/2.4k ( 99.38%) ETA    02s"
       ]
      },
      {
       "output_type": "stream",
       "stream": "stdout",
       "text": [
        "\r",
        "|\u001b[0;34m========================================\u001b[0m\u001b[0;32m>\u001b[0m| 2.3k/2.4k ( 99.42%) ETA    02s"
       ]
      },
      {
       "output_type": "stream",
       "stream": "stdout",
       "text": [
        "\r",
        "|\u001b[0;34m========================================\u001b[0m\u001b[0;32m>\u001b[0m| 2.3k/2.4k ( 99.46%) ETA    02s"
       ]
      },
      {
       "output_type": "stream",
       "stream": "stdout",
       "text": [
        "\r",
        "|\u001b[0;34m========================================\u001b[0m\u001b[0;32m>\u001b[0m| 2.3k/2.4k ( 99.50%) ETA    01s"
       ]
      },
      {
       "output_type": "stream",
       "stream": "stdout",
       "text": [
        "\r",
        "|\u001b[0;34m========================================\u001b[0m\u001b[0;32m>\u001b[0m| 2.3k/2.4k ( 99.54%) ETA    01s"
       ]
      },
      {
       "output_type": "stream",
       "stream": "stdout",
       "text": [
        "\r",
        "|\u001b[0;34m========================================\u001b[0m\u001b[0;32m>\u001b[0m| 2.3k/2.4k ( 99.58%) ETA    01s"
       ]
      },
      {
       "output_type": "stream",
       "stream": "stdout",
       "text": [
        "\r",
        "|\u001b[0;34m========================================\u001b[0m\u001b[0;32m>\u001b[0m| 2.3k/2.4k ( 99.62%) ETA    01s"
       ]
      },
      {
       "output_type": "stream",
       "stream": "stdout",
       "text": [
        "\r",
        "|\u001b[0;34m========================================\u001b[0m\u001b[0;32m>\u001b[0m| 2.3k/2.4k ( 99.67%) ETA    01s"
       ]
      },
      {
       "output_type": "stream",
       "stream": "stdout",
       "text": [
        "\r",
        "|\u001b[0;34m========================================\u001b[0m\u001b[0;32m>\u001b[0m| 2.3k/2.4k ( 99.71%) ETA    01s"
       ]
      },
      {
       "output_type": "stream",
       "stream": "stdout",
       "text": [
        "\r",
        "|\u001b[0;34m========================================\u001b[0m\u001b[0;32m>\u001b[0m| 2.3k/2.4k ( 99.75%) ETA    00s"
       ]
      },
      {
       "output_type": "stream",
       "stream": "stdout",
       "text": [
        "\r",
        "|\u001b[0;34m========================================\u001b[0m\u001b[0;32m>\u001b[0m| 2.3k/2.4k ( 99.79%) ETA    00s"
       ]
      },
      {
       "output_type": "stream",
       "stream": "stdout",
       "text": [
        "\r",
        "|\u001b[0;34m========================================\u001b[0m\u001b[0;32m>\u001b[0m| 2.3k/2.4k ( 99.83%) ETA    00s"
       ]
      },
      {
       "output_type": "stream",
       "stream": "stdout",
       "text": [
        "\r",
        "|\u001b[0;34m========================================\u001b[0m\u001b[0;32m>\u001b[0m| 2.3k/2.4k ( 99.88%) ETA    00s"
       ]
      },
      {
       "output_type": "stream",
       "stream": "stdout",
       "text": [
        "\r",
        "|\u001b[0;34m========================================\u001b[0m\u001b[0;32m>\u001b[0m| 2.3k/2.4k ( 99.92%) ETA    00s"
       ]
      },
      {
       "output_type": "stream",
       "stream": "stdout",
       "text": [
        "\r",
        "|\u001b[0;34m========================================\u001b[0m\u001b[0;32m>\u001b[0m| 2.3k/2.4k ( 99.96%) ETA    00s"
       ]
      },
      {
       "output_type": "stream",
       "stream": "stdout",
       "text": [
        "\r",
        "|\u001b[0;34m=========================================\u001b[0m| 2.4k/2.4k (100.00%)     06m18s"
       ]
      }
     ],
     "prompt_number": 70
    },
    {
     "cell_type": "code",
     "collapsed": false,
     "input": [
      "temperatures = [20,50,100]\n",
      "densities = np.logspace(2,6,20)\n",
      "abundances = np.logspace(-8,-10,5)\n",
      "h2columns = [1e22,1e23]\n",
      "transition_indices = [0,2,5] # [1,3,6]\n",
      "orthopararatios = [1e-3,0.5,1,3]\n",
      "grid[0]['source_line_surfbrightness'].shape"
     ],
     "language": "python",
     "metadata": {},
     "outputs": [
      {
       "metadata": {},
       "output_type": "pyout",
       "prompt_number": 72,
       "text": [
        "(4, 2, 5, 3, 20)"
       ]
      }
     ],
     "prompt_number": 72
    },
    {
     "cell_type": "code",
     "collapsed": false,
     "input": [
      "styleargs = {'linewidth': 2, 'alpha': 0.5, 'color':'#5A228B'}\n",
      "\n",
      "def setup(tem=1,dens=10,opr=0,col=1,abund=0,lineid=0):\n",
      "    fig, ((ax1,ax2),(ax3,ax4)) = plt.subplots(2,2, sharex='col', sharey='row', squeeze=True, figsize=(10,7))\n",
      "    plt.subplots_adjust(hspace=0,wspace=0)\n",
      "    lines1, = ax1.plot(temperatures, grid[lineid]['tau'][opr,col,abund,:,dens], **styleargs)\n",
      "    ax1.set_ylim(-0.2,0.2)\n",
      "    p1, = ax1.plot(temperatures[tem],grid[lineid]['tau'][opr,col,abund,tem,dens], 'o',alpha=0.5, markeredgecolor='none')\n",
      "    lines2, = ax3.plot(temperatures, grid[lineid]['tex'][opr,col,abund,:,dens], **styleargs)\n",
      "    ax3.set_ylim(0,temperatures[tem])\n",
      "    ax3.hlines(2.73,min(temperatures),max(temperatures), linestyle='--')\n",
      "\n",
      "    p3, =ax3.plot(temperatures[tem],grid[lineid]['tex'][opr,col,abund,tem,dens], 'o',alpha=0.5, markeredgecolor='none')\n",
      "\n",
      "    lines3, = ax2.semilogx(densities, grid[lineid]['tau'][opr,col,abund,tem,:], **styleargs)\n",
      "    ax2.set_ylim(-0.2,0.2)\n",
      "    p2, = ax2.plot(densities[dens],grid[lineid]['tau'][opr,col,abund,tem,dens], 'o',alpha=0.5, markeredgecolor='none')\n",
      "    lines4, = ax4.semilogx(densities, grid[lineid]['tex'][opr,col,abund,tem,:], **styleargs)\n",
      "    p4, = ax4.plot(densities[dens],grid[lineid]['tex'][opr,col,abund,tem,dens], 'o',alpha=0.5, markeredgecolor='none')\n",
      "    ax4.set_ylim(0,temperatures[tem])\n",
      "    ax4.hlines(2.73,min(densities),max(densities), linestyle='--')\n",
      "\n",
      "    title = plt.suptitle(\"$T=%i$ K, $n=10^{%0.1f}$ cm$^{-3}$\" % (temperatures[tem],np.log10(densities[dens])),\n",
      "                 fontsize=20)\n",
      "    ax4.set_xlabel('$n(H_2)$',fontsize=20)\n",
      "    ax3.set_xlabel(\"T\",fontsize=20)\n",
      "    ax1.set_ylabel(r\"$\\tau$\",fontsize=20)\n",
      "    ax3.set_ylabel(\"$T_{ex}$\",fontsize=20)\n",
      "    plt.show()\n",
      "    return fig,lines1,lines2,lines3,lines4,p1,p2,p3,p4,title\n",
      "\n",
      "def run_plot_temden():\n",
      "    fig,lines1,lines2,lines3,lines4,p1,p2,p3,p4,title = setup()\n",
      "    \n",
      "    @interact(tem=(0,len(temperatures)-1),\n",
      "              dens=(0,len(densities)-1),\n",
      "              opr=(0,len(orthopararatios)-1),\n",
      "              col=(0,len(h2columns)-1),\n",
      "              abund=(0,len(abundances)-1),\n",
      "              lineid=widgets.RadioButtonsWidget(values=transition_indices),\n",
      "              texmax=(0,max(temperatures)))\n",
      "    def plot_temden(tem,dens,opr,col,abund,lineid, texmax):\n",
      "        lines1.set_data(temperatures, grid[lineid]['tau'][opr,col,abund,:,dens])\n",
      "        lines2.set_data(temperatures, grid[lineid]['tex'][opr,col,abund,:,dens])\n",
      "        lines3.set_data(densities, grid[lineid]['tau'][opr,col,abund,tem,:])\n",
      "        lines4.set_data(densities, grid[lineid]['tex'][opr,col,abund,tem,:])\n",
      "        p1.set_data(temperatures[tem],grid[lineid]['tau'][opr,col,abund,tem,dens])\n",
      "        p2.set_data(densities[dens],grid[lineid]['tau'][opr,col,abund,tem,dens])\n",
      "        p3.set_data(temperatures[tem],grid[lineid]['tex'][opr,col,abund,tem,dens])\n",
      "        p4.set_data(densities[dens],grid[lineid]['tex'][opr,col,abund,tem,dens])\n",
      "        title.set_text(\"$T=%i$ K, $n=10^{%0.1f}$ cm$^{-3}$\" % (temperatures[tem],np.log10(densities[dens])))\n",
      "\n",
      "        for p in (p3,p4):\n",
      "            p.axes.set_ylim(0,texmax)\n",
      "        \n",
      "        display(fig)\n",
      "\n"
     ],
     "language": "python",
     "metadata": {},
     "outputs": [],
     "prompt_number": 89
    },
    {
     "cell_type": "code",
     "collapsed": false,
     "input": [
      "run_plot_temden()"
     ],
     "language": "python",
     "metadata": {},
     "outputs": [
      {
       "metadata": {},
       "output_type": "display_data",
       "png": "[encoded data removed]",
       "text": [
        "<matplotlib.figure.Figure at 0x16e11c150>"
       ]
      }
     ],
     "prompt_number": 90
    },
    {
     "cell_type": "code",
     "collapsed": false,
     "input": [],
     "language": "python",
     "metadata": {},
     "outputs": []
    }
   ],
   "metadata": {}
  }
 ]
}
