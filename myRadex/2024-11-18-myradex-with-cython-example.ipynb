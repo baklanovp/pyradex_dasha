{
 "cells": [
  {
   "cell_type": "code",
   "execution_count": null,
   "id": "2925fee9-3a23-4f00-9906-2253a18be481",
   "metadata": {},
   "outputs": [],
   "source": [
    "%matplotlib inline\n",
    "\n",
    "import numpy as np\n",
    "import matplotlib as mpl\n",
    "import matplotlib.pyplot as plt\n",
    "import pandas as pd\n",
    "pd.options.display.max_columns = 30\n",
    "import os\n",
    "import sys\n",
    "for std, __std__ in [\n",
    "    (sys.stdout, sys.__stdout__),\n",
    "    (sys.stderr, sys.__stderr__)]:\n",
    "    if getattr(std, \"_original_stdstream_copy\", None) is not None:\n",
    "        os.dup2(std._original_stdstream_copy, __std__.fileno())\n",
    "        std._original_stdstream_copy = None\n",
    "\n",
    "# myRadexPath = os.path.expanduser('~/_c/my_radex')\n",
    "myRadexPath = os.path.expanduser('./')\n",
    "if myRadexPath not in sys.path:\n",
    "    sys.path.append(myRadexPath)\n",
    "\n",
    "import myRadex"
   ]
  },
  {
   "cell_type": "markdown",
   "id": "ee2740fa-c1e4-455f-91cd-c8bb68c10161",
   "metadata": {},
   "source": [
    "# Try with e-CH3OH"
   ]
  },
  {
   "cell_type": "code",
   "execution_count": null,
   "id": "05ee5762-2896-4b0b-90f2-db51b5dde513",
   "metadata": {},
   "outputs": [],
   "source": [
    "a = myRadex.MyRadexModel(\n",
    "    dir_transition_rates=myRadexPath,\n",
    "    filename_molecule='e-ch3oh.dat')"
   ]
  },
  {
   "cell_type": "markdown",
   "id": "ad0ec080-a1fc-499d-87a1-516631a725f2",
   "metadata": {},
   "source": [
    "## Solve with the ODE solver"
   ]
  },
  {
   "cell_type": "code",
   "execution_count": null,
   "id": "b349c868-9c31-4ef3-8ce8-e5f48d76e751",
   "metadata": {},
   "outputs": [],
   "source": [
    "a.run_one_params(\n",
    "    Tkin=30.0, dv_CGS=1e5, Ncol_X_CGS=1e15,\n",
    "    oH2_density_CGS=3e4, pH2_densty_CGS=1e4, solve_method='ODE', geotype='')\n",
    "df = pd.DataFrame(data=a.data_transitions, columns=a.column_names)\n",
    "df.head(10)"
   ]
  },
  {
   "cell_type": "markdown",
   "id": "b17d2139-c946-41d8-9aa8-1811e8c65c43",
   "metadata": {},
   "source": [
    "## Solve with the Newton solver"
   ]
  },
  {
   "cell_type": "code",
   "execution_count": null,
   "id": "934590e6-7b15-4c21-81f6-1f2b70c2d70d",
   "metadata": {},
   "outputs": [],
   "source": [
    "a.run_one_params(\n",
    "    Tkin=30.0, dv_CGS=1e5, Ncol_X_CGS=1e15,\n",
    "    oH2_density_CGS=3e4, pH2_densty_CGS=1e4, solve_method='Newton', geotype='')\n",
    "df = pd.DataFrame(data=a.data_transitions, columns=a.column_names)\n",
    "df.head(10)"
   ]
  },
  {
   "cell_type": "markdown",
   "id": "d0bc1e6f-9b59-4f50-92e7-d6385800bdc9",
   "metadata": {},
   "source": [
    "# Try with CO"
   ]
  },
  {
   "cell_type": "code",
   "execution_count": null,
   "id": "98acd6e9-82aa-4dbb-be43-9f2a84bdbfbb",
   "metadata": {},
   "outputs": [],
   "source": [
    "a = myRadex.MyRadexModel(\n",
    "    dir_transition_rates=myRadexPath,\n",
    "    filename_molecule='12C16O_H2.dat')"
   ]
  },
  {
   "cell_type": "markdown",
   "id": "c4f24f2a-0d97-40ed-8345-694d7e7e2ef8",
   "metadata": {},
   "source": [
    "## Solve with the ODE solver"
   ]
  },
  {
   "cell_type": "code",
   "execution_count": null,
   "id": "9d82b173-de20-4646-9025-6716ef084e82",
   "metadata": {},
   "outputs": [],
   "source": [
    "a.run_one_params(\n",
    "    Tkin=30.0, dv_CGS=1e5, Ncol_X_CGS=1e21,\n",
    "    oH2_density_CGS=3e4, pH2_densty_CGS=1e4, solve_method='ODE', geotype='slab')\n",
    "df = pd.DataFrame(data=a.data_transitions, columns=a.column_names)\n",
    "df.head(10)"
   ]
  },
  {
   "cell_type": "markdown",
   "id": "a9448a17-b027-4dcc-add8-f717746aaa3a",
   "metadata": {},
   "source": [
    "## Solve with the Newton solver"
   ]
  },
  {
   "cell_type": "code",
   "execution_count": null,
   "id": "ef710762-03a8-4ecf-8598-7720457d65e8",
   "metadata": {},
   "outputs": [],
   "source": [
    "a.run_one_params(\n",
    "    Tkin=30.0, dv_CGS=1e5, Ncol_X_CGS=1e21,\n",
    "    oH2_density_CGS=3e4, pH2_densty_CGS=1e4, solve_method='Newton', geotype='slab')\n",
    "df = pd.DataFrame(data=a.data_transitions, columns=a.column_names)\n",
    "df.head(10)"
   ]
  },
  {
   "cell_type": "code",
   "execution_count": null,
   "id": "9ad6638b-1c09-41a4-98a3-00ea44323707",
   "metadata": {},
   "outputs": [],
   "source": []
  }
 ],
 "metadata": {
  "kernelspec": {
   "display_name": "radex",
   "language": "python",
   "name": "python3"
  },
  "language_info": {
   "codemirror_mode": {
    "name": "ipython",
    "version": 3
   },
   "file_extension": ".py",
   "mimetype": "text/x-python",
   "name": "python",
   "nbconvert_exporter": "python",
   "pygments_lexer": "ipython3",
   "version": "3.11.10"
  }
 },
 "nbformat": 4,
 "nbformat_minor": 5
}
