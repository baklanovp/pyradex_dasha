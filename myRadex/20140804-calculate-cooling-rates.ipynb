{
 "cells": [
  {
   "cell_type": "code",
   "execution_count": null,
   "metadata": {
    "collapsed": false
   },
   "outputs": [],
   "source": [
    "%pylab inline\n",
    "import os\n",
    "\n",
    "rc('font',**{'family':'serif',\n",
    "             'serif':['Palatino']})\n",
    "rc('text', **{'usetex': True})"
   ]
  },
  {
   "cell_type": "code",
   "execution_count": null,
   "metadata": {
    "collapsed": false
   },
   "outputs": [],
   "source": [
    "execfile(\"/Users/fdu/Dropbox/myScripts/my_script.py\")\n",
    "execfile(\"/Users/fdu/Dropbox/myScripts/long_function_definitions.py\")\n",
    "mycm = make_my_colormap(c_list=[(0.0, (0.5, 0.0, 0.5)),\n",
    "                                (0.2, (0.0, 0.0, 1.0)),\n",
    "                                (0.4, (0.0, 0.8, 1.0)),\n",
    "                                (0.6, (0.0, 0.8, 0.0)),\n",
    "                                (0.8, (1.0, 0.8, 0.0)),\n",
    "                                (1.0, (1.0, 0.0, 0.0))])\n",
    "\n",
    "rcParams['axes.color_cycle'] = mycolors\n",
    "#print mycolors"
   ]
  },
  {
   "cell_type": "code",
   "execution_count": null,
   "metadata": {
    "collapsed": false
   },
   "outputs": [],
   "source": [
    "def lower_keys(p):\n",
    "    for k in p.keys():\n",
    "        try:\n",
    "            p[k.lower()] = p.pop(k)\n",
    "        except:\n",
    "            pass\n",
    "    return\n",
    "\n",
    "def print_e(en, f):\n",
    "    for i in xrange(len(en)):\n",
    "        print '{:9.2f} {:9.2e}'.format(en[i], f[i])\n",
    "    return\n",
    "\n",
    "def cast_into_dic(col_names, arr):\n",
    "    '''col_names is column_info, and arr is data_transitions (see below).'''\n",
    "    names = col_names.split()\n",
    "    return {names[i]: arr[i,:] for i in xrange(len(names))}\n",
    "\n",
    "def calc_cooling_rate(T_s, n_E_s, n_Ion_s, N_Ion_s,\n",
    "                      n_levels, n_item, n_transitions,\n",
    "                      dv=1e5, stop_at_error=False):\n",
    "    len_T = len(T_s)\n",
    "    len_E = len(n_E_s)\n",
    "    len_Ion = len(n_Ion_s)\n",
    "    len_N_Ion = len(N_Ion_s)\n",
    "    arr = empty((len_T, len_E, len_Ion, len_N_Ion), dtype='float')\n",
    "    for i in xrange(len_T):\n",
    "        T = T_s[i]\n",
    "        for j in xrange(len_E):\n",
    "            n_E = n_E_s[j]\n",
    "            for k in xrange(len_Ion):\n",
    "                n_Ion = n_Ion_s[k]\n",
    "                for l in xrange(len_N_Ion):\n",
    "                    N_Ion = N_Ion_s[l]\n",
    "                    params = {'Tkin': T,\n",
    "                      'dv_CGS': dv,\n",
    "                      'dens_X_CGS': n_Ion,\n",
    "                      'Ncol_X_CGS': N_Ion,\n",
    "                      'H2_density_CGS': 0.0,\n",
    "                      'HI_density_CGS': 0.0,\n",
    "                      'oH2_density_CGS': 0.0,\n",
    "                      'pH2_densty_CGS': 0.0,\n",
    "                      'HII_density_CGS': 0.0,\n",
    "                      'Electron_density_CGS': n_E,\n",
    "                      'n_levels': n_levels,\n",
    "                      'n_item': n_item,\n",
    "                      'n_transitions': n_transitions}\n",
    "                    lower_keys(params)\n",
    "                    energies,f_occupations,data_transitions,cooling_rate = \\\n",
    "                        wrapper.run_one_params(**params)\n",
    "                    arr[i,j,k,l] = cooling_rate/n_Ion\n",
    "                    if wrapper.flag_good != 1 and stop_at_error:\n",
    "                        raise ValueError('Calculation stopped due to error!')\n",
    "    return arr"
   ]
  },
  {
   "cell_type": "code",
   "execution_count": null,
   "metadata": {
    "collapsed": false
   },
   "outputs": [],
   "source": [
    "import wrapper_my_radex\n",
    "wrapper = wrapper_my_radex.myradex_wrapper\n",
    "about_info = ''.join(list(wrapper.about))\n",
    "column_info = ''.join(list(wrapper.column_names))"
   ]
  },
  {
   "cell_type": "markdown",
   "metadata": {},
   "source": [
    "#End of header"
   ]
  },
  {
   "cell_type": "markdown",
   "metadata": {},
   "source": [
    "#A test run"
   ]
  },
  {
   "cell_type": "code",
   "execution_count": null,
   "metadata": {
    "collapsed": false
   },
   "outputs": [],
   "source": [
    "n_levels,n_item,n_transitions = \\\n",
    "    wrapper.config_basic('/Users/fdu/not_synced/work/from_others/CHIANTI/toLAMDA/',\n",
    "                         'Fe+_1e5K.dat', True)"
   ]
  },
  {
   "cell_type": "code",
   "execution_count": null,
   "metadata": {
    "collapsed": false
   },
   "outputs": [],
   "source": [
    "1e9*4e-6*1.5e13"
   ]
  },
  {
   "cell_type": "code",
   "execution_count": null,
   "metadata": {
    "collapsed": false
   },
   "outputs": [],
   "source": [
    "n_H = 3.5e8\n",
    "X_FeII = 4.2e-6\n",
    "X_E = 1e-2\n",
    "T = 7e3\n",
    "dv = 1e5\n",
    "AU = 1.5e13\n",
    "length_scale = 0.1 * AU\n",
    "\n",
    "# Set Ncol_X_CGS to zero to have escape probability equal 1\n",
    "\n",
    "params = {'Tkin': T,\n",
    "          'dv_CGS': dv,\n",
    "          'dens_X_CGS': X_FeII*n_H,\n",
    "          'Ncol_X_CGS': X_FeII*n_H*length_scale,\n",
    "          'H2_density_CGS': 0.0,\n",
    "          'HI_density_CGS': 0.0,\n",
    "          'oH2_density_CGS': 0.0,\n",
    "          'pH2_densty_CGS': 0.0,\n",
    "          'HII_density_CGS': 0.0,\n",
    "          'Electron_density_CGS': X_E*n_H,\n",
    "          'n_levels': n_levels,\n",
    "          'n_item': n_item,\n",
    "          'n_transitions': n_transitions}\n",
    "\n",
    "\"\"\"The keywords to the wrapper function have to be in\n",
    "lower case, so I have to lower the keys of params.\n",
    "Of course you can use lower case letters from the beginning.\"\"\"\n",
    "\n",
    "lower_keys(params)\n",
    "\n",
    "\"\"\"Do the calculation.\n",
    "Return a four element tuple, whose meanings are self-evident.\"\"\"\n",
    "\n",
    "energies,f_occupations,data_transitions,cooling_rate = \\\n",
    "    wrapper.run_one_params(**params)\n",
    "\n",
    "d = cast_into_dic(column_info, data_transitions)\n",
    "print d.keys()\n",
    "print cooling_rate"
   ]
  },
  {
   "cell_type": "code",
   "execution_count": null,
   "metadata": {
    "collapsed": false
   },
   "outputs": [],
   "source": [
    "params['Ncol_X_CGS'.lower()] = 0.0\n",
    "energies,f_occupations,data_transitions,cooling_rate = \\\n",
    "    wrapper.run_one_params(**params)\n",
    "print cooling_rate\n",
    "params['Ncol_X_CGS'.lower()] = 1e15\n",
    "energies,f_occupations,data_transitions,cooling_rate = \\\n",
    "    wrapper.run_one_params(**params)\n",
    "print cooling_rate"
   ]
  },
  {
   "cell_type": "code",
   "execution_count": null,
   "metadata": {
    "collapsed": false
   },
   "outputs": [],
   "source": [
    "figure(figsize=(12,5))\n",
    "plot(d['Eup'], d['tau'])\n",
    "ax = gca()\n",
    "ax.set_xscale('log')\n",
    "ax.set_yscale('log')\n",
    "set_axis_format(ax, graygrid=True)"
   ]
  },
  {
   "cell_type": "markdown",
   "metadata": {},
   "source": [
    "#Batch mode"
   ]
  },
  {
   "cell_type": "code",
   "execution_count": null,
   "metadata": {
    "collapsed": false
   },
   "outputs": [],
   "source": [
    "N_FeII_s = array([0.0, 1e5, 1e10, 1e15])\n",
    "n_FeII_s = array([1.0])\n",
    "n_E_s = logspace(-2, 8, num=50)\n",
    "T_s = logspace(log10(30), log10(3e4), num=40)"
   ]
  },
  {
   "cell_type": "code",
   "execution_count": null,
   "metadata": {
    "collapsed": false
   },
   "outputs": [],
   "source": [
    "n_levels,n_item,n_transitions = \\\n",
    "    wrapper.config_basic('/Users/fdu/not_synced/work/from_others/CHIANTI/toLAMDA/',\n",
    "                         'Fe+_1e5K.dat', False)"
   ]
  },
  {
   "cell_type": "code",
   "execution_count": null,
   "metadata": {
    "collapsed": false
   },
   "outputs": [],
   "source": [
    "coo = calc_cooling_rate(T_s, n_E_s, n_FeII_s, N_FeII_s,\n",
    "                        n_levels, n_item, n_transitions, dv=1e5)"
   ]
  },
  {
   "cell_type": "code",
   "execution_count": null,
   "metadata": {
    "collapsed": false
   },
   "outputs": [],
   "source": [
    "print coo.shape\n",
    "print all(coo >= 0.0)"
   ]
  },
  {
   "cell_type": "markdown",
   "metadata": {},
   "source": [
    "#Difference with different Ncol_X"
   ]
  },
  {
   "cell_type": "code",
   "execution_count": null,
   "metadata": {
    "collapsed": false
   },
   "outputs": [],
   "source": [
    "X = T_s\n",
    "Y = n_E_s\n",
    "figure(figsize=(15,10))\n",
    "CTR = contourf(Y, X, log10(coo[:,:,0,0]), 200, vmin=-28.0, vmax=-10.0)\n",
    "colorbar(CTR)\n",
    "ax = gca()\n",
    "ax.set_xscale('log')\n",
    "ax.set_yscale('log')\n",
    "set_axis_format(ax, graygrid=True)"
   ]
  },
  {
   "cell_type": "code",
   "execution_count": null,
   "metadata": {
    "collapsed": false
   },
   "outputs": [],
   "source": [
    "X = T_s\n",
    "Y = n_E_s\n",
    "figure(figsize=(15,10))\n",
    "CTR = contourf(Y, X, log10(coo[:,:,0,3]), 200, vmin=-28.0, vmax=-10.0)\n",
    "colorbar(CTR)\n",
    "ax = gca()\n",
    "ax.set_xscale('log')\n",
    "ax.set_yscale('log')\n",
    "set_axis_format(ax, graygrid=True)"
   ]
  },
  {
   "cell_type": "markdown",
   "metadata": {},
   "source": [
    "#Save as a table"
   ]
  },
  {
   "cell_type": "code",
   "execution_count": null,
   "metadata": {
    "collapsed": false
   },
   "outputs": [],
   "source": [
    "import struct\n",
    "\n",
    "dir_out = '/Users/fdu/'\n",
    "fname_out = 'Fe+_LUT.bin'\n",
    "\n",
    "with open(os.path.join(dir_out, fname_out), 'wb') as f:\n",
    "    f.write(struct.pack('d', 2))\n",
    "    f.write(struct.pack('d', len(n_E_s)))\n",
    "    f.write(struct.pack('d', len(T_s)))\n",
    "    log10(n_E_s).tofile(f)\n",
    "    log10(T_s).tofile(f)\n",
    "    log10(coo[:,:,0,0]).tofile(f)"
   ]
  },
  {
   "cell_type": "code",
   "execution_count": null,
   "metadata": {
    "collapsed": false
   },
   "outputs": [],
   "source": [
    "set_printoptions(linewidth=150)\n",
    "print n_E_s\n",
    "print T_s\n",
    "print coo[0:5,0:5,0,0]"
   ]
  },
  {
   "cell_type": "code",
   "execution_count": null,
   "metadata": {
    "collapsed": false
   },
   "outputs": [],
   "source": [
    "ix = argmin(abs(n_E_s-1.52641797e+07))\n",
    "iy = argmin(abs(T_s-1.23738791e+03))\n",
    "print ix+1, n_E_s[ix]\n",
    "print iy+1, T_s[iy]\n",
    "print coo[iy,ix,0,0]"
   ]
  },
  {
   "cell_type": "markdown",
   "metadata": {},
   "source": [
    "#Compare the curves with different Ncol_X"
   ]
  },
  {
   "cell_type": "code",
   "execution_count": null,
   "metadata": {
    "collapsed": false
   },
   "outputs": [],
   "source": [
    "def plt1(i1, i2):\n",
    "    for i in xrange(0,len(n_E_s),2):\n",
    "        plot(T_s, log10(coo[:,i,0,i1]))\n",
    "    for i in xrange(0,len(n_E_s),2):\n",
    "        plot(T_s, log10(coo[:,i,0,i2]), linestyle='--')\n",
    "    ax = gca()\n",
    "    ax.set_ylim((-30,-10))\n",
    "    ax.set_xscale('log')\n",
    "    ax.set_yscale('linear')\n",
    "    set_axis_format(ax, graygrid=True, minorgridon=False)\n",
    "    return\n",
    "\n",
    "figure(figsize=(18,20))\n",
    "subplot(1,3,1)\n",
    "plt1(0, 1)\n",
    "subplot(1,3,2)\n",
    "plt1(0, 2)\n",
    "subplot(1,3,3)\n",
    "plt1(0, 3)"
   ]
  },
  {
   "cell_type": "markdown",
   "metadata": {},
   "source": [
    "#Fit"
   ]
  },
  {
   "cell_type": "code",
   "execution_count": null,
   "metadata": {
    "collapsed": false
   },
   "outputs": [],
   "source": [
    "from scipy.optimize import curve_fit as cf"
   ]
  },
  {
   "cell_type": "code",
   "execution_count": null,
   "metadata": {
    "collapsed": false
   },
   "outputs": [],
   "source": [
    "def plot_many_T(X, Z):\n",
    "    figure(figsize=(10,7))\n",
    "    for i in xrange(Z.shape[1]):\n",
    "        plot(X, Z[:,i])\n",
    "    ax = gca()\n",
    "    ax.set_xscale('log')\n",
    "    ax.set_yscale('linear')\n",
    "    set_axis_format(ax, graygrid=True)\n",
    "    return\n",
    "\n",
    "def plot_many_E(X, Z):\n",
    "    figure(figsize=(10,7))\n",
    "    for i in xrange(Z.shape[0]):\n",
    "        plot(X, Z[i,:])\n",
    "    ax = gca()\n",
    "    ax.set_xscale('log')\n",
    "    ax.set_yscale('linear')\n",
    "    set_axis_format(ax, graygrid=True)"
   ]
  },
  {
   "cell_type": "code",
   "execution_count": null,
   "metadata": {
    "collapsed": false
   },
   "outputs": [],
   "source": [
    "def f1(x, a, b):\n",
    "    return a*x + b\n",
    "\n",
    "def f2(x, a, b, c, d):\n",
    "    return c/(1.0+exp(-b*(x-a))) + d\n",
    "\n",
    "def f3(x, a, b, c, d):\n",
    "    xx = exp(log(10.0)*x)\n",
    "    return log10(a / (1.0 + b * exp(c/xx) + d / sqrt(xx)))"
   ]
  },
  {
   "cell_type": "code",
   "execution_count": null,
   "metadata": {
    "collapsed": false
   },
   "outputs": [],
   "source": [
    "figure(figsize=(8,16))\n",
    "popt_s = []\n",
    "for i in xrange(len(T_s)):\n",
    "    x = log10(n_E_s)\n",
    "    y = log10(coo[i,:,0])\n",
    "    plot(x, y)\n",
    "    try:\n",
    "        p0 = [x[len(x)/2], abs(x[len(x)/2]), 0.0, y[-1]]\n",
    "        popt,_ = cf(f2, x, y, p0=p0, maxfev=1000)\n",
    "        plot(x, f2(x, *popt), color='black', linestyle='--')\n",
    "        popt_s.append(list(popt) + ['f2'])\n",
    "    except:\n",
    "        p0 = [0.0, 0.0]\n",
    "        popt,_ = cf(f1, x, y, p0=p0, maxfev=1000)\n",
    "        plot(x, f1(x, *popt), color='black', linestyle='--')\n",
    "        popt_s.append(list(popt) + ['f1'])\n",
    "    print popt\n",
    "\n",
    "ax = gca()\n",
    "ax.set_xscale('linear')\n",
    "ax.set_yscale('linear')\n",
    "set_axis_format(ax, graygrid=True, minorgridon=False)"
   ]
  },
  {
   "cell_type": "markdown",
   "metadata": {},
   "source": [
    "#Transformation"
   ]
  },
  {
   "cell_type": "code",
   "execution_count": null,
   "metadata": {
    "collapsed": false
   },
   "outputs": [],
   "source": [
    "figure(figsize=(6,10))\n",
    "for i in xrange(len(n_E_s)):\n",
    "    plot(T_s, log10(coo[:,i,0,0]/n_E_s[i]))\n",
    "ax = gca()\n",
    "ax.set_xscale('log')\n",
    "ax.set_yscale('linear')\n",
    "set_axis_format(ax, graygrid=True, minorgridon=False)"
   ]
  },
  {
   "cell_type": "markdown",
   "metadata": {},
   "source": [
    "#Fit with a two-energy system"
   ]
  },
  {
   "cell_type": "code",
   "execution_count": null,
   "metadata": {
    "collapsed": false
   },
   "outputs": [],
   "source": [
    "x = log10(T_s)\n",
    "y = log10(coo[:,20,0,0])\n",
    "#return a / (1.0 + b * exp(c/x) + d * exp(-ee*log(x)))\n",
    "p0 = [1e-15, 1e1, 5e3, 1e-1]\n",
    "popt,_ = cf(f3, x, y, p0=p0, maxfev=3000)\n",
    "print popt\n",
    "\n",
    "figure(figsize=(10,6))\n",
    "plot(x, y)\n",
    "plot(x, f3(x, *p0), linestyle='--')\n",
    "ax = gca()\n",
    "ax.set_ylim((-50,-5))\n",
    "ax.set_xscale('linear')\n",
    "ax.set_yscale('linear')\n",
    "set_axis_format(ax, graygrid=True, minorgridon=False)"
   ]
  },
  {
   "cell_type": "markdown",
   "metadata": {},
   "source": [
    "###Conclusion: can't fit with a two-energy system\n",
    "\n",
    "Maybe with two two-energy systems we can fit the curve, but then there will be 10 parameters to fit."
   ]
  },
  {
   "cell_type": "markdown",
   "metadata": {},
   "source": [
    "#Calculate the cooling look-up table and save it\n",
    "\n",
    "Batch mode"
   ]
  },
  {
   "cell_type": "code",
   "execution_count": null,
   "metadata": {
    "collapsed": false
   },
   "outputs": [],
   "source": [
    "import struct\n",
    "\n",
    "def calc_and_save(dir_in=None, fname_in=None, dir_out=None, fname_out=None):\n",
    "    n_levels,n_item,n_transitions = \\\n",
    "        wrapper.config_basic(dir_in, fname_in, False)\n",
    "    N_X_s = array([0.0])\n",
    "    n_X_s = array([1.0])\n",
    "    n_E_s = logspace(-2, 8, num=50)\n",
    "    T_s = logspace(log10(10), log10(1e6), num=60)\n",
    "    \n",
    "    coo_X = calc_cooling_rate(T_s, n_E_s, n_X_s, N_X_s,\n",
    "                            n_levels, n_item, n_transitions, dv=1e5)\n",
    "\n",
    "    x = log10(n_E_s)\n",
    "    y = log10(T_s)\n",
    "    z = log10(coo_X[:,:,0,0])\n",
    "    with open(os.path.join(dir_out, fname_out), 'wb') as f:\n",
    "        f.write(struct.pack('d', 2))\n",
    "        f.write(struct.pack('d', len(x)))\n",
    "        f.write(struct.pack('d', len(y)))\n",
    "        x.tofile(f)\n",
    "        y.tofile(f)\n",
    "        z.tofile(f)\n",
    "    print 'Some entries in the table:'\n",
    "    for i in arange(0,len(x),len(y)/4+1):\n",
    "        for j in arange(0,len(y),len(y)/4+1):\n",
    "            print '{:12.4e}{:12.4e}{:16.8e}'.format(x[i], y[j], z[j,i])\n",
    "    return"
   ]
  },
  {
   "cell_type": "code",
   "execution_count": null,
   "metadata": {
    "collapsed": false
   },
   "outputs": [],
   "source": [
    "calc_and_save(dir_in='/Users/fdu/not_synced/work/from_others/CHIANTI/toLAMDA/',\n",
    "              fname_in='Fe+_1e5K.dat',\n",
    "              dir_out='/Users/fdu/',\n",
    "              fname_out='Fe+_LUT.bin')"
   ]
  },
  {
   "cell_type": "code",
   "execution_count": null,
   "metadata": {
    "collapsed": false
   },
   "outputs": [],
   "source": [
    "calc_and_save(dir_in='/Users/fdu/not_synced/work/from_others/CHIANTI/toLAMDA/',\n",
    "              fname_in='N+_1e5K.dat',\n",
    "              dir_out='/Users/fdu/',\n",
    "              fname_out='N+_LUT.bin')"
   ]
  },
  {
   "cell_type": "code",
   "execution_count": null,
   "metadata": {
    "collapsed": false
   },
   "outputs": [],
   "source": [
    "calc_and_save(dir_in='/Users/fdu/not_synced/work/from_others/CHIANTI/toLAMDA/',\n",
    "              fname_in='Si+.dat',\n",
    "              dir_out='/Users/fdu/',\n",
    "              fname_out='Si+_LUT.bin')"
   ]
  },
  {
   "cell_type": "markdown",
   "metadata": {},
   "source": [
    "#For fun"
   ]
  },
  {
   "cell_type": "code",
   "execution_count": null,
   "metadata": {
    "collapsed": false
   },
   "outputs": [],
   "source": [
    "target_path = [\n",
    "               '~/Downloads/',\n",
    "               '~/Dropbox/',\n",
    "               '~/Box Sync/new_stuff/',\n",
    "               '~/MyDoc_readonly/',\n",
    "               '~/not_synced/book_large/',\n",
    "              ]\n",
    "\n",
    "sizes = []\n",
    "for dir_c in target_path:\n",
    "    for dirname, dirnames, filenames in os.walk(os.path.expanduser(dir_c)):\n",
    "        for filename in filenames:\n",
    "            sizes.append(os.path.getsize(os.path.join(dirname, filename)))\n",
    "\n",
    "sizes = array(sizes)\n",
    "sizes = sizes[sizes > 0]"
   ]
  },
  {
   "cell_type": "code",
   "execution_count": null,
   "metadata": {
    "collapsed": false
   },
   "outputs": [],
   "source": [
    "figure(figsize=(10,6))\n",
    "_ = hist(log10(sizes), bins=arange(0,9.5,0.25), color='CadetBlue', alpha=0.9)\n",
    "ax = gca()\n",
    "ax.set_xlabel('log$_{10}$(File size in byte)')\n",
    "ax.set_ylabel('Counts per bin')\n",
    "ax.set_title('All the files', fontsize=25)\n",
    "yscale('log', nonposy='clip')\n",
    "set_axis_format(ax, graygrid=True)"
   ]
  },
  {
   "cell_type": "code",
   "execution_count": null,
   "metadata": {
    "collapsed": false
   },
   "outputs": [],
   "source": [
    "target_path = [\n",
    "               '~/Downloads/',\n",
    "               '~/Dropbox/',\n",
    "               '~/Box Sync/new_stuff/',\n",
    "               '~/MyDoc_readonly/',\n",
    "               '~/not_synced/book_large/',\n",
    "              ]\n",
    "type_to_compare = ['.pdf', '.djvu', '.djv', '.doc', '.docx', '.txt', '.epub', '.mobi', '.chm']\n",
    "str_invalid_encoding = 'invalid encoding'\n",
    "\n",
    "sizes1 = []\n",
    "for dir_c in target_path:\n",
    "    for dirname, dirnames, filenames in os.walk(os.path.expanduser(dir_c)):\n",
    "        for filename in filenames:\n",
    "            if os.path.splitext(filename)[-1].lower() in type_to_compare or str_invalid_encoding in filename:\n",
    "                sizes1.append(os.path.getsize(os.path.join(dirname, filename)))\n",
    "\n",
    "sizes1 = array(sizes1)\n",
    "sizes1 = sizes1[sizes1 > 0]"
   ]
  },
  {
   "cell_type": "code",
   "execution_count": null,
   "metadata": {
    "collapsed": false
   },
   "outputs": [],
   "source": [
    "figure(figsize=(10,6))\n",
    "_ = hist(log10(sizes), bins=arange(0,9.5,0.25), color='CadetBlue', alpha=0.9)\n",
    "ax = gca()\n",
    "ax.set_xlabel('log$_{10}$(File size in byte)')\n",
    "ax.set_ylabel('Counts per bin')\n",
    "ax.set_title('\"To-be-read-by-human\" files', fontsize=25)\n",
    "yscale('log', nonposy='clip')\n",
    "set_axis_format(ax, graygrid=True)"
   ]
  },
  {
   "cell_type": "code",
   "execution_count": null,
   "metadata": {
    "collapsed": false
   },
   "outputs": [],
   "source": [
    "figure(figsize=(12,6))\n",
    "_ = hist(log10(sizes),  bins=arange(0,9.5,0.25), color='BurlyWood', alpha=1.0, label='All the files')\n",
    "_ = hist(log10(sizes1), bins=arange(0,9.5,0.25), color='CadetBlue', alpha=1.0, label='Human readable')\n",
    "ax = gca()\n",
    "ax.set_xlim(0,9)\n",
    "ax.set_ylim(1,1e5)\n",
    "ax.set_xlabel('log$_{10}$(File size in byte)')\n",
    "ax.set_ylabel('Counts per bin')\n",
    "yscale('log', nonposy='clip')\n",
    "set_axis_format(ax, graygrid=True)\n",
    "_ = legend(loc='best', fontsize=15, framealpha=0.3)"
   ]
  },
  {
   "cell_type": "code",
   "execution_count": null,
   "metadata": {
    "collapsed": false
   },
   "outputs": [],
   "source": []
  }
 ],
 "metadata": {
  "kernelspec": {
   "display_name": "radex",
   "language": "python",
   "name": "python3"
  },
  "language_info": {
   "codemirror_mode": {
    "name": "ipython",
    "version": 3
   },
   "file_extension": ".py",
   "mimetype": "text/x-python",
   "name": "python",
   "nbconvert_exporter": "python",
   "pygments_lexer": "ipython3",
   "version": "3.11.10"
  }
 },
 "nbformat": 4,
 "nbformat_minor": 0
}
