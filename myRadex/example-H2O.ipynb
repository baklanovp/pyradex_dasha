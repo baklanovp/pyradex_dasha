{
 "cells": [
  {
   "cell_type": "markdown",
   "metadata": {},
   "source": [
    "This is an example showing how to calculate the critical densities of H2O."
   ]
  },
  {
   "cell_type": "code",
   "execution_count": null,
   "metadata": {},
   "outputs": [],
   "source": [
    "%matplotlib inline\n",
    "\n",
    "import numpy as np\n",
    "import os\n",
    "import sys\n",
    "\n",
    "for std, __std__ in [\n",
    "    (sys.stdout, sys.__stdout__),\n",
    "    (sys.stderr, sys.__stderr__),\n",
    "]:\n",
    "    # By default Jupyter notebook displays the terminal output.\n",
    "    # This is for turning off this feature.\n",
    "    if getattr(std, \"_original_stdstream_copy\", None) is not None:\n",
    "        # redirect captured pipe back to original FD\n",
    "        os.dup2(std._original_stdstream_copy, __std__.fileno())\n",
    "        std._original_stdstream_copy = None\n",
    "\n",
    "def lower_keys(p):\n",
    "    return {k.lower(): p[k] for k in p}"
   ]
  },
  {
   "cell_type": "markdown",
   "metadata": {},
   "source": [
    "## Import the wrapper"
   ]
  },
  {
   "cell_type": "code",
   "execution_count": null,
   "metadata": {},
   "outputs": [],
   "source": [
    "import wrapper_my_radex\n",
    "wrapper = wrapper_my_radex.myradex_wrapper\n",
    "about_info = wrapper.about.tobytes()\n",
    "column_info = wrapper.column_names.tobytes()"
   ]
  },
  {
   "cell_type": "code",
   "execution_count": null,
   "metadata": {},
   "outputs": [],
   "source": [
    "column_names = [_.decode() for _ in wrapper.column_names.item().split()]\n",
    "print([_ for _ in enumerate(column_names)])"
   ]
  },
  {
   "cell_type": "markdown",
   "metadata": {},
   "source": [
    "## Configure the wrapper\n",
    "\n"
   ]
  },
  {
   "cell_type": "code",
   "execution_count": null,
   "metadata": {},
   "outputs": [],
   "source": [
    "transition_dir = os.path.expanduser('~/_c/protoplanetary_disk/transitions/')"
   ]
  },
  {
   "cell_type": "code",
   "execution_count": null,
   "metadata": {},
   "outputs": [],
   "source": [
    "n_levels, n_item, n_transitions, n_partners = \\\n",
    "    wrapper.config_basic(dir_transition_rates=transition_dir,\n",
    "                         filename_molecule='oh2o@rovib.dat',\n",
    "                         tbg=2.73, verbose=True,\n",
    "                         max_code_run_time=10, # in seconds\n",
    "                         max_evol_time=1e7, # in seconds\n",
    "                         atol=1e-30, rtol=1e-6, solve_method='Newton')"
   ]
  },
  {
   "cell_type": "code",
   "execution_count": null,
   "metadata": {},
   "outputs": [],
   "source": [
    "print('Number of energy levels', n_levels)\n",
    "print('Number of transitions', n_transitions)\n",
    "print('Number of collisional partners', n_partners)"
   ]
  },
  {
   "cell_type": "markdown",
   "metadata": {},
   "source": [
    "## Calculate the critical densities\n",
    "\n",
    "The meaning of the columns of the array `data_transitions` are included in `column_names`."
   ]
  },
  {
   "cell_type": "code",
   "execution_count": null,
   "metadata": {},
   "outputs": [],
   "source": [
    "params = {'Tkin': 300.0,\n",
    "          'dv_CGS': 1e5,\n",
    "          'dens_X_CGS': 1e5,\n",
    "          'Ncol_X_CGS': 1e17,\n",
    "          'H2_density_CGS': 1e9,\n",
    "          'HI_density_CGS': 0.0,\n",
    "          'oH2_density_CGS': 0.0,\n",
    "          'pH2_densty_CGS': 0.0,\n",
    "          'HII_density_CGS': 0.0,\n",
    "          'Electron_density_CGS': 0.0,\n",
    "          'n_levels': n_levels,\n",
    "          'n_item': n_item,\n",
    "          'n_transitions': n_transitions,\n",
    "          'donotsolve': False,\n",
    "          'collisioPartnerCrit': 1,\n",
    "         }\n",
    "\n",
    "# The keywords to the wrapper function have to be in lower case,\n",
    "# so I have to lower the keys of params.\n",
    "# Of course you can use lower case letters from the beginning.\n",
    "\n",
    "params = lower_keys(params)\n",
    "\n",
    "energies,f_occupations,data_transitions,cooling_rate = wrapper.run_one_params(**params)\n",
    "print(wrapper.flag_good)"
   ]
  },
  {
   "cell_type": "code",
   "execution_count": null,
   "metadata": {},
   "outputs": [],
   "source": [
    "for i in range(n_transitions):\n",
    "    lam_micron = 2.99792458e8*1e6/data_transitions[3,i]\n",
    "    if 14.5 <= lam_micron <= 15.0:\n",
    "        print('{:4d}'.format(int(data_transitions[0,i])),\n",
    "              '{:4d}'.format(int(data_transitions[1,i])),\n",
    "              '{:8.2f}'.format(data_transitions[2,i]),\n",
    "              '{:6.2f}'.format(lam_micron),\n",
    "              '{:10.3e}'.format(data_transitions[5,i]),\n",
    "              '{:10.3e}'.format(data_transitions[19,i]),\n",
    "              '{:10.3e}'.format(data_transitions[20,i]))"
   ]
  },
  {
   "cell_type": "code",
   "execution_count": null,
   "metadata": {
    "scrolled": false
   },
   "outputs": [],
   "source": [
    "for i in range(n_transitions):\n",
    "    lam_micron = 2.99792458e8*1e6/data_transitions[3,i]\n",
    "    if 14.5 <= lam_micron <= 15.0:\n",
    "        print('{:4d}'.format(int(data_transitions[0,i])),\n",
    "              '{:4d}'.format(int(data_transitions[1,i])),\n",
    "              '{:8.2f}'.format(data_transitions[2,i]),\n",
    "              '{:6.2f}'.format(lam_micron),\n",
    "              '{:10.3e}'.format(data_transitions[5,i]),\n",
    "              '{:10.3e}'.format(data_transitions[19,i]),\n",
    "              '{:10.3e}'.format(data_transitions[20,i]))"
   ]
  },
  {
   "cell_type": "code",
   "execution_count": null,
   "metadata": {},
   "outputs": [],
   "source": []
  }
 ],
 "metadata": {
  "hide_input": false,
  "kernelspec": {
   "display_name": "radex",
   "language": "python",
   "name": "python3"
  },
  "language_info": {
   "codemirror_mode": {
    "name": "ipython",
    "version": 3
   },
   "file_extension": ".py",
   "mimetype": "text/x-python",
   "name": "python",
   "nbconvert_exporter": "python",
   "pygments_lexer": "ipython3",
   "version": "3.11.10"
  },
  "toc": {
   "base_numbering": 1,
   "nav_menu": {
    "height": "198px",
    "width": "200px"
   },
   "number_sections": true,
   "sideBar": false,
   "skip_h1_title": false,
   "title_cell": "Table of Contents",
   "title_sidebar": "Contents",
   "toc_cell": false,
   "toc_position": {},
   "toc_section_display": true,
   "toc_window_display": false
  }
 },
 "nbformat": 4,
 "nbformat_minor": 1
}
